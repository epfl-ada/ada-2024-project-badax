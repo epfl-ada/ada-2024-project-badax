{
 "cells": [
  {
   "cell_type": "markdown",
   "id": "4f491e09-6acb-4aab-bbc2-8dc0bd0449d0",
   "metadata": {},
   "source": [
    "## Reading movie metadata"
   ]
  },
  {
   "cell_type": "code",
   "execution_count": 92,
   "id": "327b2ead-c62f-49fc-a599-dbf6e51ad270",
   "metadata": {
    "scrolled": true
   },
   "outputs": [
    {
     "data": {
      "text/html": [
       "<div>\n",
       "<style scoped>\n",
       "    .dataframe tbody tr th:only-of-type {\n",
       "        vertical-align: middle;\n",
       "    }\n",
       "\n",
       "    .dataframe tbody tr th {\n",
       "        vertical-align: top;\n",
       "    }\n",
       "\n",
       "    .dataframe thead th {\n",
       "        text-align: right;\n",
       "    }\n",
       "</style>\n",
       "<table border=\"1\" class=\"dataframe\">\n",
       "  <thead>\n",
       "    <tr style=\"text-align: right;\">\n",
       "      <th></th>\n",
       "      <th>Wikipedia_movie_ID</th>\n",
       "      <th>Freebase_movie_ID</th>\n",
       "      <th>Movie_name</th>\n",
       "      <th>Movie_release_date</th>\n",
       "      <th>Movie_box_office_revenue</th>\n",
       "      <th>Movie_runtime</th>\n",
       "      <th>Movie_languages</th>\n",
       "      <th>Movie_countries</th>\n",
       "      <th>Movie_genres</th>\n",
       "    </tr>\n",
       "  </thead>\n",
       "  <tbody>\n",
       "    <tr>\n",
       "      <th>0</th>\n",
       "      <td>975900</td>\n",
       "      <td>/m/03vyhn</td>\n",
       "      <td>Ghosts of Mars</td>\n",
       "      <td>2001-08-24</td>\n",
       "      <td>14010832.0</td>\n",
       "      <td>98.0</td>\n",
       "      <td>{\"/m/02h40lc\": \"English Language\"}</td>\n",
       "      <td>{\"/m/09c7w0\": \"United States of America\"}</td>\n",
       "      <td>{\"/m/01jfsb\": \"Thriller\", \"/m/06n90\": \"Science...</td>\n",
       "    </tr>\n",
       "    <tr>\n",
       "      <th>1</th>\n",
       "      <td>3196793</td>\n",
       "      <td>/m/08yl5d</td>\n",
       "      <td>Getting Away with Murder: The JonBenét Ramsey ...</td>\n",
       "      <td>2000-02-16</td>\n",
       "      <td>NaN</td>\n",
       "      <td>95.0</td>\n",
       "      <td>{\"/m/02h40lc\": \"English Language\"}</td>\n",
       "      <td>{\"/m/09c7w0\": \"United States of America\"}</td>\n",
       "      <td>{\"/m/02n4kr\": \"Mystery\", \"/m/03bxz7\": \"Biograp...</td>\n",
       "    </tr>\n",
       "    <tr>\n",
       "      <th>2</th>\n",
       "      <td>28463795</td>\n",
       "      <td>/m/0crgdbh</td>\n",
       "      <td>Brun bitter</td>\n",
       "      <td>1988</td>\n",
       "      <td>NaN</td>\n",
       "      <td>83.0</td>\n",
       "      <td>{\"/m/05f_3\": \"Norwegian Language\"}</td>\n",
       "      <td>{\"/m/05b4w\": \"Norway\"}</td>\n",
       "      <td>{\"/m/0lsxr\": \"Crime Fiction\", \"/m/07s9rl0\": \"D...</td>\n",
       "    </tr>\n",
       "    <tr>\n",
       "      <th>3</th>\n",
       "      <td>9363483</td>\n",
       "      <td>/m/0285_cd</td>\n",
       "      <td>White Of The Eye</td>\n",
       "      <td>1987</td>\n",
       "      <td>NaN</td>\n",
       "      <td>110.0</td>\n",
       "      <td>{\"/m/02h40lc\": \"English Language\"}</td>\n",
       "      <td>{\"/m/07ssc\": \"United Kingdom\"}</td>\n",
       "      <td>{\"/m/01jfsb\": \"Thriller\", \"/m/0glj9q\": \"Erotic...</td>\n",
       "    </tr>\n",
       "    <tr>\n",
       "      <th>4</th>\n",
       "      <td>261236</td>\n",
       "      <td>/m/01mrr1</td>\n",
       "      <td>A Woman in Flames</td>\n",
       "      <td>1983</td>\n",
       "      <td>NaN</td>\n",
       "      <td>106.0</td>\n",
       "      <td>{\"/m/04306rv\": \"German Language\"}</td>\n",
       "      <td>{\"/m/0345h\": \"Germany\"}</td>\n",
       "      <td>{\"/m/07s9rl0\": \"Drama\"}</td>\n",
       "    </tr>\n",
       "    <tr>\n",
       "      <th>...</th>\n",
       "      <td>...</td>\n",
       "      <td>...</td>\n",
       "      <td>...</td>\n",
       "      <td>...</td>\n",
       "      <td>...</td>\n",
       "      <td>...</td>\n",
       "      <td>...</td>\n",
       "      <td>...</td>\n",
       "      <td>...</td>\n",
       "    </tr>\n",
       "    <tr>\n",
       "      <th>81736</th>\n",
       "      <td>35228177</td>\n",
       "      <td>/m/0j7hxnt</td>\n",
       "      <td>Mermaids: The Body Found</td>\n",
       "      <td>2011-03-19</td>\n",
       "      <td>NaN</td>\n",
       "      <td>120.0</td>\n",
       "      <td>{\"/m/02h40lc\": \"English Language\"}</td>\n",
       "      <td>{\"/m/09c7w0\": \"United States of America\"}</td>\n",
       "      <td>{\"/m/07s9rl0\": \"Drama\"}</td>\n",
       "    </tr>\n",
       "    <tr>\n",
       "      <th>81737</th>\n",
       "      <td>34980460</td>\n",
       "      <td>/m/0g4pl34</td>\n",
       "      <td>Knuckle</td>\n",
       "      <td>2011-01-21</td>\n",
       "      <td>NaN</td>\n",
       "      <td>96.0</td>\n",
       "      <td>{\"/m/02h40lc\": \"English Language\"}</td>\n",
       "      <td>{\"/m/03rt9\": \"Ireland\", \"/m/07ssc\": \"United Ki...</td>\n",
       "      <td>{\"/m/03bxz7\": \"Biographical film\", \"/m/07s9rl0...</td>\n",
       "    </tr>\n",
       "    <tr>\n",
       "      <th>81738</th>\n",
       "      <td>9971909</td>\n",
       "      <td>/m/02pygw1</td>\n",
       "      <td>Another Nice Mess</td>\n",
       "      <td>1972-09-22</td>\n",
       "      <td>NaN</td>\n",
       "      <td>66.0</td>\n",
       "      <td>{\"/m/02h40lc\": \"English Language\"}</td>\n",
       "      <td>{\"/m/09c7w0\": \"United States of America\"}</td>\n",
       "      <td>{\"/m/06nbt\": \"Satire\", \"/m/01z4y\": \"Comedy\"}</td>\n",
       "    </tr>\n",
       "    <tr>\n",
       "      <th>81739</th>\n",
       "      <td>913762</td>\n",
       "      <td>/m/03pcrp</td>\n",
       "      <td>The Super Dimension Fortress Macross II: Lover...</td>\n",
       "      <td>1992-05-21</td>\n",
       "      <td>NaN</td>\n",
       "      <td>150.0</td>\n",
       "      <td>{\"/m/03_9r\": \"Japanese Language\"}</td>\n",
       "      <td>{\"/m/03_3d\": \"Japan\"}</td>\n",
       "      <td>{\"/m/06n90\": \"Science Fiction\", \"/m/0gw5n2f\": ...</td>\n",
       "    </tr>\n",
       "    <tr>\n",
       "      <th>81740</th>\n",
       "      <td>12476867</td>\n",
       "      <td>/m/02w7zz8</td>\n",
       "      <td>Spliced</td>\n",
       "      <td>2002</td>\n",
       "      <td>NaN</td>\n",
       "      <td>86.0</td>\n",
       "      <td>{\"/m/02h40lc\": \"English Language\"}</td>\n",
       "      <td>{\"/m/0d060g\": \"Canada\"}</td>\n",
       "      <td>{\"/m/01jfsb\": \"Thriller\", \"/m/03npn\": \"Horror\"...</td>\n",
       "    </tr>\n",
       "  </tbody>\n",
       "</table>\n",
       "<p>81741 rows × 9 columns</p>\n",
       "</div>"
      ],
      "text/plain": [
       "       Wikipedia_movie_ID Freebase_movie_ID  \\\n",
       "0                  975900         /m/03vyhn   \n",
       "1                 3196793         /m/08yl5d   \n",
       "2                28463795        /m/0crgdbh   \n",
       "3                 9363483        /m/0285_cd   \n",
       "4                  261236         /m/01mrr1   \n",
       "...                   ...               ...   \n",
       "81736            35228177        /m/0j7hxnt   \n",
       "81737            34980460        /m/0g4pl34   \n",
       "81738             9971909        /m/02pygw1   \n",
       "81739              913762         /m/03pcrp   \n",
       "81740            12476867        /m/02w7zz8   \n",
       "\n",
       "                                              Movie_name Movie_release_date  \\\n",
       "0                                         Ghosts of Mars         2001-08-24   \n",
       "1      Getting Away with Murder: The JonBenét Ramsey ...         2000-02-16   \n",
       "2                                            Brun bitter               1988   \n",
       "3                                       White Of The Eye               1987   \n",
       "4                                      A Woman in Flames               1983   \n",
       "...                                                  ...                ...   \n",
       "81736                           Mermaids: The Body Found         2011-03-19   \n",
       "81737                                            Knuckle         2011-01-21   \n",
       "81738                                  Another Nice Mess         1972-09-22   \n",
       "81739  The Super Dimension Fortress Macross II: Lover...         1992-05-21   \n",
       "81740                                            Spliced               2002   \n",
       "\n",
       "       Movie_box_office_revenue  Movie_runtime  \\\n",
       "0                    14010832.0           98.0   \n",
       "1                           NaN           95.0   \n",
       "2                           NaN           83.0   \n",
       "3                           NaN          110.0   \n",
       "4                           NaN          106.0   \n",
       "...                         ...            ...   \n",
       "81736                       NaN          120.0   \n",
       "81737                       NaN           96.0   \n",
       "81738                       NaN           66.0   \n",
       "81739                       NaN          150.0   \n",
       "81740                       NaN           86.0   \n",
       "\n",
       "                          Movie_languages  \\\n",
       "0      {\"/m/02h40lc\": \"English Language\"}   \n",
       "1      {\"/m/02h40lc\": \"English Language\"}   \n",
       "2      {\"/m/05f_3\": \"Norwegian Language\"}   \n",
       "3      {\"/m/02h40lc\": \"English Language\"}   \n",
       "4       {\"/m/04306rv\": \"German Language\"}   \n",
       "...                                   ...   \n",
       "81736  {\"/m/02h40lc\": \"English Language\"}   \n",
       "81737  {\"/m/02h40lc\": \"English Language\"}   \n",
       "81738  {\"/m/02h40lc\": \"English Language\"}   \n",
       "81739   {\"/m/03_9r\": \"Japanese Language\"}   \n",
       "81740  {\"/m/02h40lc\": \"English Language\"}   \n",
       "\n",
       "                                         Movie_countries  \\\n",
       "0              {\"/m/09c7w0\": \"United States of America\"}   \n",
       "1              {\"/m/09c7w0\": \"United States of America\"}   \n",
       "2                                 {\"/m/05b4w\": \"Norway\"}   \n",
       "3                         {\"/m/07ssc\": \"United Kingdom\"}   \n",
       "4                                {\"/m/0345h\": \"Germany\"}   \n",
       "...                                                  ...   \n",
       "81736          {\"/m/09c7w0\": \"United States of America\"}   \n",
       "81737  {\"/m/03rt9\": \"Ireland\", \"/m/07ssc\": \"United Ki...   \n",
       "81738          {\"/m/09c7w0\": \"United States of America\"}   \n",
       "81739                              {\"/m/03_3d\": \"Japan\"}   \n",
       "81740                            {\"/m/0d060g\": \"Canada\"}   \n",
       "\n",
       "                                            Movie_genres  \n",
       "0      {\"/m/01jfsb\": \"Thriller\", \"/m/06n90\": \"Science...  \n",
       "1      {\"/m/02n4kr\": \"Mystery\", \"/m/03bxz7\": \"Biograp...  \n",
       "2      {\"/m/0lsxr\": \"Crime Fiction\", \"/m/07s9rl0\": \"D...  \n",
       "3      {\"/m/01jfsb\": \"Thriller\", \"/m/0glj9q\": \"Erotic...  \n",
       "4                                {\"/m/07s9rl0\": \"Drama\"}  \n",
       "...                                                  ...  \n",
       "81736                            {\"/m/07s9rl0\": \"Drama\"}  \n",
       "81737  {\"/m/03bxz7\": \"Biographical film\", \"/m/07s9rl0...  \n",
       "81738       {\"/m/06nbt\": \"Satire\", \"/m/01z4y\": \"Comedy\"}  \n",
       "81739  {\"/m/06n90\": \"Science Fiction\", \"/m/0gw5n2f\": ...  \n",
       "81740  {\"/m/01jfsb\": \"Thriller\", \"/m/03npn\": \"Horror\"...  \n",
       "\n",
       "[81741 rows x 9 columns]"
      ]
     },
     "execution_count": 92,
     "metadata": {},
     "output_type": "execute_result"
    }
   ],
   "source": [
    "import pandas as pd\n",
    "import numpy as np\n",
    "\n",
    "metadata = pd.read_table(\"MovieSummaries/MovieSummaries/movie.metadata.tsv\", header=None)\n",
    "\n",
    "metadata.columns = [\n",
    "    \"Wikipedia_movie_ID\",\n",
    "    \"Freebase_movie_ID\",\n",
    "    \"Movie_name\",\n",
    "    \"Movie_release_date\",\n",
    "    \"Movie_box_office_revenue\",\n",
    "    \"Movie_runtime\",\n",
    "    \"Movie_languages\", \n",
    "    \"Movie_countxries\",  \n",
    "    \"Movie_genres\"     \n",
    "]\n",
    "\n",
    "metadata"
   ]
  },
  {
   "cell_type": "markdown",
   "id": "92e644b6-8cc3-486f-8da0-3e5f32c4dac3",
   "metadata": {},
   "source": [
    "## Checking types and Nans"
   ]
  },
  {
   "cell_type": "code",
   "execution_count": 122,
   "id": "a0951232-e05d-48ba-975f-8c0f1eb0d5ae",
   "metadata": {},
   "outputs": [
    {
     "data": {
      "text/plain": [
       "Wikipedia_movie_ID              0\n",
       "Freebase_movie_ID               0\n",
       "Movie_name                      0\n",
       "Movie_release_date           6902\n",
       "Movie_box_office_revenue    73340\n",
       "Movie_runtime               20450\n",
       "Movie_languages                 0\n",
       "Movie_countries                 0\n",
       "Movie_genres                    0\n",
       "dtype: int64"
      ]
     },
     "execution_count": 122,
     "metadata": {},
     "output_type": "execute_result"
    }
   ],
   "source": [
    "metadata.isna().sum()"
   ]
  },
  {
   "cell_type": "code",
   "execution_count": 73,
   "id": "ed9acdc2-1417-4478-bc0e-c6c314c5fa6f",
   "metadata": {},
   "outputs": [
    {
     "data": {
      "text/plain": [
       "Wikipedia_movie_ID            int64\n",
       "Freebase_movie_ID            object\n",
       "Movie_name                   object\n",
       "Movie_release_date           object\n",
       "Movie_box_office_revenue    float64\n",
       "Movie_runtime               float64\n",
       "Movie_languages              object\n",
       "Movie_countries              object\n",
       "Movie_genres                 object\n",
       "dtype: object"
      ]
     },
     "execution_count": 73,
     "metadata": {},
     "output_type": "execute_result"
    }
   ],
   "source": [
    "metadata.dtypes"
   ]
  },
  {
   "cell_type": "markdown",
   "id": "5c3d7a7f-f791-4b7a-8cdd-307e0aa5da65",
   "metadata": {},
   "source": [
    "## Loading summaries"
   ]
  },
  {
   "cell_type": "code",
   "execution_count": 80,
   "id": "7f007b3b-9e4b-46b1-b3a3-afac797a3525",
   "metadata": {},
   "outputs": [],
   "source": [
    "with open(\"MovieSummaries/MovieSummaries/plot_summaries.txt\", \"r\", encoding=\"utf-8\") as f:\n",
    "    file = f.readlines()\n",
    "\n",
    "data = [line.strip().split(\"\\t\", 1) for line in file]\n",
    "\n",
    "summaries_df = pd.DataFrame(data, columns=[\"Wikipedia_movie_ID\", \"Movie_Summary\"])\n",
    "\n",
    "summaries_df['Wikipedia_movie_ID'] = summaries_df['Wikipedia_movie_ID'].astype(\"int\")"
   ]
  },
  {
   "cell_type": "code",
   "execution_count": null,
   "id": "f34f4434-7353-43c6-b9ec-0f3f142abc4a",
   "metadata": {},
   "outputs": [],
   "source": [
    "summaries_df.isna().sum()"
   ]
  },
  {
   "cell_type": "markdown",
   "id": "8fecf68f-e587-4870-b47a-50315c9c81fa",
   "metadata": {},
   "source": [
    "## Merging datasets"
   ]
  },
  {
   "cell_type": "code",
   "execution_count": 82,
   "id": "da0e7846-5b42-4d97-8b6c-ee2044a3064e",
   "metadata": {},
   "outputs": [],
   "source": [
    "final_df = metadata.merge(summaries_df, on=\"Wikipedia_movie_ID\") "
   ]
  },
  {
   "cell_type": "code",
   "execution_count": 126,
   "id": "3fd317c9-8ccb-4f1d-8105-ab937cf9869c",
   "metadata": {},
   "outputs": [
    {
     "data": {
      "text/plain": [
       "Wikipedia_movie_ID              0\n",
       "Freebase_movie_ID               0\n",
       "Movie_name                      0\n",
       "Movie_release_date           2618\n",
       "Movie_box_office_revenue    34619\n",
       "Movie_runtime                6624\n",
       "Movie_languages                 0\n",
       "Movie_countries                 0\n",
       "Movie_genres                    0\n",
       "Movie_Summary                   0\n",
       "dtype: int64"
      ]
     },
     "execution_count": 126,
     "metadata": {},
     "output_type": "execute_result"
    }
   ],
   "source": [
    "final_df.isna().sum()"
   ]
  },
  {
   "cell_type": "code",
   "execution_count": 130,
   "id": "17fbd43c-45fa-4328-ae45-8795a23ca7db",
   "metadata": {},
   "outputs": [
    {
     "data": {
      "text/plain": [
       "0        14010832.0\n",
       "1               NaN\n",
       "2               NaN\n",
       "3               NaN\n",
       "4               NaN\n",
       "            ...    \n",
       "42202           NaN\n",
       "42203           NaN\n",
       "42204           NaN\n",
       "42205           NaN\n",
       "42206           NaN\n",
       "Name: Movie_box_office_revenue, Length: 42207, dtype: float64"
      ]
     },
     "execution_count": 130,
     "metadata": {},
     "output_type": "execute_result"
    }
   ],
   "source": [
    "final_df[\"Movie_box_office_revenue\"]"
   ]
  },
  {
   "cell_type": "code",
   "execution_count": 134,
   "id": "3ba86d6e-b6d7-458c-aef7-01fc03ac47fb",
   "metadata": {
    "scrolled": true
   },
   "outputs": [
    {
     "data": {
      "text/html": [
       "<div>\n",
       "<style scoped>\n",
       "    .dataframe tbody tr th:only-of-type {\n",
       "        vertical-align: middle;\n",
       "    }\n",
       "\n",
       "    .dataframe tbody tr th {\n",
       "        vertical-align: top;\n",
       "    }\n",
       "\n",
       "    .dataframe thead th {\n",
       "        text-align: right;\n",
       "    }\n",
       "</style>\n",
       "<table border=\"1\" class=\"dataframe\">\n",
       "  <thead>\n",
       "    <tr style=\"text-align: right;\">\n",
       "      <th></th>\n",
       "      <th>0</th>\n",
       "    </tr>\n",
       "  </thead>\n",
       "  <tbody>\n",
       "    <tr>\n",
       "      <th>0</th>\n",
       "      <td>{\"/m/014dsx\": \"Travel\", \"/m/01z4y\": \"Comedy\"}</td>\n",
       "    </tr>\n",
       "    <tr>\n",
       "      <th>1</th>\n",
       "      <td>{\"/m/014dsx\": \"Travel\", \"/m/0219x_\": \"Indie\", ...</td>\n",
       "    </tr>\n",
       "    <tr>\n",
       "      <th>2</th>\n",
       "      <td>{\"/m/014dsx\": \"Travel\", \"/m/0hj3n89\": \"Instrum...</td>\n",
       "    </tr>\n",
       "    <tr>\n",
       "      <th>3</th>\n",
       "      <td>{\"/m/014dsx\": \"Travel\", \"/m/0jtdp\": \"Documenta...</td>\n",
       "    </tr>\n",
       "    <tr>\n",
       "      <th>4</th>\n",
       "      <td>{\"/m/01585b\": \"Slasher\"}</td>\n",
       "    </tr>\n",
       "    <tr>\n",
       "      <th>...</th>\n",
       "      <td>...</td>\n",
       "    </tr>\n",
       "    <tr>\n",
       "      <th>17848</th>\n",
       "      <td>{\"/m/0vjs6\": \"Detective\", \"/m/03btsm8\": \"Actio...</td>\n",
       "    </tr>\n",
       "    <tr>\n",
       "      <th>17849</th>\n",
       "      <td>{\"/m/0vjs6\": \"Detective\", \"/m/03k9fj\": \"Advent...</td>\n",
       "    </tr>\n",
       "    <tr>\n",
       "      <th>17850</th>\n",
       "      <td>{\"/m/0vjs6\": \"Detective\", \"/m/04pbhw\": \"Superh...</td>\n",
       "    </tr>\n",
       "    <tr>\n",
       "      <th>17851</th>\n",
       "      <td>{\"/m/0vjs6\": \"Detective\", \"/m/082gq\": \"War film\"}</td>\n",
       "    </tr>\n",
       "    <tr>\n",
       "      <th>17852</th>\n",
       "      <td>{}</td>\n",
       "    </tr>\n",
       "  </tbody>\n",
       "</table>\n",
       "<p>17853 rows × 1 columns</p>\n",
       "</div>"
      ],
      "text/plain": [
       "                                                       0\n",
       "0          {\"/m/014dsx\": \"Travel\", \"/m/01z4y\": \"Comedy\"}\n",
       "1      {\"/m/014dsx\": \"Travel\", \"/m/0219x_\": \"Indie\", ...\n",
       "2      {\"/m/014dsx\": \"Travel\", \"/m/0hj3n89\": \"Instrum...\n",
       "3      {\"/m/014dsx\": \"Travel\", \"/m/0jtdp\": \"Documenta...\n",
       "4                               {\"/m/01585b\": \"Slasher\"}\n",
       "...                                                  ...\n",
       "17848  {\"/m/0vjs6\": \"Detective\", \"/m/03btsm8\": \"Actio...\n",
       "17849  {\"/m/0vjs6\": \"Detective\", \"/m/03k9fj\": \"Advent...\n",
       "17850  {\"/m/0vjs6\": \"Detective\", \"/m/04pbhw\": \"Superh...\n",
       "17851  {\"/m/0vjs6\": \"Detective\", \"/m/082gq\": \"War film\"}\n",
       "17852                                                 {}\n",
       "\n",
       "[17853 rows x 1 columns]"
      ]
     },
     "execution_count": 134,
     "metadata": {},
     "output_type": "execute_result"
    }
   ],
   "source": [
    "pd.DataFrame(np.unique(final_df.Movie_genres))               "
   ]
  },
  {
   "cell_type": "markdown",
   "id": "2dee19cc-04b2-41a9-8d16-4f0c21f70f4f",
   "metadata": {},
   "source": [
    "## Processing movie genres"
   ]
  },
  {
   "cell_type": "code",
   "execution_count": 199,
   "id": "59264164-2a9f-453b-af82-4541192eda84",
   "metadata": {},
   "outputs": [],
   "source": [
    "import json\n",
    "\n",
    "final_df[\"Movie_genres\"] = final_df[\"Movie_genres\"].apply(lambda x: list(json.loads(x).values()))"
   ]
  },
  {
   "cell_type": "markdown",
   "id": "2b4708d2-23f6-4336-ac39-ba408a8ff42a",
   "metadata": {},
   "source": [
    "## Now we look for keywords"
   ]
  },
  {
   "cell_type": "code",
   "execution_count": 257,
   "id": "8fb2da83-6db7-4f00-845f-a92c40c04013",
   "metadata": {
    "scrolled": true
   },
   "outputs": [
    {
     "data": {
      "text/plain": [
       "556                                                                                                [Disaster, Thriller, Science Fiction, Action/Adventure]\n",
       "1201                                                                                     [Thriller, Sci-Fi Horror, Science Fiction, Horror, Creature Film]\n",
       "1536                                        [Social problem film, History, Experimental film, Drama, War film, Political cinema, Avant-garde, Documentary]\n",
       "1908                                                                                                                                         [Documentary]\n",
       "3526                                                                                     [Thriller, Crime Fiction, Indie, Drama, Suspense, Crime Thriller]\n",
       "4081                                                                        [Parody, Doomsday film, Absurdism, Action/Adventure, Comedy, Disaster, Action]\n",
       "4181                                                              [Science Fiction, Adventure, Animation, Children's, Fantasy, Comedy, Drama, Family Film]\n",
       "4736                                                                                                                   [Tragicomedy, Satire, Comedy-drama]\n",
       "6798                                                                                                                     [Science Fiction, Action, Horror]\n",
       "6927                                                                                                                         [Alien Film, Science Fiction]\n",
       "10005    [Children's/Family, Musical, Period piece, Children's, Fantasy, Children's Fantasy, Drama, Music, Family Film, Family-Oriented Adventure, Comedy]\n",
       "14698                                                                                                                                         [Short Film]\n",
       "16014                                                                                         [Science Fiction, Action, Japanese Movies, Anime, Animation]\n",
       "16266                                                                        [Drama, Culture & Society, Environmental Science, Social issues, Documentary]\n",
       "20474                                                                                             [Thriller, Horror, Psychological thriller, Supernatural]\n",
       "20824                                                                                                                                        [Documentary]\n",
       "23475                                                                                                                                          [Adventure]\n",
       "23582                                                                                                                            [Short Film, Documentary]\n",
       "25062                                                                                                                                [Thriller, Adventure]\n",
       "25246                                                                                  [Political cinema, Culture & Society, Political drama, Documentary]\n",
       "26045                                                                                                     [Science Fiction, Action, Horror, Sci-Fi Horror]\n",
       "26705                                                                                  [Thriller, Adventure, Action/Adventure, Suspense, Disaster, Action]\n",
       "29082                            [Thriller, Alien invasion, Science Fiction, Horror, Alien Film, Political satire, Satire, Black comedy, Action, Dystopia]\n",
       "29771                                                                                                                                      [Drama, Comedy]\n",
       "30049                                                                                                                            [Short Film, Documentary]\n",
       "30253                                                                                                                     [Family Film, Comedy, Adventure]\n",
       "30362                                                                                                                                          [Animation]\n",
       "30431                                                                     [Thriller, Science Fiction, Television movie, Action/Adventure, Drama, Disaster]\n",
       "31006                                                               [Adventure, Computer Animation, Animation, Fantasy, Comedy, Black comedy, Family Film]\n",
       "31454                                                   [Thriller, Natural horror films, Science Fiction, Horror, Indie, Monster movie, Monster, Disaster]\n",
       "34268                                                                                                                          [Short Film, Action, Drama]\n",
       "35335                                                                                                   [Nature, History, Biography, Animals, Documentary]\n",
       "35567                                                                                                 [Japanese Movies, Science Fiction, Fantasy, Monster]\n",
       "36546                                                                                                 [B-movie, Science Fiction, Horror, Television movie]\n",
       "36968                                                                                                                             [Adventure, Documentary]\n",
       "39009                                                                                                                            [Short Film, Documentary]\n",
       "39257                                                                                  [Thriller, Horror, Comedy, B-movie, Romance Film, Natural disaster]\n",
       "39883    [Thriller, Science Fiction, Doomsday film, Action/Adventure, Apocalyptic and post-apocalyptic fiction, Drama, Disaster, Action, Natural disaster]\n",
       "39931                                                                                                                                    [Science Fiction]\n",
       "41096                                                                                                     [Drama, Science Fiction, Future noir, Adventure]\n",
       "41788                                                                                                        [Parody, Nature, Mockumentary, Indie, Comedy]\n",
       "41878                                                                                                                                        [Documentary]\n",
       "Name: Movie_genres, dtype: object"
      ]
     },
     "execution_count": 257,
     "metadata": {},
     "output_type": "execute_result"
    }
   ],
   "source": [
    "keywords = [\"Biodiversity\", \"CO2\", \"Global Warming\", \"Climate Change\", \"biodiversity\"]\n",
    "pattern = '|'.join(keywords)  \n",
    "\n",
    "filtered_df = final_df[final_df['Movie_Summary'].str.contains(pattern, na=False, case=False)]\n",
    "\n",
    "filtered_df[\"Movie_genres\"]"
   ]
  },
  {
   "cell_type": "code",
   "execution_count": 258,
   "id": "460e6b54-36a4-4b44-9fbb-88bf534108e2",
   "metadata": {},
   "outputs": [
    {
     "data": {
      "text/plain": [
       "Counter({'Science Fiction': 15,\n",
       "         'Thriller': 11,\n",
       "         'Documentary': 11,\n",
       "         'Drama': 10,\n",
       "         'Horror': 8,\n",
       "         'Comedy': 8,\n",
       "         'Action': 8,\n",
       "         'Adventure': 8,\n",
       "         'Disaster': 6,\n",
       "         'Action/Adventure': 5,\n",
       "         'Short Film': 5,\n",
       "         'Animation': 4,\n",
       "         'Fantasy': 4,\n",
       "         'Family Film': 4,\n",
       "         'Indie': 3,\n",
       "         'Sci-Fi Horror': 2,\n",
       "         'History': 2,\n",
       "         'Political cinema': 2,\n",
       "         'Suspense': 2,\n",
       "         'Parody': 2,\n",
       "         'Doomsday film': 2,\n",
       "         \"Children's\": 2,\n",
       "         'Satire': 2,\n",
       "         'Alien Film': 2,\n",
       "         'Japanese Movies': 2,\n",
       "         'Culture & Society': 2,\n",
       "         'Black comedy': 2,\n",
       "         'Television movie': 2,\n",
       "         'Monster': 2,\n",
       "         'Nature': 2,\n",
       "         'B-movie': 2,\n",
       "         'Natural disaster': 2,\n",
       "         'Creature Film': 1,\n",
       "         'Social problem film': 1,\n",
       "         'Experimental film': 1,\n",
       "         'War film': 1,\n",
       "         'Avant-garde': 1,\n",
       "         'Crime Fiction': 1,\n",
       "         'Crime Thriller': 1,\n",
       "         'Absurdism': 1,\n",
       "         'Tragicomedy': 1,\n",
       "         'Comedy-drama': 1,\n",
       "         \"Children's/Family\": 1,\n",
       "         'Musical': 1,\n",
       "         'Period piece': 1,\n",
       "         \"Children's Fantasy\": 1,\n",
       "         'Music': 1,\n",
       "         'Family-Oriented Adventure': 1,\n",
       "         'Anime': 1,\n",
       "         'Environmental Science': 1,\n",
       "         'Social issues': 1,\n",
       "         'Psychological thriller': 1,\n",
       "         'Supernatural': 1,\n",
       "         'Political drama': 1,\n",
       "         'Alien invasion': 1,\n",
       "         'Political satire': 1,\n",
       "         'Dystopia': 1,\n",
       "         'Computer Animation': 1,\n",
       "         'Natural horror films': 1,\n",
       "         'Monster movie': 1,\n",
       "         'Biography': 1,\n",
       "         'Animals': 1,\n",
       "         'Romance Film': 1,\n",
       "         'Apocalyptic and post-apocalyptic fiction': 1,\n",
       "         'Future noir': 1,\n",
       "         'Mockumentary': 1})"
      ]
     },
     "execution_count": 258,
     "metadata": {},
     "output_type": "execute_result"
    }
   ],
   "source": [
    "from collections import Counter\n",
    "all_genres = [genre for sublist in filtered_df['Movie_genres'] for genre in sublist]\n",
    "genre_counts = Counter(all_genres)\n",
    "genre_counts"
   ]
  },
  {
   "cell_type": "code",
   "execution_count": 259,
   "id": "d0d508fa-9921-4e9a-9261-18772823577f",
   "metadata": {},
   "outputs": [],
   "source": [
    "genre_counts = dict(sorted(genre_counts.items(), key=lambda item: item[1], reverse=True))"
   ]
  },
  {
   "cell_type": "code",
   "execution_count": 261,
   "id": "a1d17b5a-9a87-4c52-8468-5cc243c8b445",
   "metadata": {},
   "outputs": [
    {
     "data": {
      "image/png": "[encoded data removed]",
      "text/plain": [
       "<Figure size 1200x600 with 1 Axes>"
      ]
     },
     "metadata": {},
     "output_type": "display_data"
    }
   ],
   "source": [
    "genre_counts_filtered = {genre: count for genre, count in genre_counts.items() if count >= 5}\n",
    "\n",
    "import matplotlib.pyplot as plt\n",
    "plt.figure(figsize=(12, 6))\n",
    "plt.bar(genre_counts_filtered.keys(), genre_counts_filtered.values(), color='skyblue')\n",
    "plt.title('Distribution of Movie Genres')\n",
    "plt.xlabel('Genres')\n",
    "plt.ylabel('Number of Movies')\n",
    "plt.xticks(rotation=45, ha='right')\n",
    "plt.tight_layout()\n",
    "plt.show()"
   ]
  },
  {
   "cell_type": "code",
   "execution_count": 223,
   "id": "78ad35e9-4d2f-417d-a086-424621fe301c",
   "metadata": {},
   "outputs": [
    {
     "data": {
      "text/plain": [
       "(2273, 10)"
      ]
     },
     "execution_count": 223,
     "metadata": {},
     "output_type": "execute_result"
    }
   ],
   "source": [
    "filtered_df.shape"
   ]
  },
  {
   "cell_type": "code",
   "execution_count": 275,
   "id": "3c600cbb-c848-4c7d-a1e9-6b1b709ec3bf",
   "metadata": {},
   "outputs": [
    {
     "name": "stdout",
     "output_type": "stream",
     "text": [
      "<html style=\"height:100%\">\n",
      " <head>\n",
      "  <meta content=\"NOINDEX, NOFOLLOW\" name=\"ROBOTS\"/>\n",
      "  <meta content=\"telephone=no\" name=\"format-detection\"/>\n",
      "  <meta content=\"initial-scale=1.0\" name=\"viewport\"/>\n",
      "  <meta content=\"IE=edge,chrome=1\" http-equiv=\"X-UA-Compatible\"/>\n",
      " </head>\n",
      " <body style=\"margin:0px;height:100%\">\n",
      "  <iframe frameborder=\"0\" height=\"100%\" id=\"main-iframe\" marginheight=\"0px\" marginwidth=\"0px\" src=\"/_Incapsula_Resource?SWUDNSAI=31&amp;xinfo=5-14989499-0%202cNN%20RT%281730818284636%2069%29%20q%280%20-1%20-1%20-1%29%20r%280%20-1%29%20B12%284%2c315%2c0%29&amp;incident_id=9153000090084067918-63089539714974277&amp;edet=12&amp;cinfo=04000000&amp;rpinfo=0&amp;cts=CuF6SbK%2bHX%2fPbWqOfLJS7zTEB58y%2fbjVK%2brfm%2bEwywcSk%2bif2ABXWe6Bb%2fKnQp7B&amp;mth=GET\" width=\"100%\">\n",
      "   Request unsuccessful. Incapsula incident ID: 9153000090084067918-63089539714974277\n",
      "  </iframe>\n",
      " </body>\n",
      "</html>\n",
      "\n"
     ]
    }
   ],
   "source": [
    "from bs4 import BeautifulSoup\n",
    "import requests\n",
    "url = \"https://unfccc.int/resource/cd_roms/na1/ghg_inventories/english/8_glossary/Glossary.htm\"\n",
    "response = requests.get(url)\n",
    "if response.status_code == 200:\n",
    "    soup = BeautifulSoup(response.text, 'html.parser')\n",
    "    print(soup.prettify())"
   ]
  },
  {
   "cell_type": "code",
   "execution_count": 271,
   "id": "0bb888d7-e027-46d5-90af-60a5e6dd06f2",
   "metadata": {},
   "outputs": [],
   "source": [
    "\n",
    "from bs4 import BeautifulSoup\n",
    "\n",
    "# Step 1: Fetch the webpage\n",
    "\n",
    "\n",
    "# Check if the request was successful\n",
    "if response.status_code == 200:\n",
    "    # Step 2: Parse the HTML content\n",
    "    soup = BeautifulSoup(response.text, 'html.parser')\n",
    "    \n",
    "    # Step 3: Extract the relevant information\n",
    "    # For example, extracting all definitions in the glossary\n",
    "    glossary_terms = soup.find_all('dt')  # Typically, glossary terms are in <dt> tags\n",
    "    glossary_definitions = soup.find_all('dd')  # Definitions are usually in <dd> tags\n",
    "\n",
    "    # Step 4: Combine the terms and definitions\n",
    "    glossary = {}\n",
    "    for term, definition in zip(glossary_terms, glossary_definitions):\n",
    "        glossary[term.text.strip()] = definition.text.strip()\n",
    "\n",
    "    # Print or process the glossary dictionary\n",
    "    for term, definition in glossary.items():\n",
    "        print(f\"{term}: {definition}\")\n",
    "\n",
    "else:\n",
    "    print(f\"Failed to retrieve the webpage. Status code: {response.status_code}\")\n"
   ]
  }
 ],
 "metadata": {
  "kernelspec": {
   "display_name": "Python 3 (ipykernel)",
   "language": "python",
   "name": "python3"
  },
  "language_info": {
   "codemirror_mode": {
    "name": "ipython",
    "version": 3
   },
   "file_extension": ".py",
   "mimetype": "text/x-python",
   "name": "python",
   "nbconvert_exporter": "python",
   "pygments_lexer": "ipython3",
   "version": "3.12.3"
  }
 },
 "nbformat": 4,
 "nbformat_minor": 5
}
