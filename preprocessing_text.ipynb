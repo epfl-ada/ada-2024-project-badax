{
 "cells": [
  {
   "cell_type": "code",
   "execution_count": 1,
   "metadata": {},
   "outputs": [],
   "source": [
    "import pandas as pd\n",
    "import numpy as np\n",
    "import matplotlib.pyplot as plt\n",
    "import sys\n",
    "# Importing src scripts:\n",
    "sys.path.insert(0, 'src')\n",
    "# from misc_scripts import scripts\n",
    "from utils import utils\n",
    "from data import data\n",
    "\n",
    "# from models import models"
   ]
  },
  {
   "cell_type": "markdown",
   "metadata": {},
   "source": [
    "## Loading datasets:"
   ]
  },
  {
   "cell_type": "code",
   "execution_count": 2,
   "metadata": {},
   "outputs": [],
   "source": [
    "#Load CMU Corpus Dataset\n",
    "metadata = data.load_metadata()\n",
    "summaries_df = data.load_summaries()\n",
    "cmu_df = metadata.merge(summaries_df, on=\"Wikipedia_movie_ID\") \n"
   ]
  },
  {
   "cell_type": "code",
   "execution_count": 3,
   "metadata": {},
   "outputs": [
    {
     "data": {
      "text/html": [
       "<div>\n",
       "<style scoped>\n",
       "    .dataframe tbody tr th:only-of-type {\n",
       "        vertical-align: middle;\n",
       "    }\n",
       "\n",
       "    .dataframe tbody tr th {\n",
       "        vertical-align: top;\n",
       "    }\n",
       "\n",
       "    .dataframe thead th {\n",
       "        text-align: right;\n",
       "    }\n",
       "</style>\n",
       "<table border=\"1\" class=\"dataframe\">\n",
       "  <thead>\n",
       "    <tr style=\"text-align: right;\">\n",
       "      <th></th>\n",
       "      <th>Wikipedia_movie_ID</th>\n",
       "      <th>Freebase_movie_ID</th>\n",
       "      <th>Movie_name</th>\n",
       "      <th>Movie_release_date</th>\n",
       "      <th>Movie_box_office_revenue</th>\n",
       "      <th>Movie_runtime</th>\n",
       "      <th>Movie_languages</th>\n",
       "      <th>Movie_countxries</th>\n",
       "      <th>Movie_genres</th>\n",
       "      <th>Movie_Summary</th>\n",
       "    </tr>\n",
       "  </thead>\n",
       "  <tbody>\n",
       "    <tr>\n",
       "      <th>0</th>\n",
       "      <td>975900</td>\n",
       "      <td>/m/03vyhn</td>\n",
       "      <td>Ghosts of Mars</td>\n",
       "      <td>2001-08-24</td>\n",
       "      <td>14010832.0</td>\n",
       "      <td>98.0</td>\n",
       "      <td>{\"/m/02h40lc\": \"English Language\"}</td>\n",
       "      <td>{\"/m/09c7w0\": \"United States of America\"}</td>\n",
       "      <td>[Thriller, Science Fiction, Horror, Adventure,...</td>\n",
       "      <td>Set in the second half of the 22nd century, th...</td>\n",
       "    </tr>\n",
       "  </tbody>\n",
       "</table>\n",
       "</div>"
      ],
      "text/plain": [
       "   Wikipedia_movie_ID Freebase_movie_ID      Movie_name Movie_release_date  \\\n",
       "0              975900         /m/03vyhn  Ghosts of Mars         2001-08-24   \n",
       "\n",
       "   Movie_box_office_revenue  Movie_runtime  \\\n",
       "0                14010832.0           98.0   \n",
       "\n",
       "                      Movie_languages  \\\n",
       "0  {\"/m/02h40lc\": \"English Language\"}   \n",
       "\n",
       "                            Movie_countxries  \\\n",
       "0  {\"/m/09c7w0\": \"United States of America\"}   \n",
       "\n",
       "                                        Movie_genres  \\\n",
       "0  [Thriller, Science Fiction, Horror, Adventure,...   \n",
       "\n",
       "                                       Movie_Summary  \n",
       "0  Set in the second half of the 22nd century, th...  "
      ]
     },
     "execution_count": 3,
     "metadata": {},
     "output_type": "execute_result"
    }
   ],
   "source": [
    "cmu_df.head(1)"
   ]
  },
  {
   "cell_type": "code",
   "execution_count": 4,
   "metadata": {},
   "outputs": [],
   "source": [
    "characters = pd.read_table(f\"data/MovieSummaries/character.metadata.tsv\", header=None)\n",
    "\n",
    "characters.columns = [\n",
    "\"Wikipedia_movie_ID\",\n",
    "\"Freebase movie ID\",\n",
    "\"Movie release date\",\n",
    "\"Character name\",\n",
    "\"Actor date of birth\",\n",
    "\"Actor gender\",\n",
    "\"Actor height (in meters)\",\n",
    "\"Actor ethnicity (Freebase ID)\",\n",
    "\"Actor name\",\n",
    "\"Actor age at movie release\",\n",
    "\"Freebase character/actor map ID\",\n",
    "\"Freebase character ID\",\n",
    "\"Freebase actor ID\"\n",
    "]\n",
    "\n",
    "# Merging character database with summaries\n",
    "characters =  characters[[\"Wikipedia_movie_ID\", \"Actor gender\", \"Character name\"]]\n",
    "characters = characters.groupby(\"Wikipedia_movie_ID\").agg({\n",
    "    \"Actor gender\": list, \n",
    "    \"Character name\": list,\n",
    "}).reset_index()\n"
   ]
  },
  {
   "cell_type": "code",
   "execution_count": 5,
   "metadata": {},
   "outputs": [
    {
     "data": {
      "text/html": [
       "<div>\n",
       "<style scoped>\n",
       "    .dataframe tbody tr th:only-of-type {\n",
       "        vertical-align: middle;\n",
       "    }\n",
       "\n",
       "    .dataframe tbody tr th {\n",
       "        vertical-align: top;\n",
       "    }\n",
       "\n",
       "    .dataframe thead th {\n",
       "        text-align: right;\n",
       "    }\n",
       "</style>\n",
       "<table border=\"1\" class=\"dataframe\">\n",
       "  <thead>\n",
       "    <tr style=\"text-align: right;\">\n",
       "      <th></th>\n",
       "      <th>Wikipedia_movie_ID</th>\n",
       "      <th>Movie_name</th>\n",
       "      <th>Actor gender</th>\n",
       "      <th>Movie_countxries</th>\n",
       "      <th>Movie_release_date</th>\n",
       "      <th>Character name</th>\n",
       "      <th>Movie_Summary</th>\n",
       "    </tr>\n",
       "  </thead>\n",
       "  <tbody>\n",
       "    <tr>\n",
       "      <th>0</th>\n",
       "      <td>975900</td>\n",
       "      <td>Ghosts of Mars</td>\n",
       "      <td>[F, F, M, M, F, F, F, M, M, M, M, M, M, M, M, ...</td>\n",
       "      <td>{\"/m/09c7w0\": \"United States of America\"}</td>\n",
       "      <td>2001-08-24</td>\n",
       "      <td>[Akooshay, Lieutenant Melanie Ballard, Desolat...</td>\n",
       "      <td>Set in the second half of the 22nd century, th...</td>\n",
       "    </tr>\n",
       "  </tbody>\n",
       "</table>\n",
       "</div>"
      ],
      "text/plain": [
       "   Wikipedia_movie_ID      Movie_name  \\\n",
       "0              975900  Ghosts of Mars   \n",
       "\n",
       "                                        Actor gender  \\\n",
       "0  [F, F, M, M, F, F, F, M, M, M, M, M, M, M, M, ...   \n",
       "\n",
       "                            Movie_countxries Movie_release_date  \\\n",
       "0  {\"/m/09c7w0\": \"United States of America\"}         2001-08-24   \n",
       "\n",
       "                                      Character name  \\\n",
       "0  [Akooshay, Lieutenant Melanie Ballard, Desolat...   \n",
       "\n",
       "                                       Movie_Summary  \n",
       "0  Set in the second half of the 22nd century, th...  "
      ]
     },
     "execution_count": 5,
     "metadata": {},
     "output_type": "execute_result"
    }
   ],
   "source": [
    "char_sum_CMU = pd.merge(cmu_df, characters, on=\"Wikipedia_movie_ID\", how=\"inner\")\n",
    "# keeping only relevant columns\n",
    "char_sum_CMU = char_sum_CMU[[\"Wikipedia_movie_ID\", \"Movie_name\", \"Actor gender\", \"Movie_countxries\",\"Movie_release_date\" ,\"Character name\",\"Movie_Summary\"]]\n",
    "char_sum_CMU.head(1)"
   ]
  },
  {
   "cell_type": "code",
   "execution_count": 6,
   "metadata": {},
   "outputs": [],
   "source": [
    "# Create the new column with the female percentage\n",
    "char_sum_CMU['Female Percentage'] = char_sum_CMU['Actor gender'].apply(utils.calculate_female_percentage)\n",
    "char_sum_CMU = char_sum_CMU[char_sum_CMU['Female Percentage'] != -1]"
   ]
  },
  {
   "cell_type": "code",
   "execution_count": 7,
   "metadata": {},
   "outputs": [
    {
     "data": {
      "text/html": [
       "<div>\n",
       "<style scoped>\n",
       "    .dataframe tbody tr th:only-of-type {\n",
       "        vertical-align: middle;\n",
       "    }\n",
       "\n",
       "    .dataframe tbody tr th {\n",
       "        vertical-align: top;\n",
       "    }\n",
       "\n",
       "    .dataframe thead th {\n",
       "        text-align: right;\n",
       "    }\n",
       "</style>\n",
       "<table border=\"1\" class=\"dataframe\">\n",
       "  <thead>\n",
       "    <tr style=\"text-align: right;\">\n",
       "      <th></th>\n",
       "      <th>Wikipedia_movie_ID</th>\n",
       "      <th>Movie_name</th>\n",
       "      <th>Actor gender</th>\n",
       "      <th>Movie_countxries</th>\n",
       "      <th>Movie_release_date</th>\n",
       "      <th>Character name</th>\n",
       "      <th>Movie_Summary</th>\n",
       "      <th>Female Percentage</th>\n",
       "    </tr>\n",
       "  </thead>\n",
       "  <tbody>\n",
       "    <tr>\n",
       "      <th>0</th>\n",
       "      <td>975900</td>\n",
       "      <td>Ghosts of Mars</td>\n",
       "      <td>[F, F, M, M, F, F, F, M, M, M, M, M, M, M, M, ...</td>\n",
       "      <td>{\"/m/09c7w0\": \"United States of America\"}</td>\n",
       "      <td>2001-08-24</td>\n",
       "      <td>[Akooshay, Lieutenant Melanie Ballard, Desolat...</td>\n",
       "      <td>Set in the second half of the 22nd century, th...</td>\n",
       "      <td>35.294118</td>\n",
       "    </tr>\n",
       "  </tbody>\n",
       "</table>\n",
       "</div>"
      ],
      "text/plain": [
       "   Wikipedia_movie_ID      Movie_name  \\\n",
       "0              975900  Ghosts of Mars   \n",
       "\n",
       "                                        Actor gender  \\\n",
       "0  [F, F, M, M, F, F, F, M, M, M, M, M, M, M, M, ...   \n",
       "\n",
       "                            Movie_countxries Movie_release_date  \\\n",
       "0  {\"/m/09c7w0\": \"United States of America\"}         2001-08-24   \n",
       "\n",
       "                                      Character name  \\\n",
       "0  [Akooshay, Lieutenant Melanie Ballard, Desolat...   \n",
       "\n",
       "                                       Movie_Summary  Female Percentage  \n",
       "0  Set in the second half of the 22nd century, th...          35.294118  "
      ]
     },
     "execution_count": 7,
     "metadata": {},
     "output_type": "execute_result"
    }
   ],
   "source": [
    "char_sum_CMU.head(1)"
   ]
  },
  {
   "cell_type": "code",
   "execution_count": 11,
   "metadata": {},
   "outputs": [
    {
     "name": "stdout",
     "output_type": "stream",
     "text": [
      "Total movies combined: 37489\n"
     ]
    }
   ],
   "source": [
    "print(f\"Total movies combined: {char_sum_CMU.shape[0]}\")"
   ]
  },
  {
   "cell_type": "markdown",
   "metadata": {},
   "source": [
    "## Preprocessing movies summaries\n"
   ]
  },
  {
   "cell_type": "code",
   "execution_count": 9,
   "metadata": {},
   "outputs": [
    {
     "name": "stdout",
     "output_type": "stream",
     "text": [
      "Preprocessing movie summaries...\n",
      "Preprocessing completed.\n"
     ]
    }
   ],
   "source": [
    "char_sum_CMU['Clean_Summary'] = char_sum_CMU['Movie_Summary'].apply(utils.preprocess_text)"
   ]
  },
  {
   "cell_type": "code",
   "execution_count": 16,
   "metadata": {},
   "outputs": [
    {
     "name": "stdout",
     "output_type": "stream",
     "text": [
      "Saving preprocessed data to preprocessed_movies.parquet...\n",
      "Preprocessed data saved successfully.\n"
     ]
    }
   ],
   "source": [
    "preprocessed_file_path = 'data/pickles/preprocessed_movies.parquet' \n",
    "\n",
    "print(f\"Saving preprocessed data to {preprocessed_file_path}...\")\n",
    "char_sum_CMU.to_parquet(preprocessed_file_path, index=False)\n",
    "print(\"Preprocessed data saved successfully.\")\n"
   ]
  }
 ],
 "metadata": {
  "kernelspec": {
   "display_name": "env",
   "language": "python",
   "name": "python3"
  },
  "language_info": {
   "codemirror_mode": {
    "name": "ipython",
    "version": 3
   },
   "file_extension": ".py",
   "mimetype": "text/x-python",
   "name": "python",
   "nbconvert_exporter": "python",
   "pygments_lexer": "ipython3",
   "version": "3.12.6"
  }
 },
 "nbformat": 4,
 "nbformat_minor": 2
}
