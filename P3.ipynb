{
 "cells": [
  {
   "cell_type": "markdown",
   "metadata": {},
   "source": [
    "### Retreiving the dataframe with some basic restructuring"
   ]
  },
  {
   "cell_type": "code",
   "execution_count": null,
   "metadata": {},
   "outputs": [],
   "source": [
    "import pandas as pd\n",
    "import numpy as np\n",
    "import matplotlib.pyplot as plt\n",
    "from matplotlib.colors import LinearSegmentedColormap\n",
    "import json \n",
    "from collections import Counter\n",
    "import re\n",
    "import ast\n",
    "import sys\n",
    "sys.path.insert(0, 'src')\n",
    "from misc_scripts import scripts\n",
    "from data import data\n",
    "from utils import utils\n",
    "from utils import wordcloud_utils as wu\n",
    "from models import models\n",
    "import seaborn as sns\n",
    "import spacy\n",
    "from collections import Counter\n",
    "import re\n",
    "from wordcloud import WordCloud\n",
    "import multiprocessing as mp\n",
    "import pickle\n",
    "import os\n",
    "from itertools import chain"
   ]
  },
  {
   "cell_type": "code",
   "execution_count": null,
   "metadata": {},
   "outputs": [],
   "source": [
    "movie_data_unmerged = pd.read_table(\"movie.metadata.tsv\", header=None)\n",
    "\n",
    "movie_data_unmerged.columns = [\n",
    "    \"Wikipedia_movie_ID\",\n",
    "    \"Freebase_movie_ID\",\n",
    "    \"Movie_name\",\n",
    "    \"Movie_release_date\",\n",
    "    \"Movie_box_office_revenue\",\n",
    "    \"Movie_runtime\",\n",
    "    \"Movie_languages\", \n",
    "    \"Movie_countries\",  \n",
    "    \"Movie_genres\"     \n",
    "]\n",
    "\n",
    "with open(\"plot_summaries.txt\", \"r\", encoding=\"utf-8\") as f:\n",
    "    file = f.readlines()\n",
    "\n",
    "data = [line.strip().split(\"\\t\", 1) for line in file]\n",
    "\n",
    "summaries_df = pd.DataFrame(data, columns=[\"Wikipedia_movie_ID\", \"Movie_Summary\"])\n",
    "\n",
    "summaries_df['Wikipedia_movie_ID'] = summaries_df['Wikipedia_movie_ID'].apply(int)\n",
    "\n",
    "df_character = pd.read_table(\"character.metadata.tsv\", header=None)\n",
    "\n",
    "df_character.columns = [\"Wikipedia_movie_ID\",\n",
    "\"Freebase_movie_ID\",\n",
    "\"Movie_release_date\",\n",
    "\"Character_name\",\n",
    "\"Actor_date_of_birth\",\n",
    "\"Actor_gender\",\n",
    "\"Actor_height\", #in meters\n",
    "\"Actor_ethnicity\",\n",
    "\"Actor_name\",\n",
    "\"Actor_age_at_movie_release\",\n",
    "\"Freebase_character/actor_map_ID\",\n",
    "\"Freebase_character_ID\",\n",
    "\"Freebase_actor_ID\"]\n",
    "\n",
    "df_character[\"Wikipedia_movie_ID\"] = df_character[\"Wikipedia_movie_ID\"].apply(int)\n",
    "#here we only keep the year (and not the month) + we put the same format\n",
    "df_character[\"Movie_release_date\"] = df_character[\"Movie_release_date\"].apply(lambda x: int(str(x).split(\"-\")[0]) if type(x) == str else np.nan)\n",
    "\n",
    "df_movie = movie_data_unmerged.merge(summaries_df, on=\"Wikipedia_movie_ID\", how='inner')\n",
    "\n",
    "df_movie[\"Movie_genres\"] = df_movie[\"Movie_genres\"].apply(lambda x: list(json.loads(x).values()))\n",
    "#some movies have release date in the form year-month-day, we only want the year, and some have nan values\n",
    "df_movie[\"Movie_release_date\"] = df_movie[\"Movie_release_date\"].apply(lambda x: int(str(x).split(\"-\")[0]) if type(x) == str else np.nan)\n",
    "df_movie.loc[df_movie[\"Movie_name\"] == \"Hunting Season\", \"Movie_release_date\"] = 2010\n",
    "\n",
    "def find_movie_ID(movie_name):\n",
    "    return int(df_movie[df_movie[\"Movie_name\"] == movie_name][\"Wikipedia_movie_ID\"].values[0])\n",
    "\n",
    "df_imdb = pd.read_csv('merged_imdb_2.csv')\n",
    "df_imdb.head()\n",
    "df_imdb[\"actors\"] = df_imdb[\"actors\"].apply(lambda x: ast.literal_eval(x))\n",
    "\n",
    "df_imdb.rename(columns={\"Wikipedia movie ID\": \"Wikipedia_movie_ID\"}, inplace=True)\n",
    "\n",
    "df_actor = pd.DataFrame()\n",
    "df_actor[\"actor\"] = [item for sublist in df_imdb['actors'].tolist() for item in sublist]\n",
    "df_actor = df_actor.drop_duplicates()"
   ]
  },
  {
   "cell_type": "code",
   "execution_count": 28,
   "metadata": {},
   "outputs": [],
   "source": [
    "df_movie = df_movie.merge(df_imdb[[\"gender\", \"Wikipedia_movie_ID\"]], on=\"Wikipedia_movie_ID\", how='inner')"
   ]
  },
  {
   "cell_type": "code",
   "execution_count": 29,
   "metadata": {},
   "outputs": [],
   "source": [
    "df_movie[\"Movie_countries\"] = df_movie[\"Movie_countries\"].apply(lambda x: list(json.loads(x).values()))"
   ]
  },
  {
   "cell_type": "code",
   "execution_count": null,
   "metadata": {},
   "outputs": [],
   "source": []
  },
  {
   "cell_type": "markdown",
   "metadata": {},
   "source": [
    "### Basic preliminary gender analyis"
   ]
  },
  {
   "cell_type": "code",
   "execution_count": 30,
   "metadata": {},
   "outputs": [
    {
     "data": {
      "image/svg+xml": [
       "<svg class=\"main-svg\" xmlns=\"http://www.w3.org/2000/svg\" xmlns:xlink=\"http://www.w3.org/1999/xlink\" width=\"700\" height=\"500\" style=\"\" viewBox=\"0 0 700 500\"><rect x=\"0\" y=\"0\" width=\"700\" height=\"500\" style=\"fill: rgb(255, 255, 255); fill-opacity: 1;\"/><defs id=\"defs-463b99\"><g class=\"clips\"><clipPath id=\"clip463b99xyplot\" class=\"plotclip\"><rect width=\"540\" height=\"320\"/></clipPath><clipPath id=\"clip463b99xy2plot\" class=\"plotclip\"><rect width=\"540\" height=\"320\"/></clipPath><clipPath class=\"axesclip\" id=\"clip463b99x\"><rect x=\"80\" y=\"0\" width=\"540\" height=\"500\"/></clipPath><clipPath class=\"axesclip\" id=\"clip463b99y\"><rect x=\"0\" y=\"100\" width=\"700\" height=\"320\"/></clipPath><clipPath class=\"axesclip\" id=\"clip463b99xy\"><rect x=\"80\" y=\"100\" width=\"540\" height=\"320\"/></clipPath><clipPath class=\"axesclip\" id=\"clip463b99y2\"><rect x=\"0\" y=\"100\" width=\"700\" height=\"320\"/></clipPath><clipPath class=\"axesclip\" id=\"clip463b99xy2\"><rect x=\"80\" y=\"100\" width=\"540\" height=\"320\"/></clipPath></g><g class=\"gradients\"/><g class=\"patterns\"/></defs><g class=\"bglayer\"><rect class=\"bg\" x=\"80\" y=\"100\" width=\"540\" height=\"320\" style=\"fill: rgb(229, 236, 246); fill-opacity: 1; stroke-width: 0;\"/></g><g class=\"layer-below\"><g class=\"imagelayer\"/><g class=\"shapelayer\"/></g><g class=\"cartesianlayer\"><g class=\"subplot xy\"><g class=\"layer-subplot\"><g class=\"shapelayer\"/><g class=\"imagelayer\"/></g><g class=\"minor-gridlayer\"><g class=\"x\"/><g class=\"y\"/><g class=\"y2\"/></g><g class=\"gridlayer\"><g class=\"x\"><path class=\"xgrid crisp\" transform=\"translate(93.85,0)\" d=\"M0,100v320\" style=\"stroke: rgb(255, 255, 255); stroke-opacity: 1; stroke-width: 1px;\"/><path class=\"xgrid crisp\" transform=\"translate(186.15,0)\" d=\"M0,100v320\" style=\"stroke: rgb(255, 255, 255); stroke-opacity: 1; stroke-width: 1px;\"/><path class=\"xgrid crisp\" transform=\"translate(278.46000000000004,0)\" d=\"M0,100v320\" style=\"stroke: rgb(255, 255, 255); stroke-opacity: 1; stroke-width: 1px;\"/><path class=\"xgrid crisp\" transform=\"translate(370.77,0)\" d=\"M0,100v320\" style=\"stroke: rgb(255, 255, 255); stroke-opacity: 1; stroke-width: 1px;\"/><path class=\"xgrid crisp\" transform=\"translate(463.08,0)\" d=\"M0,100v320\" style=\"stroke: rgb(255, 255, 255); stroke-opacity: 1; stroke-width: 1px;\"/><path class=\"xgrid crisp\" transform=\"translate(555.38,0)\" d=\"M0,100v320\" style=\"stroke: rgb(255, 255, 255); stroke-opacity: 1; stroke-width: 1px;\"/></g><g class=\"y\"><path class=\"ygrid crisp\" transform=\"translate(0,383.43)\" d=\"M80,0h540\" style=\"stroke: rgb(255, 255, 255); stroke-opacity: 1; stroke-width: 1px;\"/><path class=\"ygrid crisp\" transform=\"translate(0,342.28999999999996)\" d=\"M80,0h540\" style=\"stroke: rgb(255, 255, 255); stroke-opacity: 1; stroke-width: 1px;\"/><path class=\"ygrid crisp\" transform=\"translate(0,301.14)\" d=\"M80,0h540\" style=\"stroke: rgb(255, 255, 255); stroke-opacity: 1; stroke-width: 1px;\"/><path class=\"ygrid crisp\" transform=\"translate(0,260)\" d=\"M80,0h540\" style=\"stroke: rgb(255, 255, 255); stroke-opacity: 1; stroke-width: 1px;\"/><path class=\"ygrid crisp\" transform=\"translate(0,218.86)\" d=\"M80,0h540\" style=\"stroke: rgb(255, 255, 255); stroke-opacity: 1; stroke-width: 1px;\"/><path class=\"ygrid crisp\" transform=\"translate(0,177.70999999999998)\" d=\"M80,0h540\" style=\"stroke: rgb(255, 255, 255); stroke-opacity: 1; stroke-width: 1px;\"/><path class=\"ygrid crisp\" transform=\"translate(0,136.57)\" d=\"M80,0h540\" style=\"stroke: rgb(255, 255, 255); stroke-opacity: 1; stroke-width: 1px;\"/></g><g class=\"y2\"><path class=\"y2grid crisp\" transform=\"translate(0,353.46000000000004)\" d=\"M80,0h540\" style=\"stroke: rgb(255, 255, 255); stroke-opacity: 1; stroke-width: 1px;\"/><path class=\"y2grid crisp\" transform=\"translate(0,302.66999999999996)\" d=\"M80,0h540\" style=\"stroke: rgb(255, 255, 255); stroke-opacity: 1; stroke-width: 1px;\"/><path class=\"y2grid crisp\" transform=\"translate(0,251.87)\" d=\"M80,0h540\" style=\"stroke: rgb(255, 255, 255); stroke-opacity: 1; stroke-width: 1px;\"/><path class=\"y2grid crisp\" transform=\"translate(0,201.07999999999998)\" d=\"M80,0h540\" style=\"stroke: rgb(255, 255, 255); stroke-opacity: 1; stroke-width: 1px;\"/><path class=\"y2grid crisp\" transform=\"translate(0,150.29)\" d=\"M80,0h540\" style=\"stroke: rgb(255, 255, 255); stroke-opacity: 1; stroke-width: 1px;\"/></g></g><g class=\"zerolinelayer\"><path class=\"y2zl zl crisp\" transform=\"translate(0,404.25)\" d=\"M80,0h540\" style=\"stroke: rgb(255, 255, 255); stroke-opacity: 1; stroke-width: 2px;\"/></g><g class=\"layer-between\"><g class=\"shapelayer\"/><g class=\"imagelayer\"/></g><path class=\"xlines-below\"/><path class=\"ylines-below\"/><g class=\"overlines-below\"><path class=\"xy2-x\"/><path class=\"xy2-y\"/></g><g class=\"xaxislayer-below\"/><g class=\"yaxislayer-below\"/><g class=\"overaxes-below\"><g class=\"xy2-x\"/><g class=\"xy2-y\"/></g><g class=\"overplot\"><g class=\"xy\" transform=\"translate(80,100)\" clip-path=\"url(#clip463b99xyplot)\"><g class=\"scatterlayer mlayer\"><g class=\"trace scatter traceef5c1e\" style=\"stroke-miterlimit: 2; opacity: 1;\"><g class=\"fills\"/><g class=\"errorbars\"/><g class=\"lines\"><path class=\"js-line\" d=\"M46.15,256L60,304L64.62,232L69.23,120.33L73.85,215.84L78.46,136.49L83.08,185.46L87.69,157.66L92.31,176.87L96.92,173.49L101.54,189.31L106.15,177.63L110.77,174.52L115.38,177.33L120,168.16L124.62,189.44L129.23,169.26L133.85,192.15L138.46,180.65L143.08,189.2L147.69,178.34L152.31,192.67L156.92,193.51L161.54,195.2L166.15,189.47L170.77,195.64L175.38,195.56L180,193.34L184.62,205.41L189.23,200.56L193.85,206.52L198.46,209.34L203.08,196.6L207.69,204.66L212.31,200.24L221.54,193.76L226.15,188.32L230.77,188.96L235.38,193.73L240,196.35L244.62,203.57L249.23,205.23L253.85,199.09L258.46,209.79L263.08,204.41L267.69,198.11L272.31,203.47L276.92,200.7L281.54,204.71L286.15,197.97L290.77,195.31L295.38,184.24L300,193.61L304.62,188.78L309.23,185.44L313.85,194.42L318.46,196.11L323.08,191.81L327.69,197.35L332.31,197.95L336.92,186.22L341.54,194.33L346.15,193.27L355.38,186.2L360,202.82L364.62,200.09L369.23,191.51L373.85,198.91L378.46,200.41L383.08,193.5L387.69,193.79L392.31,185.68L396.92,190.59L401.54,193.3L406.15,200.83L410.77,188.53L415.38,190.54L420,184.35L424.62,196L429.23,195.44L433.85,192.81L438.46,191.04L443.08,191.9L447.69,195.44L452.31,185.82L456.92,187.77L461.54,187.37L466.15,189.18L470.77,185.46L475.38,179.48L480,188.87L484.62,183.96L489.23,181.38L493.85,183.18L498.46,175.99L503.08,181.21L507.69,177.85L512.31,180.72L516.92,176.74L521.54,182.69L526.15,179.09L530.77,180.78L535.38,208.6L540,201.14\" style=\"vector-effect: none; fill: none; stroke: rgb(0, 0, 255); stroke-opacity: 1; stroke-width: 2px; opacity: 1;\"/></g><g class=\"points\"/><g class=\"text\"/></g><g class=\"trace scatter tracefbc5e1\" style=\"stroke-miterlimit: 2; opacity: 0.2;\"><g class=\"fills\"/><g class=\"errorbars\"/><g class=\"lines\"><path class=\"js-line\" d=\"M110.77,180.57L115.38,187.43L120,155.59L124.62,211.43L129.23,118.86L133.85,201.14L143.08,201.14L152.31,232L156.92,208L161.54,160L166.15,77.71L170.77,249.14L175.38,154.12L180,77.71L184.62,283.43L189.23,180.57L193.85,146.29L203.08,139.43L207.69,190.86L212.31,16L216.92,118.86L221.54,132.57L226.15,151.77L230.77,173.71L235.38,118.86L240,201.14L244.62,201.14L249.23,146.29L253.85,143.54L258.46,190.86L263.08,139.43L267.69,171.17L272.31,187.43L276.92,184.69L281.54,156.26L286.15,171.76L290.77,159.07L295.38,153.39L300,155.16L304.62,156.24L309.23,181.39L313.85,186.06L318.46,166.33L323.08,161.14L327.69,185.14L332.31,192.9L336.92,165.49L341.54,168.22L346.15,190.86L350.77,177.63L355.38,150.86L360,184.86L364.62,159.78L369.23,141.39L373.85,166.86L378.46,175.64L383.08,133.63L387.69,176L392.31,168.23L401.54,186.45L406.15,172.99L410.77,168.82L415.38,145.31L420,166.33L424.62,181.1L429.23,189.97L433.85,193.02L438.46,180.57L443.08,156.44L447.69,185.98L452.31,170.75L456.92,154.33L461.54,172.57L466.15,191.59L470.77,178.51L475.38,174.52L480,167.94L484.62,174.48L489.23,163.98L493.85,176.89L498.46,178.32L503.08,168.2L507.69,154.43L512.31,176.46L516.92,178.29L521.54,189.15L526.15,160.65L530.77,160L535.38,242.29\" style=\"vector-effect: none; fill: none; stroke: rgb(0, 128, 0); stroke-opacity: 1; stroke-width: 2px; opacity: 1;\"/></g><g class=\"points\"/><g class=\"text\"/></g></g></g><g class=\"xy2\" transform=\"translate(80,100)\" clip-path=\"url(#clip463b99xy2plot)\"><g class=\"scatterlayer mlayer\"><g class=\"trace scatter traced8f34e\" style=\"stroke-miterlimit: 2; opacity: 1;\"><g class=\"fills\"/><g class=\"errorbars\"/><g class=\"lines\"><path class=\"js-line\" d=\"M0,304L60,303.75L64.62,302.73L69.23,303.24L73.85,302.48L83.08,299.17L87.69,296.89L92.31,298.67L96.92,295.87L101.54,297.14L106.15,301.97L110.77,295.87L115.38,294.86L120,295.37L124.62,289.52L129.23,286.48L133.85,290.29L138.46,289.52L143.08,287.24L152.31,280.13L156.92,273.27L161.54,267.94L166.15,271.49L170.77,268.7L175.38,264.89L180,265.4L184.62,264.63L189.23,269.46L193.85,266.92L198.46,265.9L203.08,265.65L207.69,264.13L212.31,267.68L216.92,267.43L221.54,265.9L226.15,269.21L230.77,263.11L235.38,260.32L240,256L244.62,255.24L249.23,258.03L253.85,254.98L258.46,248.38L263.08,253.97L267.69,252.7L272.31,249.4L276.92,240.25L281.54,245.59L286.15,246.6L290.77,253.46L295.38,252.7L300,249.65L304.62,254.98L309.23,244.57L313.85,246.35L323.08,243.56L327.69,245.59L332.31,240.76L336.92,239.75L341.54,237.21L346.15,233.14L350.77,233.9L355.38,236.19L360,247.62L364.62,240L369.23,242.03L373.85,241.52L378.46,237.97L383.08,227.05L392.31,229.33L396.92,229.08L406.15,217.4L410.77,220.7L415.38,205.46L420,203.17L424.62,202.16L429.23,203.17L433.85,209.02L438.46,208.25L443.08,193.27L447.69,192.76L452.31,199.11L456.92,187.17L470.77,166.6L475.38,161.78L480,146.54L484.62,120.63L489.23,114.79L493.85,96L498.46,78.73L503.08,32L507.69,26.41L512.31,16L521.54,47.24L526.15,83.56L530.77,178.79L535.38,291.56L540,303.75\" style=\"vector-effect: none; fill: none; stroke: rgb(255, 165, 0); stroke-opacity: 1; stroke-dasharray: 9px, 9px; stroke-width: 2px; opacity: 1;\"/></g><g class=\"points\"/><g class=\"text\"/></g></g></g></g><path class=\"xlines-above crisp\" d=\"M0,0\" style=\"fill: none;\"/><path class=\"ylines-above crisp\" d=\"M0,0\" style=\"fill: none;\"/><g class=\"overlines-above\"><path class=\"xy2-x crisp\" d=\"M0,0\" style=\"fill: none;\"/><path class=\"xy2-y crisp\" d=\"M0,0\" style=\"fill: none;\"/></g><g class=\"xaxislayer-above\"><g class=\"xtick\"><text text-anchor=\"middle\" x=\"0\" y=\"433\" transform=\"translate(93.85,0)\" style=\"font-family: 'Open Sans', verdana, arial, sans-serif; font-size: 12px; fill: rgb(42, 63, 95); fill-opacity: 1; white-space: pre; opacity: 1;\">1900</text></g><g class=\"xtick\"><text text-anchor=\"middle\" x=\"0\" y=\"433\" style=\"font-family: 'Open Sans', verdana, arial, sans-serif; font-size: 12px; fill: rgb(42, 63, 95); fill-opacity: 1; white-space: pre; opacity: 1;\" transform=\"translate(186.15,0)\">1920</text></g><g class=\"xtick\"><text text-anchor=\"middle\" x=\"0\" y=\"433\" style=\"font-family: 'Open Sans', verdana, arial, sans-serif; font-size: 12px; fill: rgb(42, 63, 95); fill-opacity: 1; white-space: pre; opacity: 1;\" transform=\"translate(278.46000000000004,0)\">1940</text></g><g class=\"xtick\"><text text-anchor=\"middle\" x=\"0\" y=\"433\" style=\"font-family: 'Open Sans', verdana, arial, sans-serif; font-size: 12px; fill: rgb(42, 63, 95); fill-opacity: 1; white-space: pre; opacity: 1;\" transform=\"translate(370.77,0)\">1960</text></g><g class=\"xtick\"><text text-anchor=\"middle\" x=\"0\" y=\"433\" style=\"font-family: 'Open Sans', verdana, arial, sans-serif; font-size: 12px; fill: rgb(42, 63, 95); fill-opacity: 1; white-space: pre; opacity: 1;\" transform=\"translate(463.08,0)\">1980</text></g><g class=\"xtick\"><text text-anchor=\"middle\" x=\"0\" y=\"433\" style=\"font-family: 'Open Sans', verdana, arial, sans-serif; font-size: 12px; fill: rgb(42, 63, 95); fill-opacity: 1; white-space: pre; opacity: 1;\" transform=\"translate(555.38,0)\">2000</text></g></g><g class=\"yaxislayer-above\"><g class=\"ytick\"><text text-anchor=\"end\" x=\"79\" y=\"4.199999999999999\" transform=\"translate(0,383.43)\" style=\"font-family: 'Open Sans', verdana, arial, sans-serif; font-size: 12px; fill: rgb(0, 0, 255); fill-opacity: 1; white-space: pre; opacity: 1;\">0.1</text></g><g class=\"ytick\"><text text-anchor=\"end\" x=\"79\" y=\"4.199999999999999\" style=\"font-family: 'Open Sans', verdana, arial, sans-serif; font-size: 12px; fill: rgb(0, 0, 255); fill-opacity: 1; white-space: pre; opacity: 1;\" transform=\"translate(0,342.28999999999996)\">0.2</text></g><g class=\"ytick\"><text text-anchor=\"end\" x=\"79\" y=\"4.199999999999999\" style=\"font-family: 'Open Sans', verdana, arial, sans-serif; font-size: 12px; fill: rgb(0, 0, 255); fill-opacity: 1; white-space: pre; opacity: 1;\" transform=\"translate(0,301.14)\">0.3</text></g><g class=\"ytick\"><text text-anchor=\"end\" x=\"79\" y=\"4.199999999999999\" style=\"font-family: 'Open Sans', verdana, arial, sans-serif; font-size: 12px; fill: rgb(0, 0, 255); fill-opacity: 1; white-space: pre; opacity: 1;\" transform=\"translate(0,260)\">0.4</text></g><g class=\"ytick\"><text text-anchor=\"end\" x=\"79\" y=\"4.199999999999999\" style=\"font-family: 'Open Sans', verdana, arial, sans-serif; font-size: 12px; fill: rgb(0, 0, 255); fill-opacity: 1; white-space: pre; opacity: 1;\" transform=\"translate(0,218.86)\">0.5</text></g><g class=\"ytick\"><text text-anchor=\"end\" x=\"79\" y=\"4.199999999999999\" style=\"font-family: 'Open Sans', verdana, arial, sans-serif; font-size: 12px; fill: rgb(0, 0, 255); fill-opacity: 1; white-space: pre; opacity: 1;\" transform=\"translate(0,177.70999999999998)\">0.6</text></g><g class=\"ytick\"><text text-anchor=\"end\" x=\"79\" y=\"4.199999999999999\" style=\"font-family: 'Open Sans', verdana, arial, sans-serif; font-size: 12px; fill: rgb(0, 0, 255); fill-opacity: 1; white-space: pre; opacity: 1;\" transform=\"translate(0,136.57)\">0.7</text></g></g><g class=\"overaxes-above\"><g class=\"xy2-x\"/><g class=\"xy2-y\"><g class=\"y2tick\"><text text-anchor=\"start\" x=\"621\" y=\"4.199999999999999\" transform=\"translate(0,404.25)\" style=\"font-family: 'Open Sans', verdana, arial, sans-serif; font-size: 12px; fill: rgb(255, 165, 0); fill-opacity: 1; white-space: pre; opacity: 1;\">0</text></g><g class=\"y2tick\"><text text-anchor=\"start\" x=\"621\" y=\"4.199999999999999\" style=\"font-family: 'Open Sans', verdana, arial, sans-serif; font-size: 12px; fill: rgb(255, 165, 0); fill-opacity: 1; white-space: pre; opacity: 1;\" transform=\"translate(0,353.46000000000004)\">200</text></g><g class=\"y2tick\"><text text-anchor=\"start\" x=\"621\" y=\"4.199999999999999\" style=\"font-family: 'Open Sans', verdana, arial, sans-serif; font-size: 12px; fill: rgb(255, 165, 0); fill-opacity: 1; white-space: pre; opacity: 1;\" transform=\"translate(0,302.66999999999996)\">400</text></g><g class=\"y2tick\"><text text-anchor=\"start\" x=\"621\" y=\"4.199999999999999\" style=\"font-family: 'Open Sans', verdana, arial, sans-serif; font-size: 12px; fill: rgb(255, 165, 0); fill-opacity: 1; white-space: pre; opacity: 1;\" transform=\"translate(0,251.87)\">600</text></g><g class=\"y2tick\"><text text-anchor=\"start\" x=\"621\" y=\"4.199999999999999\" style=\"font-family: 'Open Sans', verdana, arial, sans-serif; font-size: 12px; fill: rgb(255, 165, 0); fill-opacity: 1; white-space: pre; opacity: 1;\" transform=\"translate(0,201.07999999999998)\">800</text></g><g class=\"y2tick\"><text text-anchor=\"start\" x=\"621\" y=\"4.199999999999999\" style=\"font-family: 'Open Sans', verdana, arial, sans-serif; font-size: 12px; fill: rgb(255, 165, 0); fill-opacity: 1; white-space: pre; opacity: 1;\" transform=\"translate(0,150.29)\">1000</text></g></g></g></g><g class=\"subplot xy2\"/></g><g class=\"polarlayer\"/><g class=\"smithlayer\"/><g class=\"ternarylayer\"/><g class=\"geolayer\"/><g class=\"funnelarealayer\"/><g class=\"pielayer\"/><g class=\"iciclelayer\"/><g class=\"treemaplayer\"/><g class=\"sunburstlayer\"/><g class=\"glimages\"/><defs id=\"topdefs-463b99\"><g class=\"clips\"/><clipPath id=\"legend463b99\"><rect width=\"477\" height=\"29\" x=\"0\" y=\"0\"/></clipPath></defs><g class=\"layer-above\"><g class=\"imagelayer\"/><g class=\"shapelayer\"/></g><g class=\"infolayer\"><g class=\"legend\" pointer-events=\"all\" transform=\"translate(134,67.99999999999997)\"><rect class=\"bg\" shape-rendering=\"crispEdges\" width=\"477\" height=\"29\" x=\"0\" y=\"0\" style=\"stroke: rgb(68, 68, 68); stroke-opacity: 1; fill: rgb(255, 255, 255); fill-opacity: 1; stroke-width: 0px;\"/><g class=\"scrollbox\" transform=\"\" clip-path=\"url(#legend463b99)\"><g class=\"groups\"><g class=\"traces\" transform=\"translate(0,14.5)\" style=\"opacity: 1;\"><text class=\"legendtext\" text-anchor=\"start\" x=\"40\" y=\"4.680000000000001\" style=\"font-family: 'Open Sans', verdana, arial, sans-serif; font-size: 12px; fill: rgb(42, 63, 95); fill-opacity: 1; white-space: pre;\">Mean Ratio globally</text><g class=\"layers\" style=\"opacity: 1;\"><g class=\"legendfill\"/><g class=\"legendlines\"><path class=\"js-line\" d=\"M5,0h30\" style=\"fill: none; stroke: rgb(0, 0, 255); stroke-opacity: 1; stroke-width: 2px;\"/></g><g class=\"legendsymbols\"><g class=\"legendpoints\"/></g></g><rect class=\"legendtoggle\" x=\"0\" y=\"-9.5\" width=\"160.28125\" height=\"19\" style=\"fill: rgb(0, 0, 0); fill-opacity: 0;\"/></g><g class=\"traces\" transform=\"translate(162.78125,14.5)\" style=\"opacity: 1;\"><text class=\"legendtext\" text-anchor=\"start\" x=\"40\" y=\"4.680000000000001\" style=\"font-family: 'Open Sans', verdana, arial, sans-serif; font-size: 12px; fill: rgb(42, 63, 95); fill-opacity: 1; white-space: pre;\">Number of films</text><g class=\"layers\" style=\"opacity: 1;\"><g class=\"legendfill\"/><g class=\"legendlines\"><path class=\"js-line\" d=\"M5,0h30\" style=\"fill: none; stroke: rgb(255, 165, 0); stroke-opacity: 1; stroke-dasharray: 9px, 9px; stroke-width: 2px;\"/></g><g class=\"legendsymbols\"><g class=\"legendpoints\"/></g></g><rect class=\"legendtoggle\" x=\"0\" y=\"-9.5\" width=\"139.15625\" height=\"19\" style=\"fill: rgb(0, 0, 0); fill-opacity: 0;\"/></g><g class=\"traces\" transform=\"translate(304.4375,14.5)\" style=\"opacity: 1;\"><text class=\"legendtext\" text-anchor=\"start\" x=\"40\" y=\"4.680000000000001\" style=\"font-family: 'Open Sans', verdana, arial, sans-serif; font-size: 12px; fill: rgb(42, 63, 95); fill-opacity: 1; white-space: pre;\">Mean Ratio in France</text><g class=\"layers\" style=\"opacity: 0.2;\"><g class=\"legendfill\"/><g class=\"legendlines\"><path class=\"js-line\" d=\"M5,0h30\" style=\"fill: none; stroke: rgb(0, 128, 0); stroke-opacity: 1; stroke-width: 2px;\"/></g><g class=\"legendsymbols\"><g class=\"legendpoints\"/></g></g><rect class=\"legendtoggle\" x=\"0\" y=\"-9.5\" width=\"169.1875\" height=\"19\" style=\"fill: rgb(0, 0, 0); fill-opacity: 0;\"/></g></g></g><rect class=\"scrollbar\" rx=\"20\" ry=\"3\" width=\"0\" height=\"0\" x=\"0\" y=\"0\" style=\"fill: rgb(128, 139, 164); fill-opacity: 1;\"/></g><g class=\"g-gtitle\"><text class=\"gtitle\" x=\"35\" y=\"50\" text-anchor=\"start\" dy=\"0em\" style=\"opacity: 1; font-family: 'Open Sans', verdana, arial, sans-serif; font-size: 17px; fill: rgb(42, 63, 95); fill-opacity: 1; white-space: pre;\">Gender ratio and number of movies per year</text></g><g class=\"g-xtitle\"><text class=\"xtitle\" x=\"350\" y=\"459.8\" text-anchor=\"middle\" style=\"opacity: 1; font-family: 'Open Sans', verdana, arial, sans-serif; font-size: 14px; fill: rgb(42, 63, 95); fill-opacity: 1; white-space: pre;\">Movie Release Date</text></g><g class=\"g-ytitle\"><text class=\"ytitle\" transform=\"rotate(-90,39.975,260)\" x=\"39.975\" y=\"260\" text-anchor=\"middle\" style=\"opacity: 1; font-family: 'Open Sans', verdana, arial, sans-serif; font-size: 14px; fill: rgb(0, 0, 255); fill-opacity: 1; white-space: pre;\">Ratio of women in films (averaged by year)</text></g><g class=\"g-y2title\"><text class=\"y2title\" transform=\"rotate(-90,675.815625,260)\" x=\"675.815625\" y=\"260\" text-anchor=\"middle\" style=\"opacity: 1; font-family: 'Open Sans', verdana, arial, sans-serif; font-size: 14px; fill: rgb(255, 165, 0); fill-opacity: 1; white-space: pre;\">Number of films per year</text></g></g></svg>"
      ]
     },
     "metadata": {},
     "output_type": "display_data"
    }
   ],
   "source": [
    "# here we analyse the ratio of actors/actresses by movie\n",
    "\n",
    "df_movie[\"W\"] = df_movie[\"gender\"].apply(lambda x: Counter(x)[\"F\"])\n",
    "df_movie[\"M\"] = df_movie[\"gender\"].apply(lambda x: Counter(x)[\"M\"])\n",
    "df_movie[\"Ratio\"] = df_movie.apply(lambda x: x[\"W\"]/(x[\"W\"] + x[\"M\"]) if x[\"W\"] + x[\"M\"] != 0 else np.nan, axis=1)\n",
    "\n",
    "\n",
    "import plotly.graph_objects as go\n",
    "\n",
    "mean_ratio = df_movie.groupby(\"Movie_release_date\")[\"Ratio\"].mean()\n",
    "count = df_movie.groupby(\"Movie_release_date\").size()\n",
    "\n",
    "mean_ratio_france = df_movie[df_movie[\"Movie_countries\"].apply(lambda x: \"France\" in x)].groupby(\"Movie_release_date\")[\"Ratio\"].mean()\n",
    "\n",
    "fig = go.Figure()\n",
    "\n",
    "\n",
    "fig.add_trace(\n",
    "    go.Scatter(\n",
    "        x=mean_ratio.index,\n",
    "        y=mean_ratio,\n",
    "        name=\"Mean Ratio globally\",\n",
    "        mode=\"lines\",\n",
    "        line=dict(color=\"blue\"),\n",
    "    )\n",
    ")\n",
    "\n",
    "\n",
    "fig.add_trace(\n",
    "    go.Scatter(\n",
    "        x=count.index,\n",
    "        y=count,\n",
    "        name=\"Number of films\",\n",
    "        mode=\"lines\",\n",
    "        line=dict(color=\"orange\", dash=\"dash\"),\n",
    "        yaxis=\"y2\",  \n",
    "    )\n",
    ")\n",
    "\n",
    "fig.add_trace(\n",
    "    go.Scatter(\n",
    "        x=mean_ratio_france.index,\n",
    "        y=mean_ratio_france,\n",
    "        name=\"Mean Ratio in France\",\n",
    "        mode=\"lines\",\n",
    "        opacity=0.2,\n",
    "        line=dict(color=\"green\"),\n",
    "    )\n",
    ")\n",
    "\n",
    "\n",
    "fig.update_layout(\n",
    "    title=\"Gender ratio and number of movies per year\",\n",
    "    xaxis=dict(title=\"Movie Release Date\"),\n",
    "    yaxis=dict(title=\"Ratio of women in films (averaged by year)\", titlefont=dict(color=\"blue\"), tickfont=dict(color=\"blue\")),\n",
    "    yaxis2=dict(\n",
    "        title=\"Number of films per year\",\n",
    "        titlefont=dict(color=\"orange\"),\n",
    "        tickfont=dict(color=\"orange\"),\n",
    "        overlaying=\"y\",\n",
    "        side=\"right\",\n",
    "    ),\n",
    "    legend=dict(x=0.1, y=1.1, orientation=\"h\"),\n",
    ")\n",
    "\n",
    "\n",
    "fig.show(\"svg\")\n",
    "\n",
    "#to html file\n",
    "#fig.write_html(\"Mean_Ratio_and_Count_by_Movie_Release_Date.html\")"
   ]
  },
  {
   "cell_type": "code",
   "execution_count": 5,
   "metadata": {},
   "outputs": [],
   "source": [
    "#finding all movie genres\n",
    "\n",
    "all_genres = [genre for sublist in df_movie['Movie_genres'] for genre in sublist]\n",
    "all_genres = list(set(all_genres))\n",
    "genre_dict = {}\n",
    "for genre in all_genres:\n",
    "    a = float(df_movie[df_movie['Movie_genres'].apply(lambda x: genre in x)]['Ratio'].mean())\n",
    "    if not np.isnan(a):\n",
    "        genre_dict[genre] = [a, df_movie[df_movie['Movie_genres'].apply(lambda x: genre in x)].shape[0]]\n",
    "    "
   ]
  },
  {
   "cell_type": "code",
   "execution_count": 6,
   "metadata": {},
   "outputs": [],
   "source": [
    "genres_ratio = dict(sorted(genre_dict.items(), key=lambda item: item[1][0], reverse=True))"
   ]
  },
  {
   "cell_type": "code",
   "execution_count": 7,
   "metadata": {},
   "outputs": [],
   "source": [
    "#keeping only the genres with more than 13 films\n",
    "genres_ratio = {k: [v[0],v[1]] for k, v in genres_ratio.items() if v[1] > 13}"
   ]
  },
  {
   "cell_type": "code",
   "execution_count": 8,
   "metadata": {},
   "outputs": [],
   "source": [
    "values = [v[0] for v in genres_ratio.values()]\n",
    "movies_count = [v[1] for v in genres_ratio.values()]"
   ]
  },
  {
   "cell_type": "code",
   "execution_count": 9,
   "metadata": {},
   "outputs": [
    {
     "data": {
      "image/svg+xml": [
       "<svg class=\"main-svg\" xmlns=\"http://www.w3.org/2000/svg\" xmlns:xlink=\"http://www.w3.org/1999/xlink\" width=\"700\" height=\"500\" style=\"\" viewBox=\"0 0 700 500\"><rect x=\"0\" y=\"0\" width=\"700\" height=\"500\" style=\"fill: rgb(255, 255, 255); fill-opacity: 1;\"/><defs id=\"defs-48e402\"><g class=\"clips\"><clipPath id=\"clip48e402xyplot\" class=\"plotclip\"><rect width=\"540\" height=\"313\"/></clipPath><clipPath class=\"axesclip\" id=\"clip48e402x\"><rect x=\"80\" y=\"0\" width=\"540\" height=\"500\"/></clipPath><clipPath class=\"axesclip\" id=\"clip48e402y\"><rect x=\"0\" y=\"100\" width=\"700\" height=\"313\"/></clipPath><clipPath class=\"axesclip\" id=\"clip48e402xy\"><rect x=\"80\" y=\"100\" width=\"540\" height=\"313\"/></clipPath></g><g class=\"gradients\"/><g class=\"patterns\"/></defs><g class=\"bglayer\"><rect class=\"bg\" x=\"80\" y=\"100\" width=\"540\" height=\"313\" style=\"fill: rgb(229, 236, 246); fill-opacity: 1; stroke-width: 0;\"/></g><g class=\"layer-below\"><g class=\"imagelayer\"/><g class=\"shapelayer\"/></g><g class=\"cartesianlayer\"><g class=\"subplot xy\"><g class=\"layer-subplot\"><g class=\"shapelayer\"/><g class=\"imagelayer\"/></g><g class=\"minor-gridlayer\"><g class=\"x\"/><g class=\"y\"/></g><g class=\"gridlayer\"><g class=\"x\"/><g class=\"y\"><path class=\"ygrid crisp\" transform=\"translate(0,357.69)\" d=\"M80,0h540\" style=\"stroke: rgb(255, 255, 255); stroke-opacity: 1; stroke-width: 1px;\"/><path class=\"ygrid crisp\" transform=\"translate(0,302.38)\" d=\"M80,0h540\" style=\"stroke: rgb(255, 255, 255); stroke-opacity: 1; stroke-width: 1px;\"/><path class=\"ygrid crisp\" transform=\"translate(0,247.07)\" d=\"M80,0h540\" style=\"stroke: rgb(255, 255, 255); stroke-opacity: 1; stroke-width: 1px;\"/><path class=\"ygrid crisp\" transform=\"translate(0,191.76)\" d=\"M80,0h540\" style=\"stroke: rgb(255, 255, 255); stroke-opacity: 1; stroke-width: 1px;\"/><path class=\"ygrid crisp\" transform=\"translate(0,136.45)\" d=\"M80,0h540\" style=\"stroke: rgb(255, 255, 255); stroke-opacity: 1; stroke-width: 1px;\"/></g></g><g class=\"zerolinelayer\"><path class=\"yzl zl crisp\" transform=\"translate(0,413)\" d=\"M80,0h540\" style=\"stroke: rgb(255, 255, 255); stroke-opacity: 1; stroke-width: 2px;\"/></g><g class=\"layer-between\"><g class=\"shapelayer\"/><g class=\"imagelayer\"/></g><path class=\"xlines-below\"/><path class=\"ylines-below\"/><g class=\"overlines-below\"/><g class=\"xaxislayer-below\"/><g class=\"yaxislayer-below\"/><g class=\"overaxes-below\"/><g class=\"overplot\"><g class=\"xy\" transform=\"translate(80,100)\" clip-path=\"url(#clip48e402xyplot)\"><g class=\"barlayer mlayer\"><g class=\"trace bars\" style=\"opacity: 0.4;\"><g class=\"points\"><g class=\"point\"><path d=\"M2.7,313V15.65H24.3V313Z\" style=\"vector-effect: none; opacity: 1; stroke-width: 0.5px; fill: rgb(0, 0, 255); fill-opacity: 1; stroke: rgb(229, 236, 246); stroke-opacity: 1;\"/></g><g class=\"point\"><path d=\"M29.7,313V41.76H51.3V313Z\" style=\"vector-effect: none; opacity: 1; stroke-width: 0.5px; fill: rgb(0, 0, 255); fill-opacity: 1; stroke: rgb(229, 236, 246); stroke-opacity: 1;\"/></g><g class=\"point\"><path d=\"M56.7,313V42.09H78.3V313Z\" style=\"vector-effect: none; opacity: 1; stroke-width: 0.5px; fill: rgb(0, 0, 255); fill-opacity: 1; stroke: rgb(229, 236, 246); stroke-opacity: 1;\"/></g><g class=\"point\"><path d=\"M83.7,313V44.35H105.3V313Z\" style=\"vector-effect: none; opacity: 1; stroke-width: 0.5px; fill: rgb(0, 0, 255); fill-opacity: 1; stroke: rgb(229, 236, 246); stroke-opacity: 1;\"/></g><g class=\"point\"><path d=\"M110.7,313V55.67H132.3V313Z\" style=\"vector-effect: none; opacity: 1; stroke-width: 0.5px; fill: rgb(0, 0, 255); fill-opacity: 1; stroke: rgb(229, 236, 246); stroke-opacity: 1;\"/></g><g class=\"point\"><path d=\"M137.7,313V61.11H159.3V313Z\" style=\"vector-effect: none; opacity: 1; stroke-width: 0.5px; fill: rgb(0, 0, 255); fill-opacity: 1; stroke: rgb(229, 236, 246); stroke-opacity: 1;\"/></g><g class=\"point\"><path d=\"M164.7,313V61.15H186.3V313Z\" style=\"vector-effect: none; opacity: 1; stroke-width: 0.5px; fill: rgb(0, 0, 255); fill-opacity: 1; stroke: rgb(229, 236, 246); stroke-opacity: 1;\"/></g><g class=\"point\"><path d=\"M191.7,313V61.52H213.3V313Z\" style=\"vector-effect: none; opacity: 1; stroke-width: 0.5px; fill: rgb(0, 0, 255); fill-opacity: 1; stroke: rgb(229, 236, 246); stroke-opacity: 1;\"/></g><g class=\"point\"><path d=\"M218.7,313V61.89H240.3V313Z\" style=\"vector-effect: none; opacity: 1; stroke-width: 0.5px; fill: rgb(0, 0, 255); fill-opacity: 1; stroke: rgb(229, 236, 246); stroke-opacity: 1;\"/></g><g class=\"point\"><path d=\"M245.7,313V62.37H267.3V313Z\" style=\"vector-effect: none; opacity: 1; stroke-width: 0.5px; fill: rgb(0, 0, 255); fill-opacity: 1; stroke: rgb(229, 236, 246); stroke-opacity: 1;\"/></g></g></g><g class=\"trace bars\" style=\"opacity: 0.4;\"><g class=\"points\"><g class=\"point\"><path d=\"M272.7,313V202.38H294.3V313Z\" style=\"vector-effect: none; opacity: 1; stroke-width: 0.5px; fill: rgb(255, 0, 0); fill-opacity: 1; stroke: rgb(229, 236, 246); stroke-opacity: 1;\"/></g><g class=\"point\"><path d=\"M299.7,313V203.44H321.3V313Z\" style=\"vector-effect: none; opacity: 1; stroke-width: 0.5px; fill: rgb(255, 0, 0); fill-opacity: 1; stroke: rgb(229, 236, 246); stroke-opacity: 1;\"/></g><g class=\"point\"><path d=\"M326.7,313V203.96H348.3V313Z\" style=\"vector-effect: none; opacity: 1; stroke-width: 0.5px; fill: rgb(255, 0, 0); fill-opacity: 1; stroke: rgb(229, 236, 246); stroke-opacity: 1;\"/></g><g class=\"point\"><path d=\"M353.7,313V214.08H375.3V313Z\" style=\"vector-effect: none; opacity: 1; stroke-width: 0.5px; fill: rgb(255, 0, 0); fill-opacity: 1; stroke: rgb(229, 236, 246); stroke-opacity: 1;\"/></g><g class=\"point\"><path d=\"M380.7,313V214.67H402.3V313Z\" style=\"vector-effect: none; opacity: 1; stroke-width: 0.5px; fill: rgb(255, 0, 0); fill-opacity: 1; stroke: rgb(229, 236, 246); stroke-opacity: 1;\"/></g><g class=\"point\"><path d=\"M407.7,313V216.31H429.3V313Z\" style=\"vector-effect: none; opacity: 1; stroke-width: 0.5px; fill: rgb(255, 0, 0); fill-opacity: 1; stroke: rgb(229, 236, 246); stroke-opacity: 1;\"/></g><g class=\"point\"><path d=\"M434.7,313V217.13H456.3V313Z\" style=\"vector-effect: none; opacity: 1; stroke-width: 0.5px; fill: rgb(255, 0, 0); fill-opacity: 1; stroke: rgb(229, 236, 246); stroke-opacity: 1;\"/></g><g class=\"point\"><path d=\"M461.7,313V227.04H483.3V313Z\" style=\"vector-effect: none; opacity: 1; stroke-width: 0.5px; fill: rgb(255, 0, 0); fill-opacity: 1; stroke: rgb(229, 236, 246); stroke-opacity: 1;\"/></g><g class=\"point\"><path d=\"M488.7,313V250.78H510.3V313Z\" style=\"vector-effect: none; opacity: 1; stroke-width: 0.5px; fill: rgb(255, 0, 0); fill-opacity: 1; stroke: rgb(229, 236, 246); stroke-opacity: 1;\"/></g><g class=\"point\"><path d=\"M515.7,313V250.86H537.3V313Z\" style=\"vector-effect: none; opacity: 1; stroke-width: 0.5px; fill: rgb(255, 0, 0); fill-opacity: 1; stroke: rgb(229, 236, 246); stroke-opacity: 1;\"/></g></g></g></g></g></g><path class=\"xlines-above crisp\" d=\"M0,0\" style=\"fill: none;\"/><path class=\"ylines-above crisp\" d=\"M0,0\" style=\"fill: none;\"/><g class=\"overlines-above\"/><g class=\"xaxislayer-above\"><g class=\"xtick\"><text text-anchor=\"start\" x=\"0\" y=\"426\" transform=\"translate(93.5,0) rotate(29.999999999999996,0,420)\" style=\"font-family: 'Open Sans', verdana, arial, sans-serif; font-size: 12px; fill: rgb(42, 63, 95); fill-opacity: 1; white-space: pre; opacity: 1;\">Feminist Film</text></g><g class=\"xtick\"><text text-anchor=\"start\" x=\"0\" y=\"426\" transform=\"translate(120.5,0) rotate(29.999999999999996,0,420)\" style=\"font-family: 'Open Sans', verdana, arial, sans-serif; font-size: 12px; fill: rgb(42, 63, 95); fill-opacity: 1; white-space: pre; opacity: 1;\">Softcore Porn</text></g><g class=\"xtick\"><text text-anchor=\"start\" x=\"0\" y=\"426\" transform=\"translate(147.5,0) rotate(29.999999999999996,0,420)\" style=\"font-family: 'Open Sans', verdana, arial, sans-serif; font-size: 12px; fill: rgb(42, 63, 95); fill-opacity: 1; white-space: pre; opacity: 1;\">Sexploitation</text></g><g class=\"xtick\"><text text-anchor=\"start\" x=\"0\" y=\"426\" transform=\"translate(174.5,0) rotate(29.999999999999996,0,420)\" style=\"font-family: 'Open Sans', verdana, arial, sans-serif; font-size: 12px; fill: rgb(42, 63, 95); fill-opacity: 1; white-space: pre; opacity: 1;\">Kitchen sink realism</text></g><g class=\"xtick\"><text text-anchor=\"start\" x=\"0\" y=\"426\" transform=\"translate(201.5,0) rotate(29.999999999999996,0,420)\" style=\"font-family: 'Open Sans', verdana, arial, sans-serif; font-size: 12px; fill: rgb(42, 63, 95); fill-opacity: 1; white-space: pre; opacity: 1;\">Adult</text></g><g class=\"xtick\"><text text-anchor=\"start\" x=\"0\" y=\"426\" transform=\"translate(228.5,0) rotate(29.999999999999996,0,420)\" style=\"font-family: 'Open Sans', verdana, arial, sans-serif; font-size: 12px; fill: rgb(42, 63, 95); fill-opacity: 1; white-space: pre; opacity: 1;\">Erotic Drama</text></g><g class=\"xtick\"><text text-anchor=\"start\" x=\"0\" y=\"426\" transform=\"translate(255.5,0) rotate(29.999999999999996,0,420)\" style=\"font-family: 'Open Sans', verdana, arial, sans-serif; font-size: 12px; fill: rgb(42, 63, 95); fill-opacity: 1; white-space: pre; opacity: 1;\">Filipino Movies</text></g><g class=\"xtick\"><text text-anchor=\"start\" x=\"0\" y=\"426\" transform=\"translate(282.5,0) rotate(29.999999999999996,0,420)\" style=\"font-family: 'Open Sans', verdana, arial, sans-serif; font-size: 12px; fill: rgb(42, 63, 95); fill-opacity: 1; white-space: pre; opacity: 1;\">Pornographic movie</text></g><g class=\"xtick\"><text text-anchor=\"start\" x=\"0\" y=\"426\" transform=\"translate(309.5,0) rotate(29.999999999999996,0,420)\" style=\"font-family: 'Open Sans', verdana, arial, sans-serif; font-size: 12px; fill: rgb(42, 63, 95); fill-opacity: 1; white-space: pre; opacity: 1;\">Domestic Comedy</text></g><g class=\"xtick\"><text text-anchor=\"start\" x=\"0\" y=\"426\" transform=\"translate(336.5,0) rotate(29.999999999999996,0,420)\" style=\"font-family: 'Open Sans', verdana, arial, sans-serif; font-size: 12px; fill: rgb(42, 63, 95); fill-opacity: 1; white-space: pre; opacity: 1;\">Erotica</text></g><g class=\"xtick\"><text text-anchor=\"start\" x=\"0\" y=\"426\" transform=\"translate(363.5,0) rotate(29.999999999999996,0,420)\" style=\"font-family: 'Open Sans', verdana, arial, sans-serif; font-size: 12px; fill: rgb(42, 63, 95); fill-opacity: 1; white-space: pre; opacity: 1;\">British Empire Film</text></g><g class=\"xtick\"><text text-anchor=\"start\" x=\"0\" y=\"426\" transform=\"translate(390.5,0) rotate(29.999999999999996,0,420)\" style=\"font-family: 'Open Sans', verdana, arial, sans-serif; font-size: 12px; fill: rgb(42, 63, 95); fill-opacity: 1; white-space: pre; opacity: 1;\">Samurai cinema</text></g><g class=\"xtick\"><text text-anchor=\"start\" x=\"0\" y=\"426\" transform=\"translate(417.5,0) rotate(29.999999999999996,0,420)\" style=\"font-family: 'Open Sans', verdana, arial, sans-serif; font-size: 12px; fill: rgb(42, 63, 95); fill-opacity: 1; white-space: pre; opacity: 1;\">Escape Film</text></g><g class=\"xtick\"><text text-anchor=\"start\" x=\"0\" y=\"426\" transform=\"translate(444.5,0) rotate(29.999999999999996,0,420)\" style=\"font-family: 'Open Sans', verdana, arial, sans-serif; font-size: 12px; fill: rgb(42, 63, 95); fill-opacity: 1; white-space: pre; opacity: 1;\">Anti-war</text></g><g class=\"xtick\"><text text-anchor=\"start\" x=\"0\" y=\"426\" transform=\"translate(471.5,0) rotate(29.999999999999996,0,420)\" style=\"font-family: 'Open Sans', verdana, arial, sans-serif; font-size: 12px; fill: rgb(42, 63, 95); fill-opacity: 1; white-space: pre; opacity: 1;\">Indian Western</text></g><g class=\"xtick\"><text text-anchor=\"start\" x=\"0\" y=\"426\" transform=\"translate(498.5,0) rotate(29.999999999999996,0,420)\" style=\"font-family: 'Open Sans', verdana, arial, sans-serif; font-size: 12px; fill: rgb(42, 63, 95); fill-opacity: 1; white-space: pre; opacity: 1;\">Anti-war film</text></g><g class=\"xtick\"><text text-anchor=\"start\" x=\"0\" y=\"426\" transform=\"translate(525.5,0) rotate(29.999999999999996,0,420)\" style=\"font-family: 'Open Sans', verdana, arial, sans-serif; font-size: 12px; fill: rgb(42, 63, 95); fill-opacity: 1; white-space: pre; opacity: 1;\">Epic Western</text></g><g class=\"xtick\"><text text-anchor=\"start\" x=\"0\" y=\"426\" transform=\"translate(552.5,0) rotate(29.999999999999996,0,420)\" style=\"font-family: 'Open Sans', verdana, arial, sans-serif; font-size: 12px; fill: rgb(42, 63, 95); fill-opacity: 1; white-space: pre; opacity: 1;\">Rockumentary</text></g><g class=\"xtick\"><text text-anchor=\"start\" x=\"0\" y=\"426\" transform=\"translate(579.5,0) rotate(29.999999999999996,0,420)\" style=\"font-family: 'Open Sans', verdana, arial, sans-serif; font-size: 12px; fill: rgb(42, 63, 95); fill-opacity: 1; white-space: pre; opacity: 1;\">Law &amp; Crime</text></g><g class=\"xtick\"><text text-anchor=\"start\" x=\"0\" y=\"426\" transform=\"translate(606.5,0) rotate(29.999999999999996,0,420)\" style=\"font-family: 'Open Sans', verdana, arial, sans-serif; font-size: 12px; fill: rgb(42, 63, 95); fill-opacity: 1; white-space: pre; opacity: 1;\">Combat Films</text></g></g><g class=\"yaxislayer-above\"><g class=\"ytick\"><text text-anchor=\"end\" x=\"79\" y=\"4.199999999999999\" transform=\"translate(0,413)\" style=\"font-family: 'Open Sans', verdana, arial, sans-serif; font-size: 12px; fill: rgb(0, 0, 0); fill-opacity: 1; white-space: pre; opacity: 1;\">0</text></g><g class=\"ytick\"><text text-anchor=\"end\" x=\"79\" y=\"4.199999999999999\" style=\"font-family: 'Open Sans', verdana, arial, sans-serif; font-size: 12px; fill: rgb(0, 0, 0); fill-opacity: 1; white-space: pre; opacity: 1;\" transform=\"translate(0,357.69)\">0.1</text></g><g class=\"ytick\"><text text-anchor=\"end\" x=\"79\" y=\"4.199999999999999\" style=\"font-family: 'Open Sans', verdana, arial, sans-serif; font-size: 12px; fill: rgb(0, 0, 0); fill-opacity: 1; white-space: pre; opacity: 1;\" transform=\"translate(0,302.38)\">0.2</text></g><g class=\"ytick\"><text text-anchor=\"end\" x=\"79\" y=\"4.199999999999999\" style=\"font-family: 'Open Sans', verdana, arial, sans-serif; font-size: 12px; fill: rgb(0, 0, 0); fill-opacity: 1; white-space: pre; opacity: 1;\" transform=\"translate(0,247.07)\">0.3</text></g><g class=\"ytick\"><text text-anchor=\"end\" x=\"79\" y=\"4.199999999999999\" style=\"font-family: 'Open Sans', verdana, arial, sans-serif; font-size: 12px; fill: rgb(0, 0, 0); fill-opacity: 1; white-space: pre; opacity: 1;\" transform=\"translate(0,191.76)\">0.4</text></g><g class=\"ytick\"><text text-anchor=\"end\" x=\"79\" y=\"4.199999999999999\" style=\"font-family: 'Open Sans', verdana, arial, sans-serif; font-size: 12px; fill: rgb(0, 0, 0); fill-opacity: 1; white-space: pre; opacity: 1;\" transform=\"translate(0,136.45)\">0.5</text></g></g><g class=\"overaxes-above\"/></g></g><g class=\"polarlayer\"/><g class=\"smithlayer\"/><g class=\"ternarylayer\"/><g class=\"geolayer\"/><g class=\"funnelarealayer\"/><g class=\"pielayer\"/><g class=\"iciclelayer\"/><g class=\"treemaplayer\"/><g class=\"sunburstlayer\"/><g class=\"glimages\"/><defs id=\"topdefs-48e402\"><g class=\"clips\"/><clipPath id=\"legend48e402\"><rect width=\"353\" height=\"29\" x=\"0\" y=\"0\"/></clipPath></defs><g class=\"layer-above\"><g class=\"imagelayer\"/><g class=\"shapelayer\"/></g><g class=\"infolayer\"><g class=\"legend\" pointer-events=\"all\" transform=\"translate(134,62.43999999999997)\"><rect class=\"bg\" shape-rendering=\"crispEdges\" style=\"stroke: rgb(68, 68, 68); stroke-opacity: 1; fill: rgb(255, 255, 255); fill-opacity: 1; stroke-width: 0px;\" width=\"353\" height=\"29\" x=\"0\" y=\"0\"/><g class=\"scrollbox\" transform=\"\" clip-path=\"url(#legend48e402)\"><g class=\"groups\"><g class=\"traces\" transform=\"translate(0,14.5)\" style=\"opacity: 1;\"><text class=\"legendtext\" text-anchor=\"start\" x=\"40\" y=\"4.680000000000001\" style=\"font-family: 'Open Sans', verdana, arial, sans-serif; font-size: 12px; fill: rgb(42, 63, 95); fill-opacity: 1; white-space: pre;\">Most inclusive genres</text><g class=\"layers\" style=\"opacity: 0.4;\"><g class=\"legendfill\"/><g class=\"legendlines\"/><g class=\"legendsymbols\"><g class=\"legendpoints\"><path class=\"legendundefined\" d=\"M6,6H-6V-6H6Z\" transform=\"translate(20,0)\" style=\"stroke-width: 0.5px; fill: rgb(0, 0, 255); fill-opacity: 1; stroke: rgb(229, 236, 246); stroke-opacity: 1;\"/></g></g></g><rect class=\"legendtoggle\" x=\"0\" y=\"-9.5\" width=\"171.875\" height=\"19\" style=\"fill: rgb(0, 0, 0); fill-opacity: 0;\"/></g><g class=\"traces\" transform=\"translate(174.375,14.5)\" style=\"opacity: 1;\"><text class=\"legendtext\" text-anchor=\"start\" x=\"40\" y=\"4.680000000000001\" style=\"font-family: 'Open Sans', verdana, arial, sans-serif; font-size: 12px; fill: rgb(42, 63, 95); fill-opacity: 1; white-space: pre;\">Least inclusive genres</text><g class=\"layers\" style=\"opacity: 0.4;\"><g class=\"legendfill\"/><g class=\"legendlines\"/><g class=\"legendsymbols\"><g class=\"legendpoints\"><path class=\"legendundefined\" d=\"M6,6H-6V-6H6Z\" transform=\"translate(20,0)\" style=\"stroke-width: 0.5px; fill: rgb(255, 0, 0); fill-opacity: 1; stroke: rgb(229, 236, 246); stroke-opacity: 1;\"/></g></g></g><rect class=\"legendtoggle\" x=\"0\" y=\"-9.5\" width=\"175.515625\" height=\"19\" style=\"fill: rgb(0, 0, 0); fill-opacity: 0;\"/></g></g></g><rect class=\"scrollbar\" rx=\"20\" ry=\"3\" width=\"0\" height=\"0\" style=\"fill: rgb(128, 139, 164); fill-opacity: 1;\" x=\"0\" y=\"0\"/></g><g class=\"g-gtitle\"><text class=\"gtitle\" x=\"35\" y=\"50\" text-anchor=\"start\" dy=\"0em\" style=\"opacity: 1; font-family: 'Open Sans', verdana, arial, sans-serif; font-size: 17px; fill: rgb(42, 63, 95); fill-opacity: 1; white-space: pre;\">Gender ratio for the 20 most and least inclusive genres <tspan style=\"font-size: 12px;\">(with the number of movies in each genre)</tspan></text></g><g class=\"g-xtitle\"/><g class=\"g-ytitle\"><text class=\"ytitle\" transform=\"rotate(-90,39.975,256.5)\" x=\"39.975\" y=\"256.5\" text-anchor=\"middle\" style=\"opacity: 1; font-family: 'Open Sans', verdana, arial, sans-serif; font-size: 14px; fill: rgb(0, 0, 0); fill-opacity: 1; white-space: pre;\">Ratio of women</text></g><g class=\"annotation\" data-index=\"0\" style=\"opacity: 1;\"><g class=\"annotation-text-g\" transform=\"rotate(0,93.5,110.12)\"><g class=\"cursor-pointer\" transform=\"translate(85,102)\"><rect class=\"bg\" x=\"0.5\" y=\"0.5\" width=\"16\" height=\"15\" style=\"stroke-width: 1px; stroke: rgb(0, 0, 0); stroke-opacity: 0; fill: rgb(0, 0, 0); fill-opacity: 0;\"/><text class=\"annotation-text\" text-anchor=\"middle\" x=\"8.359375\" y=\"12\" style=\"font-family: 'Open Sans', verdana, arial, sans-serif; font-size: 10px; fill: rgb(0, 0, 0); fill-opacity: 1; white-space: pre;\">65</text></g></g></g><g class=\"annotation\" data-index=\"1\" style=\"opacity: 1;\"><g class=\"annotation-text-g\" transform=\"rotate(0,120.5,136.23)\"><g class=\"cursor-pointer\" transform=\"translate(112,128)\"><rect class=\"bg\" x=\"0.5\" y=\"0.5\" width=\"16\" height=\"15\" style=\"stroke-width: 1px; stroke: rgb(0, 0, 0); stroke-opacity: 0; fill: rgb(0, 0, 0); fill-opacity: 0;\"/><text class=\"annotation-text\" text-anchor=\"middle\" x=\"8.359375\" y=\"12\" style=\"font-family: 'Open Sans', verdana, arial, sans-serif; font-size: 10px; fill: rgb(0, 0, 0); fill-opacity: 1; white-space: pre;\">38</text></g></g></g><g class=\"annotation\" data-index=\"2\" style=\"opacity: 1;\"><g class=\"annotation-text-g\" transform=\"rotate(0,147.5,136.56)\"><g class=\"cursor-pointer\" transform=\"translate(139,129)\"><rect class=\"bg\" x=\"0.5\" y=\"0.5\" width=\"16\" height=\"15\" style=\"stroke-width: 1px; stroke: rgb(0, 0, 0); stroke-opacity: 0; fill: rgb(0, 0, 0); fill-opacity: 0;\"/><text class=\"annotation-text\" text-anchor=\"middle\" x=\"8.359375\" y=\"12\" style=\"font-family: 'Open Sans', verdana, arial, sans-serif; font-size: 10px; fill: rgb(0, 0, 0); fill-opacity: 1; white-space: pre;\">68</text></g></g></g><g class=\"annotation\" data-index=\"3\" style=\"opacity: 1;\"><g class=\"annotation-text-g\" transform=\"rotate(0,174.5,138.82)\"><g class=\"cursor-pointer\" transform=\"translate(166,131)\"><rect class=\"bg\" x=\"0.5\" y=\"0.5\" width=\"16\" height=\"15\" style=\"stroke-width: 1px; stroke: rgb(0, 0, 0); stroke-opacity: 0; fill: rgb(0, 0, 0); fill-opacity: 0;\"/><text class=\"annotation-text\" text-anchor=\"middle\" x=\"8.359375\" y=\"12\" style=\"font-family: 'Open Sans', verdana, arial, sans-serif; font-size: 10px; fill: rgb(0, 0, 0); fill-opacity: 1; white-space: pre;\">14</text></g></g></g><g class=\"annotation\" data-index=\"4\" style=\"opacity: 1;\"><g class=\"annotation-text-g\" transform=\"rotate(0,201.5,150.14)\"><g class=\"cursor-pointer\" transform=\"translate(193,142)\"><rect class=\"bg\" x=\"0.5\" y=\"0.5\" width=\"16\" height=\"15\" style=\"stroke-width: 1px; stroke: rgb(0, 0, 0); stroke-opacity: 0; fill: rgb(0, 0, 0); fill-opacity: 0;\"/><text class=\"annotation-text\" text-anchor=\"middle\" x=\"8.359375\" y=\"12\" style=\"font-family: 'Open Sans', verdana, arial, sans-serif; font-size: 10px; fill: rgb(0, 0, 0); fill-opacity: 1; white-space: pre;\">82</text></g></g></g><g class=\"annotation\" data-index=\"5\" style=\"opacity: 1;\"><g class=\"annotation-text-g\" transform=\"rotate(0,228.5,155.57999999999998)\"><g class=\"cursor-pointer\" transform=\"translate(217,148)\"><rect class=\"bg\" x=\"0.5\" y=\"0.5\" width=\"22\" height=\"15\" style=\"stroke-width: 1px; stroke: rgb(0, 0, 0); stroke-opacity: 0; fill: rgb(0, 0, 0); fill-opacity: 0;\"/><text class=\"annotation-text\" text-anchor=\"middle\" x=\"11.546875\" y=\"12\" style=\"font-family: 'Open Sans', verdana, arial, sans-serif; font-size: 10px; fill: rgb(0, 0, 0); fill-opacity: 1; white-space: pre;\">109</text></g></g></g><g class=\"annotation\" data-index=\"6\" style=\"opacity: 1;\"><g class=\"annotation-text-g\" transform=\"rotate(0,255.5,155.62)\"><g class=\"cursor-pointer\" transform=\"translate(244,148)\"><rect class=\"bg\" x=\"0.5\" y=\"0.5\" width=\"22\" height=\"15\" style=\"stroke-width: 1px; stroke: rgb(0, 0, 0); stroke-opacity: 0; fill: rgb(0, 0, 0); fill-opacity: 0;\"/><text class=\"annotation-text\" text-anchor=\"middle\" x=\"11.546875\" y=\"12\" style=\"font-family: 'Open Sans', verdana, arial, sans-serif; font-size: 10px; fill: rgb(0, 0, 0); fill-opacity: 1; white-space: pre;\">189</text></g></g></g><g class=\"annotation\" data-index=\"7\" style=\"opacity: 1;\"><g class=\"annotation-text-g\" transform=\"rotate(0,282.5,155.99)\"><g class=\"cursor-pointer\" transform=\"translate(274,148)\"><rect class=\"bg\" x=\"0.5\" y=\"0.5\" width=\"16\" height=\"15\" style=\"stroke-width: 1px; stroke: rgb(0, 0, 0); stroke-opacity: 0; fill: rgb(0, 0, 0); fill-opacity: 0;\"/><text class=\"annotation-text\" text-anchor=\"middle\" x=\"8.359375\" y=\"12\" style=\"font-family: 'Open Sans', verdana, arial, sans-serif; font-size: 10px; fill: rgb(0, 0, 0); fill-opacity: 1; white-space: pre;\">65</text></g></g></g><g class=\"annotation\" data-index=\"8\" style=\"opacity: 1;\"><g class=\"annotation-text-g\" transform=\"rotate(0,309.5,156.36)\"><g class=\"cursor-pointer\" transform=\"translate(298,148)\"><rect class=\"bg\" x=\"0.5\" y=\"0.5\" width=\"22\" height=\"15\" style=\"stroke-width: 1px; stroke: rgb(0, 0, 0); stroke-opacity: 0; fill: rgb(0, 0, 0); fill-opacity: 0;\"/><text class=\"annotation-text\" text-anchor=\"middle\" x=\"11.546875\" y=\"12\" style=\"font-family: 'Open Sans', verdana, arial, sans-serif; font-size: 10px; fill: rgb(0, 0, 0); fill-opacity: 1; white-space: pre;\">161</text></g></g></g><g class=\"annotation\" data-index=\"9\" style=\"opacity: 1;\"><g class=\"annotation-text-g\" transform=\"rotate(0,336.5,156.82999999999998)\"><g class=\"cursor-pointer\" transform=\"translate(325,149)\"><rect class=\"bg\" x=\"0.5\" y=\"0.5\" width=\"22\" height=\"15\" style=\"stroke-width: 1px; stroke: rgb(0, 0, 0); stroke-opacity: 0; fill: rgb(0, 0, 0); fill-opacity: 0;\"/><text class=\"annotation-text\" text-anchor=\"middle\" x=\"11.546875\" y=\"12\" style=\"font-family: 'Open Sans', verdana, arial, sans-serif; font-size: 10px; fill: rgb(0, 0, 0); fill-opacity: 1; white-space: pre;\">181</text></g></g></g><g class=\"annotation\" data-index=\"10\" style=\"opacity: 1;\"><g class=\"annotation-text-g\" transform=\"rotate(0,363.5,296.85)\"><g class=\"cursor-pointer\" transform=\"translate(355,289)\"><rect class=\"bg\" x=\"0.5\" y=\"0.5\" width=\"16\" height=\"15\" style=\"stroke-width: 1px; stroke: rgb(0, 0, 0); stroke-opacity: 0; fill: rgb(0, 0, 0); fill-opacity: 0;\"/><text class=\"annotation-text\" text-anchor=\"middle\" x=\"8.359375\" y=\"12\" style=\"font-family: 'Open Sans', verdana, arial, sans-serif; font-size: 10px; fill: rgb(0, 0, 0); fill-opacity: 1; white-space: pre;\">20</text></g></g></g><g class=\"annotation\" data-index=\"11\" style=\"opacity: 1;\"><g class=\"annotation-text-g\" transform=\"rotate(0,390.5,297.90999999999997)\"><g class=\"cursor-pointer\" transform=\"translate(382,290)\"><rect class=\"bg\" x=\"0.5\" y=\"0.5\" width=\"16\" height=\"15\" style=\"stroke-width: 1px; stroke: rgb(0, 0, 0); stroke-opacity: 0; fill: rgb(0, 0, 0); fill-opacity: 0;\"/><text class=\"annotation-text\" text-anchor=\"middle\" x=\"8.359375\" y=\"12\" style=\"font-family: 'Open Sans', verdana, arial, sans-serif; font-size: 10px; fill: rgb(0, 0, 0); fill-opacity: 1; white-space: pre;\">26</text></g></g></g><g class=\"annotation\" data-index=\"12\" style=\"opacity: 1;\"><g class=\"annotation-text-g\" transform=\"rotate(0,417.5,298.43)\"><g class=\"cursor-pointer\" transform=\"translate(409,290)\"><rect class=\"bg\" x=\"0.5\" y=\"0.5\" width=\"16\" height=\"15\" style=\"stroke-width: 1px; stroke: rgb(0, 0, 0); stroke-opacity: 0; fill: rgb(0, 0, 0); fill-opacity: 0;\"/><text class=\"annotation-text\" text-anchor=\"middle\" x=\"8.359375\" y=\"12\" style=\"font-family: 'Open Sans', verdana, arial, sans-serif; font-size: 10px; fill: rgb(0, 0, 0); fill-opacity: 1; white-space: pre;\">40</text></g></g></g><g class=\"annotation\" data-index=\"13\" style=\"opacity: 1;\"><g class=\"annotation-text-g\" transform=\"rotate(0,444.5,308.55)\"><g class=\"cursor-pointer\" transform=\"translate(436,301)\"><rect class=\"bg\" x=\"0.5\" y=\"0.5\" width=\"16\" height=\"15\" style=\"stroke-width: 1px; stroke: rgb(0, 0, 0); stroke-opacity: 0; fill: rgb(0, 0, 0); fill-opacity: 0;\"/><text class=\"annotation-text\" text-anchor=\"middle\" x=\"8.359375\" y=\"12\" style=\"font-family: 'Open Sans', verdana, arial, sans-serif; font-size: 10px; fill: rgb(0, 0, 0); fill-opacity: 1; white-space: pre;\">31</text></g></g></g><g class=\"annotation\" data-index=\"14\" style=\"opacity: 1;\"><g class=\"annotation-text-g\" transform=\"rotate(0,471.5,309.14)\"><g class=\"cursor-pointer\" transform=\"translate(463,301)\"><rect class=\"bg\" x=\"0.5\" y=\"0.5\" width=\"16\" height=\"15\" style=\"stroke-width: 1px; stroke: rgb(0, 0, 0); stroke-opacity: 0; fill: rgb(0, 0, 0); fill-opacity: 0;\"/><text class=\"annotation-text\" text-anchor=\"middle\" x=\"8.359375\" y=\"12\" style=\"font-family: 'Open Sans', verdana, arial, sans-serif; font-size: 10px; fill: rgb(0, 0, 0); fill-opacity: 1; white-space: pre;\">18</text></g></g></g><g class=\"annotation\" data-index=\"15\" style=\"opacity: 1;\"><g class=\"annotation-text-g\" transform=\"rotate(0,498.5,310.78)\"><g class=\"cursor-pointer\" transform=\"translate(490,303)\"><rect class=\"bg\" x=\"0.5\" y=\"0.5\" width=\"16\" height=\"15\" style=\"stroke-width: 1px; stroke: rgb(0, 0, 0); stroke-opacity: 0; fill: rgb(0, 0, 0); fill-opacity: 0;\"/><text class=\"annotation-text\" text-anchor=\"middle\" x=\"8.359375\" y=\"12\" style=\"font-family: 'Open Sans', verdana, arial, sans-serif; font-size: 10px; fill: rgb(0, 0, 0); fill-opacity: 1; white-space: pre;\">30</text></g></g></g><g class=\"annotation\" data-index=\"16\" style=\"opacity: 1;\"><g class=\"annotation-text-g\" transform=\"rotate(0,525.5,311.6)\"><g class=\"cursor-pointer\" transform=\"translate(517,304)\"><rect class=\"bg\" x=\"0.5\" y=\"0.5\" width=\"16\" height=\"15\" style=\"stroke-width: 1px; stroke: rgb(0, 0, 0); stroke-opacity: 0; fill: rgb(0, 0, 0); fill-opacity: 0;\"/><text class=\"annotation-text\" text-anchor=\"middle\" x=\"8.359375\" y=\"12\" style=\"font-family: 'Open Sans', verdana, arial, sans-serif; font-size: 10px; fill: rgb(0, 0, 0); fill-opacity: 1; white-space: pre;\">15</text></g></g></g><g class=\"annotation\" data-index=\"17\" style=\"opacity: 1;\"><g class=\"annotation-text-g\" transform=\"rotate(0,552.5,321.5)\"><g class=\"cursor-pointer\" transform=\"translate(544,314)\"><rect class=\"bg\" x=\"0.5\" y=\"0.5\" width=\"16\" height=\"15\" style=\"stroke-width: 1px; stroke: rgb(0, 0, 0); stroke-opacity: 0; fill: rgb(0, 0, 0); fill-opacity: 0;\"/><text class=\"annotation-text\" text-anchor=\"middle\" x=\"8.359375\" y=\"12\" style=\"font-family: 'Open Sans', verdana, arial, sans-serif; font-size: 10px; fill: rgb(0, 0, 0); fill-opacity: 1; white-space: pre;\">28</text></g></g></g><g class=\"annotation\" data-index=\"18\" style=\"opacity: 1;\"><g class=\"annotation-text-g\" transform=\"rotate(0,579.5,345.25)\"><g class=\"cursor-pointer\" transform=\"translate(571,337)\"><rect class=\"bg\" x=\"0.5\" y=\"0.5\" width=\"16\" height=\"15\" style=\"stroke-width: 1px; stroke: rgb(0, 0, 0); stroke-opacity: 0; fill: rgb(0, 0, 0); fill-opacity: 0;\"/><text class=\"annotation-text\" text-anchor=\"middle\" x=\"8.359375\" y=\"12\" style=\"font-family: 'Open Sans', verdana, arial, sans-serif; font-size: 10px; fill: rgb(0, 0, 0); fill-opacity: 1; white-space: pre;\">15</text></g></g></g><g class=\"annotation\" data-index=\"19\" style=\"opacity: 1;\"><g class=\"annotation-text-g\" transform=\"rotate(0,606.5,345.33000000000004)\"><g class=\"cursor-pointer\" transform=\"translate(598,337)\"><rect class=\"bg\" x=\"0.5\" y=\"0.5\" width=\"16\" height=\"15\" style=\"stroke-width: 1px; stroke: rgb(0, 0, 0); stroke-opacity: 0; fill: rgb(0, 0, 0); fill-opacity: 0;\"/><text class=\"annotation-text\" text-anchor=\"middle\" x=\"8.359375\" y=\"12\" style=\"font-family: 'Open Sans', verdana, arial, sans-serif; font-size: 10px; fill: rgb(0, 0, 0); fill-opacity: 1; white-space: pre;\">81</text></g></g></g></g></svg>"
      ]
     },
     "metadata": {},
     "output_type": "display_data"
    }
   ],
   "source": [
    "#analysing the inclusivness of each genre\n",
    "\n",
    "fig = go.Figure()\n",
    "fig.add_trace(\n",
    "    go.Bar(\n",
    "        x=list(genres_ratio.keys())[:10],\n",
    "        y=values[:10],\n",
    "        marker_color=\"blue\",\n",
    "        opacity=0.4,\n",
    "        name=\"Most inclusive genres\",\n",
    "    )\n",
    ")\n",
    "\n",
    "fig.add_trace(\n",
    "    go.Bar(\n",
    "        x=list(genres_ratio.keys())[len(values)-10:],\n",
    "        y=values[len(values)-10:],\n",
    "        marker_color=\"red\",\n",
    "        opacity=0.4,\n",
    "        name=\"Least inclusive genres\",\n",
    "    )\n",
    ")\n",
    "\n",
    "fig.update_layout(\n",
    "    title=\"Gender ratio for the 20 most and least inclusive genres <span style='font-size: 12px;'>(with the number of movies in each genre)</span>\",\n",
    "    yaxis=dict(title=\"Ratio of women\", titlefont=dict(color=\"black\"), tickfont=dict(color=\"black\")),\n",
    "    legend=dict(x=0.1, y=1.12, orientation=\"h\"),\n",
    ")\n",
    "\n",
    "\n",
    "for i, genre in enumerate(list(genres_ratio.keys())[:10]):\n",
    "    fig.add_annotation(\n",
    "        x=genre,\n",
    "        y=values[i]+0.01,\n",
    "        text=str(movies_count[i]),\n",
    "        showarrow=False,\n",
    "        font=dict(color=\"black\", size=10)\n",
    "    )\n",
    "for i, genre in enumerate(list(genres_ratio.keys())[len(values)-10:]):\n",
    "    fig.add_annotation(\n",
    "        x=genre,\n",
    "        y=values[len(values)-10:][i]+0.01,\n",
    "        text=str(movies_count[len(values)-10:][i]),\n",
    "        showarrow=False,\n",
    "        font=dict(color=\"black\", size=10)\n",
    "    )\n",
    "fig.show(\"svg\")\n",
    "#fig.write_html(\"top_genres.html\")"
   ]
  },
  {
   "cell_type": "code",
   "execution_count": 10,
   "metadata": {},
   "outputs": [
    {
     "data": {
      "image/svg+xml": [
       "<svg class=\"main-svg\" xmlns=\"http://www.w3.org/2000/svg\" xmlns:xlink=\"http://www.w3.org/1999/xlink\" width=\"700\" height=\"500\" style=\"\" viewBox=\"0 0 700 500\"><rect x=\"0\" y=\"0\" width=\"700\" height=\"500\" style=\"fill: rgb(255, 255, 255); fill-opacity: 1;\"/><defs id=\"defs-632130\"><g class=\"clips\"><clipPath id=\"clip632130xyplot\" class=\"plotclip\"><rect width=\"540\" height=\"320\"/></clipPath><clipPath class=\"axesclip\" id=\"clip632130x\"><rect x=\"80\" y=\"0\" width=\"540\" height=\"500\"/></clipPath><clipPath class=\"axesclip\" id=\"clip632130y\"><rect x=\"0\" y=\"100\" width=\"700\" height=\"320\"/></clipPath><clipPath class=\"axesclip\" id=\"clip632130xy\"><rect x=\"80\" y=\"100\" width=\"540\" height=\"320\"/></clipPath></g><g class=\"gradients\"/><g class=\"patterns\"/></defs><g class=\"bglayer\"><rect class=\"bg\" x=\"80\" y=\"100\" width=\"540\" height=\"320\" style=\"fill: rgb(229, 236, 246); fill-opacity: 1; stroke-width: 0;\"/></g><g class=\"layer-below\"><g class=\"imagelayer\"/><g class=\"shapelayer\"/></g><g class=\"cartesianlayer\"><g class=\"subplot xy\"><g class=\"layer-subplot\"><g class=\"shapelayer\"/><g class=\"imagelayer\"/></g><g class=\"minor-gridlayer\"><g class=\"x\"/><g class=\"y\"/></g><g class=\"gridlayer\"><g class=\"x\"><path class=\"xgrid crisp\" transform=\"translate(134,0)\" d=\"M0,100v320\" style=\"stroke: rgb(255, 255, 255); stroke-opacity: 1; stroke-width: 1px;\"/><path class=\"xgrid crisp\" transform=\"translate(242,0)\" d=\"M0,100v320\" style=\"stroke: rgb(255, 255, 255); stroke-opacity: 1; stroke-width: 1px;\"/><path class=\"xgrid crisp\" transform=\"translate(350,0)\" d=\"M0,100v320\" style=\"stroke: rgb(255, 255, 255); stroke-opacity: 1; stroke-width: 1px;\"/><path class=\"xgrid crisp\" transform=\"translate(458,0)\" d=\"M0,100v320\" style=\"stroke: rgb(255, 255, 255); stroke-opacity: 1; stroke-width: 1px;\"/><path class=\"xgrid crisp\" transform=\"translate(566,0)\" d=\"M0,100v320\" style=\"stroke: rgb(255, 255, 255); stroke-opacity: 1; stroke-width: 1px;\"/></g><g class=\"y\"><path class=\"ygrid crisp\" transform=\"translate(0,405.57)\" d=\"M80,0h540\" style=\"stroke: rgb(255, 255, 255); stroke-opacity: 1; stroke-width: 1px;\"/><path class=\"ygrid crisp\" transform=\"translate(0,364.46)\" d=\"M80,0h540\" style=\"stroke: rgb(255, 255, 255); stroke-opacity: 1; stroke-width: 1px;\"/><path class=\"ygrid crisp\" transform=\"translate(0,323.35)\" d=\"M80,0h540\" style=\"stroke: rgb(255, 255, 255); stroke-opacity: 1; stroke-width: 1px;\"/><path class=\"ygrid crisp\" transform=\"translate(0,282.24)\" d=\"M80,0h540\" style=\"stroke: rgb(255, 255, 255); stroke-opacity: 1; stroke-width: 1px;\"/><path class=\"ygrid crisp\" transform=\"translate(0,241.13)\" d=\"M80,0h540\" style=\"stroke: rgb(255, 255, 255); stroke-opacity: 1; stroke-width: 1px;\"/><path class=\"ygrid crisp\" transform=\"translate(0,200.01999999999998)\" d=\"M80,0h540\" style=\"stroke: rgb(255, 255, 255); stroke-opacity: 1; stroke-width: 1px;\"/><path class=\"ygrid crisp\" transform=\"translate(0,158.91)\" d=\"M80,0h540\" style=\"stroke: rgb(255, 255, 255); stroke-opacity: 1; stroke-width: 1px;\"/><path class=\"ygrid crisp\" transform=\"translate(0,117.78999999999999)\" d=\"M80,0h540\" style=\"stroke: rgb(255, 255, 255); stroke-opacity: 1; stroke-width: 1px;\"/></g></g><g class=\"zerolinelayer\"/><g class=\"layer-between\"><g class=\"shapelayer\"/><g class=\"imagelayer\"/></g><path class=\"xlines-below\"/><path class=\"ylines-below\"/><g class=\"overlines-below\"/><g class=\"xaxislayer-below\"/><g class=\"yaxislayer-below\"/><g class=\"overaxes-below\"/><g class=\"overplot\"><g class=\"xy\" transform=\"translate(80,100)\" clip-path=\"url(#clip632130xyplot)\"><g class=\"scatterlayer mlayer\"><g class=\"trace scatter tracebb6c8a\" style=\"stroke-miterlimit: 2; opacity: 1;\"><g class=\"fills\"/><g class=\"errorbars\"/><g class=\"lines\"><path class=\"js-line\" d=\"M108,100.02L189,100.02L216,223.35L243,58.91L270,40.33L297,16L324,60.91L351,49.88L378,89.49L405,105.93L432,107.74L459,85.57L486,85.1L513,72.24L540,89.74\" style=\"vector-effect: none; fill: none; stroke: rgb(255, 0, 0); stroke-opacity: 1; stroke-width: 2px; opacity: 1;\"/></g><g class=\"points\"/><g class=\"text\"/></g><g class=\"trace scatter trace4ed7d9\" style=\"stroke-miterlimit: 2; opacity: 1;\"><g class=\"fills\"/><g class=\"errorbars\"/><g class=\"lines\"><path class=\"js-line\" d=\"M27,127.42L54,182.24L81,243.14L108,203.07L135,263.85L162,238.8L189,222.14L216,304L243,260.55L270,258.87L297,291.45L324,231.51L351,248.02L378,250.76L405,276.21L432,235.98L459,221.45L486,253.63L513,235.78L540,257.88\" style=\"vector-effect: none; fill: none; stroke: rgb(0, 128, 0); stroke-opacity: 1; stroke-width: 2px; opacity: 1;\"/></g><g class=\"points\"/><g class=\"text\"/></g><g class=\"trace scatter trace25f577\" style=\"stroke-miterlimit: 2; opacity: 1;\"><g class=\"fills\"/><g class=\"errorbars\"/><g class=\"lines\"><path class=\"js-line\" d=\"M0,127.42L27,123.33L54,160.42L81,116.74L108,144.91L135,135.85L162,148.16L189,128.91L216,148.45L243,122.62L270,113.75L297,106.18L324,114.31L351,119.13L378,120.34L405,122.45L432,126.76L459,109.79L486,107.34L513,104.5L540,104.98\" style=\"vector-effect: none; fill: none; stroke: rgb(255, 192, 203); stroke-opacity: 1; stroke-width: 2px; opacity: 1;\"/></g><g class=\"points\"/><g class=\"text\"/></g><g class=\"trace scatter trace1e000f\" style=\"stroke-miterlimit: 2; opacity: 1;\"><g class=\"fills\"/><g class=\"errorbars\"/><g class=\"lines\"><path class=\"js-line\" d=\"M0,182.24L27,218.32L54,241.88L81,211.7L108,258.03L135,267.54L162,270.16L189,250.67L216,263.69L243,252.44L270,237.18L297,243.9L324,222.55L351,258.35L378,235.87L405,225.42L432,223.51L459,217.83L486,217.14L513,205.71L540,207.97\" style=\"vector-effect: none; fill: none; stroke: rgb(0, 0, 255); stroke-opacity: 1; stroke-width: 2px; opacity: 1;\"/></g><g class=\"points\"/><g class=\"text\"/></g></g></g></g><path class=\"xlines-above crisp\" d=\"M0,0\" style=\"fill: none;\"/><path class=\"ylines-above crisp\" d=\"M0,0\" style=\"fill: none;\"/><g class=\"overlines-above\"/><g class=\"xaxislayer-above\"><g class=\"xtick\"><text text-anchor=\"middle\" x=\"0\" y=\"433\" transform=\"translate(134,0)\" style=\"font-family: 'Open Sans', verdana, arial, sans-serif; font-size: 12px; fill: rgb(42, 63, 95); fill-opacity: 1; white-space: pre; opacity: 1;\">1920</text></g><g class=\"xtick\"><text text-anchor=\"middle\" x=\"0\" y=\"433\" style=\"font-family: 'Open Sans', verdana, arial, sans-serif; font-size: 12px; fill: rgb(42, 63, 95); fill-opacity: 1; white-space: pre; opacity: 1;\" transform=\"translate(242,0)\">1940</text></g><g class=\"xtick\"><text text-anchor=\"middle\" x=\"0\" y=\"433\" style=\"font-family: 'Open Sans', verdana, arial, sans-serif; font-size: 12px; fill: rgb(42, 63, 95); fill-opacity: 1; white-space: pre; opacity: 1;\" transform=\"translate(350,0)\">1960</text></g><g class=\"xtick\"><text text-anchor=\"middle\" x=\"0\" y=\"433\" style=\"font-family: 'Open Sans', verdana, arial, sans-serif; font-size: 12px; fill: rgb(42, 63, 95); fill-opacity: 1; white-space: pre; opacity: 1;\" transform=\"translate(458,0)\">1980</text></g><g class=\"xtick\"><text text-anchor=\"middle\" x=\"0\" y=\"433\" style=\"font-family: 'Open Sans', verdana, arial, sans-serif; font-size: 12px; fill: rgb(42, 63, 95); fill-opacity: 1; white-space: pre; opacity: 1;\" transform=\"translate(566,0)\">2000</text></g></g><g class=\"yaxislayer-above\"><g class=\"ytick\"><text text-anchor=\"end\" x=\"79\" y=\"4.199999999999999\" transform=\"translate(0,405.57)\" style=\"font-family: 'Open Sans', verdana, arial, sans-serif; font-size: 12px; fill: rgb(0, 0, 0); fill-opacity: 1; white-space: pre; opacity: 1;\">0.15</text></g><g class=\"ytick\"><text text-anchor=\"end\" x=\"79\" y=\"4.199999999999999\" style=\"font-family: 'Open Sans', verdana, arial, sans-serif; font-size: 12px; fill: rgb(0, 0, 0); fill-opacity: 1; white-space: pre; opacity: 1;\" transform=\"translate(0,364.46)\">0.2</text></g><g class=\"ytick\"><text text-anchor=\"end\" x=\"79\" y=\"4.199999999999999\" style=\"font-family: 'Open Sans', verdana, arial, sans-serif; font-size: 12px; fill: rgb(0, 0, 0); fill-opacity: 1; white-space: pre; opacity: 1;\" transform=\"translate(0,323.35)\">0.25</text></g><g class=\"ytick\"><text text-anchor=\"end\" x=\"79\" y=\"4.199999999999999\" style=\"font-family: 'Open Sans', verdana, arial, sans-serif; font-size: 12px; fill: rgb(0, 0, 0); fill-opacity: 1; white-space: pre; opacity: 1;\" transform=\"translate(0,282.24)\">0.3</text></g><g class=\"ytick\"><text text-anchor=\"end\" x=\"79\" y=\"4.199999999999999\" style=\"font-family: 'Open Sans', verdana, arial, sans-serif; font-size: 12px; fill: rgb(0, 0, 0); fill-opacity: 1; white-space: pre; opacity: 1;\" transform=\"translate(0,241.13)\">0.35</text></g><g class=\"ytick\"><text text-anchor=\"end\" x=\"79\" y=\"4.199999999999999\" style=\"font-family: 'Open Sans', verdana, arial, sans-serif; font-size: 12px; fill: rgb(0, 0, 0); fill-opacity: 1; white-space: pre; opacity: 1;\" transform=\"translate(0,200.01999999999998)\">0.4</text></g><g class=\"ytick\"><text text-anchor=\"end\" x=\"79\" y=\"4.199999999999999\" style=\"font-family: 'Open Sans', verdana, arial, sans-serif; font-size: 12px; fill: rgb(0, 0, 0); fill-opacity: 1; white-space: pre; opacity: 1;\" transform=\"translate(0,158.91)\">0.45</text></g><g class=\"ytick\"><text text-anchor=\"end\" x=\"79\" y=\"4.199999999999999\" style=\"font-family: 'Open Sans', verdana, arial, sans-serif; font-size: 12px; fill: rgb(0, 0, 0); fill-opacity: 1; white-space: pre; opacity: 1;\" transform=\"translate(0,117.78999999999999)\">0.5</text></g></g><g class=\"overaxes-above\"/></g></g><g class=\"polarlayer\"/><g class=\"smithlayer\"/><g class=\"ternarylayer\"/><g class=\"geolayer\"/><g class=\"funnelarealayer\"/><g class=\"pielayer\"/><g class=\"iciclelayer\"/><g class=\"treemaplayer\"/><g class=\"sunburstlayer\"/><g class=\"glimages\"/><defs id=\"topdefs-632130\"><g class=\"clips\"/><clipPath id=\"legend632130\"><rect width=\"472\" height=\"48\" x=\"0\" y=\"0\"/></clipPath></defs><g class=\"layer-above\"><g class=\"imagelayer\"/><g class=\"shapelayer\"/></g><g class=\"infolayer\"><g class=\"legend\" pointer-events=\"all\" transform=\"translate(134,67.99999999999997)\"><rect class=\"bg\" shape-rendering=\"crispEdges\" style=\"stroke: rgb(68, 68, 68); stroke-opacity: 1; fill: rgb(255, 255, 255); fill-opacity: 1; stroke-width: 0px;\" width=\"472\" height=\"48\" x=\"0\" y=\"0\"/><g class=\"scrollbox\" transform=\"\" clip-path=\"url(#legend632130)\"><g class=\"groups\"><g class=\"traces\" transform=\"translate(0,14.5)\" style=\"opacity: 1;\"><text class=\"legendtext\" text-anchor=\"start\" x=\"40\" y=\"4.680000000000001\" style=\"font-family: 'Open Sans', verdana, arial, sans-serif; font-size: 12px; fill: rgb(42, 63, 95); fill-opacity: 1; white-space: pre;\">Ratio for Erotic</text><g class=\"layers\" style=\"opacity: 1;\"><g class=\"legendfill\"/><g class=\"legendlines\"><path class=\"js-line\" d=\"M5,0h30\" style=\"fill: none; stroke: rgb(255, 0, 0); stroke-opacity: 1; stroke-width: 2px;\"/></g><g class=\"legendsymbols\"><g class=\"legendpoints\"/></g></g><rect class=\"legendtoggle\" x=\"0\" y=\"-9.5\" width=\"132.6875\" height=\"19\" style=\"fill: rgb(0, 0, 0); fill-opacity: 0;\"/></g><g class=\"traces\" transform=\"translate(157.296875,14.5)\" style=\"opacity: 1;\"><text class=\"legendtext\" text-anchor=\"start\" x=\"40\" y=\"4.680000000000001\" style=\"font-family: 'Open Sans', verdana, arial, sans-serif; font-size: 12px; fill: rgb(42, 63, 95); fill-opacity: 1; white-space: pre;\">Ratio for War</text><g class=\"layers\" style=\"opacity: 1;\"><g class=\"legendfill\"/><g class=\"legendlines\"><path class=\"js-line\" d=\"M5,0h30\" style=\"fill: none; stroke: rgb(0, 128, 0); stroke-opacity: 1; stroke-width: 2px;\"/></g><g class=\"legendsymbols\"><g class=\"legendpoints\"/></g></g><rect class=\"legendtoggle\" x=\"0\" y=\"-9.5\" width=\"122.65625\" height=\"19\" style=\"fill: rgb(0, 0, 0); fill-opacity: 0;\"/></g><g class=\"traces\" transform=\"translate(314.59375,14.5)\" style=\"opacity: 1;\"><text class=\"legendtext\" text-anchor=\"start\" x=\"40\" y=\"4.680000000000001\" style=\"font-family: 'Open Sans', verdana, arial, sans-serif; font-size: 12px; fill: rgb(42, 63, 95); fill-opacity: 1; white-space: pre;\">Ratio for Romantic</text><g class=\"layers\" style=\"opacity: 1;\"><g class=\"legendfill\"/><g class=\"legendlines\"><path class=\"js-line\" d=\"M5,0h30\" style=\"fill: none; stroke: rgb(255, 192, 203); stroke-opacity: 1; stroke-width: 2px;\"/></g><g class=\"legendsymbols\"><g class=\"legendpoints\"/></g></g><rect class=\"legendtoggle\" x=\"0\" y=\"-9.5\" width=\"154.796875\" height=\"19\" style=\"fill: rgb(0, 0, 0); fill-opacity: 0;\"/></g><g class=\"traces\" transform=\"translate(0,33.5)\" style=\"opacity: 1;\"><text class=\"legendtext\" text-anchor=\"start\" x=\"40\" y=\"4.680000000000001\" style=\"font-family: 'Open Sans', verdana, arial, sans-serif; font-size: 12px; fill: rgb(42, 63, 95); fill-opacity: 1; white-space: pre;\">Ratio for Action</text><g class=\"layers\" style=\"opacity: 1;\"><g class=\"legendfill\"/><g class=\"legendlines\"><path class=\"js-line\" d=\"M5,0h30\" style=\"fill: none; stroke: rgb(0, 0, 255); stroke-opacity: 1; stroke-width: 2px;\"/></g><g class=\"legendsymbols\"><g class=\"legendpoints\"/></g></g><rect class=\"legendtoggle\" x=\"0\" y=\"-9.5\" width=\"135.78125\" height=\"19\" style=\"fill: rgb(0, 0, 0); fill-opacity: 0;\"/></g></g></g><rect class=\"scrollbar\" rx=\"20\" ry=\"3\" width=\"0\" height=\"0\" style=\"fill: rgb(128, 139, 164); fill-opacity: 1;\" x=\"0\" y=\"0\"/></g><g class=\"g-gtitle\"><text class=\"gtitle\" x=\"35\" y=\"50\" text-anchor=\"start\" dy=\"0em\" style=\"opacity: 1; font-family: 'Open Sans', verdana, arial, sans-serif; font-size: 17px; fill: rgb(42, 63, 95); fill-opacity: 1; white-space: pre;\">Gender ratio by year for various genres</text></g><g class=\"g-xtitle\"><text class=\"xtitle\" x=\"350\" y=\"459.8\" text-anchor=\"middle\" style=\"opacity: 1; font-family: 'Open Sans', verdana, arial, sans-serif; font-size: 14px; fill: rgb(42, 63, 95); fill-opacity: 1; white-space: pre;\">Movie Release Date</text></g><g class=\"g-ytitle\"><text class=\"ytitle\" transform=\"rotate(-90,32.334375,260)\" x=\"32.334375\" y=\"260\" text-anchor=\"middle\" style=\"opacity: 1; font-family: 'Open Sans', verdana, arial, sans-serif; font-size: 14px; fill: rgb(0, 0, 0); fill-opacity: 1; white-space: pre;\">Ratio of women in films</text></g></g></svg>"
      ]
     },
     "metadata": {},
     "output_type": "display_data"
    }
   ],
   "source": [
    "# NOT SHOWN ON WEBSITE\n",
    "\n",
    "#This section was made to analyse the genre evolution. \n",
    "\n",
    "\n",
    "\n",
    "import plotly.graph_objects as go\n",
    "\n",
    "genres = [\"Drama\", \"Erotic\", \"Thriller\"]\n",
    "\n",
    "erotic_genres = ['Sex comedy','Erotica','Erotic thriller','Pornographic movie','Adult','Erotic Drama','Sexploitation','Softcore Porn','Gay pornography','Hardcore pornography','Pornography']\n",
    "war_genres = [\"War film\"]\n",
    "romantic_genres = [\"Romantic drama\", \"Romantic comedy\", \"Romance Film\"]\n",
    "action_genres = [\"Action\", \"Action/Adventure\", \"Adventure\"]\n",
    "dc = 5 #average over dc years\n",
    "mean_romantic_ratio = df_movie[df_movie[\"Movie_genres\"].apply(lambda x: any(movie_genre in x for movie_genre in romantic_genres))].groupby(df_movie[\"Movie_release_date\"] // dc * dc)[\"Ratio\"].mean()\n",
    "mean_erotic_ratio = df_movie[df_movie[\"Movie_genres\"].apply(lambda x: any(movie_genre in x for movie_genre in erotic_genres))].groupby(df_movie[\"Movie_release_date\"] // dc * dc)[\"Ratio\"].mean()\n",
    "mean_war_ratio = df_movie[df_movie[\"Movie_genres\"].apply(lambda x: any(movie_genre in x for movie_genre in war_genres))].groupby(df_movie[\"Movie_release_date\"] // dc * dc)[\"Ratio\"].mean()\n",
    "mean_action_ratio = df_movie[df_movie[\"Movie_genres\"].apply(lambda x: any(movie_genre in x for movie_genre in action_genres))].groupby(df_movie[\"Movie_release_date\"] // dc * dc)[\"Ratio\"].mean()\n",
    "\n",
    "\n",
    "\n",
    "genre_type = [mean_erotic_ratio, mean_war_ratio, mean_romantic_ratio, mean_action_ratio]\n",
    "genre_name = [\"Erotic\", \"War\", \"Romantic\", \"Action\"]\n",
    "\n",
    "colors = [\"red\", \"green\", \"pink\", \"blue\"]\n",
    "\n",
    "fig = go.Figure()\n",
    "\n",
    "for genre in genre_type:\n",
    "    fig.add_trace(\n",
    "        go.Scatter(\n",
    "            x=genre.index,\n",
    "            y=genre,\n",
    "            name=f\"Ratio for {genre_name.pop(0)}\",\n",
    "            mode=\"lines\",\n",
    "            line=dict(color=colors.pop(0)),\n",
    "        )\n",
    "    )\n",
    "\n",
    "\n",
    "\n",
    "fig.update_layout(\n",
    "    title=\"Gender ratio by year for various genres\",\n",
    "    xaxis=dict(title=\"Movie Release Date\"),\n",
    "    yaxis=dict(title=\"Ratio of women in films\", titlefont=dict(color=\"black\"), tickfont=dict(color=\"black\")),\n",
    "    yaxis2=dict(\n",
    "        title=\"Number of films per year for various genres\",\n",
    "        titlefont=dict(color=\"orange\"),\n",
    "        tickfont=dict(color=\"orange\"),\n",
    "        overlaying=\"y\",\n",
    "        side=\"right\",\n",
    "    ),\n",
    "    legend=dict(x=0.1, y=1.1, orientation=\"h\"),\n",
    ")\n",
    "\n",
    "\n",
    "fig.show(\"svg\")\n",
    "\n",
    "#to html file\n",
    "#fig.write_html(data_folder + \"ratio_evolution_by_genre.html\")"
   ]
  },
  {
   "cell_type": "markdown",
   "metadata": {},
   "source": [
    "## Looking at actors individually"
   ]
  },
  {
   "cell_type": "code",
   "execution_count": 11,
   "metadata": {},
   "outputs": [],
   "source": [
    "df_chara_small = df_character.copy()\n",
    "df_chara_small = df_chara_small.drop([\"Freebase_movie_ID\", \"Character_name\", \"Actor_height\", \"Freebase_character_ID\",\n",
    "                                      \"Freebase_character/actor_map_ID\", \"Freebase_actor_ID\", \"Actor_ethnicity\"], axis=1)"
   ]
  },
  {
   "cell_type": "code",
   "execution_count": 12,
   "metadata": {},
   "outputs": [],
   "source": [
    "df_chara_small = df_chara_small.groupby(\"Actor_name\").agg(lambda x: x.tolist()).reset_index()"
   ]
  },
  {
   "cell_type": "code",
   "execution_count": 14,
   "metadata": {},
   "outputs": [
    {
     "data": {
      "text/html": [
       "<div>\n",
       "<style scoped>\n",
       "    .dataframe tbody tr th:only-of-type {\n",
       "        vertical-align: middle;\n",
       "    }\n",
       "\n",
       "    .dataframe tbody tr th {\n",
       "        vertical-align: top;\n",
       "    }\n",
       "\n",
       "    .dataframe thead th {\n",
       "        text-align: right;\n",
       "    }\n",
       "</style>\n",
       "<table border=\"1\" class=\"dataframe\">\n",
       "  <thead>\n",
       "    <tr style=\"text-align: right;\">\n",
       "      <th></th>\n",
       "      <th>Actor_name</th>\n",
       "      <th>Wikipedia_movie_ID</th>\n",
       "      <th>Movie_release_date</th>\n",
       "      <th>Actor_date_of_birth</th>\n",
       "      <th>Actor_gender</th>\n",
       "      <th>Actor_age_at_movie_release</th>\n",
       "    </tr>\n",
       "  </thead>\n",
       "  <tbody>\n",
       "    <tr>\n",
       "      <th>0</th>\n",
       "      <td>Cesarine Prinz\\t</td>\n",
       "      <td>[22643470, 22643388]</td>\n",
       "      <td>[1926.0, 1922.0]</td>\n",
       "      <td>1883-12-20</td>\n",
       "      <td>F</td>\n",
       "      <td>[nan, nan]</td>\n",
       "    </tr>\n",
       "    <tr>\n",
       "      <th>1</th>\n",
       "      <td>Daniel Newman</td>\n",
       "      <td>[20116200]</td>\n",
       "      <td>[1998.0]</td>\n",
       "      <td>1976-05-12</td>\n",
       "      <td>M</td>\n",
       "      <td>[22.0]</td>\n",
       "    </tr>\n",
       "    <tr>\n",
       "      <th>2</th>\n",
       "      <td>'Big Bill' Giddinger</td>\n",
       "      <td>[15056534]</td>\n",
       "      <td>[1911.0]</td>\n",
       "      <td>NaN</td>\n",
       "      <td>M</td>\n",
       "      <td>[nan]</td>\n",
       "    </tr>\n",
       "    <tr>\n",
       "      <th>3</th>\n",
       "      <td>'Big' Lee</td>\n",
       "      <td>[23010798]</td>\n",
       "      <td>[1973.0]</td>\n",
       "      <td>NaN</td>\n",
       "      <td>M</td>\n",
       "      <td>[nan]</td>\n",
       "    </tr>\n",
       "    <tr>\n",
       "      <th>5</th>\n",
       "      <td>'Crazy George' Henderson</td>\n",
       "      <td>[10050502]</td>\n",
       "      <td>[1975.0]</td>\n",
       "      <td>NaN</td>\n",
       "      <td>M</td>\n",
       "      <td>[nan]</td>\n",
       "    </tr>\n",
       "  </tbody>\n",
       "</table>\n",
       "</div>"
      ],
      "text/plain": [
       "                 Actor_name    Wikipedia_movie_ID Movie_release_date  \\\n",
       "0          Cesarine Prinz\\t  [22643470, 22643388]   [1926.0, 1922.0]   \n",
       "1             Daniel Newman            [20116200]           [1998.0]   \n",
       "2      'Big Bill' Giddinger            [15056534]           [1911.0]   \n",
       "3                 'Big' Lee            [23010798]           [1973.0]   \n",
       "5  'Crazy George' Henderson            [10050502]           [1975.0]   \n",
       "\n",
       "  Actor_date_of_birth Actor_gender Actor_age_at_movie_release  \n",
       "0          1883-12-20            F                 [nan, nan]  \n",
       "1          1976-05-12            M                     [22.0]  \n",
       "2                 NaN            M                      [nan]  \n",
       "3                 NaN            M                      [nan]  \n",
       "5                 NaN            M                      [nan]  "
      ]
     },
     "execution_count": 14,
     "metadata": {},
     "output_type": "execute_result"
    }
   ],
   "source": [
    "df_chara_small[\"Actor_gender\"] = df_chara_small[\"Actor_gender\"].apply(np.unique).apply(lambda x: x[0])\n",
    "df_chara_small[\"Actor_date_of_birth\"] = df_chara_small[\"Actor_date_of_birth\"].apply(np.unique).apply(lambda x: x[0])\n",
    "df_chara_small = df_chara_small[df_chara_small[\"Actor_gender\"].isin([\"M\", \"F\"])]\n",
    "df_chara_small.head(5)"
   ]
  },
  {
   "cell_type": "code",
   "execution_count": 15,
   "metadata": {},
   "outputs": [],
   "source": [
    "#some date of birth were not correct\n",
    "#these actors specifically because they made a lot of movies. It will be useful later \n",
    "df_chara_small.loc[df_chara_small[\"Actor_name\"] == \"Harrison Ford\", \"Actor_date_of_birth\"] = 1942\n",
    "df_chara_small.loc[df_chara_small[\"Actor_name\"] == \"Edward Burns\", \"Actor_date_of_birth\"] = 1968 \n",
    "df_chara_small.loc[df_chara_small[\"Actor_name\"] == \"Don Wilson\", \"Actor_date_of_birth\"] = 1954"
   ]
  },
  {
   "cell_type": "code",
   "execution_count": 16,
   "metadata": {},
   "outputs": [],
   "source": [
    "#the starting career is defined as the year of firt movie release\n",
    "df_chara_small[\"Starting_career\"] = df_chara_small[\"Movie_release_date\"].apply(min)"
   ]
  },
  {
   "cell_type": "code",
   "execution_count": 18,
   "metadata": {},
   "outputs": [
    {
     "data": {
      "text/html": [
       "<div>\n",
       "<style scoped>\n",
       "    .dataframe tbody tr th:only-of-type {\n",
       "        vertical-align: middle;\n",
       "    }\n",
       "\n",
       "    .dataframe tbody tr th {\n",
       "        vertical-align: top;\n",
       "    }\n",
       "\n",
       "    .dataframe thead th {\n",
       "        text-align: right;\n",
       "    }\n",
       "</style>\n",
       "<table border=\"1\" class=\"dataframe\">\n",
       "  <thead>\n",
       "    <tr style=\"text-align: right;\">\n",
       "      <th></th>\n",
       "      <th>Actor_name</th>\n",
       "      <th>Movie_release_date_1st_role</th>\n",
       "    </tr>\n",
       "  </thead>\n",
       "  <tbody>\n",
       "    <tr>\n",
       "      <th>0</th>\n",
       "      <td>'University' Jeevan</td>\n",
       "      <td>[2007, 2006, 2008]</td>\n",
       "    </tr>\n",
       "    <tr>\n",
       "      <th>1</th>\n",
       "      <td>'Weird Al' Yankovic</td>\n",
       "      <td>[1989]</td>\n",
       "    </tr>\n",
       "    <tr>\n",
       "      <th>2</th>\n",
       "      <td>2Mex</td>\n",
       "      <td>[2008]</td>\n",
       "    </tr>\n",
       "    <tr>\n",
       "      <th>3</th>\n",
       "      <td>50 Cent</td>\n",
       "      <td>[2011, 2012, 2011, 2005]</td>\n",
       "    </tr>\n",
       "    <tr>\n",
       "      <th>4</th>\n",
       "      <td>A. Michael Baldwin</td>\n",
       "      <td>[2008, 1998, 1979]</td>\n",
       "    </tr>\n",
       "  </tbody>\n",
       "</table>\n",
       "</div>"
      ],
      "text/plain": [
       "            Actor_name Movie_release_date_1st_role\n",
       "0  'University' Jeevan          [2007, 2006, 2008]\n",
       "1  'Weird Al' Yankovic                      [1989]\n",
       "2                 2Mex                      [2008]\n",
       "3              50 Cent    [2011, 2012, 2011, 2005]\n",
       "4   A. Michael Baldwin          [2008, 1998, 1979]"
      ]
     },
     "execution_count": 18,
     "metadata": {},
     "output_type": "execute_result"
    }
   ],
   "source": [
    "#here we fetch the first roles from imdb to merge to the df_chara_small\n",
    "\n",
    "first_role_df = df_imdb[[\"first_role_actor\", \"Movie_release_date_x\"]].groupby(\"first_role_actor\").agg(lambda x: x.tolist()).reset_index()\n",
    "first_role_df = first_role_df.rename(columns={\"first_role_actor\": \"Actor_name\", \"Movie_release_date_x\": \"Movie_release_date_1st_role\"})\n",
    "first_role_df.head(5)"
   ]
  },
  {
   "cell_type": "code",
   "execution_count": 19,
   "metadata": {},
   "outputs": [
    {
     "data": {
      "text/html": [
       "<div>\n",
       "<style scoped>\n",
       "    .dataframe tbody tr th:only-of-type {\n",
       "        vertical-align: middle;\n",
       "    }\n",
       "\n",
       "    .dataframe tbody tr th {\n",
       "        vertical-align: top;\n",
       "    }\n",
       "\n",
       "    .dataframe thead th {\n",
       "        text-align: right;\n",
       "    }\n",
       "</style>\n",
       "<table border=\"1\" class=\"dataframe\">\n",
       "  <thead>\n",
       "    <tr style=\"text-align: right;\">\n",
       "      <th></th>\n",
       "      <th>Actor_name</th>\n",
       "      <th>Wikipedia_movie_ID</th>\n",
       "      <th>Movie_release_date</th>\n",
       "      <th>Actor_date_of_birth</th>\n",
       "      <th>Actor_gender</th>\n",
       "      <th>Actor_age_at_movie_release</th>\n",
       "      <th>Starting_career</th>\n",
       "      <th>Movie_release_date_1st_role</th>\n",
       "    </tr>\n",
       "  </thead>\n",
       "  <tbody>\n",
       "    <tr>\n",
       "      <th>0</th>\n",
       "      <td>Cesarine Prinz\\t</td>\n",
       "      <td>[22643470, 22643388]</td>\n",
       "      <td>[1926.0, 1922.0]</td>\n",
       "      <td>1883-12-20</td>\n",
       "      <td>F</td>\n",
       "      <td>[nan, nan]</td>\n",
       "      <td>1922.0</td>\n",
       "      <td>NaN</td>\n",
       "    </tr>\n",
       "    <tr>\n",
       "      <th>1</th>\n",
       "      <td>Daniel Newman</td>\n",
       "      <td>[20116200]</td>\n",
       "      <td>[1998.0]</td>\n",
       "      <td>1976-05-12</td>\n",
       "      <td>M</td>\n",
       "      <td>[22.0]</td>\n",
       "      <td>1998.0</td>\n",
       "      <td>NaN</td>\n",
       "    </tr>\n",
       "    <tr>\n",
       "      <th>2</th>\n",
       "      <td>'Big Bill' Giddinger</td>\n",
       "      <td>[15056534]</td>\n",
       "      <td>[1911.0]</td>\n",
       "      <td>NaN</td>\n",
       "      <td>M</td>\n",
       "      <td>[nan]</td>\n",
       "      <td>1911.0</td>\n",
       "      <td>NaN</td>\n",
       "    </tr>\n",
       "    <tr>\n",
       "      <th>3</th>\n",
       "      <td>'Big' Lee</td>\n",
       "      <td>[23010798]</td>\n",
       "      <td>[1973.0]</td>\n",
       "      <td>NaN</td>\n",
       "      <td>M</td>\n",
       "      <td>[nan]</td>\n",
       "      <td>1973.0</td>\n",
       "      <td>NaN</td>\n",
       "    </tr>\n",
       "    <tr>\n",
       "      <th>4</th>\n",
       "      <td>'Crazy George' Henderson</td>\n",
       "      <td>[10050502]</td>\n",
       "      <td>[1975.0]</td>\n",
       "      <td>NaN</td>\n",
       "      <td>M</td>\n",
       "      <td>[nan]</td>\n",
       "      <td>1975.0</td>\n",
       "      <td>NaN</td>\n",
       "    </tr>\n",
       "  </tbody>\n",
       "</table>\n",
       "</div>"
      ],
      "text/plain": [
       "                 Actor_name    Wikipedia_movie_ID Movie_release_date  \\\n",
       "0          Cesarine Prinz\\t  [22643470, 22643388]   [1926.0, 1922.0]   \n",
       "1             Daniel Newman            [20116200]           [1998.0]   \n",
       "2      'Big Bill' Giddinger            [15056534]           [1911.0]   \n",
       "3                 'Big' Lee            [23010798]           [1973.0]   \n",
       "4  'Crazy George' Henderson            [10050502]           [1975.0]   \n",
       "\n",
       "  Actor_date_of_birth Actor_gender Actor_age_at_movie_release  \\\n",
       "0          1883-12-20            F                 [nan, nan]   \n",
       "1          1976-05-12            M                     [22.0]   \n",
       "2                 NaN            M                      [nan]   \n",
       "3                 NaN            M                      [nan]   \n",
       "4                 NaN            M                      [nan]   \n",
       "\n",
       "   Starting_career Movie_release_date_1st_role  \n",
       "0           1922.0                         NaN  \n",
       "1           1998.0                         NaN  \n",
       "2           1911.0                         NaN  \n",
       "3           1973.0                         NaN  \n",
       "4           1975.0                         NaN  "
      ]
     },
     "execution_count": 19,
     "metadata": {},
     "output_type": "execute_result"
    }
   ],
   "source": [
    "df_chara_small = df_chara_small.merge(first_role_df, on=\"Actor_name\", how=\"outer\")\n",
    "df_chara_small.head(5)"
   ]
  },
  {
   "cell_type": "code",
   "execution_count": 20,
   "metadata": {},
   "outputs": [],
   "source": [
    "#computing how many years it took the actor to get 1st role. \n",
    "import math\n",
    "def years_to_first(x, start):\n",
    "    if type(x) == list:\n",
    "        return min(x) - start\n",
    "    else:\n",
    "        return np.nan"
   ]
  },
  {
   "cell_type": "code",
   "execution_count": 21,
   "metadata": {},
   "outputs": [],
   "source": [
    "df_chara_small[\"Years_to_1st\"] = df_chara_small.apply(lambda x: years_to_first(x[\"Movie_release_date_1st_role\"], x[\"Starting_career\"]), axis=1)"
   ]
  },
  {
   "cell_type": "code",
   "execution_count": 22,
   "metadata": {},
   "outputs": [
    {
     "data": {
      "text/plain": [
       "101877"
      ]
     },
     "execution_count": 22,
     "metadata": {},
     "output_type": "execute_result"
    }
   ],
   "source": [
    "#number of actors that have and do not have first role (ever)\n",
    "len(df_chara_small)"
   ]
  },
  {
   "cell_type": "code",
   "execution_count": 23,
   "metadata": {},
   "outputs": [],
   "source": [
    "#selecting actors that have or had first role in their career \n",
    "df_chara_small = df_chara_small[(df_chara_small[\"Years_to_1st\"].isnull()) | (df_chara_small[\"Years_to_1st\"] > 0)]"
   ]
  },
  {
   "cell_type": "code",
   "execution_count": 24,
   "metadata": {},
   "outputs": [
    {
     "data": {
      "text/plain": [
       "96416"
      ]
     },
     "execution_count": 24,
     "metadata": {},
     "output_type": "execute_result"
    }
   ],
   "source": [
    "#remaing actors from the dataframe\n",
    "len(df_chara_small)"
   ]
  },
  {
   "cell_type": "code",
   "execution_count": 25,
   "metadata": {},
   "outputs": [],
   "source": [
    "def find_movie_genres(films_id):\n",
    "    if type(films_id) != list:\n",
    "        return np.nan\n",
    "    else:\n",
    "        return df_movie[df_movie[\"Wikipedia_movie_ID\"].isin(films_id)][\"Movie_genres\"].apply(lambda x: list(x)).sum()\n"
   ]
  },
  {
   "cell_type": "code",
   "execution_count": 26,
   "metadata": {},
   "outputs": [],
   "source": [
    "df_chara_small[\"Movie_genres\"] = df_chara_small[\"Wikipedia_movie_ID\"].apply(find_movie_genres)"
   ]
  },
  {
   "cell_type": "code",
   "execution_count": 32,
   "metadata": {},
   "outputs": [
    {
     "data": {
      "text/plain": [
       "Actor_gender\n",
       "F    7.837449\n",
       "M    9.169874\n",
       "Name: Years_to_1st, dtype: float64"
      ]
     },
     "execution_count": 32,
     "metadata": {},
     "output_type": "execute_result"
    }
   ],
   "source": [
    "df_chara_small.groupby(\"Actor_gender\")[\"Years_to_1st\"].mean()"
   ]
  },
  {
   "cell_type": "code",
   "execution_count": 33,
   "metadata": {},
   "outputs": [
    {
     "name": "stdout",
     "output_type": "stream",
     "text": [
      "The number of woman actress as first role is 13647, while the actors represent 35196\n",
      "\n",
      "Thus the ratio actors/actress is 0.7205945580738284\n"
     ]
    }
   ],
   "source": [
    "role_dict = df_imdb[\"first_role_gender\"].value_counts().to_dict()\n",
    "print(f'The number of woman actress as first role is {role_dict[\"F\"]}, while the actors represent {role_dict[\"M\"]}')\n",
    "print(\"\")\n",
    "print(f\"Thus the ratio actors/actress is {role_dict['M']/(role_dict['F']+role_dict['M'])}\")"
   ]
  },
  {
   "cell_type": "code",
   "execution_count": 34,
   "metadata": {},
   "outputs": [],
   "source": [
    "#here we add colomns to imdb dataframe for gender type in binary form \n",
    "def role_man(first_role):\n",
    "    return 1 if first_role == \"M\" else 0\n",
    "role = [\"first\", \"second\", \"third\"]\n",
    "for el in role:\n",
    "    df_imdb[\"Binary_\"+el] = df_imdb[f\"{el}_role_gender\"].apply(lambda x: role_man(x))"
   ]
  },
  {
   "cell_type": "code",
   "execution_count": 35,
   "metadata": {},
   "outputs": [
    {
     "data": {
      "image/svg+xml": [
       "<svg class=\"main-svg\" xmlns=\"http://www.w3.org/2000/svg\" xmlns:xlink=\"http://www.w3.org/1999/xlink\" width=\"800\" height=\"500\" style=\"\" viewBox=\"0 0 800 500\"><rect x=\"0\" y=\"0\" width=\"800\" height=\"500\" style=\"fill: rgb(255, 255, 255); fill-opacity: 1;\"/><defs id=\"defs-80df1e\"><g class=\"clips\"><clipPath id=\"clip80df1exyplot\" class=\"plotclip\"><rect width=\"640\" height=\"320\"/></clipPath><clipPath class=\"axesclip\" id=\"clip80df1ex\"><rect x=\"80\" y=\"0\" width=\"640\" height=\"500\"/></clipPath><clipPath class=\"axesclip\" id=\"clip80df1ey\"><rect x=\"0\" y=\"100\" width=\"800\" height=\"320\"/></clipPath><clipPath class=\"axesclip\" id=\"clip80df1exy\"><rect x=\"80\" y=\"100\" width=\"640\" height=\"320\"/></clipPath></g><g class=\"gradients\"/><g class=\"patterns\"/></defs><g class=\"bglayer\"><rect class=\"bg\" x=\"80\" y=\"100\" width=\"640\" height=\"320\" style=\"fill: rgb(229, 236, 246); fill-opacity: 1; stroke-width: 0;\"/></g><g class=\"layer-below\"><g class=\"imagelayer\"/><g class=\"shapelayer\"/></g><g class=\"cartesianlayer\"><g class=\"subplot xy\"><g class=\"layer-subplot\"><g class=\"shapelayer\"/><g class=\"imagelayer\"/></g><g class=\"minor-gridlayer\"><g class=\"x\"/><g class=\"y\"/></g><g class=\"gridlayer\"><g class=\"x\"><path class=\"xgrid crisp\" transform=\"translate(209.36,0)\" d=\"M0,100v320\" style=\"stroke: rgb(255, 255, 255); stroke-opacity: 1; stroke-width: 1px;\"/><path class=\"xgrid crisp\" transform=\"translate(345.53,0)\" d=\"M0,100v320\" style=\"stroke: rgb(255, 255, 255); stroke-opacity: 1; stroke-width: 1px;\"/><path class=\"xgrid crisp\" transform=\"translate(481.7,0)\" d=\"M0,100v320\" style=\"stroke: rgb(255, 255, 255); stroke-opacity: 1; stroke-width: 1px;\"/><path class=\"xgrid crisp\" transform=\"translate(617.87,0)\" d=\"M0,100v320\" style=\"stroke: rgb(255, 255, 255); stroke-opacity: 1; stroke-width: 1px;\"/></g><g class=\"y\"><path class=\"ygrid crisp\" transform=\"translate(0,346.4)\" d=\"M80,0h640\" style=\"stroke: rgb(255, 255, 255); stroke-opacity: 1; stroke-width: 1px;\"/><path class=\"ygrid crisp\" transform=\"translate(0,288.8)\" d=\"M80,0h640\" style=\"stroke: rgb(255, 255, 255); stroke-opacity: 1; stroke-width: 1px;\"/><path class=\"ygrid crisp\" transform=\"translate(0,231.2)\" d=\"M80,0h640\" style=\"stroke: rgb(255, 255, 255); stroke-opacity: 1; stroke-width: 1px;\"/><path class=\"ygrid crisp\" transform=\"translate(0,173.6)\" d=\"M80,0h640\" style=\"stroke: rgb(255, 255, 255); stroke-opacity: 1; stroke-width: 1px;\"/><path class=\"ygrid crisp\" transform=\"translate(0,116)\" d=\"M80,0h640\" style=\"stroke: rgb(255, 255, 255); stroke-opacity: 1; stroke-width: 1px;\"/></g></g><g class=\"zerolinelayer\"><path class=\"yzl zl crisp\" transform=\"translate(0,404)\" d=\"M80,0h640\" style=\"stroke: rgb(255, 255, 255); stroke-opacity: 1; stroke-width: 2px;\"/></g><g class=\"layer-between\"><g class=\"shapelayer\"/><g class=\"imagelayer\"/></g><path class=\"xlines-below\"/><path class=\"ylines-below\"/><g class=\"overlines-below\"/><g class=\"xaxislayer-below\"/><g class=\"yaxislayer-below\"/><g class=\"overaxes-below\"/><g class=\"overplot\"><g class=\"xy\" transform=\"translate(80,100)\" clip-path=\"url(#clip80df1exyplot)\"><g class=\"scatterlayer mlayer\"><g class=\"trace scatter trace8834a7\" style=\"stroke-miterlimit: 2; opacity: 1;\"><g class=\"fills\"/><g class=\"errorbars\"/><g class=\"lines\"><path class=\"js-line\" d=\"M0,194.88L6.81,181.37L13.62,184.14L20.43,167.41L27.23,159.18L34.04,180.81L40.85,183.86L47.66,168.56L54.47,188.53L61.28,189.55L68.09,204.73L74.89,202.29L81.7,202.53L88.51,209.59L95.32,207.37L102.13,216.57L108.94,227.5L115.74,210.23L122.55,225.87L129.36,224.4L136.17,215.76L142.98,230.11L149.79,216.06L156.6,211.47L163.4,211.71L170.21,197.03L177.02,218.52L183.83,212.41L190.64,214.59L197.45,220.26L204.26,214.54L211.06,220.73L217.87,222.98L224.68,217.43L231.49,223.96L238.3,222.15L245.11,224.24L251.91,231.27L258.72,237.18L265.53,232.77L272.34,221.04L279.15,220.21L285.96,227.64L292.77,230.91L299.57,232.33L306.38,228.97L313.19,235.75L320,232.65L326.81,240.07L333.62,225.62L340.43,234.81L347.23,229.37L354.04,234.66L360.85,226.96L367.66,228.49L374.47,243.16L381.28,233.57L388.09,238.28L394.89,233.76L401.7,237.12L408.51,229.62L415.32,232.31L422.13,243.14L428.94,233.33L435.74,237.5L442.55,227.58L449.36,234.82L456.17,227.65L462.98,247.27L469.79,249.43L476.6,234.36L483.4,241.1L490.21,237.04L497.02,222.58L503.83,223.23L510.64,224.57L517.45,233.78L524.26,227.46L531.06,226.11L537.87,210.98L544.68,227.91L551.49,215.66L558.3,217.94L565.11,215.64L571.91,207.54L578.72,213.23L585.53,210.72L592.34,214.82L599.15,210.01L605.96,211.62L612.77,221.16L619.57,226.96L626.38,247.48L633.19,180.57L640,304\" style=\"vector-effect: none; fill: none; stroke: rgb(0, 0, 255); stroke-opacity: 1; stroke-width: 2px; opacity: 1;\"/></g><g class=\"points\"/><g class=\"text\"/></g><g class=\"trace scatter traced4bb28\" style=\"stroke-miterlimit: 2; opacity: 0.4;\"><g class=\"fills\"/><g class=\"errorbars\"/><g class=\"lines\"><path class=\"js-line\" d=\"M0,157.32L6.81,175.79L13.62,157.5L20.43,185.51L27.23,155.89L34.04,182.47L40.85,167.41L47.66,181.02L54.47,164.65L61.28,166.92L68.09,164.36L74.89,155.18L81.7,164.61L88.51,147.6L95.32,158.11L102.13,154.86L108.94,178.9L115.74,186.31L122.55,183.17L129.36,158.21L136.17,176L142.98,178.95L149.79,176.49L156.6,177.93L163.4,162.78L170.21,184.1L177.02,156.44L183.83,162.36L190.64,162.15L197.45,149.83L204.26,160.39L211.06,150.45L217.87,159.63L224.68,155.84L231.49,154.11L238.3,158.48L245.11,164.94L251.91,166.55L258.72,153.47L265.53,162.32L272.34,174.87L279.15,180.07L285.96,165.39L292.77,160L299.57,169.95L306.38,160.4L313.19,165.46L320,169.16L326.81,158.65L333.62,169.02L340.43,158.52L347.23,169.67L354.04,177.8L360.85,174.22L367.66,182.39L374.47,164.85L381.28,170.69L388.09,176.43L394.89,176.28L401.7,160L408.51,165.95L415.32,159.39L422.13,164.08L428.94,160.29L435.74,175.94L442.55,167.13L449.36,172.81L456.17,186.58L462.98,171.3L469.79,178.19L476.6,169.7L483.4,167.8L490.21,163.21L497.02,180.24L503.83,175.63L510.64,171.76L517.45,171.49L524.26,178.36L531.06,172.5L537.87,177.71L544.68,167.84L551.49,172.1L558.3,168.8L565.11,163.78L571.91,165L578.72,167.75L585.53,167.96L592.34,165.16L599.15,171.75L605.96,171.85L612.77,168.43L619.57,170.44L626.38,199.03L633.19,98.29L640,160\" style=\"vector-effect: none; fill: none; stroke: rgb(255, 165, 0); stroke-opacity: 1; stroke-width: 2px; opacity: 1;\"/></g><g class=\"points\"/><g class=\"text\"/></g><g class=\"trace scatter trace9da100\" style=\"stroke-miterlimit: 2; opacity: 0.1;\"><g class=\"fills\"/><g class=\"errorbars\"/><g class=\"lines\"><path class=\"js-line\" d=\"M0,209.19L13.62,224.09L20.43,206.9L27.23,220.07L34.04,189.13L40.85,215.13L47.66,212.15L54.47,220.39L61.28,218.48L68.09,194.91L74.89,189.44L81.7,210.73L88.51,193.38L95.32,207.37L102.13,211.43L108.94,210.4L115.74,203.53L122.55,201.34L129.36,219.03L136.17,190.55L142.98,204.53L149.79,200.67L156.6,202.22L163.4,211.71L170.21,204.08L177.02,191.04L183.83,199.19L190.64,201.7L197.45,199.13L204.26,202.77L211.06,189.41L217.87,205.3L224.68,206.61L231.49,209.83L238.3,201.68L245.11,198.82L251.91,209.45L258.72,199.55L265.53,197.16L272.34,195.22L279.15,198.38L285.96,190.29L292.77,194.01L299.57,201.14L306.38,213.65L313.19,193.44L320,194.04L326.81,213.16L333.62,195.14L340.43,208.2L347.23,194.55L354.04,180.3L360.85,200.3L367.66,205.1L374.47,196.57L381.28,195.21L388.09,209.93L401.7,188.92L408.51,198.68L415.32,192.48L422.13,193.57L428.94,194.45L435.74,180.89L442.55,195.64L449.36,184.6L456.17,181.74L462.98,189.09L469.79,191.33L476.6,187.11L483.4,193.27L490.21,182.47L497.02,194.66L503.83,193.9L510.64,186.85L517.45,190.3L524.26,192.28L531.06,179.74L537.87,178.78L544.68,187.87L551.49,182.39L558.3,185.56L565.11,179.13L571.91,178.25L578.72,179.42L585.53,179.49L592.34,180.93L599.15,180.27L605.96,187.71L612.77,187.45L619.57,196L626.38,196.34L633.19,180.57L640,16\" style=\"vector-effect: none; fill: none; stroke: rgb(255, 0, 0); stroke-opacity: 1; stroke-width: 2px; opacity: 1;\"/></g><g class=\"points\"/><g class=\"text\"/></g></g></g></g><path class=\"xlines-above crisp\" d=\"M0,0\" style=\"fill: none;\"/><path class=\"ylines-above crisp\" d=\"M0,0\" style=\"fill: none;\"/><g class=\"overlines-above\"/><g class=\"xaxislayer-above\"><g class=\"xtick\"><text text-anchor=\"middle\" x=\"0\" y=\"433\" transform=\"translate(209.36,0)\" style=\"font-family: 'Open Sans', verdana, arial, sans-serif; font-size: 12px; fill: rgb(42, 63, 95); fill-opacity: 1; white-space: pre; opacity: 1;\">1940</text></g><g class=\"xtick\"><text text-anchor=\"middle\" x=\"0\" y=\"433\" style=\"font-family: 'Open Sans', verdana, arial, sans-serif; font-size: 12px; fill: rgb(42, 63, 95); fill-opacity: 1; white-space: pre; opacity: 1;\" transform=\"translate(345.53,0)\">1960</text></g><g class=\"xtick\"><text text-anchor=\"middle\" x=\"0\" y=\"433\" style=\"font-family: 'Open Sans', verdana, arial, sans-serif; font-size: 12px; fill: rgb(42, 63, 95); fill-opacity: 1; white-space: pre; opacity: 1;\" transform=\"translate(481.7,0)\">1980</text></g><g class=\"xtick\"><text text-anchor=\"middle\" x=\"0\" y=\"433\" style=\"font-family: 'Open Sans', verdana, arial, sans-serif; font-size: 12px; fill: rgb(42, 63, 95); fill-opacity: 1; white-space: pre; opacity: 1;\" transform=\"translate(617.87,0)\">2000</text></g></g><g class=\"yaxislayer-above\"><g class=\"ytick\"><text text-anchor=\"end\" x=\"79\" y=\"4.199999999999999\" transform=\"translate(0,404)\" style=\"font-family: 'Open Sans', verdana, arial, sans-serif; font-size: 12px; fill: rgb(0, 0, 0); fill-opacity: 1; white-space: pre; opacity: 1;\">0</text></g><g class=\"ytick\"><text text-anchor=\"end\" x=\"79\" y=\"4.199999999999999\" style=\"font-family: 'Open Sans', verdana, arial, sans-serif; font-size: 12px; fill: rgb(0, 0, 0); fill-opacity: 1; white-space: pre; opacity: 1;\" transform=\"translate(0,346.4)\">0.2</text></g><g class=\"ytick\"><text text-anchor=\"end\" x=\"79\" y=\"4.199999999999999\" style=\"font-family: 'Open Sans', verdana, arial, sans-serif; font-size: 12px; fill: rgb(0, 0, 0); fill-opacity: 1; white-space: pre; opacity: 1;\" transform=\"translate(0,288.8)\">0.4</text></g><g class=\"ytick\"><text text-anchor=\"end\" x=\"79\" y=\"4.199999999999999\" style=\"font-family: 'Open Sans', verdana, arial, sans-serif; font-size: 12px; fill: rgb(0, 0, 0); fill-opacity: 1; white-space: pre; opacity: 1;\" transform=\"translate(0,231.2)\">0.6</text></g><g class=\"ytick\"><text text-anchor=\"end\" x=\"79\" y=\"4.199999999999999\" style=\"font-family: 'Open Sans', verdana, arial, sans-serif; font-size: 12px; fill: rgb(0, 0, 0); fill-opacity: 1; white-space: pre; opacity: 1;\" transform=\"translate(0,173.6)\">0.8</text></g><g class=\"ytick\"><text text-anchor=\"end\" x=\"79\" y=\"4.199999999999999\" style=\"font-family: 'Open Sans', verdana, arial, sans-serif; font-size: 12px; fill: rgb(0, 0, 0); fill-opacity: 1; white-space: pre; opacity: 1;\" transform=\"translate(0,116)\">1</text></g></g><g class=\"overaxes-above\"/></g></g><g class=\"polarlayer\"/><g class=\"smithlayer\"/><g class=\"ternarylayer\"/><g class=\"geolayer\"/><g class=\"funnelarealayer\"/><g class=\"pielayer\"/><g class=\"iciclelayer\"/><g class=\"treemaplayer\"/><g class=\"sunburstlayer\"/><g class=\"glimages\"/><defs id=\"topdefs-80df1e\"><g class=\"clips\"/><clipPath id=\"legend80df1e\"><rect width=\"311\" height=\"29\" x=\"0\" y=\"0\"/></clipPath></defs><g class=\"layer-above\"><g class=\"imagelayer\"/><g class=\"shapelayer\"/></g><g class=\"infolayer\"><g class=\"legend\" pointer-events=\"all\" transform=\"translate(144,67.99999999999997)\"><rect class=\"bg\" shape-rendering=\"crispEdges\" style=\"stroke: rgb(68, 68, 68); stroke-opacity: 1; fill: rgb(255, 255, 255); fill-opacity: 1; stroke-width: 0px;\" width=\"311\" height=\"29\" x=\"0\" y=\"0\"/><g class=\"scrollbox\" transform=\"\" clip-path=\"url(#legend80df1e)\"><g class=\"groups\"><g class=\"traces\" transform=\"translate(0,14.5)\" style=\"opacity: 1;\"><text class=\"legendtext\" text-anchor=\"start\" x=\"40\" y=\"4.680000000000001\" style=\"font-family: 'Open Sans', verdana, arial, sans-serif; font-size: 12px; fill: rgb(42, 63, 95); fill-opacity: 1; white-space: pre;\">first role</text><g class=\"layers\" style=\"opacity: 1;\"><g class=\"legendfill\"/><g class=\"legendlines\"><path class=\"js-line\" d=\"M5,0h30\" style=\"fill: none; stroke: rgb(0, 0, 255); stroke-opacity: 1; stroke-width: 2px;\"/></g><g class=\"legendsymbols\"><g class=\"legendpoints\"/></g></g><rect class=\"legendtoggle\" x=\"0\" y=\"-9.5\" width=\"93.1875\" height=\"19\" style=\"fill: rgb(0, 0, 0); fill-opacity: 0;\"/></g><g class=\"traces\" transform=\"translate(95.6875,14.5)\" style=\"opacity: 1;\"><text class=\"legendtext\" text-anchor=\"start\" x=\"40\" y=\"4.680000000000001\" style=\"font-family: 'Open Sans', verdana, arial, sans-serif; font-size: 12px; fill: rgb(42, 63, 95); fill-opacity: 1; white-space: pre;\">second role</text><g class=\"layers\" style=\"opacity: 0.4;\"><g class=\"legendfill\"/><g class=\"legendlines\"><path class=\"js-line\" d=\"M5,0h30\" style=\"fill: none; stroke: rgb(255, 165, 0); stroke-opacity: 1; stroke-width: 2px;\"/></g><g class=\"legendsymbols\"><g class=\"legendpoints\"/></g></g><rect class=\"legendtoggle\" x=\"0\" y=\"-9.5\" width=\"111.578125\" height=\"19\" style=\"fill: rgb(0, 0, 0); fill-opacity: 0;\"/></g><g class=\"traces\" transform=\"translate(209.765625,14.5)\" style=\"opacity: 1;\"><text class=\"legendtext\" text-anchor=\"start\" x=\"40\" y=\"4.680000000000001\" style=\"font-family: 'Open Sans', verdana, arial, sans-serif; font-size: 12px; fill: rgb(42, 63, 95); fill-opacity: 1; white-space: pre;\">third role</text><g class=\"layers\" style=\"opacity: 0.1;\"><g class=\"legendfill\"/><g class=\"legendlines\"><path class=\"js-line\" d=\"M5,0h30\" style=\"fill: none; stroke: rgb(255, 0, 0); stroke-opacity: 1; stroke-width: 2px;\"/></g><g class=\"legendsymbols\"><g class=\"legendpoints\"/></g></g><rect class=\"legendtoggle\" x=\"0\" y=\"-9.5\" width=\"97.78125\" height=\"19\" style=\"fill: rgb(0, 0, 0); fill-opacity: 0;\"/></g></g></g><rect class=\"scrollbar\" rx=\"20\" ry=\"3\" width=\"0\" height=\"0\" style=\"fill: rgb(128, 139, 164); fill-opacity: 1;\" x=\"0\" y=\"0\"/></g><g class=\"g-gtitle\"><text class=\"gtitle\" x=\"40\" y=\"50\" text-anchor=\"start\" dy=\"0em\" style=\"opacity: 1; font-family: 'Open Sans', verdana, arial, sans-serif; font-size: 17px; fill: rgb(42, 63, 95); fill-opacity: 1; white-space: pre;\">Percentage evolution of actresses with first, second and third role</text></g><g class=\"g-xtitle\"><text class=\"xtitle\" x=\"400\" y=\"459.8\" text-anchor=\"middle\" style=\"opacity: 1; font-family: 'Open Sans', verdana, arial, sans-serif; font-size: 14px; fill: rgb(42, 63, 95); fill-opacity: 1; white-space: pre;\">Movie Release Date</text></g><g class=\"g-ytitle\"><text class=\"ytitle\" transform=\"rotate(-90,39.975,260)\" x=\"39.975\" y=\"260\" text-anchor=\"middle\" style=\"opacity: 1; font-family: 'Open Sans', verdana, arial, sans-serif; font-size: 14px; fill: rgb(0, 0, 0); fill-opacity: 1; white-space: pre;\">Ratio of women with first role</text></g></g></svg>"
      ]
     },
     "metadata": {},
     "output_type": "display_data"
    }
   ],
   "source": [
    "fig = go.Figure()\n",
    "\n",
    "fig.update_layout(\n",
    "    autosize=False,\n",
    "    width=800,\n",
    "    height=500,\n",
    ")\n",
    "colors = [\"blue\", \"orange\", \"red\"]\n",
    "op =[1, 0.4, 0.1]\n",
    "\n",
    "for el in role:\n",
    "    num_m = df_imdb[df_imdb[\"Movie_release_date_x\"] >1920].groupby(\"Movie_release_date_x\")[f\"Binary_{el}\"].sum()\n",
    "    num_w = df_imdb[df_imdb[\"Movie_release_date_x\"] >1920].groupby(\"Movie_release_date_x\")[f\"Binary_{el}\"].count() - num_m\n",
    "\n",
    "    fig.add_trace(\n",
    "        go.Scatter(\n",
    "            x=num_m.index,\n",
    "            y=num_w/(num_m+num_w),\n",
    "            name=f\"{el} role\",\n",
    "            mode=\"lines\",\n",
    "            line=dict(color=colors.pop(0)),\n",
    "            opacity=op.pop(0)\n",
    "        )\n",
    "    )\n",
    "\n",
    "\n",
    "fig.update_layout(\n",
    "    title=\"Percentage evolution of actresses with first, second and third role\",\n",
    "    xaxis=dict(title=\"Movie Release Date\"),\n",
    "    yaxis=dict(title=\"Ratio of women with first role\", titlefont=dict(color=\"black\"), tickfont=dict(color=\"black\")),\n",
    "    legend=dict(x=0.1, y=1.1, orientation=\"h\"),\n",
    ")\n",
    "fig.show(\"svg\")\n",
    "\n",
    "#fig.write_html(data_folder + \"percentage_evolution_of_actresses.html\")"
   ]
  },
  {
   "cell_type": "code",
   "execution_count": 36,
   "metadata": {},
   "outputs": [],
   "source": [
    "#finding the gender ratio for first role\n",
    "genre_dict_first = {}\n",
    "all_genres = list(set(all_genres))\n",
    "for genre in all_genres:\n",
    "    dictt = df_imdb[df_imdb[\"Movie_genres\"].apply(lambda x: genre in x)][\"Binary_first\"].value_counts().to_dict()\n",
    "    if len(dictt) == 2:\n",
    "        m = dictt[1]\n",
    "        w = dictt[0]\n",
    "    genre_dict_first[genre] = [m, w, w/(m+w)]\n"
   ]
  },
  {
   "cell_type": "code",
   "execution_count": 37,
   "metadata": {},
   "outputs": [],
   "source": [
    "genre_dict_first = dict(sorted(genre_dict_first.items(), key=lambda item: item[1][2], reverse=True))\n",
    "genre_dict_first = {k: v for k, v in genre_dict_first.items() if v[0] + v[1] > 20}"
   ]
  },
  {
   "cell_type": "code",
   "execution_count": 38,
   "metadata": {},
   "outputs": [
    {
     "data": {
      "image/svg+xml": [
       "<svg class=\"main-svg\" xmlns=\"http://www.w3.org/2000/svg\" xmlns:xlink=\"http://www.w3.org/1999/xlink\" width=\"750\" height=\"500\" style=\"\" viewBox=\"0 0 750 500\"><rect x=\"0\" y=\"0\" width=\"750\" height=\"500\" style=\"fill: rgb(255, 255, 255); fill-opacity: 1;\"/><defs id=\"defs-b8d147\"><g class=\"clips\"><clipPath id=\"clipb8d147xyplot\" class=\"plotclip\"><rect width=\"590\" height=\"299\"/></clipPath><clipPath class=\"axesclip\" id=\"clipb8d147x\"><rect x=\"80\" y=\"0\" width=\"590\" height=\"500\"/></clipPath><clipPath class=\"axesclip\" id=\"clipb8d147y\"><rect x=\"0\" y=\"100\" width=\"750\" height=\"299\"/></clipPath><clipPath class=\"axesclip\" id=\"clipb8d147xy\"><rect x=\"80\" y=\"100\" width=\"590\" height=\"299\"/></clipPath></g><g class=\"gradients\"/><g class=\"patterns\"/></defs><g class=\"bglayer\"><rect class=\"bg\" x=\"80\" y=\"100\" width=\"590\" height=\"299\" style=\"fill: rgb(229, 236, 246); fill-opacity: 1; stroke-width: 0;\"/></g><g class=\"layer-below\"><g class=\"imagelayer\"/><g class=\"shapelayer\"/></g><g class=\"cartesianlayer\"><g class=\"subplot xy\"><g class=\"layer-subplot\"><g class=\"shapelayer\"/><g class=\"imagelayer\"/></g><g class=\"minor-gridlayer\"><g class=\"x\"/><g class=\"y\"/></g><g class=\"gridlayer\"><g class=\"x\"/><g class=\"y\"><path class=\"ygrid crisp\" transform=\"translate(0,336.96000000000004)\" d=\"M80,0h590\" style=\"stroke: rgb(255, 255, 255); stroke-opacity: 1; stroke-width: 1px;\"/><path class=\"ygrid crisp\" transform=\"translate(0,274.91999999999996)\" d=\"M80,0h590\" style=\"stroke: rgb(255, 255, 255); stroke-opacity: 1; stroke-width: 1px;\"/><path class=\"ygrid crisp\" transform=\"translate(0,212.87)\" d=\"M80,0h590\" style=\"stroke: rgb(255, 255, 255); stroke-opacity: 1; stroke-width: 1px;\"/><path class=\"ygrid crisp\" transform=\"translate(0,150.82999999999998)\" d=\"M80,0h590\" style=\"stroke: rgb(255, 255, 255); stroke-opacity: 1; stroke-width: 1px;\"/></g></g><g class=\"zerolinelayer\"><path class=\"yzl zl crisp\" transform=\"translate(0,399)\" d=\"M80,0h590\" style=\"stroke: rgb(255, 255, 255); stroke-opacity: 1; stroke-width: 2px;\"/></g><g class=\"layer-between\"><g class=\"shapelayer\"/><g class=\"imagelayer\"/></g><path class=\"xlines-below\"/><path class=\"ylines-below\"/><g class=\"overlines-below\"/><g class=\"xaxislayer-below\"/><g class=\"yaxislayer-below\"/><g class=\"overaxes-below\"/><g class=\"overplot\"><g class=\"xy\" transform=\"translate(80,100)\" clip-path=\"url(#clipb8d147xyplot)\"><g class=\"barlayer mlayer\"><g class=\"trace bars\" style=\"opacity: 0.4;\"><g class=\"points\"><g class=\"point\"><path d=\"M2.95,299V14.95H26.55V299Z\" style=\"vector-effect: none; opacity: 1; stroke-width: 0.5px; fill: rgb(0, 0, 255); fill-opacity: 1; stroke: rgb(229, 236, 246); stroke-opacity: 1;\"/></g><g class=\"point\"><path d=\"M32.45,299V56.47H56.05V299Z\" style=\"vector-effect: none; opacity: 1; stroke-width: 0.5px; fill: rgb(0, 0, 255); fill-opacity: 1; stroke: rgb(229, 236, 246); stroke-opacity: 1;\"/></g><g class=\"point\"><path d=\"M61.95,299V68.48H85.55V299Z\" style=\"vector-effect: none; opacity: 1; stroke-width: 0.5px; fill: rgb(0, 0, 255); fill-opacity: 1; stroke: rgb(229, 236, 246); stroke-opacity: 1;\"/></g><g class=\"point\"><path d=\"M91.45,299V71.51H115.05V299Z\" style=\"vector-effect: none; opacity: 1; stroke-width: 0.5px; fill: rgb(0, 0, 255); fill-opacity: 1; stroke: rgb(229, 236, 246); stroke-opacity: 1;\"/></g><g class=\"point\"><path d=\"M120.95,299V71.51H144.55V299Z\" style=\"vector-effect: none; opacity: 1; stroke-width: 0.5px; fill: rgb(0, 0, 255); fill-opacity: 1; stroke: rgb(229, 236, 246); stroke-opacity: 1;\"/></g><g class=\"point\"><path d=\"M150.45,299V77.42H174.05V299Z\" style=\"vector-effect: none; opacity: 1; stroke-width: 0.5px; fill: rgb(0, 0, 255); fill-opacity: 1; stroke: rgb(229, 236, 246); stroke-opacity: 1;\"/></g><g class=\"point\"><path d=\"M179.95,299V78.59H203.55V299Z\" style=\"vector-effect: none; opacity: 1; stroke-width: 0.5px; fill: rgb(0, 0, 255); fill-opacity: 1; stroke: rgb(229, 236, 246); stroke-opacity: 1;\"/></g><g class=\"point\"><path d=\"M209.45,299V81.01H233.05V299Z\" style=\"vector-effect: none; opacity: 1; stroke-width: 0.5px; fill: rgb(0, 0, 255); fill-opacity: 1; stroke: rgb(229, 236, 246); stroke-opacity: 1;\"/></g><g class=\"point\"><path d=\"M238.95,299V81.85H262.55V299Z\" style=\"vector-effect: none; opacity: 1; stroke-width: 0.5px; fill: rgb(0, 0, 255); fill-opacity: 1; stroke: rgb(229, 236, 246); stroke-opacity: 1;\"/></g><g class=\"point\"><path d=\"M268.45,299V82.79H292.05V299Z\" style=\"vector-effect: none; opacity: 1; stroke-width: 0.5px; fill: rgb(0, 0, 255); fill-opacity: 1; stroke: rgb(229, 236, 246); stroke-opacity: 1;\"/></g></g></g><g class=\"trace bars\" style=\"opacity: 0.4;\"><g class=\"points\"><g class=\"point\"><path d=\"M297.95,299V276.23H321.55V299Z\" style=\"vector-effect: none; opacity: 1; stroke-width: 0.5px; fill: rgb(255, 0, 0); fill-opacity: 1; stroke: rgb(229, 236, 246); stroke-opacity: 1;\"/></g><g class=\"point\"><path d=\"M327.45,299V278.99H351.05V299Z\" style=\"vector-effect: none; opacity: 1; stroke-width: 0.5px; fill: rgb(255, 0, 0); fill-opacity: 1; stroke: rgb(229, 236, 246); stroke-opacity: 1;\"/></g><g class=\"point\"><path d=\"M356.95,299V281.77H380.55V299Z\" style=\"vector-effect: none; opacity: 1; stroke-width: 0.5px; fill: rgb(255, 0, 0); fill-opacity: 1; stroke: rgb(229, 236, 246); stroke-opacity: 1;\"/></g><g class=\"point\"><path d=\"M386.45,299V282.67H410.05V299Z\" style=\"vector-effect: none; opacity: 1; stroke-width: 0.5px; fill: rgb(255, 0, 0); fill-opacity: 1; stroke: rgb(229, 236, 246); stroke-opacity: 1;\"/></g><g class=\"point\"><path d=\"M415.95,299V285.97H439.55V299Z\" style=\"vector-effect: none; opacity: 1; stroke-width: 0.5px; fill: rgb(255, 0, 0); fill-opacity: 1; stroke: rgb(229, 236, 246); stroke-opacity: 1;\"/></g><g class=\"point\"><path d=\"M445.45,299V285.97H469.05V299Z\" style=\"vector-effect: none; opacity: 1; stroke-width: 0.5px; fill: rgb(255, 0, 0); fill-opacity: 1; stroke: rgb(229, 236, 246); stroke-opacity: 1;\"/></g><g class=\"point\"><path d=\"M474.95,299V288.12H498.55V299Z\" style=\"vector-effect: none; opacity: 1; stroke-width: 0.5px; fill: rgb(255, 0, 0); fill-opacity: 1; stroke: rgb(229, 236, 246); stroke-opacity: 1;\"/></g><g class=\"point\"><path d=\"M504.45,299V291.24H528.05V299Z\" style=\"vector-effect: none; opacity: 1; stroke-width: 0.5px; fill: rgb(255, 0, 0); fill-opacity: 1; stroke: rgb(229, 236, 246); stroke-opacity: 1;\"/></g><g class=\"point\"><path d=\"M533.95,299V292.11H557.55V299Z\" style=\"vector-effect: none; opacity: 1; stroke-width: 0.5px; fill: rgb(255, 0, 0); fill-opacity: 1; stroke: rgb(229, 236, 246); stroke-opacity: 1;\"/></g><g class=\"point\"><path d=\"M563.45,299V295.77H587.05V299Z\" style=\"vector-effect: none; opacity: 1; stroke-width: 0.5px; fill: rgb(255, 0, 0); fill-opacity: 1; stroke: rgb(229, 236, 246); stroke-opacity: 1;\"/></g></g></g></g></g></g><path class=\"xlines-above crisp\" d=\"M0,0\" style=\"fill: none;\"/><path class=\"ylines-above crisp\" d=\"M0,0\" style=\"fill: none;\"/><g class=\"overlines-above\"/><g class=\"xaxislayer-above\"><g class=\"xtick\"><text text-anchor=\"start\" x=\"0\" y=\"412\" transform=\"translate(94.75,0) rotate(29.999999999999996,0,406)\" style=\"font-family: 'Open Sans', verdana, arial, sans-serif; font-size: 12px; fill: rgb(42, 63, 95); fill-opacity: 1; white-space: pre; opacity: 1;\">Feminist Film</text></g><g class=\"xtick\"><text text-anchor=\"start\" x=\"0\" y=\"412\" transform=\"translate(124.25,0) rotate(29.999999999999996,0,406)\" style=\"font-family: 'Open Sans', verdana, arial, sans-serif; font-size: 12px; fill: rgb(42, 63, 95); fill-opacity: 1; white-space: pre; opacity: 1;\">Softcore Porn</text></g><g class=\"xtick\"><text text-anchor=\"start\" x=\"0\" y=\"412\" transform=\"translate(153.75,0) rotate(29.999999999999996,0,406)\" style=\"font-family: 'Open Sans', verdana, arial, sans-serif; font-size: 12px; fill: rgb(42, 63, 95); fill-opacity: 1; white-space: pre; opacity: 1;\">Rockumentary</text></g><g class=\"xtick\"><text text-anchor=\"start\" x=\"0\" y=\"412\" transform=\"translate(183.25,0) rotate(29.999999999999996,0,406)\" style=\"font-family: 'Open Sans', verdana, arial, sans-serif; font-size: 12px; fill: rgb(42, 63, 95); fill-opacity: 1; white-space: pre; opacity: 1;\">Film &amp; Television History</text></g><g class=\"xtick\"><text text-anchor=\"start\" x=\"0\" y=\"412\" transform=\"translate(212.75,0) rotate(29.999999999999996,0,406)\" style=\"font-family: 'Open Sans', verdana, arial, sans-serif; font-size: 12px; fill: rgb(42, 63, 95); fill-opacity: 1; white-space: pre; opacity: 1;\">Baseball</text></g><g class=\"xtick\"><text text-anchor=\"start\" x=\"0\" y=\"412\" transform=\"translate(242.25,0) rotate(29.999999999999996,0,406)\" style=\"font-family: 'Open Sans', verdana, arial, sans-serif; font-size: 12px; fill: rgb(42, 63, 95); fill-opacity: 1; white-space: pre; opacity: 1;\">Gender Issues</text></g><g class=\"xtick\"><text text-anchor=\"start\" x=\"0\" y=\"412\" transform=\"translate(271.75,0) rotate(29.999999999999996,0,406)\" style=\"font-family: 'Open Sans', verdana, arial, sans-serif; font-size: 12px; fill: rgb(42, 63, 95); fill-opacity: 1; white-space: pre; opacity: 1;\">Social issues</text></g><g class=\"xtick\"><text text-anchor=\"start\" x=\"0\" y=\"412\" transform=\"translate(301.25,0) rotate(29.999999999999996,0,406)\" style=\"font-family: 'Open Sans', verdana, arial, sans-serif; font-size: 12px; fill: rgb(42, 63, 95); fill-opacity: 1; white-space: pre; opacity: 1;\">Concert film</text></g><g class=\"xtick\"><text text-anchor=\"start\" x=\"0\" y=\"412\" transform=\"translate(330.75,0) rotate(29.999999999999996,0,406)\" style=\"font-family: 'Open Sans', verdana, arial, sans-serif; font-size: 12px; fill: rgb(42, 63, 95); fill-opacity: 1; white-space: pre; opacity: 1;\">Culture &amp; Society</text></g><g class=\"xtick\"><text text-anchor=\"start\" x=\"0\" y=\"412\" transform=\"translate(360.25,0) rotate(29.999999999999996,0,406)\" style=\"font-family: 'Open Sans', verdana, arial, sans-serif; font-size: 12px; fill: rgb(42, 63, 95); fill-opacity: 1; white-space: pre; opacity: 1;\">Stand-up comedy</text></g><g class=\"xtick\"><text text-anchor=\"start\" x=\"0\" y=\"412\" transform=\"translate(389.75,0) rotate(29.999999999999996,0,406)\" style=\"font-family: 'Open Sans', verdana, arial, sans-serif; font-size: 12px; fill: rgb(42, 63, 95); fill-opacity: 1; white-space: pre; opacity: 1;\">Swashbuckler films</text></g><g class=\"xtick\"><text text-anchor=\"start\" x=\"0\" y=\"412\" transform=\"translate(419.25,0) rotate(29.999999999999996,0,406)\" style=\"font-family: 'Open Sans', verdana, arial, sans-serif; font-size: 12px; fill: rgb(42, 63, 95); fill-opacity: 1; white-space: pre; opacity: 1;\">Adventure Comedy</text></g><g class=\"xtick\"><text text-anchor=\"start\" x=\"0\" y=\"412\" transform=\"translate(448.75,0) rotate(29.999999999999996,0,406)\" style=\"font-family: 'Open Sans', verdana, arial, sans-serif; font-size: 12px; fill: rgb(42, 63, 95); fill-opacity: 1; white-space: pre; opacity: 1;\">Anti-war film</text></g><g class=\"xtick\"><text text-anchor=\"start\" x=\"0\" y=\"412\" transform=\"translate(478.25,0) rotate(29.999999999999996,0,406)\" style=\"font-family: 'Open Sans', verdana, arial, sans-serif; font-size: 12px; fill: rgb(42, 63, 95); fill-opacity: 1; white-space: pre; opacity: 1;\">Anti-war</text></g><g class=\"xtick\"><text text-anchor=\"start\" x=\"0\" y=\"412\" transform=\"translate(507.75,0) rotate(29.999999999999996,0,406)\" style=\"font-family: 'Open Sans', verdana, arial, sans-serif; font-size: 12px; fill: rgb(42, 63, 95); fill-opacity: 1; white-space: pre; opacity: 1;\">Spaghetti Western</text></g><g class=\"xtick\"><text text-anchor=\"start\" x=\"0\" y=\"412\" transform=\"translate(537.25,0) rotate(29.999999999999996,0,406)\" style=\"font-family: 'Open Sans', verdana, arial, sans-serif; font-size: 12px; fill: rgb(42, 63, 95); fill-opacity: 1; white-space: pre; opacity: 1;\">Comdedy</text></g><g class=\"xtick\"><text text-anchor=\"start\" x=\"0\" y=\"412\" transform=\"translate(566.75,0) rotate(29.999999999999996,0,406)\" style=\"font-family: 'Open Sans', verdana, arial, sans-serif; font-size: 12px; fill: rgb(42, 63, 95); fill-opacity: 1; white-space: pre; opacity: 1;\">B-Western</text></g><g class=\"xtick\"><text text-anchor=\"start\" x=\"0\" y=\"412\" transform=\"translate(596.25,0) rotate(29.999999999999996,0,406)\" style=\"font-family: 'Open Sans', verdana, arial, sans-serif; font-size: 12px; fill: rgb(42, 63, 95); fill-opacity: 1; white-space: pre; opacity: 1;\">Samurai cinema</text></g><g class=\"xtick\"><text text-anchor=\"start\" x=\"0\" y=\"412\" transform=\"translate(625.75,0) rotate(29.999999999999996,0,406)\" style=\"font-family: 'Open Sans', verdana, arial, sans-serif; font-size: 12px; fill: rgb(42, 63, 95); fill-opacity: 1; white-space: pre; opacity: 1;\">Tollywood</text></g><g class=\"xtick\"><text text-anchor=\"start\" x=\"0\" y=\"412\" transform=\"translate(655.25,0) rotate(29.999999999999996,0,406)\" style=\"font-family: 'Open Sans', verdana, arial, sans-serif; font-size: 12px; fill: rgb(42, 63, 95); fill-opacity: 1; white-space: pre; opacity: 1;\">Combat Films</text></g></g><g class=\"yaxislayer-above\"><g class=\"ytick\"><text text-anchor=\"end\" x=\"79\" y=\"4.199999999999999\" transform=\"translate(0,399)\" style=\"font-family: 'Open Sans', verdana, arial, sans-serif; font-size: 12px; fill: rgb(0, 0, 0); fill-opacity: 1; white-space: pre; opacity: 1;\">0</text></g><g class=\"ytick\"><text text-anchor=\"end\" x=\"79\" y=\"4.199999999999999\" style=\"font-family: 'Open Sans', verdana, arial, sans-serif; font-size: 12px; fill: rgb(0, 0, 0); fill-opacity: 1; white-space: pre; opacity: 1;\" transform=\"translate(0,336.96000000000004)\">0.2</text></g><g class=\"ytick\"><text text-anchor=\"end\" x=\"79\" y=\"4.199999999999999\" style=\"font-family: 'Open Sans', verdana, arial, sans-serif; font-size: 12px; fill: rgb(0, 0, 0); fill-opacity: 1; white-space: pre; opacity: 1;\" transform=\"translate(0,274.91999999999996)\">0.4</text></g><g class=\"ytick\"><text text-anchor=\"end\" x=\"79\" y=\"4.199999999999999\" style=\"font-family: 'Open Sans', verdana, arial, sans-serif; font-size: 12px; fill: rgb(0, 0, 0); fill-opacity: 1; white-space: pre; opacity: 1;\" transform=\"translate(0,212.87)\">0.6</text></g><g class=\"ytick\"><text text-anchor=\"end\" x=\"79\" y=\"4.199999999999999\" style=\"font-family: 'Open Sans', verdana, arial, sans-serif; font-size: 12px; fill: rgb(0, 0, 0); fill-opacity: 1; white-space: pre; opacity: 1;\" transform=\"translate(0,150.82999999999998)\">0.8</text></g></g><g class=\"overaxes-above\"/></g></g><g class=\"polarlayer\"/><g class=\"smithlayer\"/><g class=\"ternarylayer\"/><g class=\"geolayer\"/><g class=\"funnelarealayer\"/><g class=\"pielayer\"/><g class=\"iciclelayer\"/><g class=\"treemaplayer\"/><g class=\"sunburstlayer\"/><g class=\"glimages\"/><defs id=\"topdefs-b8d147\"><g class=\"clips\"/><clipPath id=\"legendb8d147\"><rect width=\"353\" height=\"29\" x=\"0\" y=\"0\"/></clipPath></defs><g class=\"layer-above\"><g class=\"imagelayer\"/><g class=\"shapelayer\"/></g><g class=\"infolayer\"><g class=\"legend\" pointer-events=\"all\" transform=\"translate(298.3,64.11999999999998)\"><rect class=\"bg\" shape-rendering=\"crispEdges\" width=\"353\" height=\"29\" x=\"0\" y=\"0\" style=\"stroke: rgb(68, 68, 68); stroke-opacity: 1; fill: rgb(0, 0, 0); fill-opacity: 0; stroke-width: 0px;\"/><g class=\"scrollbox\" transform=\"\" clip-path=\"url(#legendb8d147)\"><g class=\"groups\"><g class=\"traces\" transform=\"translate(0,14.5)\" style=\"opacity: 1;\"><text class=\"legendtext\" text-anchor=\"start\" x=\"40\" y=\"4.680000000000001\" style=\"font-family: 'Open Sans', verdana, arial, sans-serif; font-size: 12px; fill: rgb(42, 63, 95); fill-opacity: 1; white-space: pre;\">Most inclusive genres</text><g class=\"layers\" style=\"opacity: 0.4;\"><g class=\"legendfill\"/><g class=\"legendlines\"/><g class=\"legendsymbols\"><g class=\"legendpoints\"><path class=\"legendundefined\" d=\"M6,6H-6V-6H6Z\" transform=\"translate(20,0)\" style=\"stroke-width: 0.5px; fill: rgb(0, 0, 255); fill-opacity: 1; stroke: rgb(229, 236, 246); stroke-opacity: 1;\"/></g></g></g><rect class=\"legendtoggle\" x=\"0\" y=\"-9.5\" width=\"171.875\" height=\"19\" style=\"fill: rgb(0, 0, 0); fill-opacity: 0;\"/></g><g class=\"traces\" transform=\"translate(174.375,14.5)\" style=\"opacity: 1;\"><text class=\"legendtext\" text-anchor=\"start\" x=\"40\" y=\"4.680000000000001\" style=\"font-family: 'Open Sans', verdana, arial, sans-serif; font-size: 12px; fill: rgb(42, 63, 95); fill-opacity: 1; white-space: pre;\">Least inclusive genres</text><g class=\"layers\" style=\"opacity: 0.4;\"><g class=\"legendfill\"/><g class=\"legendlines\"/><g class=\"legendsymbols\"><g class=\"legendpoints\"><path class=\"legendundefined\" d=\"M6,6H-6V-6H6Z\" transform=\"translate(20,0)\" style=\"stroke-width: 0.5px; fill: rgb(255, 0, 0); fill-opacity: 1; stroke: rgb(229, 236, 246); stroke-opacity: 1;\"/></g></g></g><rect class=\"legendtoggle\" x=\"0\" y=\"-9.5\" width=\"175.515625\" height=\"19\" style=\"fill: rgb(0, 0, 0); fill-opacity: 0;\"/></g></g></g><rect class=\"scrollbar\" rx=\"20\" ry=\"3\" width=\"0\" height=\"0\" x=\"0\" y=\"0\" style=\"fill: rgb(128, 139, 164); fill-opacity: 1;\"/></g><g class=\"g-gtitle\"><text class=\"gtitle\" x=\"37.5\" y=\"50\" text-anchor=\"start\" dy=\"0em\" style=\"opacity: 1; font-family: 'Open Sans', verdana, arial, sans-serif; font-size: 17px; fill: rgb(42, 63, 95); fill-opacity: 1; white-space: pre;\"><tspan class=\"line\" dy=\"0em\" x=\"37.5\" y=\"50\">Gender distribution of first role in different genres </tspan><tspan class=\"line\" dy=\"1.3em\" x=\"37.5\" y=\"50\"><tspan style=\"font-size: 12px;\">(for genre with >20 actors/actresses)</tspan></tspan></text></g><g class=\"g-xtitle\"/><g class=\"g-ytitle\"><text class=\"ytitle\" transform=\"rotate(-90,39.975,249.5)\" x=\"39.975\" y=\"249.5\" text-anchor=\"middle\" style=\"opacity: 1; font-family: 'Open Sans', verdana, arial, sans-serif; font-size: 14px; fill: rgb(0, 0, 0); fill-opacity: 1; white-space: pre;\">Ratio of women</text></g></g></svg>"
      ]
     },
     "metadata": {},
     "output_type": "display_data"
    }
   ],
   "source": [
    "values = [v[2] for v in genre_dict_first.values()]\n",
    "fig = go.Figure()\n",
    "fig.update_layout(\n",
    "    autosize=False,\n",
    "    width=750,\n",
    "    height=500,\n",
    ")\n",
    "fig.add_trace(\n",
    "    go.Bar(\n",
    "        x=list(genre_dict_first.keys())[:10],\n",
    "        y=values[:10],\n",
    "        marker_color=\"blue\",\n",
    "        opacity=0.4,\n",
    "        name=\"Most inclusive genres\",\n",
    "    )\n",
    ")\n",
    "\n",
    "fig.add_trace(\n",
    "    go.Bar(\n",
    "        x=list(genre_dict_first.keys())[len(values)-10:],\n",
    "        y=values[len(values)-10:],\n",
    "        marker_color=\"red\",\n",
    "        opacity=0.4,\n",
    "        name=\"Least inclusive genres\",\n",
    "    )\n",
    ")\n",
    "\n",
    "fig.update_layout(\n",
    "    title=\"Gender distribution of first role in different genres <br><span style='font-size: 12px;'>(for genre with >20 actors/actresses)</span>\",\n",
    "    yaxis=dict(title=\"Ratio of women\", titlefont=dict(color=\"black\"), tickfont=dict(color=\"black\")),\n",
    "    legend=dict(x=0.37, y=1.12, orientation=\"h\", bgcolor=\"rgba(0,0,0,0)\"),\n",
    ")\n",
    "\n",
    "fig.show(\"svg\")\n",
    "fig.write_html(\"first_role_genre.html\")"
   ]
  },
  {
   "cell_type": "code",
   "execution_count": 39,
   "metadata": {},
   "outputs": [],
   "source": [
    "erotic_genres = ['Sex comedy','Erotica','Erotic thriller','Pornographic movie','Adult','Erotic Drama','Sexploitation','Softcore Porn','Gay pornography','Hardcore pornography','Pornography']\n",
    "war_genres = [\"War film\"]\n",
    "religious_genres = [\"Religious Film\"]\n",
    "romantic_genres = [\"Romantic drama\", \"Romantic comedy, Romance Film\"]"
   ]
  },
  {
   "cell_type": "code",
   "execution_count": 40,
   "metadata": {},
   "outputs": [
    {
     "name": "stdout",
     "output_type": "stream",
     "text": [
      "erotic\n",
      "Actor_gender\n",
      "F    8.138528\n",
      "M    9.299870\n",
      "Name: Years_to_1st, dtype: float64\n",
      "\n",
      "war\n",
      "Actor_gender\n",
      "F    8.434866\n",
      "M    9.509904\n",
      "Name: Years_to_1st, dtype: float64\n",
      "\n",
      "religious\n",
      "Actor_gender\n",
      "F    8.750000\n",
      "M    9.459459\n",
      "Name: Years_to_1st, dtype: float64\n",
      "\n",
      "romantic\n",
      "Actor_gender\n",
      "F    8.473399\n",
      "M    9.291090\n",
      "Name: Years_to_1st, dtype: float64\n",
      "\n"
     ]
    }
   ],
   "source": [
    "#here is an analysis of the number of years to 1st role by movie genre\n",
    "print('erotic')\n",
    "print(df_chara_small[df_chara_small[\"Movie_genres\"].apply(lambda x: any(i in x for i in erotic_genres) if type(x) == list else False)].groupby(\"Actor_gender\")[\"Years_to_1st\"].mean())\n",
    "print('')\n",
    "print('war')\n",
    "print(df_chara_small[df_chara_small[\"Movie_genres\"].apply(lambda x: any(i in x for i in war_genres) if type(x) == list else False)].groupby(\"Actor_gender\")[\"Years_to_1st\"].mean())\n",
    "print('')\n",
    "print('religious')\n",
    "print(df_chara_small[df_chara_small[\"Movie_genres\"].apply(lambda x: any(i in x for i in religious_genres) if type(x) == list else False)].groupby(\"Actor_gender\")[\"Years_to_1st\"].mean())\n",
    "print('')\n",
    "print('romantic')\n",
    "print(df_chara_small[df_chara_small[\"Movie_genres\"].apply(lambda x: any(i in x for i in romantic_genres) if type(x) == list else False)].groupby(\"Actor_gender\")[\"Years_to_1st\"].mean())\n",
    "print('')"
   ]
  },
  {
   "cell_type": "code",
   "execution_count": 41,
   "metadata": {},
   "outputs": [],
   "source": [
    "all_genres = [genre for sublist in df_movie['Movie_genres'] for genre in sublist]\n",
    "genre_counts = Counter(all_genres)"
   ]
  },
  {
   "cell_type": "code",
   "execution_count": 42,
   "metadata": {},
   "outputs": [],
   "source": [
    "#analysing the ratio of number of years to 1st role between gender for all the genre \n",
    "def ratio_years_to_first(movie_genre):\n",
    "    manwoman = df_chara_small[df_chara_small[\"Movie_genres\"].apply(lambda x: movie_genre in x if type(x) == list else False)].groupby(\"Actor_gender\")[\"Years_to_1st\"].mean()\n",
    "    if len(manwoman) != 2 or math.isnan(manwoman[\"M\"]):\n",
    "        return np.nan\n",
    "    else:\n",
    "        return manwoman[\"M\"]/manwoman[\"F\"]\n",
    "    \n",
    "genres = list(set([item for sublist in df_movie[\"Movie_genres\"].tolist() for item in sublist]))\n",
    "\n",
    "dict_genres = {}\n",
    "for genre in genres:\n",
    "    dict_genres[genre] = [ratio_years_to_first(genre), genre_counts[genre]/(sum(genre_counts.values()))]"
   ]
  },
  {
   "cell_type": "code",
   "execution_count": 43,
   "metadata": {},
   "outputs": [
    {
     "data": {
      "text/plain": [
       "1.1458116609553501"
      ]
     },
     "execution_count": 43,
     "metadata": {},
     "output_type": "execute_result"
    }
   ],
   "source": [
    "dict(sorted(dict_genres.items(), key=lambda item: item[1][1], reverse=True))\n",
    "\n",
    "weighted_ratio = {}\n",
    "for key in dict_genres.keys():\n",
    "    weighted_ratio[key] = dict_genres[key][0] * dict_genres[key][1]\n",
    "np.nansum(list(weighted_ratio.values()))"
   ]
  },
  {
   "cell_type": "code",
   "execution_count": 44,
   "metadata": {},
   "outputs": [
    {
     "data": {
      "text/plain": [
       "Actor_gender\n",
       "F    2.673256\n",
       "M    3.439831\n",
       "Name: Number_movies_1st, dtype: float64"
      ]
     },
     "execution_count": 44,
     "metadata": {},
     "output_type": "execute_result"
    }
   ],
   "source": [
    "#shows on average the number of films with first role per gender\n",
    "df_chara_small[\"Number_movies_1st\"] = df_chara_small[\"Movie_release_date_1st_role\"].apply(lambda x: len(x) if type(x) == list else np.nan)\n",
    "df_chara_small.groupby(\"Actor_gender\")[\"Number_movies_1st\"].mean()"
   ]
  },
  {
   "cell_type": "code",
   "execution_count": 45,
   "metadata": {},
   "outputs": [
    {
     "data": {
      "text/html": [
       "<div>\n",
       "<style scoped>\n",
       "    .dataframe tbody tr th:only-of-type {\n",
       "        vertical-align: middle;\n",
       "    }\n",
       "\n",
       "    .dataframe tbody tr th {\n",
       "        vertical-align: top;\n",
       "    }\n",
       "\n",
       "    .dataframe thead th {\n",
       "        text-align: right;\n",
       "    }\n",
       "</style>\n",
       "<table border=\"1\" class=\"dataframe\">\n",
       "  <thead>\n",
       "    <tr style=\"text-align: right;\">\n",
       "      <th></th>\n",
       "      <th>Actor_name</th>\n",
       "      <th>Wikipedia_movie_ID</th>\n",
       "      <th>Movie_release_date</th>\n",
       "      <th>Actor_date_of_birth</th>\n",
       "      <th>Actor_gender</th>\n",
       "      <th>Actor_age_at_movie_release</th>\n",
       "      <th>Starting_career</th>\n",
       "      <th>Movie_release_date_1st_role</th>\n",
       "      <th>Years_to_1st</th>\n",
       "      <th>Movie_genres</th>\n",
       "      <th>Number_movies_1st</th>\n",
       "    </tr>\n",
       "  </thead>\n",
       "  <tbody>\n",
       "    <tr>\n",
       "      <th>85720</th>\n",
       "      <td>Scarlett Johansson</td>\n",
       "      <td>[22144721, 22144721, 11723307, 1599839, 595971...</td>\n",
       "      <td>[2010.0, 2010.0, 1999.0, 2004.0, 2003.0, 2001....</td>\n",
       "      <td>1984-11-22</td>\n",
       "      <td>F</td>\n",
       "      <td>[25.0, 25.0, 14.0, 20.0, 18.0, 16.0, 11.0, 21....</td>\n",
       "      <td>1994.0</td>\n",
       "      <td>[1999, 2007, 2003, 1996, 2005, 2004, 2006, 200...</td>\n",
       "      <td>2.0</td>\n",
       "      <td>[Costume drama, History, Period piece, Drama, ...</td>\n",
       "      <td>9.0</td>\n",
       "    </tr>\n",
       "  </tbody>\n",
       "</table>\n",
       "</div>"
      ],
      "text/plain": [
       "               Actor_name                                 Wikipedia_movie_ID  \\\n",
       "85720  Scarlett Johansson  [22144721, 22144721, 11723307, 1599839, 595971...   \n",
       "\n",
       "                                      Movie_release_date Actor_date_of_birth  \\\n",
       "85720  [2010.0, 2010.0, 1999.0, 2004.0, 2003.0, 2001....          1984-11-22   \n",
       "\n",
       "      Actor_gender                         Actor_age_at_movie_release  \\\n",
       "85720            F  [25.0, 25.0, 14.0, 20.0, 18.0, 16.0, 11.0, 21....   \n",
       "\n",
       "       Starting_career                        Movie_release_date_1st_role  \\\n",
       "85720           1994.0  [1999, 2007, 2003, 1996, 2005, 2004, 2006, 200...   \n",
       "\n",
       "       Years_to_1st                                       Movie_genres  \\\n",
       "85720           2.0  [Costume drama, History, Period piece, Drama, ...   \n",
       "\n",
       "       Number_movies_1st  \n",
       "85720                9.0  "
      ]
     },
     "execution_count": 45,
     "metadata": {},
     "output_type": "execute_result"
    }
   ],
   "source": [
    "#checking with famous actresses. She has 9 films as first role\n",
    "df_chara_small[df_chara_small[\"Actor_name\"] == \"Scarlett Johansson\"]"
   ]
  },
  {
   "cell_type": "code",
   "execution_count": 46,
   "metadata": {},
   "outputs": [
    {
     "name": "stdout",
     "output_type": "stream",
     "text": [
      "12\n",
      "13\n",
      "Average number of films as 1st role for world main actress 10.666666666666666\n",
      "Average number of films as 1st role for world main actors 18.333333333333332\n"
     ]
    }
   ],
   "source": [
    "#doing some analysis between the most famous actors/actresses. To see how they compare. \n",
    "famous_actress = [\"Scarlett Johansson\", \"Jennifer Lawrence\", \"Angelina Jolie\", \"Meryl Streep\", \"Julia Roberts\", \"Cate Blanchett\", \"Nicole Kidman\", \"Charlize Theron\", \"Natalie Portman\", \"Emma Stone\", \"Anne Hathaway\", \"Sandra Bullock\"] #\"Reese Witherspoon\", \"Jessica Chastain\", \"Keira Knightley\", \"Kate Winslet\", \"Amy Adams\", \"Halle Berry\", \"Diane Keaton\", \"Julianne Moore\", \"Maggie Smith\"]\n",
    "print(len(famous_actress))\n",
    "famous_actors = [\"Tom Cruise\", \"Brad Pitt\", \"Johnny Depp\", \"Leonardo DiCaprio\", \"Will Smith\", \"Robert Downey Jr.\", \"Dwayne Johnson\", \"Tom Hanks\", \"George Clooney\", \"Daniel Craig\", \"Chris Hemsworth\", \"Chris Evans\", \"Chris Pratt\"]\n",
    "print(len(famous_actors))\n",
    "print(f'Average number of films as 1st role for world main actress {df_chara_small[df_chara_small[\"Actor_name\"].isin(famous_actress)][\"Number_movies_1st\"].mean()}')\n",
    "print(f'Average number of films as 1st role for world main actors {df_chara_small[df_chara_small[\"Actor_name\"].isin(famous_actors)][\"Number_movies_1st\"].mean()}')"
   ]
  },
  {
   "cell_type": "code",
   "execution_count": 47,
   "metadata": {},
   "outputs": [
    {
     "data": {
      "text/plain": [
       "30.719829699968795"
      ]
     },
     "execution_count": 47,
     "metadata": {},
     "output_type": "execute_result"
    }
   ],
   "source": [
    "#mean age of actor/actresse for first firlm\n",
    "df_chara_small[\"Actor_age_at_movie_release\"].apply(lambda x: min(x) if type(x) == list else np.nan).mean()"
   ]
  },
  {
   "cell_type": "markdown",
   "metadata": {},
   "source": [
    "### Looking at the age of the actors"
   ]
  },
  {
   "cell_type": "code",
   "execution_count": 48,
   "metadata": {},
   "outputs": [
    {
     "data": {
      "text/plain": [
       "{'Start': {'F': 27.075574577861165, 'M': 32.95518952744012}}"
      ]
     },
     "execution_count": 48,
     "metadata": {},
     "output_type": "execute_result"
    }
   ],
   "source": [
    "#now we look at the starting and ending age of all actors/actresses\n",
    "career_age = {}\n",
    "df_chara_small[\"Age_1st_role\"] = df_chara_small[\"Actor_age_at_movie_release\"].apply(lambda x: min(x) if type(x) == list else np.nan)\n",
    "career_age[\"Start\"] = df_chara_small.groupby('Actor_gender')[\"Age_1st_role\"].mean().to_dict()\n",
    "career_age"
   ]
  },
  {
   "cell_type": "markdown",
   "metadata": {},
   "source": [
    "Look at age of last movie between age. To see variance \n",
    "make a plot of all ratio of years to 1st role in movie for all genres \n"
   ]
  },
  {
   "cell_type": "code",
   "execution_count": 49,
   "metadata": {},
   "outputs": [
    {
     "data": {
      "text/plain": [
       "{'Start': {'F': 27.075574577861165, 'M': 32.95518952744012},\n",
       " 'End': {'F': 35.49888602251407, 'M': 42.415270085593036}}"
      ]
     },
     "execution_count": 49,
     "metadata": {},
     "output_type": "execute_result"
    }
   ],
   "source": [
    "df_chara_small[\"Last_movie_age\"] = df_chara_small[\"Actor_age_at_movie_release\"].apply(lambda x: max(x) if type(x) == list else np.nan)\n",
    "career_age[\"End\"] = df_chara_small.groupby('Actor_gender')[\"Last_movie_age\"].mean().to_dict()\n",
    "\n",
    "career_age"
   ]
  },
  {
   "cell_type": "code",
   "execution_count": 60,
   "metadata": {},
   "outputs": [
    {
     "data": {
      "image/svg+xml": [
       "<svg class=\"main-svg\" xmlns=\"http://www.w3.org/2000/svg\" xmlns:xlink=\"http://www.w3.org/1999/xlink\" width=\"600\" height=\"500\" style=\"\" viewBox=\"0 0 600 500\"><rect x=\"0\" y=\"0\" width=\"600\" height=\"500\" style=\"fill: rgb(255, 255, 255); fill-opacity: 1;\"/><defs id=\"defs-64de97\"><g class=\"clips\"><clipPath id=\"clip64de97xyplot\" class=\"plotclip\"><rect width=\"440\" height=\"320\"/></clipPath><clipPath class=\"axesclip\" id=\"clip64de97x\"><rect x=\"80\" y=\"0\" width=\"440\" height=\"500\"/></clipPath><clipPath class=\"axesclip\" id=\"clip64de97y\"><rect x=\"0\" y=\"100\" width=\"600\" height=\"320\"/></clipPath><clipPath class=\"axesclip\" id=\"clip64de97xy\"><rect x=\"80\" y=\"100\" width=\"440\" height=\"320\"/></clipPath></g><g class=\"gradients\"/><g class=\"patterns\"/></defs><g class=\"bglayer\"><rect class=\"bg\" x=\"80\" y=\"100\" width=\"440\" height=\"320\" style=\"fill: rgb(229, 236, 246); fill-opacity: 1; stroke-width: 0;\"/></g><g class=\"layer-below\"><g class=\"imagelayer\"/><g class=\"shapelayer\"/></g><g class=\"cartesianlayer\"><g class=\"subplot xy\"><g class=\"layer-subplot\"><g class=\"shapelayer\"/><g class=\"imagelayer\"/></g><g class=\"minor-gridlayer\"><g class=\"x\"/><g class=\"y\"/></g><g class=\"gridlayer\"><g class=\"x\"/><g class=\"y\"><path class=\"ygrid crisp\" transform=\"translate(0,384.16)\" d=\"M80,0h440\" style=\"stroke: rgb(255, 255, 255); stroke-opacity: 1; stroke-width: 1px;\"/><path class=\"ygrid crisp\" transform=\"translate(0,348.33000000000004)\" d=\"M80,0h440\" style=\"stroke: rgb(255, 255, 255); stroke-opacity: 1; stroke-width: 1px;\"/><path class=\"ygrid crisp\" transform=\"translate(0,312.49)\" d=\"M80,0h440\" style=\"stroke: rgb(255, 255, 255); stroke-opacity: 1; stroke-width: 1px;\"/><path class=\"ygrid crisp\" transform=\"translate(0,276.65999999999997)\" d=\"M80,0h440\" style=\"stroke: rgb(255, 255, 255); stroke-opacity: 1; stroke-width: 1px;\"/><path class=\"ygrid crisp\" transform=\"translate(0,240.82)\" d=\"M80,0h440\" style=\"stroke: rgb(255, 255, 255); stroke-opacity: 1; stroke-width: 1px;\"/><path class=\"ygrid crisp\" transform=\"translate(0,204.98000000000002)\" d=\"M80,0h440\" style=\"stroke: rgb(255, 255, 255); stroke-opacity: 1; stroke-width: 1px;\"/><path class=\"ygrid crisp\" transform=\"translate(0,169.15)\" d=\"M80,0h440\" style=\"stroke: rgb(255, 255, 255); stroke-opacity: 1; stroke-width: 1px;\"/><path class=\"ygrid crisp\" transform=\"translate(0,133.31)\" d=\"M80,0h440\" style=\"stroke: rgb(255, 255, 255); stroke-opacity: 1; stroke-width: 1px;\"/></g></g><g class=\"zerolinelayer\"><path class=\"yzl zl crisp\" transform=\"translate(0,420)\" d=\"M80,0h440\" style=\"stroke: rgb(255, 255, 255); stroke-opacity: 1; stroke-width: 2px;\"/></g><g class=\"layer-between\"><g class=\"shapelayer\"/><g class=\"imagelayer\"/></g><path class=\"xlines-below\"/><path class=\"ylines-below\"/><g class=\"overlines-below\"/><g class=\"xaxislayer-below\"/><g class=\"yaxislayer-below\"/><g class=\"overaxes-below\"/><g class=\"overplot\"><g class=\"xy\" transform=\"translate(80,100)\" clip-path=\"url(#clip64de97xyplot)\"><g class=\"barlayer mlayer\"><g class=\"trace bars\" style=\"opacity: 1;\"><g class=\"points\"><g class=\"point\"><path d=\"M22,320V83.8H110V320Z\" style=\"vector-effect: none; opacity: 1; stroke-width: 0.5px; fill: rgb(176, 196, 222); fill-opacity: 1; stroke: rgb(229, 236, 246); stroke-opacity: 1;\"/></g><g class=\"point\"><path d=\"M242,320V16H330V320Z\" style=\"vector-effect: none; opacity: 1; stroke-width: 0.5px; fill: rgb(176, 196, 222); fill-opacity: 1; stroke: rgb(229, 236, 246); stroke-opacity: 1;\"/></g></g></g><g class=\"trace bars\" style=\"opacity: 0.4;\"><g class=\"points\"><g class=\"point\"><path d=\"M110,320V125.94H198V320Z\" style=\"vector-effect: none; opacity: 1; stroke-width: 0.5px; fill: rgb(255, 0, 0); fill-opacity: 1; stroke: rgb(229, 236, 246); stroke-opacity: 1;\"/></g><g class=\"point\"><path d=\"M330,320V65.57H418V320Z\" style=\"vector-effect: none; opacity: 1; stroke-width: 0.5px; fill: rgb(255, 0, 0); fill-opacity: 1; stroke: rgb(229, 236, 246); stroke-opacity: 1;\"/></g></g></g></g></g></g><path class=\"xlines-above crisp\" d=\"M0,0\" style=\"fill: none;\"/><path class=\"ylines-above crisp\" d=\"M0,0\" style=\"fill: none;\"/><g class=\"overlines-above\"/><g class=\"xaxislayer-above\"><g class=\"xtick\"><text text-anchor=\"middle\" x=\"0\" y=\"433\" transform=\"translate(190,0)\" style=\"font-family: 'Open Sans', verdana, arial, sans-serif; font-size: 12px; fill: rgb(42, 63, 95); fill-opacity: 1; white-space: pre; opacity: 1;\">Start</text></g><g class=\"xtick\"><text text-anchor=\"middle\" x=\"0\" y=\"433\" transform=\"translate(410,0)\" style=\"font-family: 'Open Sans', verdana, arial, sans-serif; font-size: 12px; fill: rgb(42, 63, 95); fill-opacity: 1; white-space: pre; opacity: 1;\">End</text></g></g><g class=\"yaxislayer-above\"><g class=\"ytick\"><text text-anchor=\"end\" x=\"79\" y=\"4.199999999999999\" transform=\"translate(0,420)\" style=\"font-family: 'Open Sans', verdana, arial, sans-serif; font-size: 12px; fill: rgb(42, 63, 95); fill-opacity: 1; white-space: pre; opacity: 1;\">0</text></g><g class=\"ytick\"><text text-anchor=\"end\" x=\"79\" y=\"4.199999999999999\" style=\"font-family: 'Open Sans', verdana, arial, sans-serif; font-size: 12px; fill: rgb(42, 63, 95); fill-opacity: 1; white-space: pre; opacity: 1;\" transform=\"translate(0,384.16)\">5</text></g><g class=\"ytick\"><text text-anchor=\"end\" x=\"79\" y=\"4.199999999999999\" style=\"font-family: 'Open Sans', verdana, arial, sans-serif; font-size: 12px; fill: rgb(42, 63, 95); fill-opacity: 1; white-space: pre; opacity: 1;\" transform=\"translate(0,348.33000000000004)\">10</text></g><g class=\"ytick\"><text text-anchor=\"end\" x=\"79\" y=\"4.199999999999999\" style=\"font-family: 'Open Sans', verdana, arial, sans-serif; font-size: 12px; fill: rgb(42, 63, 95); fill-opacity: 1; white-space: pre; opacity: 1;\" transform=\"translate(0,312.49)\">15</text></g><g class=\"ytick\"><text text-anchor=\"end\" x=\"79\" y=\"4.199999999999999\" style=\"font-family: 'Open Sans', verdana, arial, sans-serif; font-size: 12px; fill: rgb(42, 63, 95); fill-opacity: 1; white-space: pre; opacity: 1;\" transform=\"translate(0,276.65999999999997)\">20</text></g><g class=\"ytick\"><text text-anchor=\"end\" x=\"79\" y=\"4.199999999999999\" style=\"font-family: 'Open Sans', verdana, arial, sans-serif; font-size: 12px; fill: rgb(42, 63, 95); fill-opacity: 1; white-space: pre; opacity: 1;\" transform=\"translate(0,240.82)\">25</text></g><g class=\"ytick\"><text text-anchor=\"end\" x=\"79\" y=\"4.199999999999999\" style=\"font-family: 'Open Sans', verdana, arial, sans-serif; font-size: 12px; fill: rgb(42, 63, 95); fill-opacity: 1; white-space: pre; opacity: 1;\" transform=\"translate(0,204.98000000000002)\">30</text></g><g class=\"ytick\"><text text-anchor=\"end\" x=\"79\" y=\"4.199999999999999\" style=\"font-family: 'Open Sans', verdana, arial, sans-serif; font-size: 12px; fill: rgb(42, 63, 95); fill-opacity: 1; white-space: pre; opacity: 1;\" transform=\"translate(0,169.15)\">35</text></g><g class=\"ytick\"><text text-anchor=\"end\" x=\"79\" y=\"4.199999999999999\" style=\"font-family: 'Open Sans', verdana, arial, sans-serif; font-size: 12px; fill: rgb(42, 63, 95); fill-opacity: 1; white-space: pre; opacity: 1;\" transform=\"translate(0,133.31)\">40</text></g></g><g class=\"overaxes-above\"/></g></g><g class=\"polarlayer\"/><g class=\"smithlayer\"/><g class=\"ternarylayer\"/><g class=\"geolayer\"/><g class=\"funnelarealayer\"/><g class=\"pielayer\"/><g class=\"iciclelayer\"/><g class=\"treemaplayer\"/><g class=\"sunburstlayer\"/><g class=\"glimages\"/><defs id=\"topdefs-64de97\"><g class=\"clips\"/><clipPath id=\"legend64de97\"><rect width=\"56\" height=\"48\" x=\"0\" y=\"0\"/></clipPath></defs><g class=\"layer-above\"><g class=\"imagelayer\"/><g class=\"shapelayer\"/></g><g class=\"infolayer\"><g class=\"legend\" pointer-events=\"all\" transform=\"translate(520,67.99999999999997)\"><rect class=\"bg\" shape-rendering=\"crispEdges\" width=\"56\" height=\"48\" x=\"0\" y=\"0\" style=\"stroke: rgb(68, 68, 68); stroke-opacity: 1; fill: rgb(255, 255, 255); fill-opacity: 1; stroke-width: 0px;\"/><g class=\"scrollbox\" transform=\"\" clip-path=\"url(#legend64de97)\"><g class=\"groups\"><g class=\"traces\" transform=\"translate(0,14.5)\" style=\"opacity: 1;\"><text class=\"legendtext\" text-anchor=\"start\" x=\"40\" y=\"4.680000000000001\" style=\"font-family: 'Open Sans', verdana, arial, sans-serif; font-size: 12px; fill: rgb(42, 63, 95); fill-opacity: 1; white-space: pre;\">M</text><g class=\"layers\" style=\"opacity: 1;\"><g class=\"legendfill\"/><g class=\"legendlines\"/><g class=\"legendsymbols\"><g class=\"legendpoints\"><path class=\"legendundefined\" d=\"M6,6H-6V-6H6Z\" transform=\"translate(20,0)\" style=\"stroke-width: 0.5px; fill: rgb(176, 196, 222); fill-opacity: 1; stroke: rgb(229, 236, 246); stroke-opacity: 1;\"/></g></g></g><rect class=\"legendtoggle\" x=\"0\" y=\"-9.5\" width=\"50.125\" height=\"19\" style=\"fill: rgb(0, 0, 0); fill-opacity: 0;\"/></g><g class=\"traces\" transform=\"translate(0,33.5)\" style=\"opacity: 1;\"><text class=\"legendtext\" text-anchor=\"start\" x=\"40\" y=\"4.680000000000001\" style=\"font-family: 'Open Sans', verdana, arial, sans-serif; font-size: 12px; fill: rgb(42, 63, 95); fill-opacity: 1; white-space: pre;\">F</text><g class=\"layers\" style=\"opacity: 0.4;\"><g class=\"legendfill\"/><g class=\"legendlines\"/><g class=\"legendsymbols\"><g class=\"legendpoints\"><path class=\"legendundefined\" d=\"M6,6H-6V-6H6Z\" transform=\"translate(20,0)\" style=\"stroke-width: 0.5px; fill: rgb(255, 0, 0); fill-opacity: 1; stroke: rgb(229, 236, 246); stroke-opacity: 1;\"/></g></g></g><rect class=\"legendtoggle\" x=\"0\" y=\"-9.5\" width=\"50.125\" height=\"19\" style=\"fill: rgb(0, 0, 0); fill-opacity: 0;\"/></g></g></g><rect class=\"scrollbar\" rx=\"20\" ry=\"3\" width=\"0\" height=\"0\" x=\"0\" y=\"0\" style=\"fill: rgb(128, 139, 164); fill-opacity: 1;\"/></g><g class=\"g-gtitle\"><text class=\"gtitle\" x=\"30\" y=\"50\" text-anchor=\"start\" dy=\"0em\" style=\"opacity: 1; font-family: 'Open Sans', verdana, arial, sans-serif; font-size: 17px; fill: rgb(42, 63, 95); fill-opacity: 1; white-space: pre;\"><tspan class=\"line\" dy=\"0em\" x=\"30\" y=\"50\">Average age of actors/actresses </tspan><tspan class=\"line\" dy=\"1.3em\" x=\"30\" y=\"50\">at the beginning and end of their career</tspan></text></g><g class=\"g-xtitle\"><text class=\"xtitle\" x=\"300\" y=\"459.8\" text-anchor=\"middle\" style=\"opacity: 1; font-family: 'Open Sans', verdana, arial, sans-serif; font-size: 14px; fill: rgb(42, 63, 95); fill-opacity: 1; white-space: pre;\">Actors</text></g><g class=\"g-ytitle\"><text class=\"ytitle\" transform=\"rotate(-90,44.334375,260)\" x=\"44.334375\" y=\"260\" text-anchor=\"middle\" style=\"opacity: 1; font-family: 'Open Sans', verdana, arial, sans-serif; font-size: 14px; fill: rgb(42, 63, 95); fill-opacity: 1; white-space: pre;\">Age</text></g></g></svg>"
      ]
     },
     "metadata": {},
     "output_type": "display_data"
    }
   ],
   "source": [
    "\n",
    "fig = go.Figure()\n",
    "\n",
    "fig.update_layout(\n",
    "    autosize=True,\n",
    "    width=600,\n",
    "    height=500,\n",
    ")\n",
    "fig.add_trace(go.Bar(\n",
    "    x=['Start', 'End'],\n",
    "    y=[career_age[\"Start\"][\"M\"], career_age[\"End\"][\"M\"]],\n",
    "    name='M',\n",
    "    marker_color='lightsteelblue'\n",
    "))\n",
    "fig.add_trace(go.Bar(\n",
    "    x=['Start', 'End'],\n",
    "    y=[career_age[\"Start\"][\"F\"], career_age[\"End\"][\"F\"]],\n",
    "    name='F',\n",
    "    marker_color='red',\n",
    "    opacity=0.4\n",
    "))\n",
    "fig.update_layout(\n",
    "    title=\"Average age of actors/actresses <br>at the beginning and end of their career\",\n",
    "    xaxis=dict(title=\"Actors\"),\n",
    "    yaxis=dict(title=\"Age\"),\n",
    "    legend=dict(x=1, y=1.1, orientation=\"v\"),\n",
    ")\n",
    "fig.show(\"svg\")\n",
    "\n",
    "fig.write_html(\"average_age_of_actors.html\")"
   ]
  },
  {
   "cell_type": "code",
   "execution_count": 51,
   "metadata": {},
   "outputs": [],
   "source": [
    "#same analysis but looking at top movies\n",
    "top_movies = df_movie.sort_values(by= \"Movie_box_office_revenue\", ascending=False).head(7217)[\"Wikipedia_movie_ID\"]\n",
    "#7217 films wiht revenue"
   ]
  },
  {
   "cell_type": "code",
   "execution_count": 52,
   "metadata": {},
   "outputs": [],
   "source": [
    "#selecting all the actors that play in big movie\n",
    "actors_top_movies = df_chara_small[df_chara_small.apply(lambda x: any(i in list(top_movies) for i in x[\"Wikipedia_movie_ID\"]) if type(x[\"Wikipedia_movie_ID\"])==list else False, axis=1)]"
   ]
  },
  {
   "cell_type": "code",
   "execution_count": 53,
   "metadata": {},
   "outputs": [
    {
     "name": "stderr",
     "output_type": "stream",
     "text": [
      "/var/folders/4l/yz8mrkq91sl802y_wzywbvnc0000gn/T/ipykernel_73609/3971206100.py:10: SettingWithCopyWarning:\n",
      "\n",
      "\n",
      "A value is trying to be set on a copy of a slice from a DataFrame.\n",
      "Try using .loc[row_indexer,col_indexer] = value instead\n",
      "\n",
      "See the caveats in the documentation: https://pandas.pydata.org/pandas-docs/stable/user_guide/indexing.html#returning-a-view-versus-a-copy\n",
      "\n",
      "/var/folders/4l/yz8mrkq91sl802y_wzywbvnc0000gn/T/ipykernel_73609/3971206100.py:11: SettingWithCopyWarning:\n",
      "\n",
      "\n",
      "A value is trying to be set on a copy of a slice from a DataFrame.\n",
      "Try using .loc[row_indexer,col_indexer] = value instead\n",
      "\n",
      "See the caveats in the documentation: https://pandas.pydata.org/pandas-docs/stable/user_guide/indexing.html#returning-a-view-versus-a-copy\n",
      "\n"
     ]
    }
   ],
   "source": [
    "def find_movie_pos_and_age(movie_list):\n",
    "    ##finds the position of the top movie in the movie list of the df\n",
    "    dic_movie = {}\n",
    "    for mov in movie_list:\n",
    "        if mov in list(top_movies):\n",
    "            dic_movie[mov] = movie_list.index(mov)\n",
    "    \n",
    "    return dic_movie\n",
    "\n",
    "actors_top_movies[\"top_films\"] = actors_top_movies[\"Wikipedia_movie_ID\"].apply(lambda x: list(find_movie_pos_and_age(x).keys()))\n",
    "actors_top_movies[\"index_of_top_film\"] = actors_top_movies[\"Wikipedia_movie_ID\"].apply(lambda x: list(find_movie_pos_and_age(x).values()))"
   ]
  },
  {
   "cell_type": "code",
   "execution_count": 54,
   "metadata": {},
   "outputs": [
    {
     "name": "stderr",
     "output_type": "stream",
     "text": [
      "/var/folders/4l/yz8mrkq91sl802y_wzywbvnc0000gn/T/ipykernel_73609/2701808925.py:1: SettingWithCopyWarning:\n",
      "\n",
      "\n",
      "A value is trying to be set on a copy of a slice from a DataFrame.\n",
      "Try using .loc[row_indexer,col_indexer] = value instead\n",
      "\n",
      "See the caveats in the documentation: https://pandas.pydata.org/pandas-docs/stable/user_guide/indexing.html#returning-a-view-versus-a-copy\n",
      "\n"
     ]
    }
   ],
   "source": [
    "actors_top_movies[\"Age_at_top_film\"] = actors_top_movies.apply(lambda x: [x[\"Actor_age_at_movie_release\"][i] for i in x[\"index_of_top_film\"]], axis=1)"
   ]
  },
  {
   "cell_type": "code",
   "execution_count": 55,
   "metadata": {},
   "outputs": [],
   "source": [
    "age_top = actors_top_movies[[\"Actor_gender\", \"Age_at_top_film\"]].explode(\"Age_at_top_film\")"
   ]
  },
  {
   "cell_type": "code",
   "execution_count": 56,
   "metadata": {},
   "outputs": [
    {
     "name": "stdout",
     "output_type": "stream",
     "text": [
      "34.35287735635821\n",
      "40.48450587230901\n"
     ]
    },
    {
     "data": {
      "image/png": "[encoded data removed]",
      "text/plain": [
       "<Figure size 1000x800 with 2 Axes>"
      ]
     },
     "metadata": {},
     "output_type": "display_data"
    }
   ],
   "source": [
    "#gender analysis for top actors \n",
    "import seaborn as sns\n",
    "import statistics as stats\n",
    "ages_w = age_top[(age_top['Actor_gender'] == 'F') & (age_top['Age_at_top_film'].notna())]['Age_at_top_film']\n",
    "ages_m = age_top[(age_top['Actor_gender'] == 'M') & (age_top['Age_at_top_film'].notna())]['Age_at_top_film']\n",
    "\n",
    "print(ages_w.mean())\n",
    "print(ages_m.mean())\n",
    "fig, axes = plt.subplots(2, 1, figsize=(10, 8), sharex=False, gridspec_kw={'hspace': 0.3})\n",
    "\n",
    "\n",
    "sns.kdeplot(ages_w, ax=axes[0], color='pink', linewidth=2, label=\"Density Curve\")\n",
    "\n",
    "axes[0].axvline(stats.mode(ages_w), color='red', linestyle='--', label=f\"Mode Age : {stats.mode(ages_w)}\")\n",
    "axes[0].scatter(\n",
    "    ages_w, \n",
    "    np.random.uniform(0, 0.01, len(ages_w)), \n",
    "    color='red', \n",
    "    alpha=0.4, \n",
    "    s=5, \n",
    "    label=\"Actresses' Ages\"\n",
    ")\n",
    "axes[0].set_xlim(0, 100)\n",
    "axes[0].set_title(\"Actresses\")\n",
    "axes[0].set_xlabel(\"Age\")\n",
    "axes[0].set_xticks(np.arange(0, 100, 10))\n",
    "\n",
    "axes[0].legend()\n",
    "axes[0].grid(alpha=0.3)\n",
    "\n",
    "\n",
    "sns.kdeplot(ages_m, ax=axes[1], color='lightsteelblue', linewidth=2, label=\"Density Curve\")\n",
    "axes[1].axvline(stats.mode(ages_m), color='lightsteelblue', linestyle='--', label=f\"Mode Age: {stats.mode(ages_m)}\")\n",
    "axes[1].scatter(\n",
    "    ages_m, \n",
    "    np.random.uniform(0, 0.01, len(ages_m)), \n",
    "    color='lightsteelblue', \n",
    "    alpha=0.4, \n",
    "    s=5, \n",
    "    label=\"Actors' Ages\"\n",
    ")\n",
    "\n",
    "axes[1].set_title(\"Actors\")\n",
    "axes[1].set_xlabel(\"Age\")\n",
    "axes[1].set_xlim(0, 100)\n",
    "axes[1].set_xticks(np.arange(0, 100, 10))\n",
    "\n",
    "axes[1].legend()\n",
    "axes[1].grid(alpha=0.3)\n",
    "\n",
    "plt.suptitle(\"Age Distribution: Actresses vs Actors for top movies\", fontsize=16)\n",
    "plt.show(\"svg\")\n",
    "\n",
    "\n",
    "#fig.savefig(\"age_distribution.png\")\n"
   ]
  },
  {
   "cell_type": "markdown",
   "metadata": {},
   "source": [
    "### Looking at age distribution for first role"
   ]
  },
  {
   "cell_type": "code",
   "execution_count": 57,
   "metadata": {},
   "outputs": [],
   "source": [
    "df_age_1st = df_chara_small[[\"Movie_release_date_1st_role\", \"Actor_name\", \"Actor_date_of_birth\", 'Actor_gender', 'Wikipedia_movie_ID']].dropna()\n",
    "df_age_1st[\"Actor_date_of_birth\"] = df_age_1st[\"Actor_date_of_birth\"].apply(lambda x: x[:4] if type(x)!= int else x)\n",
    "df_age_1st = df_age_1st.explode(\"Movie_release_date_1st_role\")\n",
    "df_age_1st[\"Age_first_role\"] = df_age_1st.apply(lambda x: int(x[\"Movie_release_date_1st_role\"]) - int(x[\"Actor_date_of_birth\"]), axis=1)\n",
    "\n"
   ]
  },
  {
   "cell_type": "code",
   "execution_count": 58,
   "metadata": {},
   "outputs": [
    {
     "data": {
      "text/plain": [
       "22560"
      ]
     },
     "execution_count": 58,
     "metadata": {},
     "output_type": "execute_result"
    }
   ],
   "source": [
    "len(df_age_1st)"
   ]
  },
  {
   "cell_type": "code",
   "execution_count": 1,
   "metadata": {},
   "outputs": [
    {
     "ename": "NameError",
     "evalue": "name 'df_age_1st' is not defined",
     "output_type": "error",
     "traceback": [
      "\u001b[0;31m---------------------------------------------------------------------------\u001b[0m",
      "\u001b[0;31mNameError\u001b[0m                                 Traceback (most recent call last)",
      "Cell \u001b[0;32mIn[1], line 3\u001b[0m\n\u001b[1;32m      1\u001b[0m \u001b[38;5;28;01mimport\u001b[39;00m \u001b[38;5;21;01mseaborn\u001b[39;00m \u001b[38;5;28;01mas\u001b[39;00m \u001b[38;5;21;01msns\u001b[39;00m\n\u001b[1;32m      2\u001b[0m \u001b[38;5;28;01mimport\u001b[39;00m \u001b[38;5;21;01mstatistics\u001b[39;00m \u001b[38;5;28;01mas\u001b[39;00m \u001b[38;5;21;01mstats\u001b[39;00m\n\u001b[0;32m----> 3\u001b[0m ages_w \u001b[38;5;241m=\u001b[39m \u001b[43mdf_age_1st\u001b[49m[(df_age_1st[\u001b[38;5;124m'\u001b[39m\u001b[38;5;124mActor_gender\u001b[39m\u001b[38;5;124m'\u001b[39m] \u001b[38;5;241m==\u001b[39m \u001b[38;5;124m'\u001b[39m\u001b[38;5;124mF\u001b[39m\u001b[38;5;124m'\u001b[39m) \u001b[38;5;241m&\u001b[39m (df_age_1st[\u001b[38;5;124m\"\u001b[39m\u001b[38;5;124mMovie_release_date_1st_role\u001b[39m\u001b[38;5;124m\"\u001b[39m] \u001b[38;5;241m>\u001b[39m \u001b[38;5;241m1900\u001b[39m)][\u001b[38;5;124m'\u001b[39m\u001b[38;5;124mAge_first_role\u001b[39m\u001b[38;5;124m'\u001b[39m]\n\u001b[1;32m      4\u001b[0m ages_m \u001b[38;5;241m=\u001b[39m df_age_1st[(df_age_1st[\u001b[38;5;124m'\u001b[39m\u001b[38;5;124mActor_gender\u001b[39m\u001b[38;5;124m'\u001b[39m] \u001b[38;5;241m==\u001b[39m \u001b[38;5;124m'\u001b[39m\u001b[38;5;124mM\u001b[39m\u001b[38;5;124m'\u001b[39m) \u001b[38;5;241m&\u001b[39m (df_age_1st[\u001b[38;5;124m\"\u001b[39m\u001b[38;5;124mMovie_release_date_1st_role\u001b[39m\u001b[38;5;124m\"\u001b[39m] \u001b[38;5;241m>\u001b[39m \u001b[38;5;241m1900\u001b[39m)][\u001b[38;5;124m'\u001b[39m\u001b[38;5;124mAge_first_role\u001b[39m\u001b[38;5;124m'\u001b[39m]\n\u001b[1;32m      6\u001b[0m \u001b[38;5;28mprint\u001b[39m(\u001b[38;5;124m\"\u001b[39m\u001b[38;5;124mmean age women:\u001b[39m\u001b[38;5;124m\"\u001b[39m, ages_w\u001b[38;5;241m.\u001b[39mmean())\n",
      "\u001b[0;31mNameError\u001b[0m: name 'df_age_1st' is not defined"
     ]
    }
   ],
   "source": [
    "import seaborn as sns\n",
    "import statistics as stats\n",
    "ages_w = df_age_1st[(df_age_1st['Actor_gender'] == 'F') & (df_age_1st[\"Movie_release_date_1st_role\"] > 1900)]['Age_first_role']\n",
    "ages_m = df_age_1st[(df_age_1st['Actor_gender'] == 'M') & (df_age_1st[\"Movie_release_date_1st_role\"] > 1900)]['Age_first_role']\n",
    "\n",
    "print(\"mean age women:\", ages_w.mean())\n",
    "print(\"mean age men:\", ages_m.mean())\n",
    "multm = stats.multimode(ages_m)\n",
    "multw = stats.multimode(ages_w)\n",
    "fig, axes = plt.subplots(2, 1, figsize=(7, 7), sharex=False, gridspec_kw={'hspace': 0.3})\n",
    "\n",
    "\n",
    "sns.kdeplot(ages_w, ax=axes[0], color='lightcoral', linewidth=2, label=\"Density Curve\")\n",
    "\n",
    "axes[0].axvline(multw, color='lightcoral', linestyle='--', label=f\"Mode Age : {multw}\")\n",
    "axes[0].scatter(\n",
    "    ages_w, \n",
    "    np.random.uniform(0, 0.01, len(ages_w)), \n",
    "    color='lightcoral', \n",
    "    alpha=0.1, \n",
    "    s=5, \n",
    "    label=\"Actresses' Ages\"\n",
    ")\n",
    "\n",
    "axes[0].set_title(\"Actresses\")\n",
    "axes[0].set_xlabel(\"Age\")\n",
    "axes[0].set_xlim(0, 100)\n",
    "axes[0].set_xticks(np.arange(0, 100, 10))\n",
    "axes[0].legend()\n",
    "axes[0].grid(alpha=0.3)\n",
    "\n",
    "\n",
    "sns.kdeplot(ages_m, ax=axes[1], color='lightsteelblue', linewidth=2, label=\"Density Curve\")\n",
    "axes[1].axvline(multm, color='lightsteelblue', linestyle='--', label=f\"Mode Age: {multm}\")\n",
    "axes[1].scatter(\n",
    "    ages_m, \n",
    "    np.random.uniform(0, 0.01, len(ages_m)), \n",
    "    color='lightsteelblue', \n",
    "    alpha=0.1, \n",
    "    s=5, \n",
    "    label=\"Actors' Ages\"\n",
    ")\n",
    "\n",
    "axes[1].set_title(\"Actors\")\n",
    "axes[1].set_xlabel(\"Age\")\n",
    "axes[1].set_xlim(0, 100)\n",
    "axes[1].set_xticks(np.arange(0, 100, 10))\n",
    "axes[1].legend()\n",
    "axes[1].grid(alpha=0.3)\n",
    "\n",
    "\n",
    "plt.suptitle(\"Age Distribution: Actresses vs Actors for first role\", fontsize=16)\n",
    "plt.show(\"svg\")\n",
    "\n",
    "#fig.savefig(\"age_distribution_first_role.png\")\n"
   ]
  },
  {
   "cell_type": "markdown",
   "metadata": {},
   "source": [
    "# Gender description analysis:"
   ]
  },
  {
   "cell_type": "code",
   "execution_count": 2,
   "metadata": {},
   "outputs": [
    {
     "ename": "NameError",
     "evalue": "name 'char_sum_CMU' is not defined",
     "output_type": "error",
     "traceback": [
      "\u001b[0;31m---------------------------------------------------------------------------\u001b[0m",
      "\u001b[0;31mNameError\u001b[0m                                 Traceback (most recent call last)",
      "Cell \u001b[0;32mIn[2], line 2\u001b[0m\n\u001b[1;32m      1\u001b[0m \u001b[38;5;66;03m# Adding female percentage as column\u001b[39;00m\n\u001b[0;32m----> 2\u001b[0m char_sum_CMU[\u001b[38;5;124m'\u001b[39m\u001b[38;5;124mFemale Percentage\u001b[39m\u001b[38;5;124m'\u001b[39m] \u001b[38;5;241m=\u001b[39m \u001b[43mchar_sum_CMU\u001b[49m[\u001b[38;5;124m'\u001b[39m\u001b[38;5;124mActor gender\u001b[39m\u001b[38;5;124m'\u001b[39m]\u001b[38;5;241m.\u001b[39mapply(wu\u001b[38;5;241m.\u001b[39mcalculate_female_percentage)\n\u001b[1;32m      3\u001b[0m char_sum_CMU \u001b[38;5;241m=\u001b[39m char_sum_CMU[char_sum_CMU[\u001b[38;5;124m'\u001b[39m\u001b[38;5;124mFemale Percentage\u001b[39m\u001b[38;5;124m'\u001b[39m] \u001b[38;5;241m!=\u001b[39m \u001b[38;5;241m-\u001b[39m\u001b[38;5;241m1\u001b[39m]\n\u001b[1;32m      4\u001b[0m female_movies \u001b[38;5;241m=\u001b[39m char_sum_CMU[char_sum_CMU[\u001b[38;5;124m\"\u001b[39m\u001b[38;5;124mFemale Percentage\u001b[39m\u001b[38;5;124m\"\u001b[39m] \u001b[38;5;241m>\u001b[39m\u001b[38;5;241m=\u001b[39m \u001b[38;5;241m66\u001b[39m]\u001b[38;5;241m.\u001b[39mcopy()\n",
      "\u001b[0;31mNameError\u001b[0m: name 'char_sum_CMU' is not defined"
     ]
    }
   ],
   "source": [
    "char_sum_CMU = df_movie\n",
    "# Adding female percentage as column\n",
    "char_sum_CMU['Female Percentage'] = char_sum_CMU['Actor gender'].apply(wu.calculate_female_percentage)\n",
    "char_sum_CMU = char_sum_CMU[char_sum_CMU['Female Percentage'] != -1]\n",
    "female_movies = char_sum_CMU[char_sum_CMU[\"Female Percentage\"] >= 66].copy()\n",
    "male_movies = char_sum_CMU[char_sum_CMU[\"Female Percentage\"] <= 33].copy()\n",
    "print('Number of movies with high female ratio: ', len(female_movies))\n",
    "print('Number of movies with high male ratio: ', len(male_movies))"
   ]
  },
  {
   "cell_type": "markdown",
   "metadata": {},
   "source": [
    "## Plotting distribution of female percentage:"
   ]
  },
  {
   "cell_type": "code",
   "execution_count": 3,
   "metadata": {},
   "outputs": [
    {
     "ename": "NameError",
     "evalue": "name 'wu' is not defined",
     "output_type": "error",
     "traceback": [
      "\u001b[0;31m---------------------------------------------------------------------------\u001b[0m",
      "\u001b[0;31mNameError\u001b[0m                                 Traceback (most recent call last)",
      "Cell \u001b[0;32mIn[3], line 1\u001b[0m\n\u001b[0;32m----> 1\u001b[0m \u001b[43mwu\u001b[49m\u001b[38;5;241m.\u001b[39mplot_female_percentage_graph(char_sum_CMU)\n",
      "\u001b[0;31mNameError\u001b[0m: name 'wu' is not defined"
     ]
    }
   ],
   "source": [
    "wu.plot_female_percentage_graph(char_sum_CMU)"
   ]
  },
  {
   "cell_type": "markdown",
   "metadata": {},
   "source": [
    "## Finding character keywords in the summaries:"
   ]
  },
  {
   "cell_type": "code",
   "execution_count": 4,
   "metadata": {},
   "outputs": [
    {
     "ename": "NameError",
     "evalue": "name 'os' is not defined",
     "output_type": "error",
     "traceback": [
      "\u001b[0;31m---------------------------------------------------------------------------\u001b[0m",
      "\u001b[0;31mNameError\u001b[0m                                 Traceback (most recent call last)",
      "Cell \u001b[0;32mIn[4], line 2\u001b[0m\n\u001b[1;32m      1\u001b[0m \u001b[38;5;66;03m# Extract adjectives and verbs from each movie summary for the female df\u001b[39;00m\n\u001b[0;32m----> 2\u001b[0m \u001b[38;5;28;01mif\u001b[39;00m \u001b[43mos\u001b[49m\u001b[38;5;241m.\u001b[39mpath\u001b[38;5;241m.\u001b[39mexists(\u001b[38;5;124m\"\u001b[39m\u001b[38;5;124mdata/pickles/female_movies.pkl\u001b[39m\u001b[38;5;124m\"\u001b[39m):\n\u001b[1;32m      3\u001b[0m     female_movies \u001b[38;5;241m=\u001b[39m pd\u001b[38;5;241m.\u001b[39mread_pickle(\u001b[38;5;124m\"\u001b[39m\u001b[38;5;124mdata/pickles/female_movies.pkl\u001b[39m\u001b[38;5;124m\"\u001b[39m)\n\u001b[1;32m      4\u001b[0m \u001b[38;5;28;01melse\u001b[39;00m:\n",
      "\u001b[0;31mNameError\u001b[0m: name 'os' is not defined"
     ]
    }
   ],
   "source": [
    "# Extract adjectives and verbs from each movie summary for the female df\n",
    "if os.path.exists(\"data/pickles/female_movies.pkl\"):\n",
    "    female_movies = pd.read_pickle(\"data/pickles/female_movies.pkl\")\n",
    "else:\n",
    "    female_movies['Adj_Tokens'] = wu.parallel_apply_multiprocessing(female_movies['Movie_Summary'],wu.extract_adj,n_cores=mp.cpu_count())\n",
    "    female_movies['Verb_Tokens'] = wu.parallel_apply_multiprocessing(female_movies['Movie_Summary'],wu.extract_verb,n_cores=mp.cpu_count())\n",
    "    female_movies.to_pickle(\"data/pickles/female_movies.pkl\")\n",
    "    \n",
    "# Extract adjectives and verbs from each movie summary for the male df\n",
    "if os.path.exists(\"data/pickles/male_movies.pkl\"):\n",
    "    male_movies = pd.read_pickle(\"data/pickles/male_movies.pkl\")\n",
    "else:\n",
    "    male_movies['Adj_Tokens'] = wu.parallel_apply_multiprocessing(male_movies['Movie_Summary'],wu.extract_adj,n_cores=mp.cpu_count())\n",
    "    male_movies['Verb_Tokens'] = wu.parallel_apply_multiprocessing(male_movies['Movie_Summary'],wu.extract_verb,n_cores=mp.cpu_count())\n",
    "    male_movies.to_pickle(\"data/pickles/male_movies.pkl\")"
   ]
  },
  {
   "cell_type": "code",
   "execution_count": 5,
   "metadata": {},
   "outputs": [
    {
     "ename": "NameError",
     "evalue": "name 'wu' is not defined",
     "output_type": "error",
     "traceback": [
      "\u001b[0;31m---------------------------------------------------------------------------\u001b[0m",
      "\u001b[0;31mNameError\u001b[0m                                 Traceback (most recent call last)",
      "Cell \u001b[0;32mIn[5], line 2\u001b[0m\n\u001b[1;32m      1\u001b[0m \u001b[38;5;66;03m# Flatten the list of all adjectives and verbs\u001b[39;00m\n\u001b[0;32m----> 2\u001b[0m fem_adj_counts \u001b[38;5;241m=\u001b[39m \u001b[43mwu\u001b[49m\u001b[38;5;241m.\u001b[39mcreate_counter(female_movies[\u001b[38;5;124m\"\u001b[39m\u001b[38;5;124mAdj_Tokens\u001b[39m\u001b[38;5;124m\"\u001b[39m])\n\u001b[1;32m      3\u001b[0m fem_verb_counts \u001b[38;5;241m=\u001b[39m wu\u001b[38;5;241m.\u001b[39mcreate_counter(female_movies[\u001b[38;5;124m\"\u001b[39m\u001b[38;5;124mVerb_Tokens\u001b[39m\u001b[38;5;124m\"\u001b[39m])\n\u001b[1;32m      4\u001b[0m male_adj_counts \u001b[38;5;241m=\u001b[39m wu\u001b[38;5;241m.\u001b[39mcreate_counter(male_movies[\u001b[38;5;124m\"\u001b[39m\u001b[38;5;124mAdj_Tokens\u001b[39m\u001b[38;5;124m\"\u001b[39m])\n",
      "\u001b[0;31mNameError\u001b[0m: name 'wu' is not defined"
     ]
    }
   ],
   "source": [
    "# Flatten the list of all adjectives and verbs\n",
    "fem_adj_counts = wu.create_counter(female_movies[\"Adj_Tokens\"])\n",
    "fem_verb_counts = wu.create_counter(female_movies[\"Verb_Tokens\"])\n",
    "male_adj_counts = wu.create_counter(male_movies[\"Adj_Tokens\"])\n",
    "male_verb_counts = wu.create_counter(male_movies[\"Verb_Tokens\"])"
   ]
  },
  {
   "cell_type": "code",
   "execution_count": 6,
   "metadata": {},
   "outputs": [
    {
     "ename": "NameError",
     "evalue": "name 'wu' is not defined",
     "output_type": "error",
     "traceback": [
      "\u001b[0;31m---------------------------------------------------------------------------\u001b[0m",
      "\u001b[0;31mNameError\u001b[0m                                 Traceback (most recent call last)",
      "Cell \u001b[0;32mIn[6], line 2\u001b[0m\n\u001b[1;32m      1\u001b[0m \u001b[38;5;66;03m# Function to normalize counts and filter words with similar relative frequencies\u001b[39;00m\n\u001b[0;32m----> 2\u001b[0m fem_adj_counts, male_adj_counts \u001b[38;5;241m=\u001b[39m \u001b[43mwu\u001b[49m\u001b[38;5;241m.\u001b[39mfilter_similar_counts(fem_adj_counts, male_adj_counts)\n\u001b[1;32m      3\u001b[0m fem_verb_counts, male_verb_counts \u001b[38;5;241m=\u001b[39m wu\u001b[38;5;241m.\u001b[39mfilter_similar_counts(fem_verb_counts, male_verb_counts,\u001b[38;5;241m.7\u001b[39m)\n",
      "\u001b[0;31mNameError\u001b[0m: name 'wu' is not defined"
     ]
    }
   ],
   "source": [
    "# Function to normalize counts and filter words with similar relative frequencies\n",
    "fem_adj_counts, male_adj_counts = wu.filter_similar_counts(fem_adj_counts, male_adj_counts)\n",
    "fem_verb_counts, male_verb_counts = wu.filter_similar_counts(fem_verb_counts, male_verb_counts,.7)"
   ]
  },
  {
   "cell_type": "code",
   "execution_count": 7,
   "metadata": {},
   "outputs": [
    {
     "ename": "NameError",
     "evalue": "name 'wu' is not defined",
     "output_type": "error",
     "traceback": [
      "\u001b[0;31m---------------------------------------------------------------------------\u001b[0m",
      "\u001b[0;31mNameError\u001b[0m                                 Traceback (most recent call last)",
      "Cell \u001b[0;32mIn[7], line 2\u001b[0m\n\u001b[1;32m      1\u001b[0m \u001b[38;5;66;03m# Define adjusted high-contrast color maps with no pure white\u001b[39;00m\n\u001b[0;32m----> 2\u001b[0m \u001b[43mwu\u001b[49m\u001b[38;5;241m.\u001b[39mgen_wordcloud(fem_adj_counts,\u001b[38;5;124m'\u001b[39m\u001b[38;5;124mfemale\u001b[39m\u001b[38;5;124m'\u001b[39m)\n\u001b[1;32m      3\u001b[0m wu\u001b[38;5;241m.\u001b[39mgen_wordcloud(male_adj_counts,\u001b[38;5;124m'\u001b[39m\u001b[38;5;124mmale\u001b[39m\u001b[38;5;124m'\u001b[39m)\n",
      "\u001b[0;31mNameError\u001b[0m: name 'wu' is not defined"
     ]
    }
   ],
   "source": [
    "# Define adjusted high-contrast color maps with no pure white\n",
    "wu.gen_wordcloud(fem_adj_counts,'female')\n",
    "wu.gen_wordcloud(male_adj_counts,'male')"
   ]
  },
  {
   "cell_type": "code",
   "execution_count": 8,
   "metadata": {},
   "outputs": [
    {
     "ename": "NameError",
     "evalue": "name 'wu' is not defined",
     "output_type": "error",
     "traceback": [
      "\u001b[0;31m---------------------------------------------------------------------------\u001b[0m",
      "\u001b[0;31mNameError\u001b[0m                                 Traceback (most recent call last)",
      "Cell \u001b[0;32mIn[8], line 1\u001b[0m\n\u001b[0;32m----> 1\u001b[0m \u001b[43mwu\u001b[49m\u001b[38;5;241m.\u001b[39mgen_wordcloud(fem_verb_counts,\u001b[38;5;124m'\u001b[39m\u001b[38;5;124mfemale\u001b[39m\u001b[38;5;124m'\u001b[39m)\n\u001b[1;32m      2\u001b[0m wu\u001b[38;5;241m.\u001b[39mgen_wordcloud(male_verb_counts,\u001b[38;5;124m'\u001b[39m\u001b[38;5;124mmale\u001b[39m\u001b[38;5;124m'\u001b[39m) \n",
      "\u001b[0;31mNameError\u001b[0m: name 'wu' is not defined"
     ]
    }
   ],
   "source": [
    "wu.gen_wordcloud(fem_verb_counts,'female')\n",
    "wu.gen_wordcloud(male_verb_counts,'male') "
   ]
  },
  {
   "cell_type": "markdown",
   "metadata": {},
   "source": [
    "## Finding connections between movie revenue and gender ratio"
   ]
  },
  {
   "cell_type": "code",
   "execution_count": 9,
   "metadata": {},
   "outputs": [
    {
     "ename": "NameError",
     "evalue": "name 'wu' is not defined",
     "output_type": "error",
     "traceback": [
      "\u001b[0;31m---------------------------------------------------------------------------\u001b[0m",
      "\u001b[0;31mNameError\u001b[0m                                 Traceback (most recent call last)",
      "Cell \u001b[0;32mIn[9], line 1\u001b[0m\n\u001b[0;32m----> 1\u001b[0m \u001b[43mwu\u001b[49m\u001b[38;5;241m.\u001b[39mplot_gender_vs_revenue(char_sum_CMU)\n",
      "\u001b[0;31mNameError\u001b[0m: name 'wu' is not defined"
     ]
    }
   ],
   "source": [
    "wu.plot_gender_vs_revenue(char_sum_CMU)"
   ]
  },
  {
   "cell_type": "code",
   "execution_count": null,
   "metadata": {},
   "outputs": [],
   "source": [
    "wu.hypothesis_test(char_sum_CMU)"
   ]
  }
 ],
 "metadata": {
  "kernelspec": {
   "display_name": "Python 3 (ipykernel)",
   "language": "python",
   "name": "python3"
  },
  "language_info": {
   "codemirror_mode": {
    "name": "ipython",
    "version": 3
   },
   "file_extension": ".py",
   "mimetype": "text/x-python",
   "name": "python",
   "nbconvert_exporter": "python",
   "pygments_lexer": "ipython3",
   "version": "3.12.0"
  }
 },
 "nbformat": 4,
 "nbformat_minor": 4
}
