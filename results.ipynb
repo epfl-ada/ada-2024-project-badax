{
 "cells": [
  {
   "cell_type": "markdown",
   "id": "ffe37763",
   "metadata": {},
   "source": [
    "## Imports:\n"
   ]
  },
  {
   "cell_type": "code",
   "execution_count": 1,
   "id": "28539ec3",
   "metadata": {},
   "outputs": [],
   "source": [
    "import pandas as pd\n",
    "import numpy as np\n",
    "import matplotlib.pyplot as plt\n",
    "import sys\n",
    "# Importing src scripts:\n",
    "sys.path.insert(0, 'src')\n",
    "from misc_scripts import scripts\n",
    "from data import data\n",
    "from utils import utils\n",
    "from models import models"
   ]
  },
  {
   "cell_type": "markdown",
   "id": "3442299c",
   "metadata": {},
   "source": [
    "## Loading datasets:"
   ]
  },
  {
   "cell_type": "code",
   "execution_count": 2,
   "id": "248be324",
   "metadata": {},
   "outputs": [],
   "source": [
    "#Load CMU Corpus Dataset\n",
    "metadata = data.load_metadata()\n",
    "summaries_df = data.load_summaries()\n",
    "final_df = metadata.merge(summaries_df, on=\"Wikipedia_movie_ID\") \n",
    "#Load IMDB dataset"
   ]
  },
  {
   "cell_type": "markdown",
   "id": "d0fdf864",
   "metadata": {},
   "source": []
  },
  {
   "cell_type": "code",
   "execution_count": null,
   "id": "82a8a573",
   "metadata": {},
   "outputs": [],
   "source": []
  },
  {
   "cell_type": "code",
   "execution_count": null,
   "id": "ac065d45",
   "metadata": {},
   "outputs": [],
   "source": []
  }
 ],
 "metadata": {
  "kernelspec": {
   "display_name": "Python 3 (ipykernel)",
   "language": "python",
   "name": "python3"
  },
  "language_info": {
   "codemirror_mode": {
    "name": "ipython",
    "version": 3
   },
   "file_extension": ".py",
   "mimetype": "text/x-python",
   "name": "python",
   "nbconvert_exporter": "python",
   "pygments_lexer": "ipython3",
   "version": "3.8.8"
  }
 },
 "nbformat": 4,
 "nbformat_minor": 5
}
