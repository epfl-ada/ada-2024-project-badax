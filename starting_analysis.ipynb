{
 "cells": [
  {
   "cell_type": "code",
   "execution_count": 1,
   "metadata": {},
   "outputs": [],
   "source": [
    "import pandas as pd\n",
    "import numpy as np\n",
    "import matplotlib.pyplot as plt\n",
    "import json \n",
    "from collections import Counter\n",
    "import re\n",
    "import ast\n",
    "\n",
    "data_folder = \"/Users/macintosh/Desktop/EPFL/S3/ADA/MovieSummaries/\"\n",
    "\n",
    "movie_data_unmerged = pd.read_table(data_folder + \"movie.metadata.tsv\", header=None)\n",
    "\n",
    "movie_data_unmerged.columns = [\n",
    "    \"Wikipedia_movie_ID\",\n",
    "    \"Freebase_movie_ID\",\n",
    "    \"Movie_name\",\n",
    "    \"Movie_release_date\",\n",
    "    \"Movie_box_office_revenue\",\n",
    "    \"Movie_runtime\",\n",
    "    \"Movie_languages\", \n",
    "    \"Movie_countries\",  \n",
    "    \"Movie_genres\"     \n",
    "]\n",
    "\n",
    "with open(data_folder + \"/plot_summaries.txt\", \"r\", encoding=\"utf-8\") as f:\n",
    "    file = f.readlines()\n",
    "\n",
    "data = [line.strip().split(\"\\t\", 1) for line in file]\n",
    "\n",
    "summaries_df = pd.DataFrame(data, columns=[\"Wikipedia_movie_ID\", \"Movie_Summary\"])\n",
    "\n",
    "summaries_df['Wikipedia_movie_ID'] = summaries_df['Wikipedia_movie_ID'].apply(int)\n",
    "\n",
    "df_character = pd.read_table(data_folder + \"character.metadata.tsv\", header=None)\n",
    "\n",
    "df_character.columns = [\"Wikipedia_movie_ID\",\n",
    "\"Freebase_movie_ID\",\n",
    "\"Movie_release_date\",\n",
    "\"Character_name\",\n",
    "\"Actor_date_of_birth\",\n",
    "\"Actor_gender\",\n",
    "\"Actor_height\", #in meters\n",
    "\"Actor_ethnicity\",\n",
    "\"Actor_name\",\n",
    "\"Actor_age_at_movie_release\",\n",
    "\"Freebase_character/actor_map_ID\",\n",
    "\"Freebase_character_ID\",\n",
    "\"Freebase_actor_ID\"]\n",
    "\n",
    "df_character[\"Wikipedia_movie_ID\"] = df_character[\"Wikipedia_movie_ID\"].apply(int)\n",
    "#here we only keep the year (and not the month) + we put the same format\n",
    "df_character[\"Movie_release_date\"] = df_character[\"Movie_release_date\"].apply(lambda x: int(str(x).split(\"-\")[0]) if type(x) == str else np.nan)\n",
    "\n",
    "df_movie = movie_data_unmerged.merge(summaries_df, on=\"Wikipedia_movie_ID\", how='inner')\n",
    "\n",
    "df_movie[\"Movie_genres\"] = df_movie[\"Movie_genres\"].apply(lambda x: list(json.loads(x).values()))\n",
    "#some movies have release date in the form year-month-day, we only want the year, and some have nan values\n",
    "df_movie[\"Movie_release_date\"] = df_movie[\"Movie_release_date\"].apply(lambda x: int(str(x).split(\"-\")[0]) if type(x) == str else np.nan)\n",
    "df_movie.loc[df_movie[\"Movie_name\"] == \"Hunting Season\", \"Movie_release_date\"] = 2010\n",
    "\n",
    "def find_movie_ID(movie_name):\n",
    "    return int(df_movie[df_movie[\"Movie_name\"] == movie_name][\"Wikipedia_movie_ID\"].values[0])\n",
    "\n",
    "df_imdb = pd.read_csv(data_folder+'merged_imdb_2.csv')\n",
    "df_imdb.head()\n",
    "df_imdb[\"actors\"] = df_imdb[\"actors\"].apply(lambda x: ast.literal_eval(x))\n",
    "\n",
    "df_imdb.rename(columns={\"Wikipedia movie ID\": \"Wikipedia_movie_ID\"}, inplace=True)\n",
    "\n",
    "df_actor = pd.DataFrame()\n",
    "df_actor[\"actor\"] = [item for sublist in df_imdb['actors'].tolist() for item in sublist]\n",
    "df_actor = df_actor.drop_duplicates()"
   ]
  },
  {
   "cell_type": "code",
   "execution_count": 2,
   "metadata": {},
   "outputs": [],
   "source": [
    "df_movie = df_movie.merge(df_imdb[[\"gender\", \"Wikipedia_movie_ID\"]], on=\"Wikipedia_movie_ID\", how='inner')"
   ]
  },
  {
   "cell_type": "code",
   "execution_count": 3,
   "metadata": {},
   "outputs": [],
   "source": [
    "df_movie[\"Movie_countries\"] = df_movie[\"Movie_countries\"].apply(lambda x: list(json.loads(x).values()))"
   ]
  },
  {
   "cell_type": "code",
   "execution_count": 4,
   "metadata": {},
   "outputs": [
    {
     "data": {
      "application/vnd.plotly.v1+json": {
       "config": {
        "plotlyServerURL": "https://plot.ly"
       },
       "data": [
        {
         "line": {
          "color": "blue"
         },
         "mode": "lines",
         "name": "Mean Ratio globally",
         "type": "scatter",
         "x": [
          1897,
          1907,
          1910,
          1911,
          1912,
          1913,
          1914,
          1915,
          1916,
          1917,
          1918,
          1919,
          1920,
          1921,
          1922,
          1923,
          1924,
          1925,
          1926,
          1927,
          1928,
          1929,
          1930,
          1931,
          1932,
          1933,
          1934,
          1935,
          1936,
          1937,
          1938,
          1939,
          1940,
          1941,
          1942,
          1943,
          1944,
          1945,
          1946,
          1947,
          1948,
          1949,
          1950,
          1951,
          1952,
          1953,
          1954,
          1955,
          1956,
          1957,
          1958,
          1959,
          1960,
          1961,
          1962,
          1963,
          1964,
          1965,
          1966,
          1967,
          1968,
          1969,
          1970,
          1971,
          1972,
          1973,
          1974,
          1975,
          1976,
          1977,
          1978,
          1979,
          1980,
          1981,
          1982,
          1983,
          1984,
          1985,
          1986,
          1987,
          1988,
          1989,
          1990,
          1991,
          1992,
          1993,
          1994,
          1995,
          1996,
          1997,
          1998,
          1999,
          2000,
          2001,
          2002,
          2003,
          2004,
          2005,
          2006,
          2007,
          2008,
          2009,
          2010,
          2011,
          2012,
          2013,
          2014
         ],
         "y": [
          null,
          0.16666666666666666,
          0.05,
          0.225,
          0.49642857142857144,
          0.2642857142857143,
          0.45714285714285713,
          0.3381150793650794,
          0.40567870826491514,
          0.3590007215007215,
          0.3672198172198172,
          0.32876984126984127,
          0.35714285714285715,
          0.3647065897065897,
          0.35787215787215787,
          0.38015873015873014,
          0.328448275862069,
          0.3774829931972789,
          0.32184744268077603,
          0.3498084291187739,
          0.32902748163942197,
          0.35541666666666666,
          0.3205847953216374,
          0.31855971896955504,
          0.31443833943833943,
          0.32837301587301587,
          0.3133645124716553,
          0.3135667903525047,
          0.31895424836601305,
          0.2896189458689459,
          0.30140771637122005,
          0.28693985530720223,
          0.2800740740740741,
          0.31103801169590645,
          0.29145569620253164,
          0.3021990740740741,
          0.30963601532567053,
          0.31795175023651845,
          0.33115942028985507,
          0.3296066252587992,
          0.3180154142581888,
          0.311656223893066,
          0.2941072456616498,
          0.29005756148613293,
          0.30498690885288826,
          0.27897731390882075,
          0.2920614777213762,
          0.30736680810938233,
          0.2943558508674788,
          0.3010707986898463,
          0.29132137703566274,
          0.3077005104538144,
          0.3141785714285714,
          0.3410851799465661,
          0.31830564784053156,
          0.33006054655539196,
          0.33816784869976363,
          0.3163307574491785,
          0.3122348795840175,
          0.3226776505257518,
          0.3092167011732229,
          0.30777142857142853,
          0.3362726645335341,
          0.3165659571909572,
          0.3191340702947846,
          0.32726695526695526,
          0.336311004501303,
          0.29591429995017443,
          0.30255960285840766,
          0.32341269841269843,
          0.30542702911123965,
          0.30177735206470835,
          0.3185737781954887,
          0.3178797048362266,
          0.33757734732311,
          0.3256591337099812,
          0.3190600978336827,
          0.3007563025210084,
          0.33066049114681334,
          0.3257712082262211,
          0.3408239137405804,
          0.3124945572576495,
          0.3138589774268166,
          0.32025714285714285,
          0.32456084656084655,
          0.3224617804110892,
          0.31386437107260906,
          0.33725258464967905,
          0.3325017253278123,
          0.3334699453551913,
          0.3290768341457318,
          0.33811069882498457,
          0.3526533253683791,
          0.3298401159063518,
          0.34176862874779546,
          0.34803039101819594,
          0.34366106903098276,
          0.36112738185631127,
          0.34844846540766844,
          0.35661804728069785,
          0.3496271271271271,
          0.35931016324381254,
          0.3448600521108074,
          0.35360557401255077,
          0.34948598584036467,
          0.28188095238095234,
          0.30000000000000004
         ]
        },
        {
         "line": {
          "color": "orange",
          "dash": "dash"
         },
         "mode": "lines",
         "name": "Number of films",
         "type": "scatter",
         "x": [
          1897,
          1907,
          1910,
          1911,
          1912,
          1913,
          1914,
          1915,
          1916,
          1917,
          1918,
          1919,
          1920,
          1921,
          1922,
          1923,
          1924,
          1925,
          1926,
          1927,
          1928,
          1929,
          1930,
          1931,
          1932,
          1933,
          1934,
          1935,
          1936,
          1937,
          1938,
          1939,
          1940,
          1941,
          1942,
          1943,
          1944,
          1945,
          1946,
          1947,
          1948,
          1949,
          1950,
          1951,
          1952,
          1953,
          1954,
          1955,
          1956,
          1957,
          1958,
          1959,
          1960,
          1961,
          1962,
          1963,
          1964,
          1965,
          1966,
          1967,
          1968,
          1969,
          1970,
          1971,
          1972,
          1973,
          1974,
          1975,
          1976,
          1977,
          1978,
          1979,
          1980,
          1981,
          1982,
          1983,
          1984,
          1985,
          1986,
          1987,
          1988,
          1989,
          1990,
          1991,
          1992,
          1993,
          1994,
          1995,
          1996,
          1997,
          1998,
          1999,
          2000,
          2001,
          2002,
          2003,
          2004,
          2005,
          2006,
          2007,
          2008,
          2009,
          2010,
          2011,
          2012,
          2013,
          2014
         ],
         "y": [
          1,
          1,
          2,
          6,
          4,
          7,
          12,
          20,
          29,
          22,
          33,
          28,
          9,
          33,
          37,
          35,
          58,
          70,
          55,
          58,
          67,
          80,
          95,
          122,
          143,
          129,
          140,
          155,
          153,
          156,
          137,
          147,
          151,
          152,
          158,
          144,
          145,
          151,
          138,
          162,
          173,
          190,
          193,
          182,
          194,
          220,
          198,
          203,
          216,
          252,
          231,
          227,
          200,
          203,
          215,
          194,
          235,
          228,
          234,
          239,
          231,
          250,
          254,
          264,
          280,
          277,
          268,
          223,
          253,
          245,
          247,
          261,
          304,
          299,
          295,
          296,
          319,
          342,
          329,
          389,
          398,
          402,
          398,
          375,
          378,
          437,
          439,
          414,
          461,
          488,
          510,
          542,
          561,
          621,
          723,
          746,
          820,
          888,
          1072,
          1094,
          1135,
          1073,
          1012,
          869,
          494,
          50,
          2
         ],
         "yaxis": "y2"
        },
        {
         "line": {
          "color": "green"
         },
         "mode": "lines",
         "name": "Mean Ratio in France",
         "opacity": 0.2,
         "type": "scatter",
         "x": [
          1921,
          1922,
          1923,
          1924,
          1925,
          1926,
          1928,
          1930,
          1931,
          1932,
          1933,
          1934,
          1935,
          1936,
          1937,
          1938,
          1939,
          1941,
          1942,
          1943,
          1944,
          1945,
          1946,
          1947,
          1948,
          1949,
          1950,
          1951,
          1952,
          1953,
          1954,
          1955,
          1956,
          1957,
          1958,
          1959,
          1960,
          1961,
          1962,
          1963,
          1964,
          1965,
          1966,
          1967,
          1968,
          1969,
          1970,
          1971,
          1972,
          1973,
          1974,
          1975,
          1976,
          1977,
          1978,
          1979,
          1980,
          1981,
          1982,
          1983,
          1984,
          1985,
          1986,
          1987,
          1988,
          1989,
          1990,
          1991,
          1992,
          1993,
          1994,
          1995,
          1996,
          1997,
          1998,
          1999,
          2000,
          2001,
          2002,
          2003,
          2004,
          2005,
          2006,
          2007,
          2008,
          2009,
          2010,
          2011,
          2012,
          2013
         ],
         "y": [
          0.35,
          0.3333333333333333,
          0.4107142857142857,
          0.275,
          0.5,
          0.3,
          0.3,
          0.225,
          0.2833333333333334,
          0.4,
          0.6,
          0.18333333333333335,
          0.41428571428571426,
          0.6,
          0.1,
          0.35000000000000003,
          0.4333333333333333,
          0.45,
          0.325,
          0.75,
          0.5,
          0.46666666666666673,
          0.42000000000000004,
          0.3666666666666667,
          0.5,
          0.3,
          0.3,
          0.43333333333333335,
          0.44000000000000006,
          0.325,
          0.44999999999999996,
          0.3728571428571429,
          0.3333333333333333,
          0.33999999999999997,
          0.4090909090909091,
          0.37142857142857144,
          0.40225694444444443,
          0.4160714285714286,
          0.4117647058823529,
          0.4091503267973856,
          0.348,
          0.33666666666666667,
          0.38461538461538464,
          0.39722222222222225,
          0.33888888888888885,
          0.32003105590062114,
          0.38666666666666666,
          0.38002645502645505,
          0.325,
          0.35714285714285715,
          0.4222222222222222,
          0.33958333333333335,
          0.40052910052910057,
          0.44523809523809527,
          0.38333333333333336,
          0.36198830409356725,
          0.4641025641025641,
          0.3611111111111111,
          0.38,
          0.35714285714285715,
          0.33571428571428574,
          0.3684210526315789,
          0.37857142857142856,
          0.43571428571428567,
          0.38461538461538464,
          0.3487179487179487,
          0.3271604938271605,
          0.3197530864197531,
          0.35000000000000003,
          0.408641975308642,
          0.3368421052631579,
          0.37386759581881535,
          0.4137755102040816,
          0.3694444444444444,
          0.3232098765432099,
          0.355,
          0.3647058823529412,
          0.3807017543859649,
          0.3648148148148148,
          0.39031593406593407,
          0.3589402427637722,
          0.35547619047619045,
          0.3800793650793651,
          0.4135327635327635,
          0.36,
          0.3555555555555555,
          0.32915851272015656,
          0.39841269841269844,
          0.4,
          0.2
         ]
        }
       ],
       "layout": {
        "legend": {
         "orientation": "h",
         "x": 0.1,
         "y": 1.1
        },
        "template": {
         "data": {
          "bar": [
           {
            "error_x": {
             "color": "#2a3f5f"
            },
            "error_y": {
             "color": "#2a3f5f"
            },
            "marker": {
             "line": {
              "color": "#E5ECF6",
              "width": 0.5
             },
             "pattern": {
              "fillmode": "overlay",
              "size": 10,
              "solidity": 0.2
             }
            },
            "type": "bar"
           }
          ],
          "barpolar": [
           {
            "marker": {
             "line": {
              "color": "#E5ECF6",
              "width": 0.5
             },
             "pattern": {
              "fillmode": "overlay",
              "size": 10,
              "solidity": 0.2
             }
            },
            "type": "barpolar"
           }
          ],
          "carpet": [
           {
            "aaxis": {
             "endlinecolor": "#2a3f5f",
             "gridcolor": "white",
             "linecolor": "white",
             "minorgridcolor": "white",
             "startlinecolor": "#2a3f5f"
            },
            "baxis": {
             "endlinecolor": "#2a3f5f",
             "gridcolor": "white",
             "linecolor": "white",
             "minorgridcolor": "white",
             "startlinecolor": "#2a3f5f"
            },
            "type": "carpet"
           }
          ],
          "choropleth": [
           {
            "colorbar": {
             "outlinewidth": 0,
             "ticks": ""
            },
            "type": "choropleth"
           }
          ],
          "contour": [
           {
            "colorbar": {
             "outlinewidth": 0,
             "ticks": ""
            },
            "colorscale": [
             [
              0,
              "#0d0887"
             ],
             [
              0.1111111111111111,
              "#46039f"
             ],
             [
              0.2222222222222222,
              "#7201a8"
             ],
             [
              0.3333333333333333,
              "#9c179e"
             ],
             [
              0.4444444444444444,
              "#bd3786"
             ],
             [
              0.5555555555555556,
              "#d8576b"
             ],
             [
              0.6666666666666666,
              "#ed7953"
             ],
             [
              0.7777777777777778,
              "#fb9f3a"
             ],
             [
              0.8888888888888888,
              "#fdca26"
             ],
             [
              1,
              "#f0f921"
             ]
            ],
            "type": "contour"
           }
          ],
          "contourcarpet": [
           {
            "colorbar": {
             "outlinewidth": 0,
             "ticks": ""
            },
            "type": "contourcarpet"
           }
          ],
          "heatmap": [
           {
            "colorbar": {
             "outlinewidth": 0,
             "ticks": ""
            },
            "colorscale": [
             [
              0,
              "#0d0887"
             ],
             [
              0.1111111111111111,
              "#46039f"
             ],
             [
              0.2222222222222222,
              "#7201a8"
             ],
             [
              0.3333333333333333,
              "#9c179e"
             ],
             [
              0.4444444444444444,
              "#bd3786"
             ],
             [
              0.5555555555555556,
              "#d8576b"
             ],
             [
              0.6666666666666666,
              "#ed7953"
             ],
             [
              0.7777777777777778,
              "#fb9f3a"
             ],
             [
              0.8888888888888888,
              "#fdca26"
             ],
             [
              1,
              "#f0f921"
             ]
            ],
            "type": "heatmap"
           }
          ],
          "heatmapgl": [
           {
            "colorbar": {
             "outlinewidth": 0,
             "ticks": ""
            },
            "colorscale": [
             [
              0,
              "#0d0887"
             ],
             [
              0.1111111111111111,
              "#46039f"
             ],
             [
              0.2222222222222222,
              "#7201a8"
             ],
             [
              0.3333333333333333,
              "#9c179e"
             ],
             [
              0.4444444444444444,
              "#bd3786"
             ],
             [
              0.5555555555555556,
              "#d8576b"
             ],
             [
              0.6666666666666666,
              "#ed7953"
             ],
             [
              0.7777777777777778,
              "#fb9f3a"
             ],
             [
              0.8888888888888888,
              "#fdca26"
             ],
             [
              1,
              "#f0f921"
             ]
            ],
            "type": "heatmapgl"
           }
          ],
          "histogram": [
           {
            "marker": {
             "pattern": {
              "fillmode": "overlay",
              "size": 10,
              "solidity": 0.2
             }
            },
            "type": "histogram"
           }
          ],
          "histogram2d": [
           {
            "colorbar": {
             "outlinewidth": 0,
             "ticks": ""
            },
            "colorscale": [
             [
              0,
              "#0d0887"
             ],
             [
              0.1111111111111111,
              "#46039f"
             ],
             [
              0.2222222222222222,
              "#7201a8"
             ],
             [
              0.3333333333333333,
              "#9c179e"
             ],
             [
              0.4444444444444444,
              "#bd3786"
             ],
             [
              0.5555555555555556,
              "#d8576b"
             ],
             [
              0.6666666666666666,
              "#ed7953"
             ],
             [
              0.7777777777777778,
              "#fb9f3a"
             ],
             [
              0.8888888888888888,
              "#fdca26"
             ],
             [
              1,
              "#f0f921"
             ]
            ],
            "type": "histogram2d"
           }
          ],
          "histogram2dcontour": [
           {
            "colorbar": {
             "outlinewidth": 0,
             "ticks": ""
            },
            "colorscale": [
             [
              0,
              "#0d0887"
             ],
             [
              0.1111111111111111,
              "#46039f"
             ],
             [
              0.2222222222222222,
              "#7201a8"
             ],
             [
              0.3333333333333333,
              "#9c179e"
             ],
             [
              0.4444444444444444,
              "#bd3786"
             ],
             [
              0.5555555555555556,
              "#d8576b"
             ],
             [
              0.6666666666666666,
              "#ed7953"
             ],
             [
              0.7777777777777778,
              "#fb9f3a"
             ],
             [
              0.8888888888888888,
              "#fdca26"
             ],
             [
              1,
              "#f0f921"
             ]
            ],
            "type": "histogram2dcontour"
           }
          ],
          "mesh3d": [
           {
            "colorbar": {
             "outlinewidth": 0,
             "ticks": ""
            },
            "type": "mesh3d"
           }
          ],
          "parcoords": [
           {
            "line": {
             "colorbar": {
              "outlinewidth": 0,
              "ticks": ""
             }
            },
            "type": "parcoords"
           }
          ],
          "pie": [
           {
            "automargin": true,
            "type": "pie"
           }
          ],
          "scatter": [
           {
            "fillpattern": {
             "fillmode": "overlay",
             "size": 10,
             "solidity": 0.2
            },
            "type": "scatter"
           }
          ],
          "scatter3d": [
           {
            "line": {
             "colorbar": {
              "outlinewidth": 0,
              "ticks": ""
             }
            },
            "marker": {
             "colorbar": {
              "outlinewidth": 0,
              "ticks": ""
             }
            },
            "type": "scatter3d"
           }
          ],
          "scattercarpet": [
           {
            "marker": {
             "colorbar": {
              "outlinewidth": 0,
              "ticks": ""
             }
            },
            "type": "scattercarpet"
           }
          ],
          "scattergeo": [
           {
            "marker": {
             "colorbar": {
              "outlinewidth": 0,
              "ticks": ""
             }
            },
            "type": "scattergeo"
           }
          ],
          "scattergl": [
           {
            "marker": {
             "colorbar": {
              "outlinewidth": 0,
              "ticks": ""
             }
            },
            "type": "scattergl"
           }
          ],
          "scattermapbox": [
           {
            "marker": {
             "colorbar": {
              "outlinewidth": 0,
              "ticks": ""
             }
            },
            "type": "scattermapbox"
           }
          ],
          "scatterpolar": [
           {
            "marker": {
             "colorbar": {
              "outlinewidth": 0,
              "ticks": ""
             }
            },
            "type": "scatterpolar"
           }
          ],
          "scatterpolargl": [
           {
            "marker": {
             "colorbar": {
              "outlinewidth": 0,
              "ticks": ""
             }
            },
            "type": "scatterpolargl"
           }
          ],
          "scatterternary": [
           {
            "marker": {
             "colorbar": {
              "outlinewidth": 0,
              "ticks": ""
             }
            },
            "type": "scatterternary"
           }
          ],
          "surface": [
           {
            "colorbar": {
             "outlinewidth": 0,
             "ticks": ""
            },
            "colorscale": [
             [
              0,
              "#0d0887"
             ],
             [
              0.1111111111111111,
              "#46039f"
             ],
             [
              0.2222222222222222,
              "#7201a8"
             ],
             [
              0.3333333333333333,
              "#9c179e"
             ],
             [
              0.4444444444444444,
              "#bd3786"
             ],
             [
              0.5555555555555556,
              "#d8576b"
             ],
             [
              0.6666666666666666,
              "#ed7953"
             ],
             [
              0.7777777777777778,
              "#fb9f3a"
             ],
             [
              0.8888888888888888,
              "#fdca26"
             ],
             [
              1,
              "#f0f921"
             ]
            ],
            "type": "surface"
           }
          ],
          "table": [
           {
            "cells": {
             "fill": {
              "color": "#EBF0F8"
             },
             "line": {
              "color": "white"
             }
            },
            "header": {
             "fill": {
              "color": "#C8D4E3"
             },
             "line": {
              "color": "white"
             }
            },
            "type": "table"
           }
          ]
         },
         "layout": {
          "annotationdefaults": {
           "arrowcolor": "#2a3f5f",
           "arrowhead": 0,
           "arrowwidth": 1
          },
          "autotypenumbers": "strict",
          "coloraxis": {
           "colorbar": {
            "outlinewidth": 0,
            "ticks": ""
           }
          },
          "colorscale": {
           "diverging": [
            [
             0,
             "#8e0152"
            ],
            [
             0.1,
             "#c51b7d"
            ],
            [
             0.2,
             "#de77ae"
            ],
            [
             0.3,
             "#f1b6da"
            ],
            [
             0.4,
             "#fde0ef"
            ],
            [
             0.5,
             "#f7f7f7"
            ],
            [
             0.6,
             "#e6f5d0"
            ],
            [
             0.7,
             "#b8e186"
            ],
            [
             0.8,
             "#7fbc41"
            ],
            [
             0.9,
             "#4d9221"
            ],
            [
             1,
             "#276419"
            ]
           ],
           "sequential": [
            [
             0,
             "#0d0887"
            ],
            [
             0.1111111111111111,
             "#46039f"
            ],
            [
             0.2222222222222222,
             "#7201a8"
            ],
            [
             0.3333333333333333,
             "#9c179e"
            ],
            [
             0.4444444444444444,
             "#bd3786"
            ],
            [
             0.5555555555555556,
             "#d8576b"
            ],
            [
             0.6666666666666666,
             "#ed7953"
            ],
            [
             0.7777777777777778,
             "#fb9f3a"
            ],
            [
             0.8888888888888888,
             "#fdca26"
            ],
            [
             1,
             "#f0f921"
            ]
           ],
           "sequentialminus": [
            [
             0,
             "#0d0887"
            ],
            [
             0.1111111111111111,
             "#46039f"
            ],
            [
             0.2222222222222222,
             "#7201a8"
            ],
            [
             0.3333333333333333,
             "#9c179e"
            ],
            [
             0.4444444444444444,
             "#bd3786"
            ],
            [
             0.5555555555555556,
             "#d8576b"
            ],
            [
             0.6666666666666666,
             "#ed7953"
            ],
            [
             0.7777777777777778,
             "#fb9f3a"
            ],
            [
             0.8888888888888888,
             "#fdca26"
            ],
            [
             1,
             "#f0f921"
            ]
           ]
          },
          "colorway": [
           "#636efa",
           "#EF553B",
           "#00cc96",
           "#ab63fa",
           "#FFA15A",
           "#19d3f3",
           "#FF6692",
           "#B6E880",
           "#FF97FF",
           "#FECB52"
          ],
          "font": {
           "color": "#2a3f5f"
          },
          "geo": {
           "bgcolor": "white",
           "lakecolor": "white",
           "landcolor": "#E5ECF6",
           "showlakes": true,
           "showland": true,
           "subunitcolor": "white"
          },
          "hoverlabel": {
           "align": "left"
          },
          "hovermode": "closest",
          "mapbox": {
           "style": "light"
          },
          "paper_bgcolor": "white",
          "plot_bgcolor": "#E5ECF6",
          "polar": {
           "angularaxis": {
            "gridcolor": "white",
            "linecolor": "white",
            "ticks": ""
           },
           "bgcolor": "#E5ECF6",
           "radialaxis": {
            "gridcolor": "white",
            "linecolor": "white",
            "ticks": ""
           }
          },
          "scene": {
           "xaxis": {
            "backgroundcolor": "#E5ECF6",
            "gridcolor": "white",
            "gridwidth": 2,
            "linecolor": "white",
            "showbackground": true,
            "ticks": "",
            "zerolinecolor": "white"
           },
           "yaxis": {
            "backgroundcolor": "#E5ECF6",
            "gridcolor": "white",
            "gridwidth": 2,
            "linecolor": "white",
            "showbackground": true,
            "ticks": "",
            "zerolinecolor": "white"
           },
           "zaxis": {
            "backgroundcolor": "#E5ECF6",
            "gridcolor": "white",
            "gridwidth": 2,
            "linecolor": "white",
            "showbackground": true,
            "ticks": "",
            "zerolinecolor": "white"
           }
          },
          "shapedefaults": {
           "line": {
            "color": "#2a3f5f"
           }
          },
          "ternary": {
           "aaxis": {
            "gridcolor": "white",
            "linecolor": "white",
            "ticks": ""
           },
           "baxis": {
            "gridcolor": "white",
            "linecolor": "white",
            "ticks": ""
           },
           "bgcolor": "#E5ECF6",
           "caxis": {
            "gridcolor": "white",
            "linecolor": "white",
            "ticks": ""
           }
          },
          "title": {
           "x": 0.05
          },
          "xaxis": {
           "automargin": true,
           "gridcolor": "white",
           "linecolor": "white",
           "ticks": "",
           "title": {
            "standoff": 15
           },
           "zerolinecolor": "white",
           "zerolinewidth": 2
          },
          "yaxis": {
           "automargin": true,
           "gridcolor": "white",
           "linecolor": "white",
           "ticks": "",
           "title": {
            "standoff": 15
           },
           "zerolinecolor": "white",
           "zerolinewidth": 2
          }
         }
        },
        "title": {
         "text": "Gender ratio and number of movies per year"
        },
        "xaxis": {
         "title": {
          "text": "Movie Release Date"
         }
        },
        "yaxis": {
         "tickfont": {
          "color": "blue"
         },
         "title": {
          "font": {
           "color": "blue"
          },
          "text": "Ratio of women in films (averaged by year)"
         }
        },
        "yaxis2": {
         "overlaying": "y",
         "side": "right",
         "tickfont": {
          "color": "orange"
         },
         "title": {
          "font": {
           "color": "orange"
          },
          "text": "Number of films per year"
         }
        }
       }
      }
     },
     "metadata": {},
     "output_type": "display_data"
    }
   ],
   "source": [
    "# here we analyse the ratio of actors/actresses by movie\n",
    "\n",
    "df_movie[\"W\"] = df_movie[\"gender\"].apply(lambda x: Counter(x)[\"F\"])\n",
    "df_movie[\"M\"] = df_movie[\"gender\"].apply(lambda x: Counter(x)[\"M\"])\n",
    "df_movie[\"Ratio\"] = df_movie.apply(lambda x: x[\"W\"]/(x[\"W\"] + x[\"M\"]) if x[\"W\"] + x[\"M\"] != 0 else np.nan, axis=1)\n",
    "\n",
    "\n",
    "import plotly.graph_objects as go\n",
    "\n",
    "mean_ratio = df_movie.groupby(\"Movie_release_date\")[\"Ratio\"].mean()\n",
    "count = df_movie.groupby(\"Movie_release_date\").size()\n",
    "\n",
    "mean_ratio_france = df_movie[df_movie[\"Movie_countries\"].apply(lambda x: \"France\" in x)].groupby(\"Movie_release_date\")[\"Ratio\"].mean()\n",
    "\n",
    "fig = go.Figure()\n",
    "\n",
    "\n",
    "fig.add_trace(\n",
    "    go.Scatter(\n",
    "        x=mean_ratio.index,\n",
    "        y=mean_ratio,\n",
    "        name=\"Mean Ratio globally\",\n",
    "        mode=\"lines\",\n",
    "        line=dict(color=\"blue\"),\n",
    "    )\n",
    ")\n",
    "\n",
    "\n",
    "fig.add_trace(\n",
    "    go.Scatter(\n",
    "        x=count.index,\n",
    "        y=count,\n",
    "        name=\"Number of films\",\n",
    "        mode=\"lines\",\n",
    "        line=dict(color=\"orange\", dash=\"dash\"),\n",
    "        yaxis=\"y2\",  \n",
    "    )\n",
    ")\n",
    "\n",
    "fig.add_trace(\n",
    "    go.Scatter(\n",
    "        x=mean_ratio_france.index,\n",
    "        y=mean_ratio_france,\n",
    "        name=\"Mean Ratio in France\",\n",
    "        mode=\"lines\",\n",
    "        opacity=0.2,\n",
    "        line=dict(color=\"green\"),\n",
    "    )\n",
    ")\n",
    "\n",
    "\n",
    "fig.update_layout(\n",
    "    title=\"Gender ratio and number of movies per year\",\n",
    "    xaxis=dict(title=\"Movie Release Date\"),\n",
    "    yaxis=dict(title=\"Ratio of women in films (averaged by year)\", titlefont=dict(color=\"blue\"), tickfont=dict(color=\"blue\")),\n",
    "    yaxis2=dict(\n",
    "        title=\"Number of films per year\",\n",
    "        titlefont=dict(color=\"orange\"),\n",
    "        tickfont=dict(color=\"orange\"),\n",
    "        overlaying=\"y\",\n",
    "        side=\"right\",\n",
    "    ),\n",
    "    legend=dict(x=0.1, y=1.1, orientation=\"h\"),\n",
    ")\n",
    "\n",
    "\n",
    "fig.show(\"svg\")\n",
    "\n",
    "#to html file\n",
    "#fig.write_html(data_folder + \"Mean_Ratio_and_Count_by_Movie_Release_Date.html\")"
   ]
  },
  {
   "cell_type": "code",
   "execution_count": 5,
   "metadata": {},
   "outputs": [],
   "source": [
    "#finding all movie genres\n",
    "\n",
    "all_genres = [genre for sublist in df_movie['Movie_genres'] for genre in sublist]\n",
    "all_genres = list(set(all_genres))\n",
    "genre_dict = {}\n",
    "for genre in all_genres:\n",
    "    a = float(df_movie[df_movie['Movie_genres'].apply(lambda x: genre in x)]['Ratio'].mean())\n",
    "    if not np.isnan(a):\n",
    "        genre_dict[genre] = [a, df_movie[df_movie['Movie_genres'].apply(lambda x: genre in x)].shape[0]]\n",
    "    "
   ]
  },
  {
   "cell_type": "code",
   "execution_count": 6,
   "metadata": {},
   "outputs": [
    {
     "data": {
      "text/plain": [
       "{'Media Studies': [1.0, 4],\n",
       " \"Children's Entertainment\": [0.8, 1],\n",
       " 'Family & Personal Relationships': [0.7555555555555555, 6],\n",
       " 'Women in prison films': [0.7, 13],\n",
       " 'Interpersonal Relationships': [0.625, 9],\n",
       " 'Pornography': [0.5666666666666667, 4],\n",
       " 'Pinku eiga': [0.5517704517704518, 13],\n",
       " 'Feminist Film': [0.5376068376068376, 65],\n",
       " 'Roadshow/Carny': [0.5333333333333333, 3],\n",
       " 'War effort': [0.5, 1],\n",
       " 'Romantic thriller': [0.5, 1],\n",
       " 'Film & Television History': [0.5, 8],\n",
       " 'Chick flick': [0.5, 1],\n",
       " 'C-Movie': [0.5, 1],\n",
       " 'Exploitation': [0.5, 8],\n",
       " 'Z movie': [0.5, 1],\n",
       " 'Early Black Cinema': [0.49375, 4],\n",
       " 'Softcore Porn': [0.4904030910609857, 38],\n",
       " 'Sexploitation': [0.48980099502487545, 68],\n",
       " 'Kitchen sink realism': [0.4857142857142857, 14],\n",
       " 'Animated cartoon': [0.4833333333333332, 6],\n",
       " 'Mumblecore': [0.4714285714285715, 7],\n",
       " 'Psycho-biddy': [0.47000000000000003, 10],\n",
       " 'Extreme Sports': [0.4666666666666666, 6],\n",
       " 'Feature film': [0.4666666666666666, 6],\n",
       " 'Adult': [0.4652501506931886, 82],\n",
       " 'Erotic Drama': [0.4554196061140505, 109],\n",
       " 'Filipino Movies': [0.45534559502813465, 189],\n",
       " 'Pornographic movie': [0.45468129960317466, 65],\n",
       " 'Domestic Comedy': [0.45400769003253477, 161],\n",
       " 'Erotica': [0.45314594356261023, 181],\n",
       " 'Operetta': [0.43333333333333335, 3],\n",
       " 'Plague': [0.42500000000000004, 4],\n",
       " 'Filipino': [0.42000000000000004, 10],\n",
       " 'Slice of life story': [0.41820615796519406, 83],\n",
       " 'Fictional film': [0.4166666666666667, 6],\n",
       " 'Giallo': [0.41304347826086957, 23],\n",
       " 'Sex comedy': [0.41081094831094833, 234],\n",
       " 'Comedy of manners': [0.40841231314532284, 206],\n",
       " 'Marriage Drama': [0.4053125384520733, 129],\n",
       " 'Medical fiction': [0.40380434782608693, 46],\n",
       " 'Haunted House Film': [0.40378510378510374, 52],\n",
       " 'Television movie': [0.40308641975308646, 28],\n",
       " 'Romantic comedy': [0.4022925426159512, 1948],\n",
       " 'Gay Interest': [0.4019678469678469, 195],\n",
       " 'Gay': [0.4004250261864475, 197],\n",
       " 'Comedy-drama': [0.40028077268643303, 1166],\n",
       " 'Beach Film': [0.4, 16],\n",
       " 'Female buddy film': [0.4, 4],\n",
       " 'Coming-of-age film': [0.4, 2],\n",
       " 'Environmental Science': [0.4, 3],\n",
       " 'Film-Opera': [0.4, 1],\n",
       " 'Tokusatsu': [0.4, 2],\n",
       " 'Race movie': [0.4, 2],\n",
       " 'Vampire movies': [0.39999999999999997, 3],\n",
       " 'Anthology': [0.3999999999999999, 7],\n",
       " 'Anime': [0.3951967592592593, 48],\n",
       " 'Teen': [0.395174697097774, 676],\n",
       " 'Romantic drama': [0.39400380291005294, 2401],\n",
       " 'Family Drama': [0.3937564499484004, 646],\n",
       " 'Dogme 95': [0.39375, 16],\n",
       " 'Ensemble Film': [0.39365671641791045, 335],\n",
       " 'Erotic thriller': [0.3934861246085735, 147],\n",
       " 'Fantasy Drama': [0.39285714285714285, 14],\n",
       " 'Slasher': [0.3922478381900024, 536],\n",
       " 'Childhood Drama': [0.3910238095238094, 100],\n",
       " 'LGBT': [0.3904976553728287, 726],\n",
       " 'Inspirational Drama': [0.38947368421052636, 19],\n",
       " 'Dance': [0.3860169491525424, 60],\n",
       " 'Gay Themed': [0.3859118541033435, 235],\n",
       " 'Melodrama': [0.3842107179263142, 436],\n",
       " 'Workplace Comedy': [0.3841269841269841, 81],\n",
       " 'Romance Film': [0.3811538533169441, 5971],\n",
       " 'Goat gland': [0.38055555555555554, 4],\n",
       " 'Libraries and librarians': [0.38, 5],\n",
       " 'Supernatural': [0.37711585665193914, 485],\n",
       " 'Romantic fantasy': [0.37599206349206354, 56],\n",
       " 'Coming of age': [0.37556663806663804, 666],\n",
       " 'Backstage Musical': [0.375, 20],\n",
       " 'Religious Film': [0.37283950617283945, 55],\n",
       " 'Addiction Drama': [0.3709876543209876, 36],\n",
       " 'Art film': [0.3709792250233427, 341],\n",
       " 'Film': [0.3666666666666667, 13],\n",
       " 'Latino': [0.3666666666666667, 3],\n",
       " 'Splatter film': [0.36521739130434794, 23],\n",
       " 'Indie': [0.3643223978750294, 2999],\n",
       " 'Holiday Film': [0.36388888888888893, 36],\n",
       " 'Media Satire': [0.36341880341880345, 65],\n",
       " 'Horror': [0.3630890738172291, 3090],\n",
       " 'British New Wave': [0.36153846153846153, 13],\n",
       " 'Psychological thriller': [0.3601057155404982, 1012],\n",
       " 'Comedy horror': [0.3600000000000001, 15],\n",
       " 'Tragicomedy': [0.3578124999999999, 48],\n",
       " 'Musical comedy': [0.35590485695276114, 167],\n",
       " 'Fantasy Comedy': [0.3558498896247241, 151],\n",
       " 'B-movie': [0.3557808161768558, 303],\n",
       " 'Musical': [0.35476881122082515, 2016],\n",
       " 'Silent film': [0.35241065109695685, 631],\n",
       " 'Black comedy': [0.3508127438231469, 769],\n",
       " 'Sci-Fi Thriller': [0.35, 4],\n",
       " 'Psychological horror': [0.35, 2],\n",
       " 'Gothic Film': [0.34741379310344833, 58],\n",
       " 'Japanese Movies': [0.3461734693877552, 841],\n",
       " 'Natural disaster': [0.3453703703703703, 12],\n",
       " 'Comedy': [0.34526385108437974, 8152],\n",
       " 'Pre-Code': [0.344488188976378, 127],\n",
       " 'Drama': [0.3436057593948194, 15918],\n",
       " 'Czechoslovak New Wave': [0.34285714285714286, 7],\n",
       " 'World cinema': [0.3425650690032575, 4917],\n",
       " 'Music': [0.34047619047619043, 228],\n",
       " 'Musical Drama': [0.33999999999999997, 125],\n",
       " 'Christmas movie': [0.3382978723404256, 47],\n",
       " 'Tamil cinema': [0.33769841269841266, 60],\n",
       " 'Hardcore pornography': [0.3372222222222222, 6],\n",
       " 'Animals': [0.33611111111111114, 4],\n",
       " 'Tragedy': [0.3358187134502924, 76],\n",
       " 'Heaven-Can-Wait Fantasies': [0.33529411764705885, 17],\n",
       " 'Avant-garde': [0.33522486772486776, 64],\n",
       " 'Surrealism': [0.3348823866896156, 83],\n",
       " 'Comedy film': [0.33488051101802363, 991],\n",
       " 'Zombie Film': [0.3342235092235092, 185],\n",
       " 'Cult': [0.33407923603045553, 615],\n",
       " 'Film adaptation': [0.3338055006949016, 1085],\n",
       " 'Fairy tale': [0.33333333333333337, 10],\n",
       " 'Anthropology': [0.3333333333333333, 1],\n",
       " 'Point of view shot': [0.3333333333333333, 3],\n",
       " 'Illnesses & Disabilities': [0.3333333333333333, 4],\n",
       " 'Americana': [0.33176470588235296, 85],\n",
       " 'Short Film': [0.3316522366522367, 56],\n",
       " 'Horror Comedy': [0.33038292529817953, 177],\n",
       " 'Whodunit': [0.3303030303030304, 33],\n",
       " 'Bollywood': [0.3299708003598494, 1042],\n",
       " 'Fantasy': [0.329328165374677, 1333],\n",
       " 'Mystery': [0.3287250881834215, 1802],\n",
       " 'Suspense': [0.32857345319080006, 588],\n",
       " 'Social problem film': [0.32739726027397265, 73],\n",
       " 'Punk rock': [0.3263888888888889, 20],\n",
       " 'Remake': [0.325, 80],\n",
       " 'Biography': [0.3248030866418775, 442],\n",
       " 'Period piece': [0.32477082826316217, 1174],\n",
       " 'Road movie': [0.32322222222222224, 251],\n",
       " 'Gross out': [0.3228511530398322, 53],\n",
       " 'Gross-out film': [0.3228511530398322, 53],\n",
       " 'Heavenly Comedy': [0.3227272727272727, 22],\n",
       " 'Family Film': [0.32136234225915666, 1445],\n",
       " 'Satire': [0.3207893785533537, 483],\n",
       " 'Biographical film': [0.32047946326296844, 489],\n",
       " 'Natural horror films': [0.32020502645502646, 108],\n",
       " 'Road-Horror': [0.3201680672268908, 17],\n",
       " \"Children's\": [0.31971310263235725, 161],\n",
       " 'Film à clef': [0.3185185185185184, 27],\n",
       " 'Experimental film': [0.31728279030910606, 80],\n",
       " 'Animation': [0.3171372819100092, 242],\n",
       " 'Screwball comedy': [0.31694915254237294, 236],\n",
       " 'Comedy Thriller': [0.3168831168831168, 77],\n",
       " 'Comedy of Errors': [0.316850625459897, 151],\n",
       " 'Computer Animation': [0.31518518518518523, 60],\n",
       " 'Black-and-white': [0.31462891084450717, 2839],\n",
       " 'Albino bias': [0.3142857142857142, 14],\n",
       " \"Children's Fantasy\": [0.31106442577030813, 102],\n",
       " 'Historical drama': [0.31019892805607086, 77],\n",
       " 'Political satire': [0.307716049382716, 72],\n",
       " 'Biopic [feature]': [0.30553659461509297, 293],\n",
       " 'Tollywood': [0.30456989247311833, 31],\n",
       " \"Children's/Family\": [0.30446334089191235, 315],\n",
       " 'Thriller': [0.3043484132731055, 5524],\n",
       " 'Family-Oriented Adventure': [0.304214220123311, 121],\n",
       " 'Sci-Fi Horror': [0.3037796636806538, 101],\n",
       " 'New Hollywood': [0.30377906976744184, 86],\n",
       " 'Dystopia': [0.30096801346801344, 66],\n",
       " 'Disaster': [0.3004208754208754, 165],\n",
       " 'Political cinema': [0.300046475046475, 134],\n",
       " 'Filmed Play': [0.30000000000000004, 2],\n",
       " 'The Netherlands in World War II': [0.30000000000000004, 2],\n",
       " 'Humour': [0.3, 4],\n",
       " 'Breakdance': [0.3, 1],\n",
       " 'News': [0.3, 1],\n",
       " 'Werewolf fiction': [0.3, 4],\n",
       " 'Neorealism': [0.3, 1],\n",
       " 'Revisionist Fairy Tale': [0.3, 1],\n",
       " 'Comdedy': [0.3, 1],\n",
       " 'Statutory rape': [0.3, 1],\n",
       " 'Beach Party film': [0.3, 2],\n",
       " 'Private military company': [0.3, 2],\n",
       " 'Live action': [0.3, 2],\n",
       " 'Christian film': [0.2993614303959132, 87],\n",
       " 'Chinese Movies': [0.29909027996776344, 907],\n",
       " 'Film noir': [0.298983969825554, 505],\n",
       " 'Parody': [0.298391875490826, 667],\n",
       " 'Malayalam Cinema': [0.29761904761904767, 12],\n",
       " 'Glamorized Spy Film': [0.29593023255813955, 45],\n",
       " 'Crime Drama': [0.29542612269885, 363],\n",
       " 'Superhero': [0.2939613526570048, 69],\n",
       " 'Crime Thriller': [0.29269836089353063, 1532],\n",
       " 'Monster movie': [0.2915711898794605, 133],\n",
       " 'Stop motion': [0.2909545553381169, 73],\n",
       " 'Crime': [0.29090909090909095, 22],\n",
       " 'Doomsday film': [0.2905390539053906, 101],\n",
       " 'Detective fiction': [0.28920068027210877, 196],\n",
       " 'Costume Horror': [0.2881944444444444, 52],\n",
       " 'Detective': [0.28815261044176704, 249],\n",
       " 'Roadshow theatrical release': [0.2875, 32],\n",
       " 'Buddy film': [0.2868792425866381, 311],\n",
       " 'Mockumentary': [0.28587061087061094, 68],\n",
       " 'Jukebox musical': [0.2857142857142857, 7],\n",
       " 'Science Fiction': [0.2856022922302702, 1638],\n",
       " 'Time travel': [0.2853789403085178, 71],\n",
       " 'Courtroom Drama': [0.28414720452937015, 157],\n",
       " 'Outlaw biker film': [0.2833333333333333, 12],\n",
       " 'Courtroom Comedy': [0.2833333333333333, 6],\n",
       " 'Auto racing': [0.28290598290598296, 40],\n",
       " 'Political drama': [0.2827332984475842, 460],\n",
       " 'Docudrama': [0.2821059431524548, 173],\n",
       " 'Crime Fiction': [0.27882773385191445, 3729],\n",
       " 'Slapstick': [0.2783719931271477, 389],\n",
       " 'Steampunk': [0.2782222222222222, 25],\n",
       " 'Mondo film': [0.27777777777777773, 4],\n",
       " 'Costume drama': [0.2758389261744967, 298],\n",
       " 'Apocalyptic and post-apocalyptic fiction': [0.27564102564102566, 26],\n",
       " 'Horse racing': [0.275, 8],\n",
       " 'Biker Film': [0.275, 20],\n",
       " 'Animal Picture': [0.27368197278911566, 112],\n",
       " 'Blaxploitation': [0.2732394366197183, 71],\n",
       " 'Stoner film': [0.272609819121447, 43],\n",
       " 'Future noir': [0.2719806763285024, 23],\n",
       " 'Culture & Society': [0.27188999630860095, 91],\n",
       " 'Creature Film': [0.2718468855652971, 277],\n",
       " 'Stand-up comedy': [0.27142857142857146, 10],\n",
       " 'Neo-noir': [0.27037037037037037, 57],\n",
       " 'Wuxia': [0.2700292397660819, 76],\n",
       " 'Juvenile Delinquency Film': [0.269047619047619, 36],\n",
       " 'Sword and sorcery': [0.26887755102040817, 28],\n",
       " 'Nature': [0.26666666666666666, 9],\n",
       " 'Supermarionation': [0.26666666666666666, 3],\n",
       " 'Absurdism': [0.2658783783783784, 74],\n",
       " 'History': [0.2645873015873016, 268],\n",
       " 'Crime Comedy': [0.26413419913419917, 220],\n",
       " 'Historical fiction': [0.2622119280069071, 240],\n",
       " 'Sci-Fi Adventure': [0.261904761904762, 21],\n",
       " 'Documentary': [0.26187349687349687, 329],\n",
       " 'Fantasy Adventure': [0.2618285714285714, 125],\n",
       " 'Superhero movie': [0.26044823232323233, 176],\n",
       " 'Travel': [0.26, 9],\n",
       " 'Animated Musical': [0.26, 5],\n",
       " 'Outlaw': [0.26, 5],\n",
       " 'Chase Movie': [0.2593101343101343, 91],\n",
       " 'Space western': [0.25833333333333336, 12],\n",
       " 'Mythological Fantasy': [0.25789473684210523, 19],\n",
       " 'Master Criminal Films': [0.25733333333333336, 26],\n",
       " 'Hip hop movies': [0.2570048309178744, 24],\n",
       " 'Monster': [0.25653968253968257, 100],\n",
       " 'Spy': [0.2547825190682334, 311],\n",
       " 'Buddy cop': [0.2545454545454546, 11],\n",
       " 'Sports': [0.25423331200682453, 534],\n",
       " 'Essay Film': [0.2533333333333333, 7],\n",
       " 'Alien Film': [0.25194658944658943, 74],\n",
       " 'Archives and records': [0.25000000000000006, 6],\n",
       " 'Legal drama': [0.25, 8],\n",
       " 'Ealing Comedies': [0.25, 12],\n",
       " 'Conspiracy fiction': [0.25, 2],\n",
       " 'Revenge': [0.25, 2],\n",
       " 'Period Horror': [0.25, 2],\n",
       " 'Star vehicle': [0.25, 2],\n",
       " 'Expressionism': [0.25, 2],\n",
       " 'Epic': [0.24955609362389028, 177],\n",
       " 'Sword and sorcery films': [0.2492063492063492, 27],\n",
       " 'Adventure': [0.2475286766462041, 2466],\n",
       " 'Action': [0.24075968331460598, 4926],\n",
       " 'Parkour in popular culture': [0.24000000000000005, 5],\n",
       " 'Political thriller': [0.23864059590316575, 179],\n",
       " 'Adventure Comedy': [0.237474279835391, 108],\n",
       " 'Existentialism': [0.2372549019607843, 34],\n",
       " 'Heist': [0.23657745336577454, 137],\n",
       " 'Comedy Western': [0.2337962962962963, 48],\n",
       " 'Propaganda film': [0.2335978835978836, 43],\n",
       " 'Action/Adventure': [0.232599765700811, 3159],\n",
       " 'Caper story': [0.2324675324675325, 77],\n",
       " 'Action Comedy': [0.23150912106135987, 134],\n",
       " 'Action Thrillers': [0.23087893864013267, 336],\n",
       " 'Social issues': [0.2295518207282913, 38],\n",
       " 'Reboot': [0.22857142857142862, 7],\n",
       " 'Airplanes and airports': [0.22721088435374148, 49],\n",
       " 'Cyberpunk': [0.22500000000000003, 4],\n",
       " 'Movies About Gladiators': [0.22500000000000003, 4],\n",
       " 'Alien invasion': [0.225, 4],\n",
       " 'School story': [0.22499999999999998, 4],\n",
       " 'Gangster Film': [0.22262922262922266, 312],\n",
       " 'Prison': [0.2220779220779221, 77],\n",
       " 'Martial Arts Film': [0.22037202380952384, 641],\n",
       " 'Bengali Cinema': [0.22000000000000003, 10],\n",
       " 'Demonic child': [0.21999999999999997, 5],\n",
       " 'Swashbuckler films': [0.21888888888888888, 90],\n",
       " 'Hybrid Western': [0.21666666666666667, 24],\n",
       " 'War film': [0.21591802616108174, 1305],\n",
       " 'Costume Adventure': [0.21475409836065573, 61],\n",
       " 'Boxing': [0.21276595744680848, 47],\n",
       " 'Jungle Film': [0.21141240446796003, 56],\n",
       " 'Cold War': [0.21111111111111114, 9],\n",
       " 'Western': [0.21050227025404333, 846],\n",
       " 'B-Western': [0.20833333333333334, 18],\n",
       " 'Hagiography': [0.20625000000000002, 16],\n",
       " 'Revisionist Western': [0.20545454545454545, 55],\n",
       " 'Spaghetti Western': [0.20377358490566036, 53],\n",
       " 'Historical Epic': [0.20357142857142854, 56],\n",
       " 'Bruceploitation': [0.20000000000000004, 3],\n",
       " 'Sword and Sandal': [0.20000000000000004, 12],\n",
       " 'Archaeology': [0.20000000000000004, 10],\n",
       " 'Ninja movie': [0.2, 1],\n",
       " 'Language & Literature': [0.2, 2],\n",
       " 'British Empire Film': [0.2, 20],\n",
       " 'Kafkaesque': [0.19999999999999998, 6],\n",
       " 'Samurai cinema': [0.1980769230769231, 26],\n",
       " 'Escape Film': [0.19714285714285712, 40],\n",
       " 'Movie serial': [0.1888888888888889, 9],\n",
       " 'Baseball': [0.18888888888888888, 9],\n",
       " 'Space opera': [0.18, 5],\n",
       " 'Anti-war': [0.17885304659498205, 31],\n",
       " 'Indian Western': [0.17777777777777778, 18],\n",
       " 'Therimin music': [0.175, 4],\n",
       " 'Anti-war film': [0.17481481481481478, 30],\n",
       " 'Epic Western': [0.17333333333333337, 15],\n",
       " 'Gay pornography': [0.16790123456790126, 9],\n",
       " 'Science fiction Western': [0.16666666666666666, 3],\n",
       " 'Singing cowboy': [0.16666666666666666, 3],\n",
       " 'Camp': [0.16666666666666666, 3],\n",
       " 'Cavalry Film': [0.16363636363636366, 11],\n",
       " 'Concert film': [0.15999999999999998, 8],\n",
       " 'Rockumentary': [0.15542328042328044, 28],\n",
       " 'Nuclear warfare': [0.15, 2],\n",
       " 'Gulf War': [0.13333333333333333, 3],\n",
       " 'Northern': [0.13333333333333333, 6],\n",
       " 'Foreign legion': [0.12222222222222223, 9],\n",
       " 'Gender Issues': [0.12037037037037036, 8],\n",
       " 'Law & Crime': [0.1125, 15],\n",
       " 'Combat Films': [0.11234567901234567, 81],\n",
       " 'Educational': [0.1, 2],\n",
       " 'Buddy Picture': [0.1, 1],\n",
       " 'Acid western': [0.09999999999999999, 7],\n",
       " 'Prison film': [0.075, 12],\n",
       " 'Prison escape': [0.05, 2],\n",
       " 'Finance & Investing': [0.0, 2],\n",
       " 'Homoeroticism': [0.0, 1],\n",
       " 'New Queer Cinema': [0.0, 1],\n",
       " 'Computers': [0.0, 3],\n",
       " 'Instrumental Music': [0.0, 3],\n",
       " 'Patriotic film': [0.0, 1],\n",
       " 'Health & Fitness': [0.0, 2],\n",
       " 'Business': [0.0, 4]}"
      ]
     },
     "execution_count": 6,
     "metadata": {},
     "output_type": "execute_result"
    }
   ],
   "source": [
    "genres_ratio = dict(sorted(genre_dict.items(), key=lambda item: item[1][0], reverse=True))\n",
    "\n",
    "genres_ratio"
   ]
  },
  {
   "cell_type": "code",
   "execution_count": 7,
   "metadata": {},
   "outputs": [
    {
     "data": {
      "text/plain": [
       "{'Feminist Film': [0.5376068376068376, 65],\n",
       " 'Softcore Porn': [0.4904030910609857, 38],\n",
       " 'Sexploitation': [0.48980099502487545, 68],\n",
       " 'Kitchen sink realism': [0.4857142857142857, 14],\n",
       " 'Adult': [0.4652501506931886, 82],\n",
       " 'Erotic Drama': [0.4554196061140505, 109],\n",
       " 'Filipino Movies': [0.45534559502813465, 189],\n",
       " 'Pornographic movie': [0.45468129960317466, 65],\n",
       " 'Domestic Comedy': [0.45400769003253477, 161],\n",
       " 'Erotica': [0.45314594356261023, 181],\n",
       " 'Slice of life story': [0.41820615796519406, 83],\n",
       " 'Giallo': [0.41304347826086957, 23],\n",
       " 'Sex comedy': [0.41081094831094833, 234],\n",
       " 'Comedy of manners': [0.40841231314532284, 206],\n",
       " 'Marriage Drama': [0.4053125384520733, 129],\n",
       " 'Medical fiction': [0.40380434782608693, 46],\n",
       " 'Haunted House Film': [0.40378510378510374, 52],\n",
       " 'Television movie': [0.40308641975308646, 28],\n",
       " 'Romantic comedy': [0.4022925426159512, 1948],\n",
       " 'Gay Interest': [0.4019678469678469, 195],\n",
       " 'Gay': [0.4004250261864475, 197],\n",
       " 'Comedy-drama': [0.40028077268643303, 1166],\n",
       " 'Beach Film': [0.4, 16],\n",
       " 'Anime': [0.3951967592592593, 48],\n",
       " 'Teen': [0.395174697097774, 676],\n",
       " 'Romantic drama': [0.39400380291005294, 2401],\n",
       " 'Family Drama': [0.3937564499484004, 646],\n",
       " 'Dogme 95': [0.39375, 16],\n",
       " 'Ensemble Film': [0.39365671641791045, 335],\n",
       " 'Erotic thriller': [0.3934861246085735, 147],\n",
       " 'Fantasy Drama': [0.39285714285714285, 14],\n",
       " 'Slasher': [0.3922478381900024, 536],\n",
       " 'Childhood Drama': [0.3910238095238094, 100],\n",
       " 'LGBT': [0.3904976553728287, 726],\n",
       " 'Inspirational Drama': [0.38947368421052636, 19],\n",
       " 'Dance': [0.3860169491525424, 60],\n",
       " 'Gay Themed': [0.3859118541033435, 235],\n",
       " 'Melodrama': [0.3842107179263142, 436],\n",
       " 'Workplace Comedy': [0.3841269841269841, 81],\n",
       " 'Romance Film': [0.3811538533169441, 5971],\n",
       " 'Supernatural': [0.37711585665193914, 485],\n",
       " 'Romantic fantasy': [0.37599206349206354, 56],\n",
       " 'Coming of age': [0.37556663806663804, 666],\n",
       " 'Backstage Musical': [0.375, 20],\n",
       " 'Religious Film': [0.37283950617283945, 55],\n",
       " 'Addiction Drama': [0.3709876543209876, 36],\n",
       " 'Art film': [0.3709792250233427, 341],\n",
       " 'Splatter film': [0.36521739130434794, 23],\n",
       " 'Indie': [0.3643223978750294, 2999],\n",
       " 'Holiday Film': [0.36388888888888893, 36],\n",
       " 'Media Satire': [0.36341880341880345, 65],\n",
       " 'Horror': [0.3630890738172291, 3090],\n",
       " 'Psychological thriller': [0.3601057155404982, 1012],\n",
       " 'Comedy horror': [0.3600000000000001, 15],\n",
       " 'Tragicomedy': [0.3578124999999999, 48],\n",
       " 'Musical comedy': [0.35590485695276114, 167],\n",
       " 'Fantasy Comedy': [0.3558498896247241, 151],\n",
       " 'B-movie': [0.3557808161768558, 303],\n",
       " 'Musical': [0.35476881122082515, 2016],\n",
       " 'Silent film': [0.35241065109695685, 631],\n",
       " 'Black comedy': [0.3508127438231469, 769],\n",
       " 'Gothic Film': [0.34741379310344833, 58],\n",
       " 'Japanese Movies': [0.3461734693877552, 841],\n",
       " 'Comedy': [0.34526385108437974, 8152],\n",
       " 'Pre-Code': [0.344488188976378, 127],\n",
       " 'Drama': [0.3436057593948194, 15918],\n",
       " 'World cinema': [0.3425650690032575, 4917],\n",
       " 'Music': [0.34047619047619043, 228],\n",
       " 'Musical Drama': [0.33999999999999997, 125],\n",
       " 'Christmas movie': [0.3382978723404256, 47],\n",
       " 'Tamil cinema': [0.33769841269841266, 60],\n",
       " 'Tragedy': [0.3358187134502924, 76],\n",
       " 'Heaven-Can-Wait Fantasies': [0.33529411764705885, 17],\n",
       " 'Avant-garde': [0.33522486772486776, 64],\n",
       " 'Surrealism': [0.3348823866896156, 83],\n",
       " 'Comedy film': [0.33488051101802363, 991],\n",
       " 'Zombie Film': [0.3342235092235092, 185],\n",
       " 'Cult': [0.33407923603045553, 615],\n",
       " 'Film adaptation': [0.3338055006949016, 1085],\n",
       " 'Americana': [0.33176470588235296, 85],\n",
       " 'Short Film': [0.3316522366522367, 56],\n",
       " 'Horror Comedy': [0.33038292529817953, 177],\n",
       " 'Whodunit': [0.3303030303030304, 33],\n",
       " 'Bollywood': [0.3299708003598494, 1042],\n",
       " 'Fantasy': [0.329328165374677, 1333],\n",
       " 'Mystery': [0.3287250881834215, 1802],\n",
       " 'Suspense': [0.32857345319080006, 588],\n",
       " 'Social problem film': [0.32739726027397265, 73],\n",
       " 'Punk rock': [0.3263888888888889, 20],\n",
       " 'Remake': [0.325, 80],\n",
       " 'Biography': [0.3248030866418775, 442],\n",
       " 'Period piece': [0.32477082826316217, 1174],\n",
       " 'Road movie': [0.32322222222222224, 251],\n",
       " 'Gross out': [0.3228511530398322, 53],\n",
       " 'Gross-out film': [0.3228511530398322, 53],\n",
       " 'Heavenly Comedy': [0.3227272727272727, 22],\n",
       " 'Family Film': [0.32136234225915666, 1445],\n",
       " 'Satire': [0.3207893785533537, 483],\n",
       " 'Biographical film': [0.32047946326296844, 489],\n",
       " 'Natural horror films': [0.32020502645502646, 108],\n",
       " 'Road-Horror': [0.3201680672268908, 17],\n",
       " \"Children's\": [0.31971310263235725, 161],\n",
       " 'Film à clef': [0.3185185185185184, 27],\n",
       " 'Experimental film': [0.31728279030910606, 80],\n",
       " 'Animation': [0.3171372819100092, 242],\n",
       " 'Screwball comedy': [0.31694915254237294, 236],\n",
       " 'Comedy Thriller': [0.3168831168831168, 77],\n",
       " 'Comedy of Errors': [0.316850625459897, 151],\n",
       " 'Computer Animation': [0.31518518518518523, 60],\n",
       " 'Black-and-white': [0.31462891084450717, 2839],\n",
       " 'Albino bias': [0.3142857142857142, 14],\n",
       " \"Children's Fantasy\": [0.31106442577030813, 102],\n",
       " 'Historical drama': [0.31019892805607086, 77],\n",
       " 'Political satire': [0.307716049382716, 72],\n",
       " 'Biopic [feature]': [0.30553659461509297, 293],\n",
       " 'Tollywood': [0.30456989247311833, 31],\n",
       " \"Children's/Family\": [0.30446334089191235, 315],\n",
       " 'Thriller': [0.3043484132731055, 5524],\n",
       " 'Family-Oriented Adventure': [0.304214220123311, 121],\n",
       " 'Sci-Fi Horror': [0.3037796636806538, 101],\n",
       " 'New Hollywood': [0.30377906976744184, 86],\n",
       " 'Dystopia': [0.30096801346801344, 66],\n",
       " 'Disaster': [0.3004208754208754, 165],\n",
       " 'Political cinema': [0.300046475046475, 134],\n",
       " 'Christian film': [0.2993614303959132, 87],\n",
       " 'Chinese Movies': [0.29909027996776344, 907],\n",
       " 'Film noir': [0.298983969825554, 505],\n",
       " 'Parody': [0.298391875490826, 667],\n",
       " 'Glamorized Spy Film': [0.29593023255813955, 45],\n",
       " 'Crime Drama': [0.29542612269885, 363],\n",
       " 'Superhero': [0.2939613526570048, 69],\n",
       " 'Crime Thriller': [0.29269836089353063, 1532],\n",
       " 'Monster movie': [0.2915711898794605, 133],\n",
       " 'Stop motion': [0.2909545553381169, 73],\n",
       " 'Crime': [0.29090909090909095, 22],\n",
       " 'Doomsday film': [0.2905390539053906, 101],\n",
       " 'Detective fiction': [0.28920068027210877, 196],\n",
       " 'Costume Horror': [0.2881944444444444, 52],\n",
       " 'Detective': [0.28815261044176704, 249],\n",
       " 'Roadshow theatrical release': [0.2875, 32],\n",
       " 'Buddy film': [0.2868792425866381, 311],\n",
       " 'Mockumentary': [0.28587061087061094, 68],\n",
       " 'Science Fiction': [0.2856022922302702, 1638],\n",
       " 'Time travel': [0.2853789403085178, 71],\n",
       " 'Courtroom Drama': [0.28414720452937015, 157],\n",
       " 'Auto racing': [0.28290598290598296, 40],\n",
       " 'Political drama': [0.2827332984475842, 460],\n",
       " 'Docudrama': [0.2821059431524548, 173],\n",
       " 'Crime Fiction': [0.27882773385191445, 3729],\n",
       " 'Slapstick': [0.2783719931271477, 389],\n",
       " 'Steampunk': [0.2782222222222222, 25],\n",
       " 'Costume drama': [0.2758389261744967, 298],\n",
       " 'Apocalyptic and post-apocalyptic fiction': [0.27564102564102566, 26],\n",
       " 'Biker Film': [0.275, 20],\n",
       " 'Animal Picture': [0.27368197278911566, 112],\n",
       " 'Blaxploitation': [0.2732394366197183, 71],\n",
       " 'Stoner film': [0.272609819121447, 43],\n",
       " 'Future noir': [0.2719806763285024, 23],\n",
       " 'Culture & Society': [0.27188999630860095, 91],\n",
       " 'Creature Film': [0.2718468855652971, 277],\n",
       " 'Neo-noir': [0.27037037037037037, 57],\n",
       " 'Wuxia': [0.2700292397660819, 76],\n",
       " 'Juvenile Delinquency Film': [0.269047619047619, 36],\n",
       " 'Sword and sorcery': [0.26887755102040817, 28],\n",
       " 'Absurdism': [0.2658783783783784, 74],\n",
       " 'History': [0.2645873015873016, 268],\n",
       " 'Crime Comedy': [0.26413419913419917, 220],\n",
       " 'Historical fiction': [0.2622119280069071, 240],\n",
       " 'Sci-Fi Adventure': [0.261904761904762, 21],\n",
       " 'Documentary': [0.26187349687349687, 329],\n",
       " 'Fantasy Adventure': [0.2618285714285714, 125],\n",
       " 'Superhero movie': [0.26044823232323233, 176],\n",
       " 'Chase Movie': [0.2593101343101343, 91],\n",
       " 'Mythological Fantasy': [0.25789473684210523, 19],\n",
       " 'Master Criminal Films': [0.25733333333333336, 26],\n",
       " 'Hip hop movies': [0.2570048309178744, 24],\n",
       " 'Monster': [0.25653968253968257, 100],\n",
       " 'Spy': [0.2547825190682334, 311],\n",
       " 'Sports': [0.25423331200682453, 534],\n",
       " 'Alien Film': [0.25194658944658943, 74],\n",
       " 'Epic': [0.24955609362389028, 177],\n",
       " 'Sword and sorcery films': [0.2492063492063492, 27],\n",
       " 'Adventure': [0.2475286766462041, 2466],\n",
       " 'Action': [0.24075968331460598, 4926],\n",
       " 'Political thriller': [0.23864059590316575, 179],\n",
       " 'Adventure Comedy': [0.237474279835391, 108],\n",
       " 'Existentialism': [0.2372549019607843, 34],\n",
       " 'Heist': [0.23657745336577454, 137],\n",
       " 'Comedy Western': [0.2337962962962963, 48],\n",
       " 'Propaganda film': [0.2335978835978836, 43],\n",
       " 'Action/Adventure': [0.232599765700811, 3159],\n",
       " 'Caper story': [0.2324675324675325, 77],\n",
       " 'Action Comedy': [0.23150912106135987, 134],\n",
       " 'Action Thrillers': [0.23087893864013267, 336],\n",
       " 'Social issues': [0.2295518207282913, 38],\n",
       " 'Airplanes and airports': [0.22721088435374148, 49],\n",
       " 'Gangster Film': [0.22262922262922266, 312],\n",
       " 'Prison': [0.2220779220779221, 77],\n",
       " 'Martial Arts Film': [0.22037202380952384, 641],\n",
       " 'Swashbuckler films': [0.21888888888888888, 90],\n",
       " 'Hybrid Western': [0.21666666666666667, 24],\n",
       " 'War film': [0.21591802616108174, 1305],\n",
       " 'Costume Adventure': [0.21475409836065573, 61],\n",
       " 'Boxing': [0.21276595744680848, 47],\n",
       " 'Jungle Film': [0.21141240446796003, 56],\n",
       " 'Western': [0.21050227025404333, 846],\n",
       " 'B-Western': [0.20833333333333334, 18],\n",
       " 'Hagiography': [0.20625000000000002, 16],\n",
       " 'Revisionist Western': [0.20545454545454545, 55],\n",
       " 'Spaghetti Western': [0.20377358490566036, 53],\n",
       " 'Historical Epic': [0.20357142857142854, 56],\n",
       " 'British Empire Film': [0.2, 20],\n",
       " 'Samurai cinema': [0.1980769230769231, 26],\n",
       " 'Escape Film': [0.19714285714285712, 40],\n",
       " 'Anti-war': [0.17885304659498205, 31],\n",
       " 'Indian Western': [0.17777777777777778, 18],\n",
       " 'Anti-war film': [0.17481481481481478, 30],\n",
       " 'Epic Western': [0.17333333333333337, 15],\n",
       " 'Rockumentary': [0.15542328042328044, 28],\n",
       " 'Law & Crime': [0.1125, 15],\n",
       " 'Combat Films': [0.11234567901234567, 81]}"
      ]
     },
     "execution_count": 7,
     "metadata": {},
     "output_type": "execute_result"
    }
   ],
   "source": [
    "#keeping only the genres with more than 13 films\n",
    "genres_ratio = {k: [v[0],v[1]] for k, v in genres_ratio.items() if v[1] > 13}\n",
    "genres_ratio"
   ]
  },
  {
   "cell_type": "code",
   "execution_count": 8,
   "metadata": {},
   "outputs": [],
   "source": [
    "values = [v[0] for v in genres_ratio.values()]\n",
    "movies_count = [v[1] for v in genres_ratio.values()]"
   ]
  },
  {
   "cell_type": "code",
   "execution_count": 9,
   "metadata": {},
   "outputs": [
    {
     "data": {
      "application/vnd.plotly.v1+json": {
       "config": {
        "plotlyServerURL": "https://plot.ly"
       },
       "data": [
        {
         "marker": {
          "color": "blue"
         },
         "name": "Most inclusive genres",
         "opacity": 0.4,
         "type": "bar",
         "x": [
          "Feminist Film",
          "Softcore Porn",
          "Sexploitation",
          "Kitchen sink realism",
          "Adult",
          "Erotic Drama",
          "Filipino Movies",
          "Pornographic movie",
          "Domestic Comedy",
          "Erotica"
         ],
         "y": [
          0.5376068376068376,
          0.4904030910609857,
          0.48980099502487545,
          0.4857142857142857,
          0.4652501506931886,
          0.4554196061140505,
          0.45534559502813465,
          0.45468129960317466,
          0.45400769003253477,
          0.45314594356261023
         ]
        },
        {
         "marker": {
          "color": "red"
         },
         "name": "Least inclusive genres",
         "opacity": 0.4,
         "type": "bar",
         "x": [
          "British Empire Film",
          "Samurai cinema",
          "Escape Film",
          "Anti-war",
          "Indian Western",
          "Anti-war film",
          "Epic Western",
          "Rockumentary",
          "Law & Crime",
          "Combat Films"
         ],
         "y": [
          0.2,
          0.1980769230769231,
          0.19714285714285712,
          0.17885304659498205,
          0.17777777777777778,
          0.17481481481481478,
          0.17333333333333337,
          0.15542328042328044,
          0.1125,
          0.11234567901234567
         ]
        }
       ],
       "layout": {
        "annotations": [
         {
          "font": {
           "color": "black",
           "size": 10
          },
          "showarrow": false,
          "text": "65",
          "x": "Feminist Film",
          "y": 0.5476068376068376
         },
         {
          "font": {
           "color": "black",
           "size": 10
          },
          "showarrow": false,
          "text": "38",
          "x": "Softcore Porn",
          "y": 0.5004030910609857
         },
         {
          "font": {
           "color": "black",
           "size": 10
          },
          "showarrow": false,
          "text": "68",
          "x": "Sexploitation",
          "y": 0.49980099502487546
         },
         {
          "font": {
           "color": "black",
           "size": 10
          },
          "showarrow": false,
          "text": "14",
          "x": "Kitchen sink realism",
          "y": 0.4957142857142857
         },
         {
          "font": {
           "color": "black",
           "size": 10
          },
          "showarrow": false,
          "text": "82",
          "x": "Adult",
          "y": 0.4752501506931886
         },
         {
          "font": {
           "color": "black",
           "size": 10
          },
          "showarrow": false,
          "text": "109",
          "x": "Erotic Drama",
          "y": 0.46541960611405053
         },
         {
          "font": {
           "color": "black",
           "size": 10
          },
          "showarrow": false,
          "text": "189",
          "x": "Filipino Movies",
          "y": 0.46534559502813466
         },
         {
          "font": {
           "color": "black",
           "size": 10
          },
          "showarrow": false,
          "text": "65",
          "x": "Pornographic movie",
          "y": 0.46468129960317467
         },
         {
          "font": {
           "color": "black",
           "size": 10
          },
          "showarrow": false,
          "text": "161",
          "x": "Domestic Comedy",
          "y": 0.4640076900325348
         },
         {
          "font": {
           "color": "black",
           "size": 10
          },
          "showarrow": false,
          "text": "181",
          "x": "Erotica",
          "y": 0.46314594356261024
         },
         {
          "font": {
           "color": "black",
           "size": 10
          },
          "showarrow": false,
          "text": "20",
          "x": "British Empire Film",
          "y": 0.21000000000000002
         },
         {
          "font": {
           "color": "black",
           "size": 10
          },
          "showarrow": false,
          "text": "26",
          "x": "Samurai cinema",
          "y": 0.2080769230769231
         },
         {
          "font": {
           "color": "black",
           "size": 10
          },
          "showarrow": false,
          "text": "40",
          "x": "Escape Film",
          "y": 0.20714285714285713
         },
         {
          "font": {
           "color": "black",
           "size": 10
          },
          "showarrow": false,
          "text": "31",
          "x": "Anti-war",
          "y": 0.18885304659498206
         },
         {
          "font": {
           "color": "black",
           "size": 10
          },
          "showarrow": false,
          "text": "18",
          "x": "Indian Western",
          "y": 0.1877777777777778
         },
         {
          "font": {
           "color": "black",
           "size": 10
          },
          "showarrow": false,
          "text": "30",
          "x": "Anti-war film",
          "y": 0.1848148148148148
         },
         {
          "font": {
           "color": "black",
           "size": 10
          },
          "showarrow": false,
          "text": "15",
          "x": "Epic Western",
          "y": 0.18333333333333338
         },
         {
          "font": {
           "color": "black",
           "size": 10
          },
          "showarrow": false,
          "text": "28",
          "x": "Rockumentary",
          "y": 0.16542328042328044
         },
         {
          "font": {
           "color": "black",
           "size": 10
          },
          "showarrow": false,
          "text": "15",
          "x": "Law & Crime",
          "y": 0.1225
         },
         {
          "font": {
           "color": "black",
           "size": 10
          },
          "showarrow": false,
          "text": "81",
          "x": "Combat Films",
          "y": 0.12234567901234567
         }
        ],
        "legend": {
         "orientation": "h",
         "x": 0.1,
         "y": 1.12
        },
        "template": {
         "data": {
          "bar": [
           {
            "error_x": {
             "color": "#2a3f5f"
            },
            "error_y": {
             "color": "#2a3f5f"
            },
            "marker": {
             "line": {
              "color": "#E5ECF6",
              "width": 0.5
             },
             "pattern": {
              "fillmode": "overlay",
              "size": 10,
              "solidity": 0.2
             }
            },
            "type": "bar"
           }
          ],
          "barpolar": [
           {
            "marker": {
             "line": {
              "color": "#E5ECF6",
              "width": 0.5
             },
             "pattern": {
              "fillmode": "overlay",
              "size": 10,
              "solidity": 0.2
             }
            },
            "type": "barpolar"
           }
          ],
          "carpet": [
           {
            "aaxis": {
             "endlinecolor": "#2a3f5f",
             "gridcolor": "white",
             "linecolor": "white",
             "minorgridcolor": "white",
             "startlinecolor": "#2a3f5f"
            },
            "baxis": {
             "endlinecolor": "#2a3f5f",
             "gridcolor": "white",
             "linecolor": "white",
             "minorgridcolor": "white",
             "startlinecolor": "#2a3f5f"
            },
            "type": "carpet"
           }
          ],
          "choropleth": [
           {
            "colorbar": {
             "outlinewidth": 0,
             "ticks": ""
            },
            "type": "choropleth"
           }
          ],
          "contour": [
           {
            "colorbar": {
             "outlinewidth": 0,
             "ticks": ""
            },
            "colorscale": [
             [
              0,
              "#0d0887"
             ],
             [
              0.1111111111111111,
              "#46039f"
             ],
             [
              0.2222222222222222,
              "#7201a8"
             ],
             [
              0.3333333333333333,
              "#9c179e"
             ],
             [
              0.4444444444444444,
              "#bd3786"
             ],
             [
              0.5555555555555556,
              "#d8576b"
             ],
             [
              0.6666666666666666,
              "#ed7953"
             ],
             [
              0.7777777777777778,
              "#fb9f3a"
             ],
             [
              0.8888888888888888,
              "#fdca26"
             ],
             [
              1,
              "#f0f921"
             ]
            ],
            "type": "contour"
           }
          ],
          "contourcarpet": [
           {
            "colorbar": {
             "outlinewidth": 0,
             "ticks": ""
            },
            "type": "contourcarpet"
           }
          ],
          "heatmap": [
           {
            "colorbar": {
             "outlinewidth": 0,
             "ticks": ""
            },
            "colorscale": [
             [
              0,
              "#0d0887"
             ],
             [
              0.1111111111111111,
              "#46039f"
             ],
             [
              0.2222222222222222,
              "#7201a8"
             ],
             [
              0.3333333333333333,
              "#9c179e"
             ],
             [
              0.4444444444444444,
              "#bd3786"
             ],
             [
              0.5555555555555556,
              "#d8576b"
             ],
             [
              0.6666666666666666,
              "#ed7953"
             ],
             [
              0.7777777777777778,
              "#fb9f3a"
             ],
             [
              0.8888888888888888,
              "#fdca26"
             ],
             [
              1,
              "#f0f921"
             ]
            ],
            "type": "heatmap"
           }
          ],
          "heatmapgl": [
           {
            "colorbar": {
             "outlinewidth": 0,
             "ticks": ""
            },
            "colorscale": [
             [
              0,
              "#0d0887"
             ],
             [
              0.1111111111111111,
              "#46039f"
             ],
             [
              0.2222222222222222,
              "#7201a8"
             ],
             [
              0.3333333333333333,
              "#9c179e"
             ],
             [
              0.4444444444444444,
              "#bd3786"
             ],
             [
              0.5555555555555556,
              "#d8576b"
             ],
             [
              0.6666666666666666,
              "#ed7953"
             ],
             [
              0.7777777777777778,
              "#fb9f3a"
             ],
             [
              0.8888888888888888,
              "#fdca26"
             ],
             [
              1,
              "#f0f921"
             ]
            ],
            "type": "heatmapgl"
           }
          ],
          "histogram": [
           {
            "marker": {
             "pattern": {
              "fillmode": "overlay",
              "size": 10,
              "solidity": 0.2
             }
            },
            "type": "histogram"
           }
          ],
          "histogram2d": [
           {
            "colorbar": {
             "outlinewidth": 0,
             "ticks": ""
            },
            "colorscale": [
             [
              0,
              "#0d0887"
             ],
             [
              0.1111111111111111,
              "#46039f"
             ],
             [
              0.2222222222222222,
              "#7201a8"
             ],
             [
              0.3333333333333333,
              "#9c179e"
             ],
             [
              0.4444444444444444,
              "#bd3786"
             ],
             [
              0.5555555555555556,
              "#d8576b"
             ],
             [
              0.6666666666666666,
              "#ed7953"
             ],
             [
              0.7777777777777778,
              "#fb9f3a"
             ],
             [
              0.8888888888888888,
              "#fdca26"
             ],
             [
              1,
              "#f0f921"
             ]
            ],
            "type": "histogram2d"
           }
          ],
          "histogram2dcontour": [
           {
            "colorbar": {
             "outlinewidth": 0,
             "ticks": ""
            },
            "colorscale": [
             [
              0,
              "#0d0887"
             ],
             [
              0.1111111111111111,
              "#46039f"
             ],
             [
              0.2222222222222222,
              "#7201a8"
             ],
             [
              0.3333333333333333,
              "#9c179e"
             ],
             [
              0.4444444444444444,
              "#bd3786"
             ],
             [
              0.5555555555555556,
              "#d8576b"
             ],
             [
              0.6666666666666666,
              "#ed7953"
             ],
             [
              0.7777777777777778,
              "#fb9f3a"
             ],
             [
              0.8888888888888888,
              "#fdca26"
             ],
             [
              1,
              "#f0f921"
             ]
            ],
            "type": "histogram2dcontour"
           }
          ],
          "mesh3d": [
           {
            "colorbar": {
             "outlinewidth": 0,
             "ticks": ""
            },
            "type": "mesh3d"
           }
          ],
          "parcoords": [
           {
            "line": {
             "colorbar": {
              "outlinewidth": 0,
              "ticks": ""
             }
            },
            "type": "parcoords"
           }
          ],
          "pie": [
           {
            "automargin": true,
            "type": "pie"
           }
          ],
          "scatter": [
           {
            "fillpattern": {
             "fillmode": "overlay",
             "size": 10,
             "solidity": 0.2
            },
            "type": "scatter"
           }
          ],
          "scatter3d": [
           {
            "line": {
             "colorbar": {
              "outlinewidth": 0,
              "ticks": ""
             }
            },
            "marker": {
             "colorbar": {
              "outlinewidth": 0,
              "ticks": ""
             }
            },
            "type": "scatter3d"
           }
          ],
          "scattercarpet": [
           {
            "marker": {
             "colorbar": {
              "outlinewidth": 0,
              "ticks": ""
             }
            },
            "type": "scattercarpet"
           }
          ],
          "scattergeo": [
           {
            "marker": {
             "colorbar": {
              "outlinewidth": 0,
              "ticks": ""
             }
            },
            "type": "scattergeo"
           }
          ],
          "scattergl": [
           {
            "marker": {
             "colorbar": {
              "outlinewidth": 0,
              "ticks": ""
             }
            },
            "type": "scattergl"
           }
          ],
          "scattermapbox": [
           {
            "marker": {
             "colorbar": {
              "outlinewidth": 0,
              "ticks": ""
             }
            },
            "type": "scattermapbox"
           }
          ],
          "scatterpolar": [
           {
            "marker": {
             "colorbar": {
              "outlinewidth": 0,
              "ticks": ""
             }
            },
            "type": "scatterpolar"
           }
          ],
          "scatterpolargl": [
           {
            "marker": {
             "colorbar": {
              "outlinewidth": 0,
              "ticks": ""
             }
            },
            "type": "scatterpolargl"
           }
          ],
          "scatterternary": [
           {
            "marker": {
             "colorbar": {
              "outlinewidth": 0,
              "ticks": ""
             }
            },
            "type": "scatterternary"
           }
          ],
          "surface": [
           {
            "colorbar": {
             "outlinewidth": 0,
             "ticks": ""
            },
            "colorscale": [
             [
              0,
              "#0d0887"
             ],
             [
              0.1111111111111111,
              "#46039f"
             ],
             [
              0.2222222222222222,
              "#7201a8"
             ],
             [
              0.3333333333333333,
              "#9c179e"
             ],
             [
              0.4444444444444444,
              "#bd3786"
             ],
             [
              0.5555555555555556,
              "#d8576b"
             ],
             [
              0.6666666666666666,
              "#ed7953"
             ],
             [
              0.7777777777777778,
              "#fb9f3a"
             ],
             [
              0.8888888888888888,
              "#fdca26"
             ],
             [
              1,
              "#f0f921"
             ]
            ],
            "type": "surface"
           }
          ],
          "table": [
           {
            "cells": {
             "fill": {
              "color": "#EBF0F8"
             },
             "line": {
              "color": "white"
             }
            },
            "header": {
             "fill": {
              "color": "#C8D4E3"
             },
             "line": {
              "color": "white"
             }
            },
            "type": "table"
           }
          ]
         },
         "layout": {
          "annotationdefaults": {
           "arrowcolor": "#2a3f5f",
           "arrowhead": 0,
           "arrowwidth": 1
          },
          "autotypenumbers": "strict",
          "coloraxis": {
           "colorbar": {
            "outlinewidth": 0,
            "ticks": ""
           }
          },
          "colorscale": {
           "diverging": [
            [
             0,
             "#8e0152"
            ],
            [
             0.1,
             "#c51b7d"
            ],
            [
             0.2,
             "#de77ae"
            ],
            [
             0.3,
             "#f1b6da"
            ],
            [
             0.4,
             "#fde0ef"
            ],
            [
             0.5,
             "#f7f7f7"
            ],
            [
             0.6,
             "#e6f5d0"
            ],
            [
             0.7,
             "#b8e186"
            ],
            [
             0.8,
             "#7fbc41"
            ],
            [
             0.9,
             "#4d9221"
            ],
            [
             1,
             "#276419"
            ]
           ],
           "sequential": [
            [
             0,
             "#0d0887"
            ],
            [
             0.1111111111111111,
             "#46039f"
            ],
            [
             0.2222222222222222,
             "#7201a8"
            ],
            [
             0.3333333333333333,
             "#9c179e"
            ],
            [
             0.4444444444444444,
             "#bd3786"
            ],
            [
             0.5555555555555556,
             "#d8576b"
            ],
            [
             0.6666666666666666,
             "#ed7953"
            ],
            [
             0.7777777777777778,
             "#fb9f3a"
            ],
            [
             0.8888888888888888,
             "#fdca26"
            ],
            [
             1,
             "#f0f921"
            ]
           ],
           "sequentialminus": [
            [
             0,
             "#0d0887"
            ],
            [
             0.1111111111111111,
             "#46039f"
            ],
            [
             0.2222222222222222,
             "#7201a8"
            ],
            [
             0.3333333333333333,
             "#9c179e"
            ],
            [
             0.4444444444444444,
             "#bd3786"
            ],
            [
             0.5555555555555556,
             "#d8576b"
            ],
            [
             0.6666666666666666,
             "#ed7953"
            ],
            [
             0.7777777777777778,
             "#fb9f3a"
            ],
            [
             0.8888888888888888,
             "#fdca26"
            ],
            [
             1,
             "#f0f921"
            ]
           ]
          },
          "colorway": [
           "#636efa",
           "#EF553B",
           "#00cc96",
           "#ab63fa",
           "#FFA15A",
           "#19d3f3",
           "#FF6692",
           "#B6E880",
           "#FF97FF",
           "#FECB52"
          ],
          "font": {
           "color": "#2a3f5f"
          },
          "geo": {
           "bgcolor": "white",
           "lakecolor": "white",
           "landcolor": "#E5ECF6",
           "showlakes": true,
           "showland": true,
           "subunitcolor": "white"
          },
          "hoverlabel": {
           "align": "left"
          },
          "hovermode": "closest",
          "mapbox": {
           "style": "light"
          },
          "paper_bgcolor": "white",
          "plot_bgcolor": "#E5ECF6",
          "polar": {
           "angularaxis": {
            "gridcolor": "white",
            "linecolor": "white",
            "ticks": ""
           },
           "bgcolor": "#E5ECF6",
           "radialaxis": {
            "gridcolor": "white",
            "linecolor": "white",
            "ticks": ""
           }
          },
          "scene": {
           "xaxis": {
            "backgroundcolor": "#E5ECF6",
            "gridcolor": "white",
            "gridwidth": 2,
            "linecolor": "white",
            "showbackground": true,
            "ticks": "",
            "zerolinecolor": "white"
           },
           "yaxis": {
            "backgroundcolor": "#E5ECF6",
            "gridcolor": "white",
            "gridwidth": 2,
            "linecolor": "white",
            "showbackground": true,
            "ticks": "",
            "zerolinecolor": "white"
           },
           "zaxis": {
            "backgroundcolor": "#E5ECF6",
            "gridcolor": "white",
            "gridwidth": 2,
            "linecolor": "white",
            "showbackground": true,
            "ticks": "",
            "zerolinecolor": "white"
           }
          },
          "shapedefaults": {
           "line": {
            "color": "#2a3f5f"
           }
          },
          "ternary": {
           "aaxis": {
            "gridcolor": "white",
            "linecolor": "white",
            "ticks": ""
           },
           "baxis": {
            "gridcolor": "white",
            "linecolor": "white",
            "ticks": ""
           },
           "bgcolor": "#E5ECF6",
           "caxis": {
            "gridcolor": "white",
            "linecolor": "white",
            "ticks": ""
           }
          },
          "title": {
           "x": 0.05
          },
          "xaxis": {
           "automargin": true,
           "gridcolor": "white",
           "linecolor": "white",
           "ticks": "",
           "title": {
            "standoff": 15
           },
           "zerolinecolor": "white",
           "zerolinewidth": 2
          },
          "yaxis": {
           "automargin": true,
           "gridcolor": "white",
           "linecolor": "white",
           "ticks": "",
           "title": {
            "standoff": 15
           },
           "zerolinecolor": "white",
           "zerolinewidth": 2
          }
         }
        },
        "title": {
         "text": "Gender ratio for the 20 most and least inclusive genres <span style='font-size: 12px;'>(with the number of movies in each genre)</span>"
        },
        "yaxis": {
         "tickfont": {
          "color": "black"
         },
         "title": {
          "font": {
           "color": "black"
          },
          "text": "Ratio of women"
         }
        }
       }
      }
     },
     "metadata": {},
     "output_type": "display_data"
    }
   ],
   "source": [
    "#analysing the inclusivness of each genre\n",
    "\n",
    "fig = go.Figure()\n",
    "fig.add_trace(\n",
    "    go.Bar(\n",
    "        x=list(genres_ratio.keys())[:10],\n",
    "        y=values[:10],\n",
    "        marker_color=\"blue\",\n",
    "        opacity=0.4,\n",
    "        name=\"Most inclusive genres\",\n",
    "    )\n",
    ")\n",
    "\n",
    "fig.add_trace(\n",
    "    go.Bar(\n",
    "        x=list(genres_ratio.keys())[len(values)-10:],\n",
    "        y=values[len(values)-10:],\n",
    "        marker_color=\"red\",\n",
    "        opacity=0.4,\n",
    "        name=\"Least inclusive genres\",\n",
    "    )\n",
    ")\n",
    "\n",
    "fig.update_layout(\n",
    "    title=\"Gender ratio for the 20 most and least inclusive genres <span style='font-size: 12px;'>(with the number of movies in each genre)</span>\",\n",
    "    yaxis=dict(title=\"Ratio of women\", titlefont=dict(color=\"black\"), tickfont=dict(color=\"black\")),\n",
    "    legend=dict(x=0.1, y=1.12, orientation=\"h\"),\n",
    ")\n",
    "\n",
    "\n",
    "for i, genre in enumerate(list(genres_ratio.keys())[:10]):\n",
    "    fig.add_annotation(\n",
    "        x=genre,\n",
    "        y=values[i]+0.01,\n",
    "        text=str(movies_count[i]),\n",
    "        showarrow=False,\n",
    "        font=dict(color=\"black\", size=10)\n",
    "    )\n",
    "for i, genre in enumerate(list(genres_ratio.keys())[len(values)-10:]):\n",
    "    fig.add_annotation(\n",
    "        x=genre,\n",
    "        y=values[len(values)-10:][i]+0.01,\n",
    "        text=str(movies_count[len(values)-10:][i]),\n",
    "        showarrow=False,\n",
    "        font=dict(color=\"black\", size=10)\n",
    "    )\n",
    "fig.show(\"svg\")\n",
    "#fig.write_html(data_folder + \"top_genres.html\")"
   ]
  },
  {
   "cell_type": "code",
   "execution_count": 10,
   "metadata": {},
   "outputs": [
    {
     "data": {
      "application/vnd.plotly.v1+json": {
       "config": {
        "plotlyServerURL": "https://plot.ly"
       },
       "data": [
        {
         "line": {
          "color": "red"
         },
         "mode": "lines",
         "name": "Ratio for Erotic",
         "type": "scatter",
         "x": [
          1930,
          1940,
          1945,
          1950,
          1955,
          1960,
          1965,
          1970,
          1975,
          1980,
          1985,
          1990,
          1995,
          2000,
          2005,
          2010
         ],
         "y": [
          0.4,
          0.4,
          0.4,
          0.25,
          0.45,
          0.47259259259259256,
          0.5021825396825397,
          0.44756235827664403,
          0.460978835978836,
          0.4128042328042328,
          0.392806484295846,
          0.39061032863849765,
          0.4175690367471189,
          0.41813852813852814,
          0.43377920456572144,
          0.4125
         ]
        },
        {
         "line": {
          "color": "green"
         },
         "mode": "lines",
         "name": "Ratio for War",
         "type": "scatter",
         "x": [
          1915,
          1920,
          1925,
          1930,
          1935,
          1940,
          1945,
          1950,
          1955,
          1960,
          1965,
          1970,
          1975,
          1980,
          1985,
          1990,
          1995,
          2000,
          2005,
          2010
         ],
         "y": [
          0.3666666666666667,
          0.30000000000000004,
          0.22592592592592592,
          0.27466666666666667,
          0.20074074074074075,
          0.23120567375886525,
          0.2514705882352941,
          0.1519114688128773,
          0.20475206611570249,
          0.2067969067969068,
          0.16717752234993613,
          0.2400793650793651,
          0.22,
          0.21666666666666667,
          0.1857142857142857,
          0.234640522875817,
          0.25230769230769234,
          0.21316872427983538,
          0.23487886382623227,
          0.20800000000000002
         ]
        },
        {
         "line": {
          "color": "pink"
         },
         "mode": "lines",
         "name": "Ratio for Romantic",
         "type": "scatter",
         "x": [
          1910,
          1915,
          1920,
          1925,
          1930,
          1935,
          1940,
          1945,
          1950,
          1955,
          1960,
          1965,
          1970,
          1975,
          1980,
          1985,
          1990,
          1995,
          2000,
          2005,
          2010
         ],
         "y": [
          0.3666666666666667,
          0.3716450216450216,
          0.32653256704980843,
          0.37965571205007825,
          0.34540420819490586,
          0.35641604010025063,
          0.34145043246839657,
          0.36486025903203817,
          0.3410892634207241,
          0.3725044471811713,
          0.383302209772798,
          0.3925066473289824,
          0.3826133202421862,
          0.37675925925925924,
          0.375281715739731,
          0.37271856495994427,
          0.3674713963419547,
          0.3881073597713469,
          0.39109772423025435,
          0.39454261490406073,
          0.393969089390142
         ]
        },
        {
         "line": {
          "color": "blue"
         },
         "mode": "lines",
         "name": "Ratio for Action",
         "type": "scatter",
         "x": [
          1910,
          1915,
          1920,
          1925,
          1930,
          1935,
          1940,
          1945,
          1950,
          1955,
          1960,
          1965,
          1970,
          1975,
          1980,
          1985,
          1990,
          1995,
          2000,
          2005,
          2010
         ],
         "y": [
          0.3,
          0.25611111111111107,
          0.22746031746031745,
          0.2641695702671312,
          0.20782036391792488,
          0.19625929625929628,
          0.1930735930735931,
          0.21677602799650042,
          0.2009338061465721,
          0.21462096332785988,
          0.23317937375314424,
          0.22500652673350044,
          0.250971999286606,
          0.20743433066441916,
          0.2347684687910252,
          0.24748095819524393,
          0.2498026483320601,
          0.25671798754837627,
          0.25754730402617726,
          0.2714517324439503,
          0.2687029713846323
         ]
        }
       ],
       "layout": {
        "legend": {
         "orientation": "h",
         "x": 0.1,
         "y": 1.1
        },
        "template": {
         "data": {
          "bar": [
           {
            "error_x": {
             "color": "#2a3f5f"
            },
            "error_y": {
             "color": "#2a3f5f"
            },
            "marker": {
             "line": {
              "color": "#E5ECF6",
              "width": 0.5
             },
             "pattern": {
              "fillmode": "overlay",
              "size": 10,
              "solidity": 0.2
             }
            },
            "type": "bar"
           }
          ],
          "barpolar": [
           {
            "marker": {
             "line": {
              "color": "#E5ECF6",
              "width": 0.5
             },
             "pattern": {
              "fillmode": "overlay",
              "size": 10,
              "solidity": 0.2
             }
            },
            "type": "barpolar"
           }
          ],
          "carpet": [
           {
            "aaxis": {
             "endlinecolor": "#2a3f5f",
             "gridcolor": "white",
             "linecolor": "white",
             "minorgridcolor": "white",
             "startlinecolor": "#2a3f5f"
            },
            "baxis": {
             "endlinecolor": "#2a3f5f",
             "gridcolor": "white",
             "linecolor": "white",
             "minorgridcolor": "white",
             "startlinecolor": "#2a3f5f"
            },
            "type": "carpet"
           }
          ],
          "choropleth": [
           {
            "colorbar": {
             "outlinewidth": 0,
             "ticks": ""
            },
            "type": "choropleth"
           }
          ],
          "contour": [
           {
            "colorbar": {
             "outlinewidth": 0,
             "ticks": ""
            },
            "colorscale": [
             [
              0,
              "#0d0887"
             ],
             [
              0.1111111111111111,
              "#46039f"
             ],
             [
              0.2222222222222222,
              "#7201a8"
             ],
             [
              0.3333333333333333,
              "#9c179e"
             ],
             [
              0.4444444444444444,
              "#bd3786"
             ],
             [
              0.5555555555555556,
              "#d8576b"
             ],
             [
              0.6666666666666666,
              "#ed7953"
             ],
             [
              0.7777777777777778,
              "#fb9f3a"
             ],
             [
              0.8888888888888888,
              "#fdca26"
             ],
             [
              1,
              "#f0f921"
             ]
            ],
            "type": "contour"
           }
          ],
          "contourcarpet": [
           {
            "colorbar": {
             "outlinewidth": 0,
             "ticks": ""
            },
            "type": "contourcarpet"
           }
          ],
          "heatmap": [
           {
            "colorbar": {
             "outlinewidth": 0,
             "ticks": ""
            },
            "colorscale": [
             [
              0,
              "#0d0887"
             ],
             [
              0.1111111111111111,
              "#46039f"
             ],
             [
              0.2222222222222222,
              "#7201a8"
             ],
             [
              0.3333333333333333,
              "#9c179e"
             ],
             [
              0.4444444444444444,
              "#bd3786"
             ],
             [
              0.5555555555555556,
              "#d8576b"
             ],
             [
              0.6666666666666666,
              "#ed7953"
             ],
             [
              0.7777777777777778,
              "#fb9f3a"
             ],
             [
              0.8888888888888888,
              "#fdca26"
             ],
             [
              1,
              "#f0f921"
             ]
            ],
            "type": "heatmap"
           }
          ],
          "heatmapgl": [
           {
            "colorbar": {
             "outlinewidth": 0,
             "ticks": ""
            },
            "colorscale": [
             [
              0,
              "#0d0887"
             ],
             [
              0.1111111111111111,
              "#46039f"
             ],
             [
              0.2222222222222222,
              "#7201a8"
             ],
             [
              0.3333333333333333,
              "#9c179e"
             ],
             [
              0.4444444444444444,
              "#bd3786"
             ],
             [
              0.5555555555555556,
              "#d8576b"
             ],
             [
              0.6666666666666666,
              "#ed7953"
             ],
             [
              0.7777777777777778,
              "#fb9f3a"
             ],
             [
              0.8888888888888888,
              "#fdca26"
             ],
             [
              1,
              "#f0f921"
             ]
            ],
            "type": "heatmapgl"
           }
          ],
          "histogram": [
           {
            "marker": {
             "pattern": {
              "fillmode": "overlay",
              "size": 10,
              "solidity": 0.2
             }
            },
            "type": "histogram"
           }
          ],
          "histogram2d": [
           {
            "colorbar": {
             "outlinewidth": 0,
             "ticks": ""
            },
            "colorscale": [
             [
              0,
              "#0d0887"
             ],
             [
              0.1111111111111111,
              "#46039f"
             ],
             [
              0.2222222222222222,
              "#7201a8"
             ],
             [
              0.3333333333333333,
              "#9c179e"
             ],
             [
              0.4444444444444444,
              "#bd3786"
             ],
             [
              0.5555555555555556,
              "#d8576b"
             ],
             [
              0.6666666666666666,
              "#ed7953"
             ],
             [
              0.7777777777777778,
              "#fb9f3a"
             ],
             [
              0.8888888888888888,
              "#fdca26"
             ],
             [
              1,
              "#f0f921"
             ]
            ],
            "type": "histogram2d"
           }
          ],
          "histogram2dcontour": [
           {
            "colorbar": {
             "outlinewidth": 0,
             "ticks": ""
            },
            "colorscale": [
             [
              0,
              "#0d0887"
             ],
             [
              0.1111111111111111,
              "#46039f"
             ],
             [
              0.2222222222222222,
              "#7201a8"
             ],
             [
              0.3333333333333333,
              "#9c179e"
             ],
             [
              0.4444444444444444,
              "#bd3786"
             ],
             [
              0.5555555555555556,
              "#d8576b"
             ],
             [
              0.6666666666666666,
              "#ed7953"
             ],
             [
              0.7777777777777778,
              "#fb9f3a"
             ],
             [
              0.8888888888888888,
              "#fdca26"
             ],
             [
              1,
              "#f0f921"
             ]
            ],
            "type": "histogram2dcontour"
           }
          ],
          "mesh3d": [
           {
            "colorbar": {
             "outlinewidth": 0,
             "ticks": ""
            },
            "type": "mesh3d"
           }
          ],
          "parcoords": [
           {
            "line": {
             "colorbar": {
              "outlinewidth": 0,
              "ticks": ""
             }
            },
            "type": "parcoords"
           }
          ],
          "pie": [
           {
            "automargin": true,
            "type": "pie"
           }
          ],
          "scatter": [
           {
            "fillpattern": {
             "fillmode": "overlay",
             "size": 10,
             "solidity": 0.2
            },
            "type": "scatter"
           }
          ],
          "scatter3d": [
           {
            "line": {
             "colorbar": {
              "outlinewidth": 0,
              "ticks": ""
             }
            },
            "marker": {
             "colorbar": {
              "outlinewidth": 0,
              "ticks": ""
             }
            },
            "type": "scatter3d"
           }
          ],
          "scattercarpet": [
           {
            "marker": {
             "colorbar": {
              "outlinewidth": 0,
              "ticks": ""
             }
            },
            "type": "scattercarpet"
           }
          ],
          "scattergeo": [
           {
            "marker": {
             "colorbar": {
              "outlinewidth": 0,
              "ticks": ""
             }
            },
            "type": "scattergeo"
           }
          ],
          "scattergl": [
           {
            "marker": {
             "colorbar": {
              "outlinewidth": 0,
              "ticks": ""
             }
            },
            "type": "scattergl"
           }
          ],
          "scattermapbox": [
           {
            "marker": {
             "colorbar": {
              "outlinewidth": 0,
              "ticks": ""
             }
            },
            "type": "scattermapbox"
           }
          ],
          "scatterpolar": [
           {
            "marker": {
             "colorbar": {
              "outlinewidth": 0,
              "ticks": ""
             }
            },
            "type": "scatterpolar"
           }
          ],
          "scatterpolargl": [
           {
            "marker": {
             "colorbar": {
              "outlinewidth": 0,
              "ticks": ""
             }
            },
            "type": "scatterpolargl"
           }
          ],
          "scatterternary": [
           {
            "marker": {
             "colorbar": {
              "outlinewidth": 0,
              "ticks": ""
             }
            },
            "type": "scatterternary"
           }
          ],
          "surface": [
           {
            "colorbar": {
             "outlinewidth": 0,
             "ticks": ""
            },
            "colorscale": [
             [
              0,
              "#0d0887"
             ],
             [
              0.1111111111111111,
              "#46039f"
             ],
             [
              0.2222222222222222,
              "#7201a8"
             ],
             [
              0.3333333333333333,
              "#9c179e"
             ],
             [
              0.4444444444444444,
              "#bd3786"
             ],
             [
              0.5555555555555556,
              "#d8576b"
             ],
             [
              0.6666666666666666,
              "#ed7953"
             ],
             [
              0.7777777777777778,
              "#fb9f3a"
             ],
             [
              0.8888888888888888,
              "#fdca26"
             ],
             [
              1,
              "#f0f921"
             ]
            ],
            "type": "surface"
           }
          ],
          "table": [
           {
            "cells": {
             "fill": {
              "color": "#EBF0F8"
             },
             "line": {
              "color": "white"
             }
            },
            "header": {
             "fill": {
              "color": "#C8D4E3"
             },
             "line": {
              "color": "white"
             }
            },
            "type": "table"
           }
          ]
         },
         "layout": {
          "annotationdefaults": {
           "arrowcolor": "#2a3f5f",
           "arrowhead": 0,
           "arrowwidth": 1
          },
          "autotypenumbers": "strict",
          "coloraxis": {
           "colorbar": {
            "outlinewidth": 0,
            "ticks": ""
           }
          },
          "colorscale": {
           "diverging": [
            [
             0,
             "#8e0152"
            ],
            [
             0.1,
             "#c51b7d"
            ],
            [
             0.2,
             "#de77ae"
            ],
            [
             0.3,
             "#f1b6da"
            ],
            [
             0.4,
             "#fde0ef"
            ],
            [
             0.5,
             "#f7f7f7"
            ],
            [
             0.6,
             "#e6f5d0"
            ],
            [
             0.7,
             "#b8e186"
            ],
            [
             0.8,
             "#7fbc41"
            ],
            [
             0.9,
             "#4d9221"
            ],
            [
             1,
             "#276419"
            ]
           ],
           "sequential": [
            [
             0,
             "#0d0887"
            ],
            [
             0.1111111111111111,
             "#46039f"
            ],
            [
             0.2222222222222222,
             "#7201a8"
            ],
            [
             0.3333333333333333,
             "#9c179e"
            ],
            [
             0.4444444444444444,
             "#bd3786"
            ],
            [
             0.5555555555555556,
             "#d8576b"
            ],
            [
             0.6666666666666666,
             "#ed7953"
            ],
            [
             0.7777777777777778,
             "#fb9f3a"
            ],
            [
             0.8888888888888888,
             "#fdca26"
            ],
            [
             1,
             "#f0f921"
            ]
           ],
           "sequentialminus": [
            [
             0,
             "#0d0887"
            ],
            [
             0.1111111111111111,
             "#46039f"
            ],
            [
             0.2222222222222222,
             "#7201a8"
            ],
            [
             0.3333333333333333,
             "#9c179e"
            ],
            [
             0.4444444444444444,
             "#bd3786"
            ],
            [
             0.5555555555555556,
             "#d8576b"
            ],
            [
             0.6666666666666666,
             "#ed7953"
            ],
            [
             0.7777777777777778,
             "#fb9f3a"
            ],
            [
             0.8888888888888888,
             "#fdca26"
            ],
            [
             1,
             "#f0f921"
            ]
           ]
          },
          "colorway": [
           "#636efa",
           "#EF553B",
           "#00cc96",
           "#ab63fa",
           "#FFA15A",
           "#19d3f3",
           "#FF6692",
           "#B6E880",
           "#FF97FF",
           "#FECB52"
          ],
          "font": {
           "color": "#2a3f5f"
          },
          "geo": {
           "bgcolor": "white",
           "lakecolor": "white",
           "landcolor": "#E5ECF6",
           "showlakes": true,
           "showland": true,
           "subunitcolor": "white"
          },
          "hoverlabel": {
           "align": "left"
          },
          "hovermode": "closest",
          "mapbox": {
           "style": "light"
          },
          "paper_bgcolor": "white",
          "plot_bgcolor": "#E5ECF6",
          "polar": {
           "angularaxis": {
            "gridcolor": "white",
            "linecolor": "white",
            "ticks": ""
           },
           "bgcolor": "#E5ECF6",
           "radialaxis": {
            "gridcolor": "white",
            "linecolor": "white",
            "ticks": ""
           }
          },
          "scene": {
           "xaxis": {
            "backgroundcolor": "#E5ECF6",
            "gridcolor": "white",
            "gridwidth": 2,
            "linecolor": "white",
            "showbackground": true,
            "ticks": "",
            "zerolinecolor": "white"
           },
           "yaxis": {
            "backgroundcolor": "#E5ECF6",
            "gridcolor": "white",
            "gridwidth": 2,
            "linecolor": "white",
            "showbackground": true,
            "ticks": "",
            "zerolinecolor": "white"
           },
           "zaxis": {
            "backgroundcolor": "#E5ECF6",
            "gridcolor": "white",
            "gridwidth": 2,
            "linecolor": "white",
            "showbackground": true,
            "ticks": "",
            "zerolinecolor": "white"
           }
          },
          "shapedefaults": {
           "line": {
            "color": "#2a3f5f"
           }
          },
          "ternary": {
           "aaxis": {
            "gridcolor": "white",
            "linecolor": "white",
            "ticks": ""
           },
           "baxis": {
            "gridcolor": "white",
            "linecolor": "white",
            "ticks": ""
           },
           "bgcolor": "#E5ECF6",
           "caxis": {
            "gridcolor": "white",
            "linecolor": "white",
            "ticks": ""
           }
          },
          "title": {
           "x": 0.05
          },
          "xaxis": {
           "automargin": true,
           "gridcolor": "white",
           "linecolor": "white",
           "ticks": "",
           "title": {
            "standoff": 15
           },
           "zerolinecolor": "white",
           "zerolinewidth": 2
          },
          "yaxis": {
           "automargin": true,
           "gridcolor": "white",
           "linecolor": "white",
           "ticks": "",
           "title": {
            "standoff": 15
           },
           "zerolinecolor": "white",
           "zerolinewidth": 2
          }
         }
        },
        "title": {
         "text": "Gender ratio by year for various genres"
        },
        "xaxis": {
         "title": {
          "text": "Movie Release Date"
         }
        },
        "yaxis": {
         "tickfont": {
          "color": "black"
         },
         "title": {
          "font": {
           "color": "black"
          },
          "text": "Ratio of women in films"
         }
        },
        "yaxis2": {
         "overlaying": "y",
         "side": "right",
         "tickfont": {
          "color": "orange"
         },
         "title": {
          "font": {
           "color": "orange"
          },
          "text": "Number of films per year for various genres"
         }
        }
       }
      }
     },
     "metadata": {},
     "output_type": "display_data"
    }
   ],
   "source": [
    "# NOT SHOWN ON WEBSITE\n",
    "\n",
    "#This section was made to analyse the genre evolution. \n",
    "\n",
    "\n",
    "\n",
    "import plotly.graph_objects as go\n",
    "\n",
    "genres = [\"Drama\", \"Erotic\", \"Thriller\"]\n",
    "\n",
    "erotic_genres = ['Sex comedy','Erotica','Erotic thriller','Pornographic movie','Adult','Erotic Drama','Sexploitation','Softcore Porn','Gay pornography','Hardcore pornography','Pornography']\n",
    "war_genres = [\"War film\"]\n",
    "romantic_genres = [\"Romantic drama\", \"Romantic comedy\", \"Romance Film\"]\n",
    "action_genres = [\"Action\", \"Action/Adventure\", \"Adventure\"]\n",
    "dc = 5 #average over dc years\n",
    "mean_romantic_ratio = df_movie[df_movie[\"Movie_genres\"].apply(lambda x: any(movie_genre in x for movie_genre in romantic_genres))].groupby(df_movie[\"Movie_release_date\"] // dc * dc)[\"Ratio\"].mean()\n",
    "mean_erotic_ratio = df_movie[df_movie[\"Movie_genres\"].apply(lambda x: any(movie_genre in x for movie_genre in erotic_genres))].groupby(df_movie[\"Movie_release_date\"] // dc * dc)[\"Ratio\"].mean()\n",
    "mean_war_ratio = df_movie[df_movie[\"Movie_genres\"].apply(lambda x: any(movie_genre in x for movie_genre in war_genres))].groupby(df_movie[\"Movie_release_date\"] // dc * dc)[\"Ratio\"].mean()\n",
    "mean_action_ratio = df_movie[df_movie[\"Movie_genres\"].apply(lambda x: any(movie_genre in x for movie_genre in action_genres))].groupby(df_movie[\"Movie_release_date\"] // dc * dc)[\"Ratio\"].mean()\n",
    "\n",
    "\n",
    "\n",
    "genre_type = [mean_erotic_ratio, mean_war_ratio, mean_romantic_ratio, mean_action_ratio]\n",
    "genre_name = [\"Erotic\", \"War\", \"Romantic\", \"Action\"]\n",
    "\n",
    "colors = [\"red\", \"green\", \"pink\", \"blue\"]\n",
    "\n",
    "fig = go.Figure()\n",
    "\n",
    "for genre in genre_type:\n",
    "    fig.add_trace(\n",
    "        go.Scatter(\n",
    "            x=genre.index,\n",
    "            y=genre,\n",
    "            name=f\"Ratio for {genre_name.pop(0)}\",\n",
    "            mode=\"lines\",\n",
    "            line=dict(color=colors.pop(0)),\n",
    "        )\n",
    "    )\n",
    "\n",
    "\n",
    "\n",
    "fig.update_layout(\n",
    "    title=\"Gender ratio by year for various genres\",\n",
    "    xaxis=dict(title=\"Movie Release Date\"),\n",
    "    yaxis=dict(title=\"Ratio of women in films\", titlefont=dict(color=\"black\"), tickfont=dict(color=\"black\")),\n",
    "    yaxis2=dict(\n",
    "        title=\"Number of films per year for various genres\",\n",
    "        titlefont=dict(color=\"orange\"),\n",
    "        tickfont=dict(color=\"orange\"),\n",
    "        overlaying=\"y\",\n",
    "        side=\"right\",\n",
    "    ),\n",
    "    legend=dict(x=0.1, y=1.1, orientation=\"h\"),\n",
    ")\n",
    "\n",
    "\n",
    "fig.show(\"svg\")\n",
    "\n",
    "#to html file\n",
    "#fig.write_html(data_folder + \"ratio_evolution_by_genre.html\")"
   ]
  },
  {
   "cell_type": "markdown",
   "metadata": {},
   "source": [
    "## Looking at actors individually"
   ]
  },
  {
   "cell_type": "code",
   "execution_count": 11,
   "metadata": {},
   "outputs": [],
   "source": [
    "df_chara_small = df_character.copy()\n",
    "df_chara_small = df_chara_small.drop([\"Freebase_movie_ID\", \"Character_name\", \"Actor_height\", \"Freebase_character_ID\",\n",
    "                                      \"Freebase_character/actor_map_ID\", \"Freebase_actor_ID\", \"Actor_ethnicity\"], axis=1)"
   ]
  },
  {
   "cell_type": "code",
   "execution_count": 12,
   "metadata": {},
   "outputs": [],
   "source": [
    "df_chara_small = df_chara_small.groupby(\"Actor_name\").agg(lambda x: x.tolist()).reset_index()"
   ]
  },
  {
   "cell_type": "code",
   "execution_count": 13,
   "metadata": {},
   "outputs": [
    {
     "data": {
      "text/html": [
       "<div>\n",
       "<style scoped>\n",
       "    .dataframe tbody tr th:only-of-type {\n",
       "        vertical-align: middle;\n",
       "    }\n",
       "\n",
       "    .dataframe tbody tr th {\n",
       "        vertical-align: top;\n",
       "    }\n",
       "\n",
       "    .dataframe thead th {\n",
       "        text-align: right;\n",
       "    }\n",
       "</style>\n",
       "<table border=\"1\" class=\"dataframe\">\n",
       "  <thead>\n",
       "    <tr style=\"text-align: right;\">\n",
       "      <th></th>\n",
       "      <th>Actor_name</th>\n",
       "      <th>Wikipedia_movie_ID</th>\n",
       "      <th>Movie_release_date</th>\n",
       "      <th>Actor_date_of_birth</th>\n",
       "      <th>Actor_gender</th>\n",
       "      <th>Actor_age_at_movie_release</th>\n",
       "    </tr>\n",
       "  </thead>\n",
       "  <tbody>\n",
       "    <tr>\n",
       "      <th>0</th>\n",
       "      <td>Cesarine Prinz\\t</td>\n",
       "      <td>[22643470, 22643388]</td>\n",
       "      <td>[1926.0, 1922.0]</td>\n",
       "      <td>1883-12-20</td>\n",
       "      <td>F</td>\n",
       "      <td>[nan, nan]</td>\n",
       "    </tr>\n",
       "    <tr>\n",
       "      <th>1</th>\n",
       "      <td>Daniel Newman</td>\n",
       "      <td>[20116200]</td>\n",
       "      <td>[1998.0]</td>\n",
       "      <td>1976-05-12</td>\n",
       "      <td>M</td>\n",
       "      <td>[22.0]</td>\n",
       "    </tr>\n",
       "    <tr>\n",
       "      <th>2</th>\n",
       "      <td>'Big Bill' Giddinger</td>\n",
       "      <td>[15056534]</td>\n",
       "      <td>[1911.0]</td>\n",
       "      <td>NaN</td>\n",
       "      <td>M</td>\n",
       "      <td>[nan]</td>\n",
       "    </tr>\n",
       "    <tr>\n",
       "      <th>3</th>\n",
       "      <td>'Big' Lee</td>\n",
       "      <td>[23010798]</td>\n",
       "      <td>[1973.0]</td>\n",
       "      <td>NaN</td>\n",
       "      <td>M</td>\n",
       "      <td>[nan]</td>\n",
       "    </tr>\n",
       "    <tr>\n",
       "      <th>5</th>\n",
       "      <td>'Crazy George' Henderson</td>\n",
       "      <td>[10050502]</td>\n",
       "      <td>[1975.0]</td>\n",
       "      <td>NaN</td>\n",
       "      <td>M</td>\n",
       "      <td>[nan]</td>\n",
       "    </tr>\n",
       "    <tr>\n",
       "      <th>...</th>\n",
       "      <td>...</td>\n",
       "      <td>...</td>\n",
       "      <td>...</td>\n",
       "      <td>...</td>\n",
       "      <td>...</td>\n",
       "      <td>...</td>\n",
       "    </tr>\n",
       "    <tr>\n",
       "      <th>134073</th>\n",
       "      <td>雅-miyavi-</td>\n",
       "      <td>[18728484]</td>\n",
       "      <td>[2004.0]</td>\n",
       "      <td>1981-09-14</td>\n",
       "      <td>M</td>\n",
       "      <td>[22.0]</td>\n",
       "    </tr>\n",
       "    <tr>\n",
       "      <th>134074</th>\n",
       "      <td>雪乃五月</td>\n",
       "      <td>[5148040, 2583808]</td>\n",
       "      <td>[2001.0, 2002.0]</td>\n",
       "      <td>1970-05-25</td>\n",
       "      <td>F</td>\n",
       "      <td>[30.0, 31.0]</td>\n",
       "    </tr>\n",
       "    <tr>\n",
       "      <th>134075</th>\n",
       "      <td>高山久子</td>\n",
       "      <td>[1706423, 9411697, 18771696]</td>\n",
       "      <td>[2005.0, 2001.0, 1986.0]</td>\n",
       "      <td>1961-08-16</td>\n",
       "      <td>F</td>\n",
       "      <td>[43.0, 39.0, 24.0]</td>\n",
       "    </tr>\n",
       "    <tr>\n",
       "      <th>134076</th>\n",
       "      <td>高橋美紀</td>\n",
       "      <td>[18771696]</td>\n",
       "      <td>[1986.0]</td>\n",
       "      <td>1961-09-19</td>\n",
       "      <td>F</td>\n",
       "      <td>[24.0]</td>\n",
       "    </tr>\n",
       "    <tr>\n",
       "      <th>134077</th>\n",
       "      <td>高田由美</td>\n",
       "      <td>[4174679, 5396840, 28657324, 5397050]</td>\n",
       "      <td>[1999.0, 1997.0, 1993.0, 1996.0]</td>\n",
       "      <td>1961-09-21</td>\n",
       "      <td>F</td>\n",
       "      <td>[37.0, 35.0, 31.0, 34.0]</td>\n",
       "    </tr>\n",
       "  </tbody>\n",
       "</table>\n",
       "<p>96446 rows × 6 columns</p>\n",
       "</div>"
      ],
      "text/plain": [
       "                      Actor_name                     Wikipedia_movie_ID  \\\n",
       "0               Cesarine Prinz\\t                   [22643470, 22643388]   \n",
       "1                  Daniel Newman                             [20116200]   \n",
       "2           'Big Bill' Giddinger                             [15056534]   \n",
       "3                      'Big' Lee                             [23010798]   \n",
       "5       'Crazy George' Henderson                             [10050502]   \n",
       "...                          ...                                    ...   \n",
       "134073                 雅-miyavi-                             [18728484]   \n",
       "134074                      雪乃五月                     [5148040, 2583808]   \n",
       "134075                      高山久子           [1706423, 9411697, 18771696]   \n",
       "134076                      高橋美紀                             [18771696]   \n",
       "134077                      高田由美  [4174679, 5396840, 28657324, 5397050]   \n",
       "\n",
       "                      Movie_release_date Actor_date_of_birth Actor_gender  \\\n",
       "0                       [1926.0, 1922.0]          1883-12-20            F   \n",
       "1                               [1998.0]          1976-05-12            M   \n",
       "2                               [1911.0]                 NaN            M   \n",
       "3                               [1973.0]                 NaN            M   \n",
       "5                               [1975.0]                 NaN            M   \n",
       "...                                  ...                 ...          ...   \n",
       "134073                          [2004.0]          1981-09-14            M   \n",
       "134074                  [2001.0, 2002.0]          1970-05-25            F   \n",
       "134075          [2005.0, 2001.0, 1986.0]          1961-08-16            F   \n",
       "134076                          [1986.0]          1961-09-19            F   \n",
       "134077  [1999.0, 1997.0, 1993.0, 1996.0]          1961-09-21            F   \n",
       "\n",
       "       Actor_age_at_movie_release  \n",
       "0                      [nan, nan]  \n",
       "1                          [22.0]  \n",
       "2                           [nan]  \n",
       "3                           [nan]  \n",
       "5                           [nan]  \n",
       "...                           ...  \n",
       "134073                     [22.0]  \n",
       "134074               [30.0, 31.0]  \n",
       "134075         [43.0, 39.0, 24.0]  \n",
       "134076                     [24.0]  \n",
       "134077   [37.0, 35.0, 31.0, 34.0]  \n",
       "\n",
       "[96446 rows x 6 columns]"
      ]
     },
     "execution_count": 13,
     "metadata": {},
     "output_type": "execute_result"
    }
   ],
   "source": [
    "df_chara_small[\"Actor_gender\"] = df_chara_small[\"Actor_gender\"].apply(np.unique).apply(lambda x: x[0])\n",
    "df_chara_small[\"Actor_date_of_birth\"] = df_chara_small[\"Actor_date_of_birth\"].apply(np.unique).apply(lambda x: x[0])\n",
    "df_chara_small = df_chara_small[df_chara_small[\"Actor_gender\"].isin([\"M\", \"F\"])]\n",
    "df_chara_small"
   ]
  },
  {
   "cell_type": "code",
   "execution_count": 14,
   "metadata": {},
   "outputs": [],
   "source": [
    "#some date of birth were not correct\n",
    "#these actors specifically because they made a lot of movies. It will be useful later \n",
    "df_chara_small.loc[df_chara_small[\"Actor_name\"] == \"Harrison Ford\", \"Actor_date_of_birth\"] = 1942\n",
    "df_chara_small.loc[df_chara_small[\"Actor_name\"] == \"Edward Burns\", \"Actor_date_of_birth\"] = 1968 \n",
    "df_chara_small.loc[df_chara_small[\"Actor_name\"] == \"Don Wilson\", \"Actor_date_of_birth\"] = 1954"
   ]
  },
  {
   "cell_type": "code",
   "execution_count": 15,
   "metadata": {},
   "outputs": [],
   "source": [
    "#the starting career is defined as the year of firt movie release\n",
    "df_chara_small[\"Starting_career\"] = df_chara_small[\"Movie_release_date\"].apply(min)"
   ]
  },
  {
   "cell_type": "code",
   "execution_count": 16,
   "metadata": {},
   "outputs": [
    {
     "data": {
      "text/html": [
       "<div>\n",
       "<style scoped>\n",
       "    .dataframe tbody tr th:only-of-type {\n",
       "        vertical-align: middle;\n",
       "    }\n",
       "\n",
       "    .dataframe tbody tr th {\n",
       "        vertical-align: top;\n",
       "    }\n",
       "\n",
       "    .dataframe thead th {\n",
       "        text-align: right;\n",
       "    }\n",
       "</style>\n",
       "<table border=\"1\" class=\"dataframe\">\n",
       "  <thead>\n",
       "    <tr style=\"text-align: right;\">\n",
       "      <th></th>\n",
       "      <th>Actor_name</th>\n",
       "      <th>Movie_release_date_1st_role</th>\n",
       "    </tr>\n",
       "  </thead>\n",
       "  <tbody>\n",
       "    <tr>\n",
       "      <th>0</th>\n",
       "      <td>'University' Jeevan</td>\n",
       "      <td>[2007, 2006, 2008]</td>\n",
       "    </tr>\n",
       "    <tr>\n",
       "      <th>1</th>\n",
       "      <td>'Weird Al' Yankovic</td>\n",
       "      <td>[1989]</td>\n",
       "    </tr>\n",
       "    <tr>\n",
       "      <th>2</th>\n",
       "      <td>2Mex</td>\n",
       "      <td>[2008]</td>\n",
       "    </tr>\n",
       "    <tr>\n",
       "      <th>3</th>\n",
       "      <td>50 Cent</td>\n",
       "      <td>[2011, 2012, 2011, 2005]</td>\n",
       "    </tr>\n",
       "    <tr>\n",
       "      <th>4</th>\n",
       "      <td>A. Michael Baldwin</td>\n",
       "      <td>[2008, 1998, 1979]</td>\n",
       "    </tr>\n",
       "    <tr>\n",
       "      <th>...</th>\n",
       "      <td>...</td>\n",
       "      <td>...</td>\n",
       "    </tr>\n",
       "    <tr>\n",
       "      <th>18187</th>\n",
       "      <td>Özcan Deniz</td>\n",
       "      <td>[2011]</td>\n",
       "    </tr>\n",
       "    <tr>\n",
       "      <th>18188</th>\n",
       "      <td>Özge Özberk</td>\n",
       "      <td>[2008]</td>\n",
       "    </tr>\n",
       "    <tr>\n",
       "      <th>18189</th>\n",
       "      <td>Özgü Namal</td>\n",
       "      <td>[2009]</td>\n",
       "    </tr>\n",
       "    <tr>\n",
       "      <th>18190</th>\n",
       "      <td>Øyvin Bang Berven</td>\n",
       "      <td>[1986]</td>\n",
       "    </tr>\n",
       "    <tr>\n",
       "      <th>18191</th>\n",
       "      <td>Ümit Acar</td>\n",
       "      <td>[2006]</td>\n",
       "    </tr>\n",
       "  </tbody>\n",
       "</table>\n",
       "<p>18192 rows × 2 columns</p>\n",
       "</div>"
      ],
      "text/plain": [
       "                Actor_name Movie_release_date_1st_role\n",
       "0      'University' Jeevan          [2007, 2006, 2008]\n",
       "1      'Weird Al' Yankovic                      [1989]\n",
       "2                     2Mex                      [2008]\n",
       "3                  50 Cent    [2011, 2012, 2011, 2005]\n",
       "4       A. Michael Baldwin          [2008, 1998, 1979]\n",
       "...                    ...                         ...\n",
       "18187          Özcan Deniz                      [2011]\n",
       "18188          Özge Özberk                      [2008]\n",
       "18189           Özgü Namal                      [2009]\n",
       "18190    Øyvin Bang Berven                      [1986]\n",
       "18191            Ümit Acar                      [2006]\n",
       "\n",
       "[18192 rows x 2 columns]"
      ]
     },
     "execution_count": 16,
     "metadata": {},
     "output_type": "execute_result"
    }
   ],
   "source": [
    "#here we fetch the first roles from imdb to merge to the df_chara_small\n",
    "\n",
    "first_role_df = df_imdb[[\"first_role_actor\", \"Movie_release_date_x\"]].groupby(\"first_role_actor\").agg(lambda x: x.tolist()).reset_index()\n",
    "first_role_df = first_role_df.rename(columns={\"first_role_actor\": \"Actor_name\", \"Movie_release_date_x\": \"Movie_release_date_1st_role\"})\n",
    "first_role_df"
   ]
  },
  {
   "cell_type": "code",
   "execution_count": 17,
   "metadata": {},
   "outputs": [
    {
     "data": {
      "text/html": [
       "<div>\n",
       "<style scoped>\n",
       "    .dataframe tbody tr th:only-of-type {\n",
       "        vertical-align: middle;\n",
       "    }\n",
       "\n",
       "    .dataframe tbody tr th {\n",
       "        vertical-align: top;\n",
       "    }\n",
       "\n",
       "    .dataframe thead th {\n",
       "        text-align: right;\n",
       "    }\n",
       "</style>\n",
       "<table border=\"1\" class=\"dataframe\">\n",
       "  <thead>\n",
       "    <tr style=\"text-align: right;\">\n",
       "      <th></th>\n",
       "      <th>Actor_name</th>\n",
       "      <th>Wikipedia_movie_ID</th>\n",
       "      <th>Movie_release_date</th>\n",
       "      <th>Actor_date_of_birth</th>\n",
       "      <th>Actor_gender</th>\n",
       "      <th>Actor_age_at_movie_release</th>\n",
       "      <th>Starting_career</th>\n",
       "      <th>Movie_release_date_1st_role</th>\n",
       "    </tr>\n",
       "  </thead>\n",
       "  <tbody>\n",
       "    <tr>\n",
       "      <th>0</th>\n",
       "      <td>Cesarine Prinz\\t</td>\n",
       "      <td>[22643470, 22643388]</td>\n",
       "      <td>[1926.0, 1922.0]</td>\n",
       "      <td>1883-12-20</td>\n",
       "      <td>F</td>\n",
       "      <td>[nan, nan]</td>\n",
       "      <td>1922.0</td>\n",
       "      <td>NaN</td>\n",
       "    </tr>\n",
       "    <tr>\n",
       "      <th>1</th>\n",
       "      <td>Daniel Newman</td>\n",
       "      <td>[20116200]</td>\n",
       "      <td>[1998.0]</td>\n",
       "      <td>1976-05-12</td>\n",
       "      <td>M</td>\n",
       "      <td>[22.0]</td>\n",
       "      <td>1998.0</td>\n",
       "      <td>NaN</td>\n",
       "    </tr>\n",
       "    <tr>\n",
       "      <th>2</th>\n",
       "      <td>'Big Bill' Giddinger</td>\n",
       "      <td>[15056534]</td>\n",
       "      <td>[1911.0]</td>\n",
       "      <td>NaN</td>\n",
       "      <td>M</td>\n",
       "      <td>[nan]</td>\n",
       "      <td>1911.0</td>\n",
       "      <td>NaN</td>\n",
       "    </tr>\n",
       "    <tr>\n",
       "      <th>3</th>\n",
       "      <td>'Big' Lee</td>\n",
       "      <td>[23010798]</td>\n",
       "      <td>[1973.0]</td>\n",
       "      <td>NaN</td>\n",
       "      <td>M</td>\n",
       "      <td>[nan]</td>\n",
       "      <td>1973.0</td>\n",
       "      <td>NaN</td>\n",
       "    </tr>\n",
       "    <tr>\n",
       "      <th>4</th>\n",
       "      <td>'Crazy George' Henderson</td>\n",
       "      <td>[10050502]</td>\n",
       "      <td>[1975.0]</td>\n",
       "      <td>NaN</td>\n",
       "      <td>M</td>\n",
       "      <td>[nan]</td>\n",
       "      <td>1975.0</td>\n",
       "      <td>NaN</td>\n",
       "    </tr>\n",
       "    <tr>\n",
       "      <th>...</th>\n",
       "      <td>...</td>\n",
       "      <td>...</td>\n",
       "      <td>...</td>\n",
       "      <td>...</td>\n",
       "      <td>...</td>\n",
       "      <td>...</td>\n",
       "      <td>...</td>\n",
       "      <td>...</td>\n",
       "    </tr>\n",
       "    <tr>\n",
       "      <th>101872</th>\n",
       "      <td>雅-miyavi-</td>\n",
       "      <td>[18728484]</td>\n",
       "      <td>[2004.0]</td>\n",
       "      <td>1981-09-14</td>\n",
       "      <td>M</td>\n",
       "      <td>[22.0]</td>\n",
       "      <td>2004.0</td>\n",
       "      <td>NaN</td>\n",
       "    </tr>\n",
       "    <tr>\n",
       "      <th>101873</th>\n",
       "      <td>雪乃五月</td>\n",
       "      <td>[5148040, 2583808]</td>\n",
       "      <td>[2001.0, 2002.0]</td>\n",
       "      <td>1970-05-25</td>\n",
       "      <td>F</td>\n",
       "      <td>[30.0, 31.0]</td>\n",
       "      <td>2001.0</td>\n",
       "      <td>NaN</td>\n",
       "    </tr>\n",
       "    <tr>\n",
       "      <th>101874</th>\n",
       "      <td>高山久子</td>\n",
       "      <td>[1706423, 9411697, 18771696]</td>\n",
       "      <td>[2005.0, 2001.0, 1986.0]</td>\n",
       "      <td>1961-08-16</td>\n",
       "      <td>F</td>\n",
       "      <td>[43.0, 39.0, 24.0]</td>\n",
       "      <td>1986.0</td>\n",
       "      <td>NaN</td>\n",
       "    </tr>\n",
       "    <tr>\n",
       "      <th>101875</th>\n",
       "      <td>高橋美紀</td>\n",
       "      <td>[18771696]</td>\n",
       "      <td>[1986.0]</td>\n",
       "      <td>1961-09-19</td>\n",
       "      <td>F</td>\n",
       "      <td>[24.0]</td>\n",
       "      <td>1986.0</td>\n",
       "      <td>NaN</td>\n",
       "    </tr>\n",
       "    <tr>\n",
       "      <th>101876</th>\n",
       "      <td>高田由美</td>\n",
       "      <td>[4174679, 5396840, 28657324, 5397050]</td>\n",
       "      <td>[1999.0, 1997.0, 1993.0, 1996.0]</td>\n",
       "      <td>1961-09-21</td>\n",
       "      <td>F</td>\n",
       "      <td>[37.0, 35.0, 31.0, 34.0]</td>\n",
       "      <td>1993.0</td>\n",
       "      <td>NaN</td>\n",
       "    </tr>\n",
       "  </tbody>\n",
       "</table>\n",
       "<p>101877 rows × 8 columns</p>\n",
       "</div>"
      ],
      "text/plain": [
       "                      Actor_name                     Wikipedia_movie_ID  \\\n",
       "0               Cesarine Prinz\\t                   [22643470, 22643388]   \n",
       "1                  Daniel Newman                             [20116200]   \n",
       "2           'Big Bill' Giddinger                             [15056534]   \n",
       "3                      'Big' Lee                             [23010798]   \n",
       "4       'Crazy George' Henderson                             [10050502]   \n",
       "...                          ...                                    ...   \n",
       "101872                 雅-miyavi-                             [18728484]   \n",
       "101873                      雪乃五月                     [5148040, 2583808]   \n",
       "101874                      高山久子           [1706423, 9411697, 18771696]   \n",
       "101875                      高橋美紀                             [18771696]   \n",
       "101876                      高田由美  [4174679, 5396840, 28657324, 5397050]   \n",
       "\n",
       "                      Movie_release_date Actor_date_of_birth Actor_gender  \\\n",
       "0                       [1926.0, 1922.0]          1883-12-20            F   \n",
       "1                               [1998.0]          1976-05-12            M   \n",
       "2                               [1911.0]                 NaN            M   \n",
       "3                               [1973.0]                 NaN            M   \n",
       "4                               [1975.0]                 NaN            M   \n",
       "...                                  ...                 ...          ...   \n",
       "101872                          [2004.0]          1981-09-14            M   \n",
       "101873                  [2001.0, 2002.0]          1970-05-25            F   \n",
       "101874          [2005.0, 2001.0, 1986.0]          1961-08-16            F   \n",
       "101875                          [1986.0]          1961-09-19            F   \n",
       "101876  [1999.0, 1997.0, 1993.0, 1996.0]          1961-09-21            F   \n",
       "\n",
       "       Actor_age_at_movie_release  Starting_career Movie_release_date_1st_role  \n",
       "0                      [nan, nan]           1922.0                         NaN  \n",
       "1                          [22.0]           1998.0                         NaN  \n",
       "2                           [nan]           1911.0                         NaN  \n",
       "3                           [nan]           1973.0                         NaN  \n",
       "4                           [nan]           1975.0                         NaN  \n",
       "...                           ...              ...                         ...  \n",
       "101872                     [22.0]           2004.0                         NaN  \n",
       "101873               [30.0, 31.0]           2001.0                         NaN  \n",
       "101874         [43.0, 39.0, 24.0]           1986.0                         NaN  \n",
       "101875                     [24.0]           1986.0                         NaN  \n",
       "101876   [37.0, 35.0, 31.0, 34.0]           1993.0                         NaN  \n",
       "\n",
       "[101877 rows x 8 columns]"
      ]
     },
     "execution_count": 17,
     "metadata": {},
     "output_type": "execute_result"
    }
   ],
   "source": [
    "df_chara_small = df_chara_small.merge(first_role_df, on=\"Actor_name\", how=\"outer\")\n",
    "df_chara_small"
   ]
  },
  {
   "cell_type": "code",
   "execution_count": 18,
   "metadata": {},
   "outputs": [],
   "source": [
    "#computing how many years it took the actor to get 1st role. \n",
    "import math\n",
    "def years_to_first(x, start):\n",
    "    if type(x) == list:\n",
    "        return min(x) - start\n",
    "    else:\n",
    "        return np.nan"
   ]
  },
  {
   "cell_type": "code",
   "execution_count": 19,
   "metadata": {},
   "outputs": [],
   "source": [
    "df_chara_small[\"Years_to_1st\"] = df_chara_small.apply(lambda x: years_to_first(x[\"Movie_release_date_1st_role\"], x[\"Starting_career\"]), axis=1)"
   ]
  },
  {
   "cell_type": "code",
   "execution_count": 20,
   "metadata": {},
   "outputs": [
    {
     "data": {
      "text/plain": [
       "101877"
      ]
     },
     "execution_count": 20,
     "metadata": {},
     "output_type": "execute_result"
    }
   ],
   "source": [
    "#number of actors that have and do not have first role (ever)\n",
    "len(df_chara_small)"
   ]
  },
  {
   "cell_type": "code",
   "execution_count": 21,
   "metadata": {},
   "outputs": [],
   "source": [
    "#selecting actors that have or had first role in their career \n",
    "df_chara_small = df_chara_small[(df_chara_small[\"Years_to_1st\"].isnull()) | (df_chara_small[\"Years_to_1st\"] > 0)]"
   ]
  },
  {
   "cell_type": "code",
   "execution_count": 22,
   "metadata": {},
   "outputs": [
    {
     "data": {
      "text/plain": [
       "96416"
      ]
     },
     "execution_count": 22,
     "metadata": {},
     "output_type": "execute_result"
    }
   ],
   "source": [
    "#remaing actors from the dataframe\n",
    "len(df_chara_small)"
   ]
  },
  {
   "cell_type": "code",
   "execution_count": 23,
   "metadata": {},
   "outputs": [],
   "source": [
    "def find_movie_genres(films_id):\n",
    "    if type(films_id) != list:\n",
    "        return np.nan\n",
    "    else:\n",
    "        return df_movie[df_movie[\"Wikipedia_movie_ID\"].isin(films_id)][\"Movie_genres\"].apply(lambda x: list(x)).sum()\n"
   ]
  },
  {
   "cell_type": "code",
   "execution_count": 24,
   "metadata": {},
   "outputs": [
    {
     "name": "stderr",
     "output_type": "stream",
     "text": [
      "/var/folders/4l/yz8mrkq91sl802y_wzywbvnc0000gn/T/ipykernel_72426/2412542615.py:1: SettingWithCopyWarning:\n",
      "\n",
      "\n",
      "A value is trying to be set on a copy of a slice from a DataFrame.\n",
      "Try using .loc[row_indexer,col_indexer] = value instead\n",
      "\n",
      "See the caveats in the documentation: https://pandas.pydata.org/pandas-docs/stable/user_guide/indexing.html#returning-a-view-versus-a-copy\n",
      "\n"
     ]
    }
   ],
   "source": [
    "df_chara_small[\"Movie_genres\"] = df_chara_small[\"Wikipedia_movie_ID\"].apply(find_movie_genres)"
   ]
  },
  {
   "cell_type": "code",
   "execution_count": 25,
   "metadata": {},
   "outputs": [
    {
     "data": {
      "text/plain": [
       "Actor_gender\n",
       "F    7.837449\n",
       "M    9.169874\n",
       "Name: Years_to_1st, dtype: float64"
      ]
     },
     "execution_count": 25,
     "metadata": {},
     "output_type": "execute_result"
    }
   ],
   "source": [
    "df_chara_small.groupby(\"Actor_gender\")[\"Years_to_1st\"].mean()"
   ]
  },
  {
   "cell_type": "code",
   "execution_count": 26,
   "metadata": {},
   "outputs": [
    {
     "name": "stdout",
     "output_type": "stream",
     "text": [
      "The number of woman actress as first role is 13647, while the actors represent 35196\n",
      "\n",
      "Thus the ratio actors/actress is 0.7205945580738284\n"
     ]
    }
   ],
   "source": [
    "role_dict = df_imdb[\"first_role_gender\"].value_counts().to_dict()\n",
    "print(f'The number of woman actress as first role is {role_dict[\"F\"]}, while the actors represent {role_dict[\"M\"]}')\n",
    "print(\"\")\n",
    "print(f\"Thus the ratio actors/actress is {role_dict['M']/(role_dict['F']+role_dict['M'])}\")"
   ]
  },
  {
   "cell_type": "code",
   "execution_count": 27,
   "metadata": {},
   "outputs": [],
   "source": [
    "#here we add colomns to imdb dataframe for gender type in binary form \n",
    "def role_man(first_role):\n",
    "    return 1 if first_role == \"M\" else 0\n",
    "role = [\"first\", \"second\", \"third\"]\n",
    "for el in role:\n",
    "    df_imdb[\"Binary_\"+el] = df_imdb[f\"{el}_role_gender\"].apply(lambda x: role_man(x))"
   ]
  },
  {
   "cell_type": "code",
   "execution_count": 28,
   "metadata": {},
   "outputs": [
    {
     "data": {
      "application/vnd.plotly.v1+json": {
       "config": {
        "plotlyServerURL": "https://plot.ly"
       },
       "data": [
        {
         "line": {
          "color": "blue"
         },
         "mode": "lines",
         "name": "first role",
         "opacity": 1,
         "type": "scatter",
         "x": [
          1921,
          1922,
          1923,
          1924,
          1925,
          1926,
          1927,
          1928,
          1929,
          1930,
          1931,
          1932,
          1933,
          1934,
          1935,
          1936,
          1937,
          1938,
          1939,
          1940,
          1941,
          1942,
          1943,
          1944,
          1945,
          1946,
          1947,
          1948,
          1949,
          1950,
          1951,
          1952,
          1953,
          1954,
          1955,
          1956,
          1957,
          1958,
          1959,
          1960,
          1961,
          1962,
          1963,
          1964,
          1965,
          1966,
          1967,
          1968,
          1969,
          1970,
          1971,
          1972,
          1973,
          1974,
          1975,
          1976,
          1977,
          1978,
          1979,
          1980,
          1981,
          1982,
          1983,
          1984,
          1985,
          1986,
          1987,
          1988,
          1989,
          1990,
          1991,
          1992,
          1993,
          1994,
          1995,
          1996,
          1997,
          1998,
          1999,
          2000,
          2001,
          2002,
          2003,
          2004,
          2005,
          2006,
          2007,
          2008,
          2009,
          2010,
          2011,
          2012,
          2013,
          2014,
          2015
         ],
         "y": [
          0.37888198757763975,
          0.4258064516129032,
          0.4161849710982659,
          0.4742857142857143,
          0.5028571428571429,
          0.4277456647398844,
          0.41714285714285715,
          0.4702702702702703,
          0.4009216589861751,
          0.39737991266375544,
          0.3446969696969697,
          0.35315985130111527,
          0.35231316725978645,
          0.32781456953642385,
          0.3355263157894737,
          0.30357142857142855,
          0.265625,
          0.32558139534883723,
          0.27129337539432175,
          0.27639751552795033,
          0.3063973063973064,
          0.2565789473684211,
          0.3053435114503817,
          0.321285140562249,
          0.3204633204633205,
          0.37142857142857144,
          0.2968197879858657,
          0.3180327868852459,
          0.31044776119402984,
          0.2907608695652174,
          0.3106267029972752,
          0.2891246684350133,
          0.2813299232736573,
          0.30057803468208094,
          0.2779291553133515,
          0.28421052631578947,
          0.2769607843137255,
          0.25252525252525254,
          0.232,
          0.24731182795698925,
          0.28804347826086957,
          0.29095354523227385,
          0.26512968299711814,
          0.2537688442211055,
          0.2488479262672811,
          0.2605042016806723,
          0.23696682464454977,
          0.24772727272727274,
          0.2219626168224299,
          0.27213822894168466,
          0.2402464065708419,
          0.2591170825335892,
          0.24078091106290672,
          0.2674897119341564,
          0.26218097447795824,
          0.21123595505617979,
          0.2445414847161572,
          0.22818791946308725,
          0.24390243902439024,
          0.23221757322175732,
          0.25826446280991733,
          0.24893617021276596,
          0.2113289760348584,
          0.24539877300613497,
          0.23091603053435114,
          0.26534653465346536,
          0.2402135231316726,
          0.2651006711409396,
          0.19699499165275458,
          0.18947368421052632,
          0.24179620034542315,
          0.2184115523465704,
          0.23248407643312102,
          0.2827140549273021,
          0.28046744574290483,
          0.275808936825886,
          0.24383164005805516,
          0.2657718120805369,
          0.27044025157232704,
          0.32298136645962733,
          0.2641946697566628,
          0.3067226890756303,
          0.2988165680473373,
          0.3068181818181818,
          0.33494753833736884,
          0.31516422082459816,
          0.3238950276243094,
          0.3096686950642326,
          0.3263537906137184,
          0.32075471698113206,
          0.28762541806020064,
          0.2675,
          0.19626168224299065,
          0.42857142857142855,
          0
         ]
        },
        {
         "line": {
          "color": "orange"
         },
         "mode": "lines",
         "name": "second role",
         "opacity": 0.4,
         "type": "scatter",
         "x": [
          1921,
          1922,
          1923,
          1924,
          1925,
          1926,
          1927,
          1928,
          1929,
          1930,
          1931,
          1932,
          1933,
          1934,
          1935,
          1936,
          1937,
          1938,
          1939,
          1940,
          1941,
          1942,
          1943,
          1944,
          1945,
          1946,
          1947,
          1948,
          1949,
          1950,
          1951,
          1952,
          1953,
          1954,
          1955,
          1956,
          1957,
          1958,
          1959,
          1960,
          1961,
          1962,
          1963,
          1964,
          1965,
          1966,
          1967,
          1968,
          1969,
          1970,
          1971,
          1972,
          1973,
          1974,
          1975,
          1976,
          1977,
          1978,
          1979,
          1980,
          1981,
          1982,
          1983,
          1984,
          1985,
          1986,
          1987,
          1988,
          1989,
          1990,
          1991,
          1992,
          1993,
          1994,
          1995,
          1996,
          1997,
          1998,
          1999,
          2000,
          2001,
          2002,
          2003,
          2004,
          2005,
          2006,
          2007,
          2008,
          2009,
          2010,
          2011,
          2012,
          2013,
          2014,
          2015
         ],
         "y": [
          0.5093167701863354,
          0.44516129032258067,
          0.5086705202312138,
          0.4114285714285714,
          0.5142857142857142,
          0.42196531791907516,
          0.4742857142857143,
          0.42702702702702705,
          0.4838709677419355,
          0.4759825327510917,
          0.48484848484848486,
          0.516728624535316,
          0.48398576512455516,
          0.543046357615894,
          0.506578947368421,
          0.5178571428571429,
          0.434375,
          0.40863787375415284,
          0.4195583596214511,
          0.5062111801242236,
          0.4444444444444444,
          0.4342105263157895,
          0.44274809160305345,
          0.43775100401606426,
          0.49034749034749037,
          0.4163265306122449,
          0.5123674911660777,
          0.4918032786885246,
          0.4925373134328358,
          0.5353260869565217,
          0.4986376021798365,
          0.53315649867374,
          0.5012787723785166,
          0.5144508670520231,
          0.5204359673024523,
          0.5052631578947369,
          0.48284313725490197,
          0.4772727272727273,
          0.5226666666666666,
          0.49193548387096775,
          0.4483695652173913,
          0.43031784841075793,
          0.4812680115273775,
          0.5,
          0.46543778801843316,
          0.49859943977591037,
          0.48104265402843605,
          0.4681818181818182,
          0.5046728971962616,
          0.468682505399568,
          0.5051334702258727,
          0.46641074856046066,
          0.43817787418655096,
          0.4506172839506173,
          0.4222737819025522,
          0.48314606741573035,
          0.462882096069869,
          0.4429530201342282,
          0.4434589800443459,
          0.5,
          0.4793388429752066,
          0.502127659574468,
          0.485838779956427,
          0.49897750511247446,
          0.4446564885496183,
          0.4752475247524752,
          0.4555160142348754,
          0.4077181208053691,
          0.4607679465776294,
          0.4368421052631579,
          0.46632124352331605,
          0.4729241877256318,
          0.4888535031847134,
          0.4297253634894992,
          0.44574290484140233,
          0.4591679506933744,
          0.46008708272859217,
          0.436241610738255,
          0.45660377358490567,
          0.43850931677018634,
          0.4727694090382387,
          0.4579831932773109,
          0.46942800788954636,
          0.4868881118881119,
          0.4826472962066182,
          0.47309573724668064,
          0.4723756906077348,
          0.48208248816768084,
          0.4592057761732852,
          0.4588679245283019,
          0.4707357859531773,
          0.46375,
          0.3644859813084112,
          0.7142857142857143,
          0.5
         ]
        },
        {
         "line": {
          "color": "red"
         },
         "mode": "lines",
         "name": "third role",
         "opacity": 0.1,
         "type": "scatter",
         "x": [
          1921,
          1922,
          1923,
          1924,
          1925,
          1926,
          1927,
          1928,
          1929,
          1930,
          1931,
          1932,
          1933,
          1934,
          1935,
          1936,
          1937,
          1938,
          1939,
          1940,
          1941,
          1942,
          1943,
          1944,
          1945,
          1946,
          1947,
          1948,
          1949,
          1950,
          1951,
          1952,
          1953,
          1954,
          1955,
          1956,
          1957,
          1958,
          1959,
          1960,
          1961,
          1962,
          1963,
          1964,
          1965,
          1966,
          1967,
          1968,
          1969,
          1970,
          1971,
          1972,
          1973,
          1974,
          1975,
          1976,
          1977,
          1978,
          1979,
          1980,
          1981,
          1982,
          1983,
          1984,
          1985,
          1986,
          1987,
          1988,
          1989,
          1990,
          1991,
          1992,
          1993,
          1994,
          1995,
          1996,
          1997,
          1998,
          1999,
          2000,
          2001,
          2002,
          2003,
          2004,
          2005,
          2006,
          2007,
          2008,
          2009,
          2010,
          2011,
          2012,
          2013,
          2014,
          2015
         ],
         "y": [
          0.32919254658385094,
          0.3032258064516129,
          0.2774566473988439,
          0.33714285714285713,
          0.2914285714285714,
          0.3988439306358382,
          0.30857142857142855,
          0.31891891891891894,
          0.2903225806451613,
          0.29694323144104806,
          0.3787878787878788,
          0.39776951672862454,
          0.3238434163701068,
          0.3841059602649007,
          0.3355263157894737,
          0.32142857142857145,
          0.325,
          0.3488372093023256,
          0.35646687697160884,
          0.2950310559006211,
          0.3939393939393939,
          0.34539473684210525,
          0.35877862595419846,
          0.3534136546184739,
          0.3204633204633205,
          0.3469387755102041,
          0.392226148409894,
          0.3639344262295082,
          0.35522388059701493,
          0.3641304347826087,
          0.35149863760217986,
          0.3978779840848806,
          0.34271099744245526,
          0.33815028901734107,
          0.32697547683923706,
          0.35526315789473684,
          0.36519607843137253,
          0.3282828282828283,
          0.3626666666666667,
          0.3709677419354839,
          0.37771739130434784,
          0.36674816625916873,
          0.39481268011527376,
          0.38190954773869346,
          0.35714285714285715,
          0.3137254901960784,
          0.38388625592417064,
          0.38181818181818183,
          0.31542056074766356,
          0.3779697624190065,
          0.3326488706365503,
          0.3800383877159309,
          0.42950108459869846,
          0.360082304526749,
          0.3433874709976798,
          0.37303370786516854,
          0.3777292576419214,
          0.32662192393736017,
          0.36363636363636365,
          0.399581589958159,
          0.365702479338843,
          0.3872340425531915,
          0.38344226579520696,
          0.3803680981595092,
          0.42748091603053434,
          0.37623762376237624,
          0.41459074733096085,
          0.42449664429530204,
          0.3989983305509182,
          0.3912280701754386,
          0.4058721934369603,
          0.3844765342960289,
          0.42197452229299365,
          0.37964458804523427,
          0.3823038397328882,
          0.4067796610169492,
          0.39477503628447025,
          0.38791946308724834,
          0.43144654088050316,
          0.43478260869565216,
          0.40324449594438005,
          0.4222689075630252,
          0.41124260355029585,
          0.43356643356643354,
          0.43664245359160614,
          0.43256464011180995,
          0.43232044198895025,
          0.427315753887762,
          0.4296028880866426,
          0.4037735849056604,
          0.40468227424749165,
          0.375,
          0.37383177570093457,
          0.42857142857142855,
          1
         ]
        }
       ],
       "layout": {
        "autosize": false,
        "height": 500,
        "legend": {
         "orientation": "h",
         "x": 0.1,
         "y": 1.1
        },
        "template": {
         "data": {
          "bar": [
           {
            "error_x": {
             "color": "#2a3f5f"
            },
            "error_y": {
             "color": "#2a3f5f"
            },
            "marker": {
             "line": {
              "color": "#E5ECF6",
              "width": 0.5
             },
             "pattern": {
              "fillmode": "overlay",
              "size": 10,
              "solidity": 0.2
             }
            },
            "type": "bar"
           }
          ],
          "barpolar": [
           {
            "marker": {
             "line": {
              "color": "#E5ECF6",
              "width": 0.5
             },
             "pattern": {
              "fillmode": "overlay",
              "size": 10,
              "solidity": 0.2
             }
            },
            "type": "barpolar"
           }
          ],
          "carpet": [
           {
            "aaxis": {
             "endlinecolor": "#2a3f5f",
             "gridcolor": "white",
             "linecolor": "white",
             "minorgridcolor": "white",
             "startlinecolor": "#2a3f5f"
            },
            "baxis": {
             "endlinecolor": "#2a3f5f",
             "gridcolor": "white",
             "linecolor": "white",
             "minorgridcolor": "white",
             "startlinecolor": "#2a3f5f"
            },
            "type": "carpet"
           }
          ],
          "choropleth": [
           {
            "colorbar": {
             "outlinewidth": 0,
             "ticks": ""
            },
            "type": "choropleth"
           }
          ],
          "contour": [
           {
            "colorbar": {
             "outlinewidth": 0,
             "ticks": ""
            },
            "colorscale": [
             [
              0,
              "#0d0887"
             ],
             [
              0.1111111111111111,
              "#46039f"
             ],
             [
              0.2222222222222222,
              "#7201a8"
             ],
             [
              0.3333333333333333,
              "#9c179e"
             ],
             [
              0.4444444444444444,
              "#bd3786"
             ],
             [
              0.5555555555555556,
              "#d8576b"
             ],
             [
              0.6666666666666666,
              "#ed7953"
             ],
             [
              0.7777777777777778,
              "#fb9f3a"
             ],
             [
              0.8888888888888888,
              "#fdca26"
             ],
             [
              1,
              "#f0f921"
             ]
            ],
            "type": "contour"
           }
          ],
          "contourcarpet": [
           {
            "colorbar": {
             "outlinewidth": 0,
             "ticks": ""
            },
            "type": "contourcarpet"
           }
          ],
          "heatmap": [
           {
            "colorbar": {
             "outlinewidth": 0,
             "ticks": ""
            },
            "colorscale": [
             [
              0,
              "#0d0887"
             ],
             [
              0.1111111111111111,
              "#46039f"
             ],
             [
              0.2222222222222222,
              "#7201a8"
             ],
             [
              0.3333333333333333,
              "#9c179e"
             ],
             [
              0.4444444444444444,
              "#bd3786"
             ],
             [
              0.5555555555555556,
              "#d8576b"
             ],
             [
              0.6666666666666666,
              "#ed7953"
             ],
             [
              0.7777777777777778,
              "#fb9f3a"
             ],
             [
              0.8888888888888888,
              "#fdca26"
             ],
             [
              1,
              "#f0f921"
             ]
            ],
            "type": "heatmap"
           }
          ],
          "heatmapgl": [
           {
            "colorbar": {
             "outlinewidth": 0,
             "ticks": ""
            },
            "colorscale": [
             [
              0,
              "#0d0887"
             ],
             [
              0.1111111111111111,
              "#46039f"
             ],
             [
              0.2222222222222222,
              "#7201a8"
             ],
             [
              0.3333333333333333,
              "#9c179e"
             ],
             [
              0.4444444444444444,
              "#bd3786"
             ],
             [
              0.5555555555555556,
              "#d8576b"
             ],
             [
              0.6666666666666666,
              "#ed7953"
             ],
             [
              0.7777777777777778,
              "#fb9f3a"
             ],
             [
              0.8888888888888888,
              "#fdca26"
             ],
             [
              1,
              "#f0f921"
             ]
            ],
            "type": "heatmapgl"
           }
          ],
          "histogram": [
           {
            "marker": {
             "pattern": {
              "fillmode": "overlay",
              "size": 10,
              "solidity": 0.2
             }
            },
            "type": "histogram"
           }
          ],
          "histogram2d": [
           {
            "colorbar": {
             "outlinewidth": 0,
             "ticks": ""
            },
            "colorscale": [
             [
              0,
              "#0d0887"
             ],
             [
              0.1111111111111111,
              "#46039f"
             ],
             [
              0.2222222222222222,
              "#7201a8"
             ],
             [
              0.3333333333333333,
              "#9c179e"
             ],
             [
              0.4444444444444444,
              "#bd3786"
             ],
             [
              0.5555555555555556,
              "#d8576b"
             ],
             [
              0.6666666666666666,
              "#ed7953"
             ],
             [
              0.7777777777777778,
              "#fb9f3a"
             ],
             [
              0.8888888888888888,
              "#fdca26"
             ],
             [
              1,
              "#f0f921"
             ]
            ],
            "type": "histogram2d"
           }
          ],
          "histogram2dcontour": [
           {
            "colorbar": {
             "outlinewidth": 0,
             "ticks": ""
            },
            "colorscale": [
             [
              0,
              "#0d0887"
             ],
             [
              0.1111111111111111,
              "#46039f"
             ],
             [
              0.2222222222222222,
              "#7201a8"
             ],
             [
              0.3333333333333333,
              "#9c179e"
             ],
             [
              0.4444444444444444,
              "#bd3786"
             ],
             [
              0.5555555555555556,
              "#d8576b"
             ],
             [
              0.6666666666666666,
              "#ed7953"
             ],
             [
              0.7777777777777778,
              "#fb9f3a"
             ],
             [
              0.8888888888888888,
              "#fdca26"
             ],
             [
              1,
              "#f0f921"
             ]
            ],
            "type": "histogram2dcontour"
           }
          ],
          "mesh3d": [
           {
            "colorbar": {
             "outlinewidth": 0,
             "ticks": ""
            },
            "type": "mesh3d"
           }
          ],
          "parcoords": [
           {
            "line": {
             "colorbar": {
              "outlinewidth": 0,
              "ticks": ""
             }
            },
            "type": "parcoords"
           }
          ],
          "pie": [
           {
            "automargin": true,
            "type": "pie"
           }
          ],
          "scatter": [
           {
            "fillpattern": {
             "fillmode": "overlay",
             "size": 10,
             "solidity": 0.2
            },
            "type": "scatter"
           }
          ],
          "scatter3d": [
           {
            "line": {
             "colorbar": {
              "outlinewidth": 0,
              "ticks": ""
             }
            },
            "marker": {
             "colorbar": {
              "outlinewidth": 0,
              "ticks": ""
             }
            },
            "type": "scatter3d"
           }
          ],
          "scattercarpet": [
           {
            "marker": {
             "colorbar": {
              "outlinewidth": 0,
              "ticks": ""
             }
            },
            "type": "scattercarpet"
           }
          ],
          "scattergeo": [
           {
            "marker": {
             "colorbar": {
              "outlinewidth": 0,
              "ticks": ""
             }
            },
            "type": "scattergeo"
           }
          ],
          "scattergl": [
           {
            "marker": {
             "colorbar": {
              "outlinewidth": 0,
              "ticks": ""
             }
            },
            "type": "scattergl"
           }
          ],
          "scattermapbox": [
           {
            "marker": {
             "colorbar": {
              "outlinewidth": 0,
              "ticks": ""
             }
            },
            "type": "scattermapbox"
           }
          ],
          "scatterpolar": [
           {
            "marker": {
             "colorbar": {
              "outlinewidth": 0,
              "ticks": ""
             }
            },
            "type": "scatterpolar"
           }
          ],
          "scatterpolargl": [
           {
            "marker": {
             "colorbar": {
              "outlinewidth": 0,
              "ticks": ""
             }
            },
            "type": "scatterpolargl"
           }
          ],
          "scatterternary": [
           {
            "marker": {
             "colorbar": {
              "outlinewidth": 0,
              "ticks": ""
             }
            },
            "type": "scatterternary"
           }
          ],
          "surface": [
           {
            "colorbar": {
             "outlinewidth": 0,
             "ticks": ""
            },
            "colorscale": [
             [
              0,
              "#0d0887"
             ],
             [
              0.1111111111111111,
              "#46039f"
             ],
             [
              0.2222222222222222,
              "#7201a8"
             ],
             [
              0.3333333333333333,
              "#9c179e"
             ],
             [
              0.4444444444444444,
              "#bd3786"
             ],
             [
              0.5555555555555556,
              "#d8576b"
             ],
             [
              0.6666666666666666,
              "#ed7953"
             ],
             [
              0.7777777777777778,
              "#fb9f3a"
             ],
             [
              0.8888888888888888,
              "#fdca26"
             ],
             [
              1,
              "#f0f921"
             ]
            ],
            "type": "surface"
           }
          ],
          "table": [
           {
            "cells": {
             "fill": {
              "color": "#EBF0F8"
             },
             "line": {
              "color": "white"
             }
            },
            "header": {
             "fill": {
              "color": "#C8D4E3"
             },
             "line": {
              "color": "white"
             }
            },
            "type": "table"
           }
          ]
         },
         "layout": {
          "annotationdefaults": {
           "arrowcolor": "#2a3f5f",
           "arrowhead": 0,
           "arrowwidth": 1
          },
          "autotypenumbers": "strict",
          "coloraxis": {
           "colorbar": {
            "outlinewidth": 0,
            "ticks": ""
           }
          },
          "colorscale": {
           "diverging": [
            [
             0,
             "#8e0152"
            ],
            [
             0.1,
             "#c51b7d"
            ],
            [
             0.2,
             "#de77ae"
            ],
            [
             0.3,
             "#f1b6da"
            ],
            [
             0.4,
             "#fde0ef"
            ],
            [
             0.5,
             "#f7f7f7"
            ],
            [
             0.6,
             "#e6f5d0"
            ],
            [
             0.7,
             "#b8e186"
            ],
            [
             0.8,
             "#7fbc41"
            ],
            [
             0.9,
             "#4d9221"
            ],
            [
             1,
             "#276419"
            ]
           ],
           "sequential": [
            [
             0,
             "#0d0887"
            ],
            [
             0.1111111111111111,
             "#46039f"
            ],
            [
             0.2222222222222222,
             "#7201a8"
            ],
            [
             0.3333333333333333,
             "#9c179e"
            ],
            [
             0.4444444444444444,
             "#bd3786"
            ],
            [
             0.5555555555555556,
             "#d8576b"
            ],
            [
             0.6666666666666666,
             "#ed7953"
            ],
            [
             0.7777777777777778,
             "#fb9f3a"
            ],
            [
             0.8888888888888888,
             "#fdca26"
            ],
            [
             1,
             "#f0f921"
            ]
           ],
           "sequentialminus": [
            [
             0,
             "#0d0887"
            ],
            [
             0.1111111111111111,
             "#46039f"
            ],
            [
             0.2222222222222222,
             "#7201a8"
            ],
            [
             0.3333333333333333,
             "#9c179e"
            ],
            [
             0.4444444444444444,
             "#bd3786"
            ],
            [
             0.5555555555555556,
             "#d8576b"
            ],
            [
             0.6666666666666666,
             "#ed7953"
            ],
            [
             0.7777777777777778,
             "#fb9f3a"
            ],
            [
             0.8888888888888888,
             "#fdca26"
            ],
            [
             1,
             "#f0f921"
            ]
           ]
          },
          "colorway": [
           "#636efa",
           "#EF553B",
           "#00cc96",
           "#ab63fa",
           "#FFA15A",
           "#19d3f3",
           "#FF6692",
           "#B6E880",
           "#FF97FF",
           "#FECB52"
          ],
          "font": {
           "color": "#2a3f5f"
          },
          "geo": {
           "bgcolor": "white",
           "lakecolor": "white",
           "landcolor": "#E5ECF6",
           "showlakes": true,
           "showland": true,
           "subunitcolor": "white"
          },
          "hoverlabel": {
           "align": "left"
          },
          "hovermode": "closest",
          "mapbox": {
           "style": "light"
          },
          "paper_bgcolor": "white",
          "plot_bgcolor": "#E5ECF6",
          "polar": {
           "angularaxis": {
            "gridcolor": "white",
            "linecolor": "white",
            "ticks": ""
           },
           "bgcolor": "#E5ECF6",
           "radialaxis": {
            "gridcolor": "white",
            "linecolor": "white",
            "ticks": ""
           }
          },
          "scene": {
           "xaxis": {
            "backgroundcolor": "#E5ECF6",
            "gridcolor": "white",
            "gridwidth": 2,
            "linecolor": "white",
            "showbackground": true,
            "ticks": "",
            "zerolinecolor": "white"
           },
           "yaxis": {
            "backgroundcolor": "#E5ECF6",
            "gridcolor": "white",
            "gridwidth": 2,
            "linecolor": "white",
            "showbackground": true,
            "ticks": "",
            "zerolinecolor": "white"
           },
           "zaxis": {
            "backgroundcolor": "#E5ECF6",
            "gridcolor": "white",
            "gridwidth": 2,
            "linecolor": "white",
            "showbackground": true,
            "ticks": "",
            "zerolinecolor": "white"
           }
          },
          "shapedefaults": {
           "line": {
            "color": "#2a3f5f"
           }
          },
          "ternary": {
           "aaxis": {
            "gridcolor": "white",
            "linecolor": "white",
            "ticks": ""
           },
           "baxis": {
            "gridcolor": "white",
            "linecolor": "white",
            "ticks": ""
           },
           "bgcolor": "#E5ECF6",
           "caxis": {
            "gridcolor": "white",
            "linecolor": "white",
            "ticks": ""
           }
          },
          "title": {
           "x": 0.05
          },
          "xaxis": {
           "automargin": true,
           "gridcolor": "white",
           "linecolor": "white",
           "ticks": "",
           "title": {
            "standoff": 15
           },
           "zerolinecolor": "white",
           "zerolinewidth": 2
          },
          "yaxis": {
           "automargin": true,
           "gridcolor": "white",
           "linecolor": "white",
           "ticks": "",
           "title": {
            "standoff": 15
           },
           "zerolinecolor": "white",
           "zerolinewidth": 2
          }
         }
        },
        "title": {
         "text": "Percentage evolution of actresses with first, second and third role"
        },
        "width": 800,
        "xaxis": {
         "title": {
          "text": "Movie Release Date"
         }
        },
        "yaxis": {
         "tickfont": {
          "color": "black"
         },
         "title": {
          "font": {
           "color": "black"
          },
          "text": "Ratio of women with first role"
         }
        }
       }
      }
     },
     "metadata": {},
     "output_type": "display_data"
    }
   ],
   "source": [
    "fig = go.Figure()\n",
    "\n",
    "fig.update_layout(\n",
    "    autosize=False,\n",
    "    width=800,\n",
    "    height=500,\n",
    ")\n",
    "colors = [\"blue\", \"orange\", \"red\"]\n",
    "op =[1, 0.4, 0.1]\n",
    "\n",
    "for el in role:\n",
    "    num_m = df_imdb[df_imdb[\"Movie_release_date_x\"] >1920].groupby(\"Movie_release_date_x\")[f\"Binary_{el}\"].sum()\n",
    "    num_w = df_imdb[df_imdb[\"Movie_release_date_x\"] >1920].groupby(\"Movie_release_date_x\")[f\"Binary_{el}\"].count() - num_m\n",
    "\n",
    "    fig.add_trace(\n",
    "        go.Scatter(\n",
    "            x=num_m.index,\n",
    "            y=num_w/(num_m+num_w),\n",
    "            name=f\"{el} role\",\n",
    "            mode=\"lines\",\n",
    "            line=dict(color=colors.pop(0)),\n",
    "            opacity=op.pop(0)\n",
    "        )\n",
    "    )\n",
    "\n",
    "\n",
    "fig.update_layout(\n",
    "    title=\"Percentage evolution of actresses with first, second and third role\",\n",
    "    xaxis=dict(title=\"Movie Release Date\"),\n",
    "    yaxis=dict(title=\"Ratio of women with first role\", titlefont=dict(color=\"black\"), tickfont=dict(color=\"black\")),\n",
    "    legend=dict(x=0.1, y=1.1, orientation=\"h\"),\n",
    ")\n",
    "fig.show(\"svg\")\n",
    "\n",
    "#fig.write_html(data_folder + \"percentage_evolution_of_actresses.html\")"
   ]
  },
  {
   "cell_type": "code",
   "execution_count": 29,
   "metadata": {},
   "outputs": [],
   "source": [
    "#finding the gender ratio for first role\n",
    "genre_dict_first = {}\n",
    "all_genres = list(set(all_genres))\n",
    "for genre in all_genres:\n",
    "    dictt = df_imdb[df_imdb[\"Movie_genres\"].apply(lambda x: genre in x)][\"Binary_first\"].value_counts().to_dict()\n",
    "    if len(dictt) == 2:\n",
    "        m = dictt[1]\n",
    "        w = dictt[0]\n",
    "    genre_dict_first[genre] = [m, w, w/(m+w)]\n"
   ]
  },
  {
   "cell_type": "code",
   "execution_count": 30,
   "metadata": {},
   "outputs": [
    {
     "data": {
      "text/plain": [
       "{'Feminist Film': [7, 76, 0.9156626506024096],\n",
       " 'Softcore Porn': [12, 43, 0.7818181818181819],\n",
       " 'Rockumentary': [28, 81, 0.7431192660550459],\n",
       " 'Film & Television History': [12, 33, 0.7333333333333333],\n",
       " 'Gender Issues': [8, 20, 0.7142857142857143],\n",
       " 'Social issues': [33, 81, 0.7105263157894737],\n",
       " 'Concert film': [22, 52, 0.7027027027027027],\n",
       " 'Culture & Society': [84, 196, 0.7],\n",
       " 'Stand-up comedy': [10, 23, 0.696969696969697],\n",
       " 'Pornographic movie': [29, 65, 0.6914893617021277],\n",
       " 'Interpersonal Relationships': [8, 16, 0.6666666666666666],\n",
       " 'Sexploitation': [34, 67, 0.6633663366336634],\n",
       " 'Documentary': [391, 761, 0.6605902777777778],\n",
       " 'Travel': [9, 16, 0.64],\n",
       " 'Adult': [45, 77, 0.6311475409836066],\n",
       " 'Erotica': [89, 142, 0.6147186147186147],\n",
       " 'Law & Crime': [13, 20, 0.6060606060606061],\n",
       " 'Revisionist Fairy Tale': [13, 20, 0.6060606060606061],\n",
       " 'Nature': [9, 12, 0.5714285714285714],\n",
       " 'Melodrama': [291, 307, 0.5133779264214047],\n",
       " 'Marriage Drama': [85, 89, 0.5114942528735632],\n",
       " 'C-Movie': [85, 89, 0.5114942528735632],\n",
       " 'Pre-Code': [86, 86, 0.5],\n",
       " 'Punk rock': [19, 19, 0.5],\n",
       " 'Erotic Drama': [71, 71, 0.5],\n",
       " 'Erotic thriller': [86, 85, 0.49707602339181284],\n",
       " 'Gulf War': [86, 85, 0.49707602339181284],\n",
       " 'Political cinema': [129, 123, 0.4880952380952381],\n",
       " 'Silent film': [1073, 1004, 0.483389504092441],\n",
       " 'Television movie': [20, 17, 0.4594594594594595],\n",
       " 'Cold War': [20, 17, 0.4594594594594595],\n",
       " 'Filipino': [151, 126, 0.4548736462093863],\n",
       " 'Filipino Movies': [150, 125, 0.45454545454545453],\n",
       " 'Haunted House Film': [35, 28, 0.4444444444444444],\n",
       " 'Anime': [36, 28, 0.4375],\n",
       " 'Dance': [47, 36, 0.43373493975903615],\n",
       " 'Biography': [481, 351, 0.421875],\n",
       " 'Romantic fantasy': [40, 29, 0.42028985507246375],\n",
       " 'Supernatural': [318, 215, 0.40337711069418386],\n",
       " 'Ensemble Film': [257, 168, 0.3952941176470588],\n",
       " 'Cult': [578, 377, 0.3947643979057592],\n",
       " 'Propaganda film': [40, 26, 0.3939393939393939],\n",
       " 'Dogme 95': [14, 9, 0.391304347826087],\n",
       " 'Slasher': [372, 237, 0.3891625615763547],\n",
       " 'Singing cowboy': [372, 237, 0.3891625615763547],\n",
       " 'Romantic drama': [1899, 1208, 0.38879948503379463],\n",
       " 'Romantic comedy': [1503, 947, 0.386530612244898],\n",
       " 'Teen': [458, 288, 0.38605898123324395],\n",
       " 'Indian Western': [458, 288, 0.38605898123324395],\n",
       " 'History': [339, 213, 0.3858695652173913],\n",
       " 'Childhood Drama': [77, 48, 0.384],\n",
       " 'Social problem film': [66, 40, 0.37735849056603776],\n",
       " 'Art film': [277, 167, 0.3761261261261261],\n",
       " 'Ealing Comedies': [277, 167, 0.3761261261261261],\n",
       " 'LGBT': [598, 354, 0.37184873949579833],\n",
       " 'Romance Film': [5382, 3139, 0.36838399248914444],\n",
       " 'Family Drama': [541, 306, 0.3612750885478158],\n",
       " 'Comedy of manners': [163, 91, 0.35826771653543305],\n",
       " 'Domestic Comedy': [122, 68, 0.35789473684210527],\n",
       " 'Experimental film': [97, 54, 0.3576158940397351],\n",
       " 'Cyberpunk': [97, 54, 0.3576158940397351],\n",
       " 'Gay Interest': [159, 88, 0.3562753036437247],\n",
       " 'Hip hop movies': [30, 16, 0.34782608695652173],\n",
       " 'Black-and-white': [3384, 1800, 0.3472222222222222],\n",
       " 'Addiction Drama': [32, 17, 0.3469387755102041],\n",
       " 'Avant-garde': [79, 41, 0.3416666666666667],\n",
       " 'Japanese Movies': [896, 465, 0.34166054371785454],\n",
       " 'Indie': [2834, 1447, 0.3380051389862182],\n",
       " 'Roadshow theatrical release': [28, 14, 0.3333333333333333],\n",
       " 'Psychological thriller': [774, 385, 0.33218291630716135],\n",
       " 'Horror': [2493, 1232, 0.330738255033557],\n",
       " 'Comedy-drama': [1022, 504, 0.3302752293577982],\n",
       " 'Gay Themed': [203, 98, 0.32558139534883723],\n",
       " 'Coming of age': [543, 260, 0.32378580323785805],\n",
       " 'The Netherlands in World War II': [543, 260, 0.32378580323785805],\n",
       " 'Nuclear warfare': [543, 260, 0.32378580323785805],\n",
       " 'Whodunit': [40, 19, 0.3220338983050847],\n",
       " 'Short Film': [93, 44, 0.32116788321167883],\n",
       " 'Musical comedy': [148, 70, 0.3211009174311927],\n",
       " 'Gay': [214, 101, 0.32063492063492066],\n",
       " 'British Empire Film': [17, 8, 0.32],\n",
       " 'Period Horror': [17, 8, 0.32],\n",
       " 'Kafkaesque': [17, 8, 0.32],\n",
       " 'Juvenile Delinquency Film': [32, 15, 0.3191489361702128],\n",
       " 'Sex comedy': [199, 92, 0.3161512027491409],\n",
       " 'Workplace Comedy': [63, 29, 0.31521739130434784],\n",
       " 'Drama': [17375, 7983, 0.3148118936824671],\n",
       " 'Tragedy': [64, 29, 0.3118279569892473],\n",
       " 'Slice of life story': [71, 32, 0.3106796116504854],\n",
       " 'Music': [2435, 1096, 0.3103936561880487],\n",
       " 'Backstage Musical': [18, 8, 0.3076923076923077],\n",
       " 'Film': [9893, 4378, 0.3067759792586364],\n",
       " 'Hagiography': [16, 7, 0.30434782608695654],\n",
       " 'Giallo': [21, 9, 0.3],\n",
       " 'Medical fiction': [42, 18, 0.3],\n",
       " 'World cinema': [4736, 1978, 0.29460828120345545],\n",
       " 'Musical': [2262, 941, 0.29378707461754605],\n",
       " 'Biographical film': [541, 223, 0.2918848167539267],\n",
       " 'Comdedy': [541, 223, 0.2918848167539267],\n",
       " 'Period piece': [1075, 438, 0.28949107732980833],\n",
       " 'Film adaptation': [949, 379, 0.28539156626506024],\n",
       " 'Bruceploitation': [949, 379, 0.28539156626506024],\n",
       " 'Christian film': [78, 31, 0.28440366972477066],\n",
       " 'Camp': [78, 31, 0.28440366972477066],\n",
       " \"Children's\": [376, 147, 0.28107074569789675],\n",
       " 'Courtroom Drama': [137, 53, 0.2789473684210526],\n",
       " 'Religious Film': [44, 17, 0.2786885245901639],\n",
       " 'B-movie': [268, 100, 0.2717391304347826],\n",
       " 'Media Satire': [59, 22, 0.2716049382716049],\n",
       " \"Children's Entertainment\": [59, 22, 0.2716049382716049],\n",
       " 'Mystery': [1780, 661, 0.27079065956575177],\n",
       " 'Suspense': [482, 178, 0.2696969696969697],\n",
       " 'Docudrama': [187, 69, 0.26953125],\n",
       " \"Children's/Family\": [281, 103, 0.2682291666666667],\n",
       " 'Musical Drama': [123, 45, 0.26785714285714285],\n",
       " 'Wuxia': [86, 31, 0.26495726495726496],\n",
       " 'Biopic [feature]': [350, 124, 0.2616033755274262],\n",
       " 'Space opera': [350, 124, 0.2616033755274262],\n",
       " 'Comedy': [10360, 3668, 0.26147704590818366],\n",
       " \"Children's Fantasy\": [85, 30, 0.2608695652173913],\n",
       " 'Americana': [71, 25, 0.2604166666666667],\n",
       " 'Natural horror films': [87, 30, 0.2564102564102564],\n",
       " 'Animation': [259, 89, 0.2557471264367816],\n",
       " 'Gothic Film': [50, 17, 0.2537313432835821],\n",
       " 'Fantasy': [1357, 459, 0.2527533039647577],\n",
       " 'Mockumentary': [87, 29, 0.25],\n",
       " 'Family-Oriented Adventure': [105, 35, 0.25],\n",
       " 'Statutory rape': [105, 35, 0.25],\n",
       " 'Black comedy': [693, 230, 0.24918743228602383],\n",
       " 'Chinese Movies': [962, 319, 0.24902419984387197],\n",
       " 'Political drama': [477, 158, 0.24881889763779527],\n",
       " 'Comedy film': [1612, 529, 0.24708080336291452],\n",
       " 'Film noir': [445, 142, 0.24190800681431004],\n",
       " 'Historical fiction': [298, 94, 0.23979591836734693],\n",
       " 'Computer Animation': [51, 16, 0.23880597014925373],\n",
       " 'Zombie Film': [163, 49, 0.23113207547169812],\n",
       " 'War effort': [163, 49, 0.23113207547169812],\n",
       " 'Road movie': [244, 73, 0.2302839116719243],\n",
       " 'Screwball comedy': [221, 66, 0.22996515679442509],\n",
       " 'Costume drama': [289, 86, 0.22933333333333333],\n",
       " 'Family Film': [1583, 471, 0.22930866601752678],\n",
       " 'Remake': [65, 19, 0.2261904761904762],\n",
       " 'Film à clef': [24, 7, 0.22580645161290322],\n",
       " 'Thriller': [5592, 1626, 0.22527015793848712],\n",
       " 'Satire': [520, 151, 0.22503725782414308],\n",
       " 'Crime Drama': [387, 111, 0.22289156626506024],\n",
       " 'Foreign legion': [387, 111, 0.22289156626506024],\n",
       " 'Historical drama': [150, 43, 0.22279792746113988],\n",
       " 'Horror Comedy': [159, 45, 0.22058823529411764],\n",
       " 'New Hollywood': [69, 19, 0.2159090909090909],\n",
       " 'Historical Epic': [68, 18, 0.20930232558139536],\n",
       " 'Splatter film': [19, 5, 0.20833333333333334],\n",
       " 'Tragicomedy': [46, 12, 0.20689655172413793],\n",
       " 'Parody': [655, 169, 0.20509708737864077],\n",
       " 'Comedy Thriller': [70, 18, 0.20454545454545456],\n",
       " 'Live action': [70, 18, 0.20454545454545456],\n",
       " 'Crime Thriller': [1506, 384, 0.20317460317460317],\n",
       " 'Stop motion': [64, 16, 0.2],\n",
       " 'Jungle Film': [56, 14, 0.2],\n",
       " 'Crime': [5147, 1285, 0.1997823383084577],\n",
       " 'Fantasy Adventure': [115, 28, 0.1958041958041958],\n",
       " 'Sci-Fi Horror': [91, 22, 0.19469026548672566],\n",
       " 'Epic': [232, 56, 0.19444444444444445],\n",
       " 'Dystopia': [58, 14, 0.19444444444444445],\n",
       " 'Crime Fiction': [4384, 1048, 0.19293078055964655],\n",
       " 'War film': [1527, 365, 0.19291754756871035],\n",
       " 'Animal Picture': [118, 28, 0.1917808219178082],\n",
       " 'Prison': [89, 21, 0.19090909090909092],\n",
       " 'Comedy of Errors': [147, 34, 0.1878453038674033],\n",
       " 'Creature Film': [247, 57, 0.1875],\n",
       " 'Disaster': [149, 34, 0.18579234972677597],\n",
       " 'Outlaw': [18, 4, 0.18181818181818182],\n",
       " 'Science Fiction': [1602, 352, 0.18014329580348004],\n",
       " 'Monster movie': [119, 26, 0.1793103448275862],\n",
       " 'Caper story': [85, 18, 0.17475728155339806],\n",
       " 'Christmas movie': [43, 9, 0.17307692307692307],\n",
       " 'Gross out': [44, 9, 0.16981132075471697],\n",
       " 'Gross-out film': [44, 9, 0.16981132075471697],\n",
       " 'Surrealism': [88, 18, 0.16981132075471697],\n",
       " 'Inspirational Drama': [20, 4, 0.16666666666666666],\n",
       " 'Spy': [342, 68, 0.16585365853658537],\n",
       " 'Sports': [628, 124, 0.16489361702127658],\n",
       " 'Fantasy Comedy': [142, 28, 0.16470588235294117],\n",
       " 'Bollywood': [1080, 212, 0.16408668730650156],\n",
       " 'Absurdism': [72, 14, 0.16279069767441862],\n",
       " 'Crime Comedy': [237, 45, 0.1595744680851064],\n",
       " 'Comedy Western': [53, 10, 0.15873015873015872],\n",
       " 'Beach Party film': [53, 10, 0.15873015873015872],\n",
       " 'Political thriller': [183, 34, 0.15668202764976957],\n",
       " 'Costume Adventure': [70, 13, 0.1566265060240964],\n",
       " 'Blaxploitation': [81, 15, 0.15625],\n",
       " 'Doomsday film': [90, 16, 0.1509433962264151],\n",
       " 'Neo-noir': [51, 9, 0.15],\n",
       " 'Apocalyptic and post-apocalyptic fiction': [23, 4, 0.14814814814814814],\n",
       " 'Boxing': [59, 10, 0.14492753623188406],\n",
       " 'Adventure': [5696, 965, 0.1448731421708452],\n",
       " 'Political satire': [77, 13, 0.14444444444444443],\n",
       " 'Monster': [203, 34, 0.14345991561181434],\n",
       " 'Steampunk': [24, 4, 0.14285714285714285],\n",
       " 'Heist': [139, 23, 0.1419753086419753],\n",
       " 'Action Comedy': [134, 22, 0.14102564102564102],\n",
       " 'Auto racing': [49, 8, 0.14035087719298245],\n",
       " 'Sci-Fi Adventure': [19, 3, 0.13636363636363635],\n",
       " 'Costume Horror': [51, 8, 0.13559322033898305],\n",
       " 'Martial Arts Film': [698, 106, 0.1318407960199005],\n",
       " 'Revisionist Western': [53, 8, 0.13114754098360656],\n",
       " 'Superhero movie': [166, 25, 0.13089005235602094],\n",
       " 'Escape Film': [40, 6, 0.13043478260869565],\n",
       " 'Heavenly Comedy': [20, 3, 0.13043478260869565],\n",
       " 'Superhero': [167, 25, 0.13020833333333334],\n",
       " 'Detective fiction': [244, 35, 0.12544802867383512],\n",
       " 'Buddy cop': [244, 35, 0.12544802867383512],\n",
       " 'Tamil cinema': [56, 8, 0.125],\n",
       " 'Glamorized Spy Film': [42, 6, 0.125],\n",
       " 'Biker Film': [21, 3, 0.125],\n",
       " 'Gangster Film': [335, 47, 0.12303664921465969],\n",
       " 'Holiday Film': [36, 5, 0.12195121951219512],\n",
       " 'Action/Adventure': [3515, 483, 0.1208104052026013],\n",
       " 'Detective': [308, 42, 0.12],\n",
       " 'Action': [7082, 963, 0.1197016780609074],\n",
       " 'Archaeology': [7082, 963, 0.1197016780609074],\n",
       " 'Action Thrillers': [368, 47, 0.11325301204819277],\n",
       " 'Existentialism': [32, 4, 0.1111111111111111],\n",
       " 'Time travel': [72, 9, 0.1111111111111111],\n",
       " 'Chase Movie': [88, 11, 0.1111111111111111],\n",
       " 'Prison escape': [88, 11, 0.1111111111111111],\n",
       " 'Alien Film': [73, 9, 0.10975609756097561],\n",
       " 'Stoner film': [44, 5, 0.10204081632653061],\n",
       " 'Hybrid Western': [27, 3, 0.1],\n",
       " 'Sword and sorcery': [45, 5, 0.1],\n",
       " 'Master Criminal Films': [27, 3, 0.1],\n",
       " 'Airplanes and airports': [46, 5, 0.09803921568627451],\n",
       " 'Sword and sorcery films': [28, 3, 0.0967741935483871],\n",
       " 'Sword and Sandal': [19, 2, 0.09523809523809523],\n",
       " 'Buddy film': [322, 33, 0.09295774647887324],\n",
       " 'Western': [1482, 138, 0.08518518518518518],\n",
       " 'Future noir': [22, 2, 0.08333333333333333],\n",
       " 'Mythological Fantasy': [23, 2, 0.08],\n",
       " 'Parkour in popular culture': [23, 2, 0.08],\n",
       " 'Slapstick': [412, 34, 0.07623318385650224],\n",
       " 'Swashbuckler films': [101, 8, 0.07339449541284404],\n",
       " 'New Queer Cinema': [101, 8, 0.07339449541284404],\n",
       " 'Chick flick': [101, 8, 0.07339449541284404],\n",
       " 'Adventure Comedy': [116, 8, 0.06451612903225806],\n",
       " 'Anti-war film': [34, 2, 0.05555555555555555],\n",
       " 'Anti-war': [36, 2, 0.05263157894736842],\n",
       " 'Spaghetti Western': [114, 5, 0.04201680672268908],\n",
       " 'B-Western': [55, 2, 0.03508771929824561],\n",
       " 'Science fiction Western': [55, 2, 0.03508771929824561],\n",
       " 'Samurai cinema': [39, 1, 0.025],\n",
       " 'Tollywood': [44, 1, 0.022222222222222223],\n",
       " 'Prison film': [44, 1, 0.022222222222222223],\n",
       " 'Bloopers & Candid Camera': [44, 1, 0.022222222222222223],\n",
       " 'Humour': [44, 1, 0.022222222222222223],\n",
       " 'Combat Films': [95, 1, 0.010416666666666666],\n",
       " 'Cavalry Film': [95, 1, 0.010416666666666666]}"
      ]
     },
     "execution_count": 30,
     "metadata": {},
     "output_type": "execute_result"
    }
   ],
   "source": [
    "genre_dict_first = dict(sorted(genre_dict_first.items(), key=lambda item: item[1][2], reverse=True))\n",
    "genre_dict_first = {k: v for k, v in genre_dict_first.items() if v[0] + v[1] > 20}\n",
    "genre_dict_first"
   ]
  },
  {
   "cell_type": "code",
   "execution_count": 55,
   "metadata": {},
   "outputs": [
    {
     "data": {
      "image/svg+xml": [
       "<svg class=\"main-svg\" xmlns=\"http://www.w3.org/2000/svg\" xmlns:xlink=\"http://www.w3.org/1999/xlink\" width=\"750\" height=\"500\" style=\"\" viewBox=\"0 0 750 500\"><rect x=\"0\" y=\"0\" width=\"750\" height=\"500\" style=\"fill: rgb(255, 255, 255); fill-opacity: 1;\"/><defs id=\"defs-b1e998\"><g class=\"clips\"><clipPath id=\"clipb1e998xyplot\" class=\"plotclip\"><rect width=\"590\" height=\"293\"/></clipPath><clipPath class=\"axesclip\" id=\"clipb1e998x\"><rect x=\"80\" y=\"0\" width=\"590\" height=\"500\"/></clipPath><clipPath class=\"axesclip\" id=\"clipb1e998y\"><rect x=\"0\" y=\"100\" width=\"750\" height=\"293\"/></clipPath><clipPath class=\"axesclip\" id=\"clipb1e998xy\"><rect x=\"80\" y=\"100\" width=\"590\" height=\"293\"/></clipPath></g><g class=\"gradients\"/><g class=\"patterns\"/></defs><g class=\"bglayer\"><rect class=\"bg\" x=\"80\" y=\"100\" width=\"590\" height=\"293\" style=\"fill: rgb(229, 236, 246); fill-opacity: 1; stroke-width: 0;\"/></g><g class=\"layer-below\"><g class=\"imagelayer\"/><g class=\"shapelayer\"/></g><g class=\"cartesianlayer\"><g class=\"subplot xy\"><g class=\"layer-subplot\"><g class=\"shapelayer\"/><g class=\"imagelayer\"/></g><g class=\"minor-gridlayer\"><g class=\"x\"/><g class=\"y\"/></g><g class=\"gridlayer\"><g class=\"x\"/><g class=\"y\"><path class=\"ygrid crisp\" transform=\"translate(0,332.2)\" d=\"M80,0h590\" style=\"stroke: rgb(255, 255, 255); stroke-opacity: 1; stroke-width: 1px;\"/><path class=\"ygrid crisp\" transform=\"translate(0,271.4)\" d=\"M80,0h590\" style=\"stroke: rgb(255, 255, 255); stroke-opacity: 1; stroke-width: 1px;\"/><path class=\"ygrid crisp\" transform=\"translate(0,210.61)\" d=\"M80,0h590\" style=\"stroke: rgb(255, 255, 255); stroke-opacity: 1; stroke-width: 1px;\"/><path class=\"ygrid crisp\" transform=\"translate(0,149.81)\" d=\"M80,0h590\" style=\"stroke: rgb(255, 255, 255); stroke-opacity: 1; stroke-width: 1px;\"/></g></g><g class=\"zerolinelayer\"><path class=\"yzl zl crisp\" transform=\"translate(0,393)\" d=\"M80,0h590\" style=\"stroke: rgb(255, 255, 255); stroke-opacity: 1; stroke-width: 2px;\"/></g><g class=\"layer-between\"><g class=\"shapelayer\"/><g class=\"imagelayer\"/></g><path class=\"xlines-below\"/><path class=\"ylines-below\"/><g class=\"overlines-below\"/><g class=\"xaxislayer-below\"/><g class=\"yaxislayer-below\"/><g class=\"overaxes-below\"/><g class=\"overplot\"><g class=\"xy\" transform=\"translate(80,100)\" clip-path=\"url(#clipb1e998xyplot)\"><g class=\"barlayer mlayer\"><g class=\"trace bars\" style=\"opacity: 0.4;\"><g class=\"points\"><g class=\"point\"><path d=\"M2.95,293V14.65H26.55V293Z\" style=\"vector-effect: none; opacity: 1; stroke-width: 0.5px; fill: rgb(0, 0, 255); fill-opacity: 1; stroke: rgb(229, 236, 246); stroke-opacity: 1;\"/></g><g class=\"point\"><path d=\"M32.45,293V55.34H56.05V293Z\" style=\"vector-effect: none; opacity: 1; stroke-width: 0.5px; fill: rgb(0, 0, 255); fill-opacity: 1; stroke: rgb(229, 236, 246); stroke-opacity: 1;\"/></g><g class=\"point\"><path d=\"M61.95,293V67.1H85.55V293Z\" style=\"vector-effect: none; opacity: 1; stroke-width: 0.5px; fill: rgb(0, 0, 255); fill-opacity: 1; stroke: rgb(229, 236, 246); stroke-opacity: 1;\"/></g><g class=\"point\"><path d=\"M91.45,293V70.08H115.05V293Z\" style=\"vector-effect: none; opacity: 1; stroke-width: 0.5px; fill: rgb(0, 0, 255); fill-opacity: 1; stroke: rgb(229, 236, 246); stroke-opacity: 1;\"/></g><g class=\"point\"><path d=\"M120.95,293V75.87H144.55V293Z\" style=\"vector-effect: none; opacity: 1; stroke-width: 0.5px; fill: rgb(0, 0, 255); fill-opacity: 1; stroke: rgb(229, 236, 246); stroke-opacity: 1;\"/></g><g class=\"point\"><path d=\"M150.45,293V77.01H174.05V293Z\" style=\"vector-effect: none; opacity: 1; stroke-width: 0.5px; fill: rgb(0, 0, 255); fill-opacity: 1; stroke: rgb(229, 236, 246); stroke-opacity: 1;\"/></g><g class=\"point\"><path d=\"M179.95,293V79.39H203.55V293Z\" style=\"vector-effect: none; opacity: 1; stroke-width: 0.5px; fill: rgb(0, 0, 255); fill-opacity: 1; stroke: rgb(229, 236, 246); stroke-opacity: 1;\"/></g><g class=\"point\"><path d=\"M209.45,293V80.21H233.05V293Z\" style=\"vector-effect: none; opacity: 1; stroke-width: 0.5px; fill: rgb(0, 0, 255); fill-opacity: 1; stroke: rgb(229, 236, 246); stroke-opacity: 1;\"/></g><g class=\"point\"><path d=\"M238.95,293V81.13H262.55V293Z\" style=\"vector-effect: none; opacity: 1; stroke-width: 0.5px; fill: rgb(0, 0, 255); fill-opacity: 1; stroke: rgb(229, 236, 246); stroke-opacity: 1;\"/></g><g class=\"point\"><path d=\"M268.45,293V82.8H292.05V293Z\" style=\"vector-effect: none; opacity: 1; stroke-width: 0.5px; fill: rgb(0, 0, 255); fill-opacity: 1; stroke: rgb(229, 236, 246); stroke-opacity: 1;\"/></g></g></g><g class=\"trace bars\" style=\"opacity: 0.4;\"><g class=\"points\"><g class=\"point\"><path d=\"M297.95,293V280.23H321.55V293Z\" style=\"vector-effect: none; opacity: 1; stroke-width: 0.5px; fill: rgb(255, 0, 0); fill-opacity: 1; stroke: rgb(229, 236, 246); stroke-opacity: 1;\"/></g><g class=\"point\"><path d=\"M327.45,293V282.33H351.05V293Z\" style=\"vector-effect: none; opacity: 1; stroke-width: 0.5px; fill: rgb(255, 0, 0); fill-opacity: 1; stroke: rgb(229, 236, 246); stroke-opacity: 1;\"/></g><g class=\"point\"><path d=\"M356.95,293V282.33H380.55V293Z\" style=\"vector-effect: none; opacity: 1; stroke-width: 0.5px; fill: rgb(255, 0, 0); fill-opacity: 1; stroke: rgb(229, 236, 246); stroke-opacity: 1;\"/></g><g class=\"point\"><path d=\"M386.45,293V285.4H410.05V293Z\" style=\"vector-effect: none; opacity: 1; stroke-width: 0.5px; fill: rgb(255, 0, 0); fill-opacity: 1; stroke: rgb(229, 236, 246); stroke-opacity: 1;\"/></g><g class=\"point\"><path d=\"M415.95,293V286.24H439.55V293Z\" style=\"vector-effect: none; opacity: 1; stroke-width: 0.5px; fill: rgb(255, 0, 0); fill-opacity: 1; stroke: rgb(229, 236, 246); stroke-opacity: 1;\"/></g><g class=\"point\"><path d=\"M445.45,293V286.24H469.05V293Z\" style=\"vector-effect: none; opacity: 1; stroke-width: 0.5px; fill: rgb(255, 0, 0); fill-opacity: 1; stroke: rgb(229, 236, 246); stroke-opacity: 1;\"/></g><g class=\"point\"><path d=\"M474.95,293V286.24H498.55V293Z\" style=\"vector-effect: none; opacity: 1; stroke-width: 0.5px; fill: rgb(255, 0, 0); fill-opacity: 1; stroke: rgb(229, 236, 246); stroke-opacity: 1;\"/></g><g class=\"point\"><path d=\"M504.45,293V286.24H528.05V293Z\" style=\"vector-effect: none; opacity: 1; stroke-width: 0.5px; fill: rgb(255, 0, 0); fill-opacity: 1; stroke: rgb(229, 236, 246); stroke-opacity: 1;\"/></g><g class=\"point\"><path d=\"M533.95,293V289.83H557.55V293Z\" style=\"vector-effect: none; opacity: 1; stroke-width: 0.5px; fill: rgb(255, 0, 0); fill-opacity: 1; stroke: rgb(229, 236, 246); stroke-opacity: 1;\"/></g><g class=\"point\"><path d=\"M563.45,293V289.83H587.05V293Z\" style=\"vector-effect: none; opacity: 1; stroke-width: 0.5px; fill: rgb(255, 0, 0); fill-opacity: 1; stroke: rgb(229, 236, 246); stroke-opacity: 1;\"/></g></g></g></g></g></g><path class=\"xlines-above crisp\" d=\"M0,0\" style=\"fill: none;\"/><path class=\"ylines-above crisp\" d=\"M0,0\" style=\"fill: none;\"/><g class=\"overlines-above\"/><g class=\"xaxislayer-above\"><g class=\"xtick\"><text text-anchor=\"start\" x=\"0\" y=\"406\" transform=\"translate(94.75,0) rotate(29.999999999999996,0,400)\" style=\"font-family: 'Open Sans', verdana, arial, sans-serif; font-size: 12px; fill: rgb(42, 63, 95); fill-opacity: 1; white-space: pre; opacity: 1;\">Feminist Film</text></g><g class=\"xtick\"><text text-anchor=\"start\" x=\"0\" y=\"406\" transform=\"translate(124.25,0) rotate(29.999999999999996,0,400)\" style=\"font-family: 'Open Sans', verdana, arial, sans-serif; font-size: 12px; fill: rgb(42, 63, 95); fill-opacity: 1; white-space: pre; opacity: 1;\">Softcore Porn</text></g><g class=\"xtick\"><text text-anchor=\"start\" x=\"0\" y=\"406\" transform=\"translate(153.75,0) rotate(29.999999999999996,0,400)\" style=\"font-family: 'Open Sans', verdana, arial, sans-serif; font-size: 12px; fill: rgb(42, 63, 95); fill-opacity: 1; white-space: pre; opacity: 1;\">Rockumentary</text></g><g class=\"xtick\"><text text-anchor=\"start\" x=\"0\" y=\"406\" transform=\"translate(183.25,0) rotate(29.999999999999996,0,400)\" style=\"font-family: 'Open Sans', verdana, arial, sans-serif; font-size: 12px; fill: rgb(42, 63, 95); fill-opacity: 1; white-space: pre; opacity: 1;\">Film &amp; Television History</text></g><g class=\"xtick\"><text text-anchor=\"start\" x=\"0\" y=\"406\" transform=\"translate(212.75,0) rotate(29.999999999999996,0,400)\" style=\"font-family: 'Open Sans', verdana, arial, sans-serif; font-size: 12px; fill: rgb(42, 63, 95); fill-opacity: 1; white-space: pre; opacity: 1;\">Gender Issues</text></g><g class=\"xtick\"><text text-anchor=\"start\" x=\"0\" y=\"406\" transform=\"translate(242.25,0) rotate(29.999999999999996,0,400)\" style=\"font-family: 'Open Sans', verdana, arial, sans-serif; font-size: 12px; fill: rgb(42, 63, 95); fill-opacity: 1; white-space: pre; opacity: 1;\">Social issues</text></g><g class=\"xtick\"><text text-anchor=\"start\" x=\"0\" y=\"406\" transform=\"translate(271.75,0) rotate(29.999999999999996,0,400)\" style=\"font-family: 'Open Sans', verdana, arial, sans-serif; font-size: 12px; fill: rgb(42, 63, 95); fill-opacity: 1; white-space: pre; opacity: 1;\">Concert film</text></g><g class=\"xtick\"><text text-anchor=\"start\" x=\"0\" y=\"406\" transform=\"translate(301.25,0) rotate(29.999999999999996,0,400)\" style=\"font-family: 'Open Sans', verdana, arial, sans-serif; font-size: 12px; fill: rgb(42, 63, 95); fill-opacity: 1; white-space: pre; opacity: 1;\">Culture &amp; Society</text></g><g class=\"xtick\"><text text-anchor=\"start\" x=\"0\" y=\"406\" transform=\"translate(330.75,0) rotate(29.999999999999996,0,400)\" style=\"font-family: 'Open Sans', verdana, arial, sans-serif; font-size: 12px; fill: rgb(42, 63, 95); fill-opacity: 1; white-space: pre; opacity: 1;\">Stand-up comedy</text></g><g class=\"xtick\"><text text-anchor=\"start\" x=\"0\" y=\"406\" transform=\"translate(360.25,0) rotate(29.999999999999996,0,400)\" style=\"font-family: 'Open Sans', verdana, arial, sans-serif; font-size: 12px; fill: rgb(42, 63, 95); fill-opacity: 1; white-space: pre; opacity: 1;\">Pornographic movie</text></g><g class=\"xtick\"><text text-anchor=\"start\" x=\"0\" y=\"406\" transform=\"translate(389.75,0) rotate(29.999999999999996,0,400)\" style=\"font-family: 'Open Sans', verdana, arial, sans-serif; font-size: 12px; fill: rgb(42, 63, 95); fill-opacity: 1; white-space: pre; opacity: 1;\">Spaghetti Western</text></g><g class=\"xtick\"><text text-anchor=\"start\" x=\"0\" y=\"406\" transform=\"translate(419.25,0) rotate(29.999999999999996,0,400)\" style=\"font-family: 'Open Sans', verdana, arial, sans-serif; font-size: 12px; fill: rgb(42, 63, 95); fill-opacity: 1; white-space: pre; opacity: 1;\">B-Western</text></g><g class=\"xtick\"><text text-anchor=\"start\" x=\"0\" y=\"406\" transform=\"translate(448.75,0) rotate(29.999999999999996,0,400)\" style=\"font-family: 'Open Sans', verdana, arial, sans-serif; font-size: 12px; fill: rgb(42, 63, 95); fill-opacity: 1; white-space: pre; opacity: 1;\">Science fiction Western</text></g><g class=\"xtick\"><text text-anchor=\"start\" x=\"0\" y=\"406\" transform=\"translate(478.25,0) rotate(29.999999999999996,0,400)\" style=\"font-family: 'Open Sans', verdana, arial, sans-serif; font-size: 12px; fill: rgb(42, 63, 95); fill-opacity: 1; white-space: pre; opacity: 1;\">Samurai cinema</text></g><g class=\"xtick\"><text text-anchor=\"start\" x=\"0\" y=\"406\" transform=\"translate(507.75,0) rotate(29.999999999999996,0,400)\" style=\"font-family: 'Open Sans', verdana, arial, sans-serif; font-size: 12px; fill: rgb(42, 63, 95); fill-opacity: 1; white-space: pre; opacity: 1;\">Tollywood</text></g><g class=\"xtick\"><text text-anchor=\"start\" x=\"0\" y=\"406\" transform=\"translate(537.25,0) rotate(29.999999999999996,0,400)\" style=\"font-family: 'Open Sans', verdana, arial, sans-serif; font-size: 12px; fill: rgb(42, 63, 95); fill-opacity: 1; white-space: pre; opacity: 1;\">Prison film</text></g><g class=\"xtick\"><text text-anchor=\"start\" x=\"0\" y=\"406\" transform=\"translate(566.75,0) rotate(29.999999999999996,0,400)\" style=\"font-family: 'Open Sans', verdana, arial, sans-serif; font-size: 12px; fill: rgb(42, 63, 95); fill-opacity: 1; white-space: pre; opacity: 1;\">Bloopers &amp; Candid Camera</text></g><g class=\"xtick\"><text text-anchor=\"start\" x=\"0\" y=\"406\" transform=\"translate(596.25,0) rotate(29.999999999999996,0,400)\" style=\"font-family: 'Open Sans', verdana, arial, sans-serif; font-size: 12px; fill: rgb(42, 63, 95); fill-opacity: 1; white-space: pre; opacity: 1;\">Humour</text></g><g class=\"xtick\"><text text-anchor=\"start\" x=\"0\" y=\"406\" transform=\"translate(625.75,0) rotate(29.999999999999996,0,400)\" style=\"font-family: 'Open Sans', verdana, arial, sans-serif; font-size: 12px; fill: rgb(42, 63, 95); fill-opacity: 1; white-space: pre; opacity: 1;\">Combat Films</text></g><g class=\"xtick\"><text text-anchor=\"start\" x=\"0\" y=\"406\" transform=\"translate(655.25,0) rotate(29.999999999999996,0,400)\" style=\"font-family: 'Open Sans', verdana, arial, sans-serif; font-size: 12px; fill: rgb(42, 63, 95); fill-opacity: 1; white-space: pre; opacity: 1;\">Cavalry Film</text></g></g><g class=\"yaxislayer-above\"><g class=\"ytick\"><text text-anchor=\"end\" x=\"79\" y=\"4.199999999999999\" transform=\"translate(0,393)\" style=\"font-family: 'Open Sans', verdana, arial, sans-serif; font-size: 12px; fill: rgb(0, 0, 0); fill-opacity: 1; white-space: pre; opacity: 1;\">0</text></g><g class=\"ytick\"><text text-anchor=\"end\" x=\"79\" y=\"4.199999999999999\" style=\"font-family: 'Open Sans', verdana, arial, sans-serif; font-size: 12px; fill: rgb(0, 0, 0); fill-opacity: 1; white-space: pre; opacity: 1;\" transform=\"translate(0,332.2)\">0.2</text></g><g class=\"ytick\"><text text-anchor=\"end\" x=\"79\" y=\"4.199999999999999\" style=\"font-family: 'Open Sans', verdana, arial, sans-serif; font-size: 12px; fill: rgb(0, 0, 0); fill-opacity: 1; white-space: pre; opacity: 1;\" transform=\"translate(0,271.4)\">0.4</text></g><g class=\"ytick\"><text text-anchor=\"end\" x=\"79\" y=\"4.199999999999999\" style=\"font-family: 'Open Sans', verdana, arial, sans-serif; font-size: 12px; fill: rgb(0, 0, 0); fill-opacity: 1; white-space: pre; opacity: 1;\" transform=\"translate(0,210.61)\">0.6</text></g><g class=\"ytick\"><text text-anchor=\"end\" x=\"79\" y=\"4.199999999999999\" style=\"font-family: 'Open Sans', verdana, arial, sans-serif; font-size: 12px; fill: rgb(0, 0, 0); fill-opacity: 1; white-space: pre; opacity: 1;\" transform=\"translate(0,149.81)\">0.8</text></g></g><g class=\"overaxes-above\"/></g></g><g class=\"polarlayer\"/><g class=\"smithlayer\"/><g class=\"ternarylayer\"/><g class=\"geolayer\"/><g class=\"funnelarealayer\"/><g class=\"pielayer\"/><g class=\"iciclelayer\"/><g class=\"treemaplayer\"/><g class=\"sunburstlayer\"/><g class=\"glimages\"/><defs id=\"topdefs-b1e998\"><g class=\"clips\"/><clipPath id=\"legendb1e998\"><rect width=\"353\" height=\"29\" x=\"0\" y=\"0\"/></clipPath></defs><g class=\"layer-above\"><g class=\"imagelayer\"/><g class=\"shapelayer\"/></g><g class=\"infolayer\"><g class=\"legend\" pointer-events=\"all\" transform=\"translate(298.3,64.83999999999997)\"><rect class=\"bg\" shape-rendering=\"crispEdges\" width=\"353\" height=\"29\" x=\"0\" y=\"0\" style=\"stroke: rgb(68, 68, 68); stroke-opacity: 1; fill: rgb(0, 0, 0); fill-opacity: 0; stroke-width: 0px;\"/><g class=\"scrollbox\" transform=\"\" clip-path=\"url(#legendb1e998)\"><g class=\"groups\"><g class=\"traces\" transform=\"translate(0,14.5)\" style=\"opacity: 1;\"><text class=\"legendtext\" text-anchor=\"start\" x=\"40\" y=\"4.680000000000001\" style=\"font-family: 'Open Sans', verdana, arial, sans-serif; font-size: 12px; fill: rgb(42, 63, 95); fill-opacity: 1; white-space: pre;\">Most inclusive genres</text><g class=\"layers\" style=\"opacity: 0.4;\"><g class=\"legendfill\"/><g class=\"legendlines\"/><g class=\"legendsymbols\"><g class=\"legendpoints\"><path class=\"legendundefined\" d=\"M6,6H-6V-6H6Z\" transform=\"translate(20,0)\" style=\"stroke-width: 0.5px; fill: rgb(0, 0, 255); fill-opacity: 1; stroke: rgb(229, 236, 246); stroke-opacity: 1;\"/></g></g></g><rect class=\"legendtoggle\" x=\"0\" y=\"-9.5\" width=\"171.875\" height=\"19\" style=\"fill: rgb(0, 0, 0); fill-opacity: 0;\"/></g><g class=\"traces\" transform=\"translate(174.375,14.5)\" style=\"opacity: 1;\"><text class=\"legendtext\" text-anchor=\"start\" x=\"40\" y=\"4.680000000000001\" style=\"font-family: 'Open Sans', verdana, arial, sans-serif; font-size: 12px; fill: rgb(42, 63, 95); fill-opacity: 1; white-space: pre;\">Least inclusive genres</text><g class=\"layers\" style=\"opacity: 0.4;\"><g class=\"legendfill\"/><g class=\"legendlines\"/><g class=\"legendsymbols\"><g class=\"legendpoints\"><path class=\"legendundefined\" d=\"M6,6H-6V-6H6Z\" transform=\"translate(20,0)\" style=\"stroke-width: 0.5px; fill: rgb(255, 0, 0); fill-opacity: 1; stroke: rgb(229, 236, 246); stroke-opacity: 1;\"/></g></g></g><rect class=\"legendtoggle\" x=\"0\" y=\"-9.5\" width=\"175.515625\" height=\"19\" style=\"fill: rgb(0, 0, 0); fill-opacity: 0;\"/></g></g></g><rect class=\"scrollbar\" rx=\"20\" ry=\"3\" width=\"0\" height=\"0\" x=\"0\" y=\"0\" style=\"fill: rgb(128, 139, 164); fill-opacity: 1;\"/></g><g class=\"g-gtitle\"><text class=\"gtitle\" x=\"37.5\" y=\"50\" text-anchor=\"start\" dy=\"0em\" style=\"opacity: 1; font-family: 'Open Sans', verdana, arial, sans-serif; font-size: 17px; fill: rgb(42, 63, 95); fill-opacity: 1; white-space: pre;\"><tspan class=\"line\" dy=\"0em\" x=\"37.5\" y=\"50\">Gender distribution of first role in different genres </tspan><tspan class=\"line\" dy=\"1.3em\" x=\"37.5\" y=\"50\"><tspan style=\"font-size: 12px;\">(for genre with >20 actors/actresses)</tspan></tspan></text></g><g class=\"g-xtitle\"/><g class=\"g-ytitle\"><text class=\"ytitle\" transform=\"rotate(-90,39.975,246.5)\" x=\"39.975\" y=\"246.5\" text-anchor=\"middle\" style=\"opacity: 1; font-family: 'Open Sans', verdana, arial, sans-serif; font-size: 14px; fill: rgb(0, 0, 0); fill-opacity: 1; white-space: pre;\">Ratio of women</text></g></g></svg>"
      ]
     },
     "metadata": {},
     "output_type": "display_data"
    }
   ],
   "source": [
    "values = [v[2] for v in genre_dict_first.values()]\n",
    "fig = go.Figure()\n",
    "fig.update_layout(\n",
    "    autosize=False,\n",
    "    width=750,\n",
    "    height=500,\n",
    ")\n",
    "fig.add_trace(\n",
    "    go.Bar(\n",
    "        x=list(genre_dict_first.keys())[:10],\n",
    "        y=values[:10],\n",
    "        marker_color=\"blue\",\n",
    "        opacity=0.4,\n",
    "        name=\"Most inclusive genres\",\n",
    "    )\n",
    ")\n",
    "\n",
    "fig.add_trace(\n",
    "    go.Bar(\n",
    "        x=list(genre_dict_first.keys())[len(values)-10:],\n",
    "        y=values[len(values)-10:],\n",
    "        marker_color=\"red\",\n",
    "        opacity=0.4,\n",
    "        name=\"Least inclusive genres\",\n",
    "    )\n",
    ")\n",
    "\n",
    "fig.update_layout(\n",
    "    title=\"Gender distribution of first role in different genres <br><span style='font-size: 12px;'>(for genre with >20 actors/actresses)</span>\",\n",
    "    yaxis=dict(title=\"Ratio of women\", titlefont=dict(color=\"black\"), tickfont=dict(color=\"black\")),\n",
    "    legend=dict(x=0.37, y=1.12, orientation=\"h\", bgcolor=\"rgba(0,0,0,0)\"),\n",
    ")\n",
    "\n",
    "fig.show(\"svg\")\n",
    "fig.write_html(data_folder + \"first_role_genre.html\")"
   ]
  },
  {
   "cell_type": "code",
   "execution_count": 32,
   "metadata": {},
   "outputs": [],
   "source": [
    "erotic_genres = ['Sex comedy','Erotica','Erotic thriller','Pornographic movie','Adult','Erotic Drama','Sexploitation','Softcore Porn','Gay pornography','Hardcore pornography','Pornography']\n",
    "war_genres = [\"War film\"]\n",
    "religious_genres = [\"Religious Film\"]\n",
    "romantic_genres = [\"Romantic drama\", \"Romantic comedy, Romance Film\"]"
   ]
  },
  {
   "cell_type": "code",
   "execution_count": 33,
   "metadata": {},
   "outputs": [
    {
     "name": "stdout",
     "output_type": "stream",
     "text": [
      "erotic\n",
      "Actor_gender\n",
      "F    8.138528\n",
      "M    9.299870\n",
      "Name: Years_to_1st, dtype: float64\n",
      "\n",
      "war\n",
      "Actor_gender\n",
      "F    8.434866\n",
      "M    9.509904\n",
      "Name: Years_to_1st, dtype: float64\n",
      "\n",
      "religious\n",
      "Actor_gender\n",
      "F    8.750000\n",
      "M    9.459459\n",
      "Name: Years_to_1st, dtype: float64\n",
      "\n",
      "romantic\n",
      "Actor_gender\n",
      "F    8.473399\n",
      "M    9.291090\n",
      "Name: Years_to_1st, dtype: float64\n",
      "\n"
     ]
    }
   ],
   "source": [
    "#here is an analysis of the number of years to 1st role by movie genre\n",
    "print('erotic')\n",
    "print(df_chara_small[df_chara_small[\"Movie_genres\"].apply(lambda x: any(i in x for i in erotic_genres) if type(x) == list else False)].groupby(\"Actor_gender\")[\"Years_to_1st\"].mean())\n",
    "print('')\n",
    "print('war')\n",
    "print(df_chara_small[df_chara_small[\"Movie_genres\"].apply(lambda x: any(i in x for i in war_genres) if type(x) == list else False)].groupby(\"Actor_gender\")[\"Years_to_1st\"].mean())\n",
    "print('')\n",
    "print('religious')\n",
    "print(df_chara_small[df_chara_small[\"Movie_genres\"].apply(lambda x: any(i in x for i in religious_genres) if type(x) == list else False)].groupby(\"Actor_gender\")[\"Years_to_1st\"].mean())\n",
    "print('')\n",
    "print('romantic')\n",
    "print(df_chara_small[df_chara_small[\"Movie_genres\"].apply(lambda x: any(i in x for i in romantic_genres) if type(x) == list else False)].groupby(\"Actor_gender\")[\"Years_to_1st\"].mean())\n",
    "print('')"
   ]
  },
  {
   "cell_type": "code",
   "execution_count": 34,
   "metadata": {},
   "outputs": [
    {
     "data": {
      "text/plain": [
       "Counter({'Drama': 15918,\n",
       "         'Comedy': 8152,\n",
       "         'Romance Film': 5971,\n",
       "         'Thriller': 5524,\n",
       "         'Action': 4926,\n",
       "         'World cinema': 4917,\n",
       "         'Crime Fiction': 3729,\n",
       "         'Action/Adventure': 3159,\n",
       "         'Horror': 3090,\n",
       "         'Indie': 2999,\n",
       "         'Black-and-white': 2839,\n",
       "         'Adventure': 2466,\n",
       "         'Romantic drama': 2401,\n",
       "         'Musical': 2016,\n",
       "         'Romantic comedy': 1948,\n",
       "         'Mystery': 1802,\n",
       "         'Science Fiction': 1638,\n",
       "         'Crime Thriller': 1532,\n",
       "         'Family Film': 1445,\n",
       "         'Fantasy': 1333,\n",
       "         'War film': 1305,\n",
       "         'Period piece': 1174,\n",
       "         'Comedy-drama': 1166,\n",
       "         'Film adaptation': 1085,\n",
       "         'Bollywood': 1042,\n",
       "         'Psychological thriller': 1012,\n",
       "         'Comedy film': 991,\n",
       "         'Chinese Movies': 907,\n",
       "         'Western': 846,\n",
       "         'Japanese Movies': 841,\n",
       "         'Black comedy': 769,\n",
       "         'LGBT': 726,\n",
       "         'Teen': 676,\n",
       "         'Parody': 667,\n",
       "         'Coming of age': 666,\n",
       "         'Family Drama': 646,\n",
       "         'Martial Arts Film': 641,\n",
       "         'Silent film': 631,\n",
       "         'Cult': 615,\n",
       "         'Suspense': 588,\n",
       "         'Slasher': 536,\n",
       "         'Sports': 534,\n",
       "         'Film noir': 505,\n",
       "         'Biographical film': 489,\n",
       "         'Supernatural': 485,\n",
       "         'Satire': 483,\n",
       "         'Political drama': 460,\n",
       "         'Biography': 442,\n",
       "         'Melodrama': 436,\n",
       "         'Slapstick': 389,\n",
       "         'Crime Drama': 363,\n",
       "         'Art film': 341,\n",
       "         'Action Thrillers': 336,\n",
       "         'Ensemble Film': 335,\n",
       "         'Documentary': 329,\n",
       "         \"Children's/Family\": 315,\n",
       "         'Gangster Film': 312,\n",
       "         'Spy': 311,\n",
       "         'Buddy film': 311,\n",
       "         'B-movie': 303,\n",
       "         'Costume drama': 298,\n",
       "         'Biopic [feature]': 293,\n",
       "         'Creature Film': 277,\n",
       "         'History': 268,\n",
       "         'Road movie': 251,\n",
       "         'Detective': 249,\n",
       "         'Animation': 242,\n",
       "         'Historical fiction': 240,\n",
       "         'Screwball comedy': 236,\n",
       "         'Gay Themed': 235,\n",
       "         'Sex comedy': 234,\n",
       "         'Music': 228,\n",
       "         'Crime Comedy': 220,\n",
       "         'Comedy of manners': 206,\n",
       "         'Gay': 197,\n",
       "         'Detective fiction': 196,\n",
       "         'Gay Interest': 195,\n",
       "         'Filipino Movies': 189,\n",
       "         'Zombie Film': 185,\n",
       "         'Erotica': 181,\n",
       "         'Political thriller': 179,\n",
       "         'Epic': 177,\n",
       "         'Horror Comedy': 177,\n",
       "         'Superhero movie': 176,\n",
       "         'Docudrama': 173,\n",
       "         'Musical comedy': 167,\n",
       "         'Disaster': 165,\n",
       "         'Domestic Comedy': 161,\n",
       "         \"Children's\": 161,\n",
       "         'Courtroom Drama': 157,\n",
       "         'Comedy of Errors': 151,\n",
       "         'Fantasy Comedy': 151,\n",
       "         'Erotic thriller': 147,\n",
       "         'Heist': 137,\n",
       "         'Action Comedy': 134,\n",
       "         'Political cinema': 134,\n",
       "         'Monster movie': 133,\n",
       "         'Marriage Drama': 129,\n",
       "         'Pre-Code': 127,\n",
       "         'Musical Drama': 125,\n",
       "         'Fantasy Adventure': 125,\n",
       "         'Family-Oriented Adventure': 121,\n",
       "         'Animal Picture': 112,\n",
       "         'Erotic Drama': 109,\n",
       "         'Adventure Comedy': 108,\n",
       "         'Natural horror films': 108,\n",
       "         \"Children's Fantasy\": 102,\n",
       "         'Sci-Fi Horror': 101,\n",
       "         'Doomsday film': 101,\n",
       "         'Monster': 100,\n",
       "         'Childhood Drama': 100,\n",
       "         'Chase Movie': 91,\n",
       "         'Culture & Society': 91,\n",
       "         'Swashbuckler films': 90,\n",
       "         'Christian film': 87,\n",
       "         'New Hollywood': 86,\n",
       "         'Americana': 85,\n",
       "         'Surrealism': 83,\n",
       "         'Slice of life story': 83,\n",
       "         'Adult': 82,\n",
       "         'Combat Films': 81,\n",
       "         'Workplace Comedy': 81,\n",
       "         'Experimental film': 80,\n",
       "         'Remake': 80,\n",
       "         'Prison': 77,\n",
       "         'Historical drama': 77,\n",
       "         'Comedy Thriller': 77,\n",
       "         'Caper story': 77,\n",
       "         'Wuxia': 76,\n",
       "         'Tragedy': 76,\n",
       "         'Absurdism': 74,\n",
       "         'Alien Film': 74,\n",
       "         'Social problem film': 73,\n",
       "         'Stop motion': 73,\n",
       "         'Political satire': 72,\n",
       "         'Blaxploitation': 71,\n",
       "         'Time travel': 71,\n",
       "         'Superhero': 69,\n",
       "         'Sexploitation': 68,\n",
       "         'Mockumentary': 68,\n",
       "         'Dystopia': 66,\n",
       "         'Pornographic movie': 65,\n",
       "         'Feminist Film': 65,\n",
       "         'Media Satire': 65,\n",
       "         'Avant-garde': 64,\n",
       "         'Costume Adventure': 61,\n",
       "         'Computer Animation': 60,\n",
       "         'Dance': 60,\n",
       "         'Tamil cinema': 60,\n",
       "         'Gothic Film': 58,\n",
       "         'Neo-noir': 57,\n",
       "         'Historical Epic': 56,\n",
       "         'Short Film': 56,\n",
       "         'Romantic fantasy': 56,\n",
       "         'Jungle Film': 56,\n",
       "         'Religious Film': 55,\n",
       "         'Revisionist Western': 55,\n",
       "         'Gross-out film': 53,\n",
       "         'Gross out': 53,\n",
       "         'Spaghetti Western': 53,\n",
       "         'Costume Horror': 52,\n",
       "         'Haunted House Film': 52,\n",
       "         'Airplanes and airports': 49,\n",
       "         'Tragicomedy': 48,\n",
       "         'Comedy Western': 48,\n",
       "         'Anime': 48,\n",
       "         'Christmas movie': 47,\n",
       "         'Boxing': 47,\n",
       "         'Medical fiction': 46,\n",
       "         'Glamorized Spy Film': 45,\n",
       "         'Propaganda film': 43,\n",
       "         'Stoner film': 43,\n",
       "         'Escape Film': 40,\n",
       "         'Auto racing': 40,\n",
       "         'Softcore Porn': 38,\n",
       "         'Social issues': 38,\n",
       "         'Juvenile Delinquency Film': 36,\n",
       "         'Holiday Film': 36,\n",
       "         'Addiction Drama': 36,\n",
       "         'Existentialism': 34,\n",
       "         'Whodunit': 33,\n",
       "         'Roadshow theatrical release': 32,\n",
       "         'Tollywood': 31,\n",
       "         'Anti-war': 31,\n",
       "         'Anti-war film': 30,\n",
       "         'Sword and sorcery': 28,\n",
       "         'Television movie': 28,\n",
       "         'Rockumentary': 28,\n",
       "         'Film à clef': 27,\n",
       "         'Sword and sorcery films': 27,\n",
       "         'Apocalyptic and post-apocalyptic fiction': 26,\n",
       "         'Samurai cinema': 26,\n",
       "         'Master Criminal Films': 26,\n",
       "         'Steampunk': 25,\n",
       "         'Hybrid Western': 24,\n",
       "         'Hip hop movies': 24,\n",
       "         'Giallo': 23,\n",
       "         'Future noir': 23,\n",
       "         'Splatter film': 23,\n",
       "         'Heavenly Comedy': 22,\n",
       "         'Crime': 22,\n",
       "         'Sci-Fi Adventure': 21,\n",
       "         'Biker Film': 20,\n",
       "         'British Empire Film': 20,\n",
       "         'Backstage Musical': 20,\n",
       "         'Punk rock': 20,\n",
       "         'Inspirational Drama': 19,\n",
       "         'Mythological Fantasy': 19,\n",
       "         'B-Western': 18,\n",
       "         'Indian Western': 18,\n",
       "         'Heaven-Can-Wait Fantasies': 17,\n",
       "         'Road-Horror': 17,\n",
       "         'Hagiography': 16,\n",
       "         'Dogme 95': 16,\n",
       "         'Beach Film': 16,\n",
       "         'Comedy horror': 15,\n",
       "         'Epic Western': 15,\n",
       "         'Law & Crime': 15,\n",
       "         'Kitchen sink realism': 14,\n",
       "         'Albino bias': 14,\n",
       "         'Fantasy Drama': 14,\n",
       "         'Women in prison films': 13,\n",
       "         'British New Wave': 13,\n",
       "         'Pinku eiga': 13,\n",
       "         'Film': 13,\n",
       "         'Space western': 12,\n",
       "         'Natural disaster': 12,\n",
       "         'Malayalam Cinema': 12,\n",
       "         'Sword and Sandal': 12,\n",
       "         'Outlaw biker film': 12,\n",
       "         'Prison film': 12,\n",
       "         'Ealing Comedies': 12,\n",
       "         'Cavalry Film': 11,\n",
       "         'Buddy cop': 11,\n",
       "         'Filipino': 10,\n",
       "         'Archaeology': 10,\n",
       "         'Stand-up comedy': 10,\n",
       "         'Psycho-biddy': 10,\n",
       "         'Fairy tale': 10,\n",
       "         'Bengali Cinema': 10,\n",
       "         'Gay pornography': 9,\n",
       "         'Foreign legion': 9,\n",
       "         'Movie serial': 9,\n",
       "         'Interpersonal Relationships': 9,\n",
       "         'Baseball': 9,\n",
       "         'Travel': 9,\n",
       "         'Cold War': 9,\n",
       "         'Nature': 9,\n",
       "         'Legal drama': 8,\n",
       "         'Horse racing': 8,\n",
       "         'Exploitation': 8,\n",
       "         'Film & Television History': 8,\n",
       "         'Gender Issues': 8,\n",
       "         'Concert film': 8,\n",
       "         'Czechoslovak New Wave': 7,\n",
       "         'Mumblecore': 7,\n",
       "         'Jukebox musical': 7,\n",
       "         'Essay Film': 7,\n",
       "         'Acid western': 7,\n",
       "         'Reboot': 7,\n",
       "         'Anthology': 7,\n",
       "         'Hardcore pornography': 6,\n",
       "         'Feature film': 6,\n",
       "         'Animated cartoon': 6,\n",
       "         'Family & Personal Relationships': 6,\n",
       "         'Courtroom Comedy': 6,\n",
       "         'Extreme Sports': 6,\n",
       "         'Fictional film': 6,\n",
       "         'Kafkaesque': 6,\n",
       "         'Northern': 6,\n",
       "         'Archives and records': 6,\n",
       "         'Space opera': 5,\n",
       "         'Libraries and librarians': 5,\n",
       "         'Demonic child': 5,\n",
       "         'Animated Musical': 5,\n",
       "         'Parkour in popular culture': 5,\n",
       "         'Outlaw': 5,\n",
       "         'Pornography': 4,\n",
       "         'Humour': 4,\n",
       "         'Werewolf fiction': 4,\n",
       "         'Movies About Gladiators': 4,\n",
       "         'Business': 4,\n",
       "         'Mondo film': 4,\n",
       "         'Plague': 4,\n",
       "         'Sci-Fi Thriller': 4,\n",
       "         'Early Black Cinema': 4,\n",
       "         'Cyberpunk': 4,\n",
       "         'Female buddy film': 4,\n",
       "         'Media Studies': 4,\n",
       "         'School story': 4,\n",
       "         'Animals': 4,\n",
       "         'Goat gland': 4,\n",
       "         'Therimin music': 4,\n",
       "         'Illnesses & Disabilities': 4,\n",
       "         'Alien invasion': 4,\n",
       "         'Camp': 3,\n",
       "         'Latino': 3,\n",
       "         'Instrumental Music': 3,\n",
       "         'Computers': 3,\n",
       "         'Science fiction Western': 3,\n",
       "         'Graphic & Applied Arts': 3,\n",
       "         'Operetta': 3,\n",
       "         'Inventions & Innovations': 3,\n",
       "         'Bruceploitation': 3,\n",
       "         'Supermarionation': 3,\n",
       "         'Gulf War': 3,\n",
       "         'Environmental Science': 3,\n",
       "         'Vampire movies': 3,\n",
       "         'Point of view shot': 3,\n",
       "         'Roadshow/Carny': 3,\n",
       "         'Singing cowboy': 3,\n",
       "         'Tokusatsu': 2,\n",
       "         'Star vehicle': 2,\n",
       "         'Revenge': 2,\n",
       "         'Conspiracy fiction': 2,\n",
       "         'Private military company': 2,\n",
       "         'Nuclear warfare': 2,\n",
       "         'Prison escape': 2,\n",
       "         'Live action': 2,\n",
       "         'Period Horror': 2,\n",
       "         'Bloopers & Candid Camera': 2,\n",
       "         'Psychological horror': 2,\n",
       "         'Filmed Play': 2,\n",
       "         'Coming-of-age film': 2,\n",
       "         'Beach Party film': 2,\n",
       "         'Educational': 2,\n",
       "         'Race movie': 2,\n",
       "         'Language & Literature': 2,\n",
       "         'Health & Fitness': 2,\n",
       "         'Expressionism': 2,\n",
       "         'Finance & Investing': 2,\n",
       "         'The Netherlands in World War II': 2,\n",
       "         'C-Movie': 1,\n",
       "         'Comdedy': 1,\n",
       "         'Breakdance': 1,\n",
       "         'War effort': 1,\n",
       "         'Anthropology': 1,\n",
       "         'Z movie': 1,\n",
       "         'Romantic thriller': 1,\n",
       "         'Patriotic film': 1,\n",
       "         'Film-Opera': 1,\n",
       "         'Chick flick': 1,\n",
       "         'News': 1,\n",
       "         'Education': 1,\n",
       "         'World History': 1,\n",
       "         'Ninja movie': 1,\n",
       "         'Buddy Picture': 1,\n",
       "         'Statutory rape': 1,\n",
       "         'Journalism': 1,\n",
       "         \"Children's Entertainment\": 1,\n",
       "         'New Queer Cinema': 1,\n",
       "         'Neorealism': 1,\n",
       "         'Revisionist Fairy Tale': 1,\n",
       "         'Homoeroticism': 1})"
      ]
     },
     "execution_count": 34,
     "metadata": {},
     "output_type": "execute_result"
    }
   ],
   "source": [
    "all_genres = [genre for sublist in df_movie['Movie_genres'] for genre in sublist]\n",
    "genre_counts = Counter(all_genres)\n",
    "genre_counts"
   ]
  },
  {
   "cell_type": "code",
   "execution_count": 35,
   "metadata": {},
   "outputs": [],
   "source": [
    "#analysing the ratio of number of years to 1st role between gender for all the genre \n",
    "def ratio_years_to_first(movie_genre):\n",
    "    manwoman = df_chara_small[df_chara_small[\"Movie_genres\"].apply(lambda x: movie_genre in x if type(x) == list else False)].groupby(\"Actor_gender\")[\"Years_to_1st\"].mean()\n",
    "    if len(manwoman) != 2 or math.isnan(manwoman[\"M\"]):\n",
    "        return np.nan\n",
    "    else:\n",
    "        return manwoman[\"M\"]/manwoman[\"F\"]\n",
    "    \n",
    "genres = list(set([item for sublist in df_movie[\"Movie_genres\"].tolist() for item in sublist]))\n",
    "\n",
    "dict_genres = {}\n",
    "for genre in genres:\n",
    "    dict_genres[genre] = [ratio_years_to_first(genre), genre_counts[genre]/(sum(genre_counts.values()))]"
   ]
  },
  {
   "cell_type": "code",
   "execution_count": 36,
   "metadata": {},
   "outputs": [
    {
     "data": {
      "text/plain": [
       "1.1458116609553506"
      ]
     },
     "execution_count": 36,
     "metadata": {},
     "output_type": "execute_result"
    }
   ],
   "source": [
    "dict(sorted(dict_genres.items(), key=lambda item: item[1][1], reverse=True))\n",
    "\n",
    "weighted_ratio = {}\n",
    "for key in dict_genres.keys():\n",
    "    weighted_ratio[key] = dict_genres[key][0] * dict_genres[key][1]\n",
    "np.nansum(list(weighted_ratio.values()))"
   ]
  },
  {
   "cell_type": "code",
   "execution_count": 37,
   "metadata": {},
   "outputs": [
    {
     "name": "stderr",
     "output_type": "stream",
     "text": [
      "/var/folders/4l/yz8mrkq91sl802y_wzywbvnc0000gn/T/ipykernel_72426/97674991.py:2: SettingWithCopyWarning:\n",
      "\n",
      "\n",
      "A value is trying to be set on a copy of a slice from a DataFrame.\n",
      "Try using .loc[row_indexer,col_indexer] = value instead\n",
      "\n",
      "See the caveats in the documentation: https://pandas.pydata.org/pandas-docs/stable/user_guide/indexing.html#returning-a-view-versus-a-copy\n",
      "\n"
     ]
    },
    {
     "data": {
      "text/plain": [
       "Actor_gender\n",
       "F    2.673256\n",
       "M    3.439831\n",
       "Name: Number_movies_1st, dtype: float64"
      ]
     },
     "execution_count": 37,
     "metadata": {},
     "output_type": "execute_result"
    }
   ],
   "source": [
    "#shows on average the number of films with first role per gender\n",
    "df_chara_small[\"Number_movies_1st\"] = df_chara_small[\"Movie_release_date_1st_role\"].apply(lambda x: len(x) if type(x) == list else np.nan)\n",
    "df_chara_small.groupby(\"Actor_gender\")[\"Number_movies_1st\"].mean()"
   ]
  },
  {
   "cell_type": "code",
   "execution_count": 38,
   "metadata": {},
   "outputs": [
    {
     "data": {
      "text/html": [
       "<div>\n",
       "<style scoped>\n",
       "    .dataframe tbody tr th:only-of-type {\n",
       "        vertical-align: middle;\n",
       "    }\n",
       "\n",
       "    .dataframe tbody tr th {\n",
       "        vertical-align: top;\n",
       "    }\n",
       "\n",
       "    .dataframe thead th {\n",
       "        text-align: right;\n",
       "    }\n",
       "</style>\n",
       "<table border=\"1\" class=\"dataframe\">\n",
       "  <thead>\n",
       "    <tr style=\"text-align: right;\">\n",
       "      <th></th>\n",
       "      <th>Actor_name</th>\n",
       "      <th>Wikipedia_movie_ID</th>\n",
       "      <th>Movie_release_date</th>\n",
       "      <th>Actor_date_of_birth</th>\n",
       "      <th>Actor_gender</th>\n",
       "      <th>Actor_age_at_movie_release</th>\n",
       "      <th>Starting_career</th>\n",
       "      <th>Movie_release_date_1st_role</th>\n",
       "      <th>Years_to_1st</th>\n",
       "      <th>Movie_genres</th>\n",
       "      <th>Number_movies_1st</th>\n",
       "    </tr>\n",
       "  </thead>\n",
       "  <tbody>\n",
       "    <tr>\n",
       "      <th>85720</th>\n",
       "      <td>Scarlett Johansson</td>\n",
       "      <td>[22144721, 22144721, 11723307, 1599839, 595971...</td>\n",
       "      <td>[2010.0, 2010.0, 1999.0, 2004.0, 2003.0, 2001....</td>\n",
       "      <td>1984-11-22</td>\n",
       "      <td>F</td>\n",
       "      <td>[25.0, 25.0, 14.0, 20.0, 18.0, 16.0, 11.0, 21....</td>\n",
       "      <td>1994.0</td>\n",
       "      <td>[1999, 2007, 2003, 1996, 2005, 2004, 2006, 200...</td>\n",
       "      <td>2.0</td>\n",
       "      <td>[Costume drama, History, Period piece, Drama, ...</td>\n",
       "      <td>9.0</td>\n",
       "    </tr>\n",
       "  </tbody>\n",
       "</table>\n",
       "</div>"
      ],
      "text/plain": [
       "               Actor_name                                 Wikipedia_movie_ID  \\\n",
       "85720  Scarlett Johansson  [22144721, 22144721, 11723307, 1599839, 595971...   \n",
       "\n",
       "                                      Movie_release_date Actor_date_of_birth  \\\n",
       "85720  [2010.0, 2010.0, 1999.0, 2004.0, 2003.0, 2001....          1984-11-22   \n",
       "\n",
       "      Actor_gender                         Actor_age_at_movie_release  \\\n",
       "85720            F  [25.0, 25.0, 14.0, 20.0, 18.0, 16.0, 11.0, 21....   \n",
       "\n",
       "       Starting_career                        Movie_release_date_1st_role  \\\n",
       "85720           1994.0  [1999, 2007, 2003, 1996, 2005, 2004, 2006, 200...   \n",
       "\n",
       "       Years_to_1st                                       Movie_genres  \\\n",
       "85720           2.0  [Costume drama, History, Period piece, Drama, ...   \n",
       "\n",
       "       Number_movies_1st  \n",
       "85720                9.0  "
      ]
     },
     "execution_count": 38,
     "metadata": {},
     "output_type": "execute_result"
    }
   ],
   "source": [
    "#checking with famous actresses. She has 9 films as first role\n",
    "df_chara_small[df_chara_small[\"Actor_name\"] == \"Scarlett Johansson\"]"
   ]
  },
  {
   "cell_type": "code",
   "execution_count": 56,
   "metadata": {},
   "outputs": [
    {
     "name": "stdout",
     "output_type": "stream",
     "text": [
      "12\n",
      "13\n",
      "Average number of films as 1st role for world main actress 10.666666666666666\n",
      "Average number of films as 1st role for world main actors 18.333333333333332\n"
     ]
    }
   ],
   "source": [
    "#doing some analysis between the most famous actors/actresses. To see how they compare. \n",
    "famous_actress = [\"Scarlett Johansson\", \"Jennifer Lawrence\", \"Angelina Jolie\", \"Meryl Streep\", \"Julia Roberts\", \"Cate Blanchett\", \"Nicole Kidman\", \"Charlize Theron\", \"Natalie Portman\", \"Emma Stone\", \"Anne Hathaway\", \"Sandra Bullock\"] #\"Reese Witherspoon\", \"Jessica Chastain\", \"Keira Knightley\", \"Kate Winslet\", \"Amy Adams\", \"Halle Berry\", \"Diane Keaton\", \"Julianne Moore\", \"Maggie Smith\"]\n",
    "print(len(famous_actress))\n",
    "famous_actors = [\"Tom Cruise\", \"Brad Pitt\", \"Johnny Depp\", \"Leonardo DiCaprio\", \"Will Smith\", \"Robert Downey Jr.\", \"Dwayne Johnson\", \"Tom Hanks\", \"George Clooney\", \"Daniel Craig\", \"Chris Hemsworth\", \"Chris Evans\", \"Chris Pratt\"]\n",
    "print(len(famous_actors))\n",
    "print(f'Average number of films as 1st role for world main actress {df_chara_small[df_chara_small[\"Actor_name\"].isin(famous_actress)][\"Number_movies_1st\"].mean()}')\n",
    "print(f'Average number of films as 1st role for world main actors {df_chara_small[df_chara_small[\"Actor_name\"].isin(famous_actors)][\"Number_movies_1st\"].mean()}')"
   ]
  },
  {
   "cell_type": "code",
   "execution_count": 40,
   "metadata": {},
   "outputs": [
    {
     "data": {
      "text/plain": [
       "30.719829699968795"
      ]
     },
     "execution_count": 40,
     "metadata": {},
     "output_type": "execute_result"
    }
   ],
   "source": [
    "#mean age of actor/actresse for first firlm\n",
    "df_chara_small[\"Actor_age_at_movie_release\"].apply(lambda x: min(x) if type(x) == list else np.nan).mean()"
   ]
  },
  {
   "cell_type": "code",
   "execution_count": 41,
   "metadata": {},
   "outputs": [
    {
     "name": "stderr",
     "output_type": "stream",
     "text": [
      "/var/folders/4l/yz8mrkq91sl802y_wzywbvnc0000gn/T/ipykernel_72426/1405975442.py:3: SettingWithCopyWarning:\n",
      "\n",
      "\n",
      "A value is trying to be set on a copy of a slice from a DataFrame.\n",
      "Try using .loc[row_indexer,col_indexer] = value instead\n",
      "\n",
      "See the caveats in the documentation: https://pandas.pydata.org/pandas-docs/stable/user_guide/indexing.html#returning-a-view-versus-a-copy\n",
      "\n"
     ]
    },
    {
     "data": {
      "text/plain": [
       "{'Start': {'F': 27.075574577861165, 'M': 32.95518952744012}}"
      ]
     },
     "execution_count": 41,
     "metadata": {},
     "output_type": "execute_result"
    }
   ],
   "source": [
    "#now we look at the starting and ending age of all actors/actresses\n",
    "career_age = {}\n",
    "df_chara_small[\"Age_1st_role\"] = df_chara_small[\"Actor_age_at_movie_release\"].apply(lambda x: min(x) if type(x) == list else np.nan)\n",
    "career_age[\"Start\"] = df_chara_small.groupby('Actor_gender')[\"Age_1st_role\"].mean().to_dict()\n",
    "career_age"
   ]
  },
  {
   "cell_type": "markdown",
   "metadata": {},
   "source": [
    "Look at age of last movie between age. To see variance \n",
    "make a plot of all ratio of years to 1st role in movie for all genres \n"
   ]
  },
  {
   "cell_type": "code",
   "execution_count": 42,
   "metadata": {},
   "outputs": [
    {
     "name": "stderr",
     "output_type": "stream",
     "text": [
      "/var/folders/4l/yz8mrkq91sl802y_wzywbvnc0000gn/T/ipykernel_72426/4205869021.py:1: SettingWithCopyWarning:\n",
      "\n",
      "\n",
      "A value is trying to be set on a copy of a slice from a DataFrame.\n",
      "Try using .loc[row_indexer,col_indexer] = value instead\n",
      "\n",
      "See the caveats in the documentation: https://pandas.pydata.org/pandas-docs/stable/user_guide/indexing.html#returning-a-view-versus-a-copy\n",
      "\n"
     ]
    },
    {
     "data": {
      "text/plain": [
       "{'Start': {'F': 27.075574577861165, 'M': 32.95518952744012},\n",
       " 'End': {'F': 35.49888602251407, 'M': 42.415270085593036}}"
      ]
     },
     "execution_count": 42,
     "metadata": {},
     "output_type": "execute_result"
    }
   ],
   "source": [
    "df_chara_small[\"Last_movie_age\"] = df_chara_small[\"Actor_age_at_movie_release\"].apply(lambda x: max(x) if type(x) == list else np.nan)\n",
    "career_age[\"End\"] = df_chara_small.groupby('Actor_gender')[\"Last_movie_age\"].mean().to_dict()\n",
    "\n",
    "career_age"
   ]
  },
  {
   "cell_type": "code",
   "execution_count": 43,
   "metadata": {},
   "outputs": [
    {
     "data": {
      "application/vnd.plotly.v1+json": {
       "config": {
        "plotlyServerURL": "https://plot.ly"
       },
       "data": [
        {
         "marker": {
          "color": "lightsteelblue"
         },
         "name": "M",
         "type": "bar",
         "x": [
          "Start",
          "End"
         ],
         "y": [
          32.95518952744012,
          42.415270085593036
         ]
        },
        {
         "marker": {
          "color": "pink"
         },
         "name": "F",
         "type": "bar",
         "x": [
          "Start",
          "End"
         ],
         "y": [
          27.075574577861165,
          35.49888602251407
         ]
        }
       ],
       "layout": {
        "autosize": true,
        "height": 500,
        "legend": {
         "orientation": "v",
         "x": 1,
         "y": 1.1
        },
        "template": {
         "data": {
          "bar": [
           {
            "error_x": {
             "color": "#2a3f5f"
            },
            "error_y": {
             "color": "#2a3f5f"
            },
            "marker": {
             "line": {
              "color": "#E5ECF6",
              "width": 0.5
             },
             "pattern": {
              "fillmode": "overlay",
              "size": 10,
              "solidity": 0.2
             }
            },
            "type": "bar"
           }
          ],
          "barpolar": [
           {
            "marker": {
             "line": {
              "color": "#E5ECF6",
              "width": 0.5
             },
             "pattern": {
              "fillmode": "overlay",
              "size": 10,
              "solidity": 0.2
             }
            },
            "type": "barpolar"
           }
          ],
          "carpet": [
           {
            "aaxis": {
             "endlinecolor": "#2a3f5f",
             "gridcolor": "white",
             "linecolor": "white",
             "minorgridcolor": "white",
             "startlinecolor": "#2a3f5f"
            },
            "baxis": {
             "endlinecolor": "#2a3f5f",
             "gridcolor": "white",
             "linecolor": "white",
             "minorgridcolor": "white",
             "startlinecolor": "#2a3f5f"
            },
            "type": "carpet"
           }
          ],
          "choropleth": [
           {
            "colorbar": {
             "outlinewidth": 0,
             "ticks": ""
            },
            "type": "choropleth"
           }
          ],
          "contour": [
           {
            "colorbar": {
             "outlinewidth": 0,
             "ticks": ""
            },
            "colorscale": [
             [
              0,
              "#0d0887"
             ],
             [
              0.1111111111111111,
              "#46039f"
             ],
             [
              0.2222222222222222,
              "#7201a8"
             ],
             [
              0.3333333333333333,
              "#9c179e"
             ],
             [
              0.4444444444444444,
              "#bd3786"
             ],
             [
              0.5555555555555556,
              "#d8576b"
             ],
             [
              0.6666666666666666,
              "#ed7953"
             ],
             [
              0.7777777777777778,
              "#fb9f3a"
             ],
             [
              0.8888888888888888,
              "#fdca26"
             ],
             [
              1,
              "#f0f921"
             ]
            ],
            "type": "contour"
           }
          ],
          "contourcarpet": [
           {
            "colorbar": {
             "outlinewidth": 0,
             "ticks": ""
            },
            "type": "contourcarpet"
           }
          ],
          "heatmap": [
           {
            "colorbar": {
             "outlinewidth": 0,
             "ticks": ""
            },
            "colorscale": [
             [
              0,
              "#0d0887"
             ],
             [
              0.1111111111111111,
              "#46039f"
             ],
             [
              0.2222222222222222,
              "#7201a8"
             ],
             [
              0.3333333333333333,
              "#9c179e"
             ],
             [
              0.4444444444444444,
              "#bd3786"
             ],
             [
              0.5555555555555556,
              "#d8576b"
             ],
             [
              0.6666666666666666,
              "#ed7953"
             ],
             [
              0.7777777777777778,
              "#fb9f3a"
             ],
             [
              0.8888888888888888,
              "#fdca26"
             ],
             [
              1,
              "#f0f921"
             ]
            ],
            "type": "heatmap"
           }
          ],
          "heatmapgl": [
           {
            "colorbar": {
             "outlinewidth": 0,
             "ticks": ""
            },
            "colorscale": [
             [
              0,
              "#0d0887"
             ],
             [
              0.1111111111111111,
              "#46039f"
             ],
             [
              0.2222222222222222,
              "#7201a8"
             ],
             [
              0.3333333333333333,
              "#9c179e"
             ],
             [
              0.4444444444444444,
              "#bd3786"
             ],
             [
              0.5555555555555556,
              "#d8576b"
             ],
             [
              0.6666666666666666,
              "#ed7953"
             ],
             [
              0.7777777777777778,
              "#fb9f3a"
             ],
             [
              0.8888888888888888,
              "#fdca26"
             ],
             [
              1,
              "#f0f921"
             ]
            ],
            "type": "heatmapgl"
           }
          ],
          "histogram": [
           {
            "marker": {
             "pattern": {
              "fillmode": "overlay",
              "size": 10,
              "solidity": 0.2
             }
            },
            "type": "histogram"
           }
          ],
          "histogram2d": [
           {
            "colorbar": {
             "outlinewidth": 0,
             "ticks": ""
            },
            "colorscale": [
             [
              0,
              "#0d0887"
             ],
             [
              0.1111111111111111,
              "#46039f"
             ],
             [
              0.2222222222222222,
              "#7201a8"
             ],
             [
              0.3333333333333333,
              "#9c179e"
             ],
             [
              0.4444444444444444,
              "#bd3786"
             ],
             [
              0.5555555555555556,
              "#d8576b"
             ],
             [
              0.6666666666666666,
              "#ed7953"
             ],
             [
              0.7777777777777778,
              "#fb9f3a"
             ],
             [
              0.8888888888888888,
              "#fdca26"
             ],
             [
              1,
              "#f0f921"
             ]
            ],
            "type": "histogram2d"
           }
          ],
          "histogram2dcontour": [
           {
            "colorbar": {
             "outlinewidth": 0,
             "ticks": ""
            },
            "colorscale": [
             [
              0,
              "#0d0887"
             ],
             [
              0.1111111111111111,
              "#46039f"
             ],
             [
              0.2222222222222222,
              "#7201a8"
             ],
             [
              0.3333333333333333,
              "#9c179e"
             ],
             [
              0.4444444444444444,
              "#bd3786"
             ],
             [
              0.5555555555555556,
              "#d8576b"
             ],
             [
              0.6666666666666666,
              "#ed7953"
             ],
             [
              0.7777777777777778,
              "#fb9f3a"
             ],
             [
              0.8888888888888888,
              "#fdca26"
             ],
             [
              1,
              "#f0f921"
             ]
            ],
            "type": "histogram2dcontour"
           }
          ],
          "mesh3d": [
           {
            "colorbar": {
             "outlinewidth": 0,
             "ticks": ""
            },
            "type": "mesh3d"
           }
          ],
          "parcoords": [
           {
            "line": {
             "colorbar": {
              "outlinewidth": 0,
              "ticks": ""
             }
            },
            "type": "parcoords"
           }
          ],
          "pie": [
           {
            "automargin": true,
            "type": "pie"
           }
          ],
          "scatter": [
           {
            "fillpattern": {
             "fillmode": "overlay",
             "size": 10,
             "solidity": 0.2
            },
            "type": "scatter"
           }
          ],
          "scatter3d": [
           {
            "line": {
             "colorbar": {
              "outlinewidth": 0,
              "ticks": ""
             }
            },
            "marker": {
             "colorbar": {
              "outlinewidth": 0,
              "ticks": ""
             }
            },
            "type": "scatter3d"
           }
          ],
          "scattercarpet": [
           {
            "marker": {
             "colorbar": {
              "outlinewidth": 0,
              "ticks": ""
             }
            },
            "type": "scattercarpet"
           }
          ],
          "scattergeo": [
           {
            "marker": {
             "colorbar": {
              "outlinewidth": 0,
              "ticks": ""
             }
            },
            "type": "scattergeo"
           }
          ],
          "scattergl": [
           {
            "marker": {
             "colorbar": {
              "outlinewidth": 0,
              "ticks": ""
             }
            },
            "type": "scattergl"
           }
          ],
          "scattermapbox": [
           {
            "marker": {
             "colorbar": {
              "outlinewidth": 0,
              "ticks": ""
             }
            },
            "type": "scattermapbox"
           }
          ],
          "scatterpolar": [
           {
            "marker": {
             "colorbar": {
              "outlinewidth": 0,
              "ticks": ""
             }
            },
            "type": "scatterpolar"
           }
          ],
          "scatterpolargl": [
           {
            "marker": {
             "colorbar": {
              "outlinewidth": 0,
              "ticks": ""
             }
            },
            "type": "scatterpolargl"
           }
          ],
          "scatterternary": [
           {
            "marker": {
             "colorbar": {
              "outlinewidth": 0,
              "ticks": ""
             }
            },
            "type": "scatterternary"
           }
          ],
          "surface": [
           {
            "colorbar": {
             "outlinewidth": 0,
             "ticks": ""
            },
            "colorscale": [
             [
              0,
              "#0d0887"
             ],
             [
              0.1111111111111111,
              "#46039f"
             ],
             [
              0.2222222222222222,
              "#7201a8"
             ],
             [
              0.3333333333333333,
              "#9c179e"
             ],
             [
              0.4444444444444444,
              "#bd3786"
             ],
             [
              0.5555555555555556,
              "#d8576b"
             ],
             [
              0.6666666666666666,
              "#ed7953"
             ],
             [
              0.7777777777777778,
              "#fb9f3a"
             ],
             [
              0.8888888888888888,
              "#fdca26"
             ],
             [
              1,
              "#f0f921"
             ]
            ],
            "type": "surface"
           }
          ],
          "table": [
           {
            "cells": {
             "fill": {
              "color": "#EBF0F8"
             },
             "line": {
              "color": "white"
             }
            },
            "header": {
             "fill": {
              "color": "#C8D4E3"
             },
             "line": {
              "color": "white"
             }
            },
            "type": "table"
           }
          ]
         },
         "layout": {
          "annotationdefaults": {
           "arrowcolor": "#2a3f5f",
           "arrowhead": 0,
           "arrowwidth": 1
          },
          "autotypenumbers": "strict",
          "coloraxis": {
           "colorbar": {
            "outlinewidth": 0,
            "ticks": ""
           }
          },
          "colorscale": {
           "diverging": [
            [
             0,
             "#8e0152"
            ],
            [
             0.1,
             "#c51b7d"
            ],
            [
             0.2,
             "#de77ae"
            ],
            [
             0.3,
             "#f1b6da"
            ],
            [
             0.4,
             "#fde0ef"
            ],
            [
             0.5,
             "#f7f7f7"
            ],
            [
             0.6,
             "#e6f5d0"
            ],
            [
             0.7,
             "#b8e186"
            ],
            [
             0.8,
             "#7fbc41"
            ],
            [
             0.9,
             "#4d9221"
            ],
            [
             1,
             "#276419"
            ]
           ],
           "sequential": [
            [
             0,
             "#0d0887"
            ],
            [
             0.1111111111111111,
             "#46039f"
            ],
            [
             0.2222222222222222,
             "#7201a8"
            ],
            [
             0.3333333333333333,
             "#9c179e"
            ],
            [
             0.4444444444444444,
             "#bd3786"
            ],
            [
             0.5555555555555556,
             "#d8576b"
            ],
            [
             0.6666666666666666,
             "#ed7953"
            ],
            [
             0.7777777777777778,
             "#fb9f3a"
            ],
            [
             0.8888888888888888,
             "#fdca26"
            ],
            [
             1,
             "#f0f921"
            ]
           ],
           "sequentialminus": [
            [
             0,
             "#0d0887"
            ],
            [
             0.1111111111111111,
             "#46039f"
            ],
            [
             0.2222222222222222,
             "#7201a8"
            ],
            [
             0.3333333333333333,
             "#9c179e"
            ],
            [
             0.4444444444444444,
             "#bd3786"
            ],
            [
             0.5555555555555556,
             "#d8576b"
            ],
            [
             0.6666666666666666,
             "#ed7953"
            ],
            [
             0.7777777777777778,
             "#fb9f3a"
            ],
            [
             0.8888888888888888,
             "#fdca26"
            ],
            [
             1,
             "#f0f921"
            ]
           ]
          },
          "colorway": [
           "#636efa",
           "#EF553B",
           "#00cc96",
           "#ab63fa",
           "#FFA15A",
           "#19d3f3",
           "#FF6692",
           "#B6E880",
           "#FF97FF",
           "#FECB52"
          ],
          "font": {
           "color": "#2a3f5f"
          },
          "geo": {
           "bgcolor": "white",
           "lakecolor": "white",
           "landcolor": "#E5ECF6",
           "showlakes": true,
           "showland": true,
           "subunitcolor": "white"
          },
          "hoverlabel": {
           "align": "left"
          },
          "hovermode": "closest",
          "mapbox": {
           "style": "light"
          },
          "paper_bgcolor": "white",
          "plot_bgcolor": "#E5ECF6",
          "polar": {
           "angularaxis": {
            "gridcolor": "white",
            "linecolor": "white",
            "ticks": ""
           },
           "bgcolor": "#E5ECF6",
           "radialaxis": {
            "gridcolor": "white",
            "linecolor": "white",
            "ticks": ""
           }
          },
          "scene": {
           "xaxis": {
            "backgroundcolor": "#E5ECF6",
            "gridcolor": "white",
            "gridwidth": 2,
            "linecolor": "white",
            "showbackground": true,
            "ticks": "",
            "zerolinecolor": "white"
           },
           "yaxis": {
            "backgroundcolor": "#E5ECF6",
            "gridcolor": "white",
            "gridwidth": 2,
            "linecolor": "white",
            "showbackground": true,
            "ticks": "",
            "zerolinecolor": "white"
           },
           "zaxis": {
            "backgroundcolor": "#E5ECF6",
            "gridcolor": "white",
            "gridwidth": 2,
            "linecolor": "white",
            "showbackground": true,
            "ticks": "",
            "zerolinecolor": "white"
           }
          },
          "shapedefaults": {
           "line": {
            "color": "#2a3f5f"
           }
          },
          "ternary": {
           "aaxis": {
            "gridcolor": "white",
            "linecolor": "white",
            "ticks": ""
           },
           "baxis": {
            "gridcolor": "white",
            "linecolor": "white",
            "ticks": ""
           },
           "bgcolor": "#E5ECF6",
           "caxis": {
            "gridcolor": "white",
            "linecolor": "white",
            "ticks": ""
           }
          },
          "title": {
           "x": 0.05
          },
          "xaxis": {
           "automargin": true,
           "gridcolor": "white",
           "linecolor": "white",
           "ticks": "",
           "title": {
            "standoff": 15
           },
           "zerolinecolor": "white",
           "zerolinewidth": 2
          },
          "yaxis": {
           "automargin": true,
           "gridcolor": "white",
           "linecolor": "white",
           "ticks": "",
           "title": {
            "standoff": 15
           },
           "zerolinecolor": "white",
           "zerolinewidth": 2
          }
         }
        },
        "title": {
         "text": "Average age of actors/actresses <br>at the beginning and end of their career"
        },
        "width": 600,
        "xaxis": {
         "title": {
          "text": "Actors"
         }
        },
        "yaxis": {
         "title": {
          "text": "Age"
         }
        }
       }
      }
     },
     "metadata": {},
     "output_type": "display_data"
    },
    {
     "data": {
      "image/png": "[encoded data removed]",
      "text/plain": [
       "<Figure size 640x480 with 1 Axes>"
      ]
     },
     "metadata": {},
     "output_type": "display_data"
    }
   ],
   "source": [
    "fig, ax = plt.subplots()\n",
    "barWidth = 0.20\n",
    "r1 = np.arange(len(career_age[\"Start\"]))\n",
    "r2 = [x + barWidth for x in r1]\n",
    "plt.bar(r1, [career_age[\"Start\"][\"M\"], career_age[\"End\"][\"M\"]], color='lightsteelblue', width=barWidth, edgecolor='grey', label='M')\n",
    "plt.bar(r2, [career_age[\"Start\"][\"F\"], career_age[\"End\"][\"F\"]], color='pink', width=barWidth, edgecolor='grey', label='F')\n",
    "plt.xlabel('Actors', fontweight='bold')\n",
    "plt.ylabel('Age', fontweight='bold')\n",
    "plt.tight_layout()\n",
    "plt.xticks([r + barWidth/2 for r in range(len(career_age[\"Start\"]))], ['Start', 'End'])\n",
    "plt.title('Average age of actors at the beginning and end of their career')\n",
    "plt.legend()\n",
    "\n",
    "fig = go.Figure()\n",
    "\n",
    "fig.update_layout(\n",
    "    autosize=True,\n",
    "    width=600,\n",
    "    height=500,\n",
    ")\n",
    "fig.add_trace(go.Bar(\n",
    "    x=['Start', 'End'],\n",
    "    y=[career_age[\"Start\"][\"M\"], career_age[\"End\"][\"M\"]],\n",
    "    name='M',\n",
    "    marker_color='lightsteelblue'\n",
    "))\n",
    "fig.add_trace(go.Bar(\n",
    "    x=['Start', 'End'],\n",
    "    y=[career_age[\"Start\"][\"F\"], career_age[\"End\"][\"F\"]],\n",
    "    name='F',\n",
    "    marker_color='pink'\n",
    "))\n",
    "fig.update_layout(\n",
    "    title=\"Average age of actors/actresses <br>at the beginning and end of their career\",\n",
    "    xaxis=dict(title=\"Actors\"),\n",
    "    yaxis=dict(title=\"Age\"),\n",
    "    legend=dict(x=1, y=1.1, orientation=\"v\"),\n",
    ")\n",
    "fig.show()\n",
    "\n",
    "fig.write_html(data_folder + \"average_age_of_actors.html\")"
   ]
  },
  {
   "cell_type": "code",
   "execution_count": 44,
   "metadata": {},
   "outputs": [
    {
     "data": {
      "text/plain": [
       "8892      4273140\n",
       "8339        52371\n",
       "10567    22114132\n",
       "11339    31941988\n",
       "6988     25001260\n",
       "           ...   \n",
       "7231     20519199\n",
       "14755    26783359\n",
       "20941    20122638\n",
       "11802    15904586\n",
       "19392    29085210\n",
       "Name: Wikipedia_movie_ID, Length: 7217, dtype: int64"
      ]
     },
     "execution_count": 44,
     "metadata": {},
     "output_type": "execute_result"
    }
   ],
   "source": [
    "#same analysis but looking at top movies\n",
    "top_movies = df_movie.sort_values(by= \"Movie_box_office_revenue\", ascending=False).head(7217)[\"Wikipedia_movie_ID\"]\n",
    "#7217 films wiht revenue\n",
    "top_movies\n"
   ]
  },
  {
   "cell_type": "code",
   "execution_count": 45,
   "metadata": {},
   "outputs": [],
   "source": [
    "#selecting all the actors that play in big movie\n",
    "actors_top_movies = df_chara_small[df_chara_small.apply(lambda x: any(i in list(top_movies) for i in x[\"Wikipedia_movie_ID\"]) if type(x[\"Wikipedia_movie_ID\"])==list else False, axis=1)]"
   ]
  },
  {
   "cell_type": "code",
   "execution_count": 46,
   "metadata": {},
   "outputs": [
    {
     "name": "stderr",
     "output_type": "stream",
     "text": [
      "/var/folders/4l/yz8mrkq91sl802y_wzywbvnc0000gn/T/ipykernel_72426/3971206100.py:10: SettingWithCopyWarning:\n",
      "\n",
      "\n",
      "A value is trying to be set on a copy of a slice from a DataFrame.\n",
      "Try using .loc[row_indexer,col_indexer] = value instead\n",
      "\n",
      "See the caveats in the documentation: https://pandas.pydata.org/pandas-docs/stable/user_guide/indexing.html#returning-a-view-versus-a-copy\n",
      "\n",
      "/var/folders/4l/yz8mrkq91sl802y_wzywbvnc0000gn/T/ipykernel_72426/3971206100.py:11: SettingWithCopyWarning:\n",
      "\n",
      "\n",
      "A value is trying to be set on a copy of a slice from a DataFrame.\n",
      "Try using .loc[row_indexer,col_indexer] = value instead\n",
      "\n",
      "See the caveats in the documentation: https://pandas.pydata.org/pandas-docs/stable/user_guide/indexing.html#returning-a-view-versus-a-copy\n",
      "\n"
     ]
    }
   ],
   "source": [
    "def find_movie_pos_and_age(movie_list):\n",
    "    ##finds the position of the top movie in the movie list of the df\n",
    "    dic_movie = {}\n",
    "    for mov in movie_list:\n",
    "        if mov in list(top_movies):\n",
    "            dic_movie[mov] = movie_list.index(mov)\n",
    "    \n",
    "    return dic_movie\n",
    "\n",
    "actors_top_movies[\"top_films\"] = actors_top_movies[\"Wikipedia_movie_ID\"].apply(lambda x: list(find_movie_pos_and_age(x).keys()))\n",
    "actors_top_movies[\"index_of_top_film\"] = actors_top_movies[\"Wikipedia_movie_ID\"].apply(lambda x: list(find_movie_pos_and_age(x).values()))"
   ]
  },
  {
   "cell_type": "code",
   "execution_count": 47,
   "metadata": {},
   "outputs": [
    {
     "name": "stderr",
     "output_type": "stream",
     "text": [
      "/var/folders/4l/yz8mrkq91sl802y_wzywbvnc0000gn/T/ipykernel_72426/2701808925.py:1: SettingWithCopyWarning:\n",
      "\n",
      "\n",
      "A value is trying to be set on a copy of a slice from a DataFrame.\n",
      "Try using .loc[row_indexer,col_indexer] = value instead\n",
      "\n",
      "See the caveats in the documentation: https://pandas.pydata.org/pandas-docs/stable/user_guide/indexing.html#returning-a-view-versus-a-copy\n",
      "\n"
     ]
    }
   ],
   "source": [
    "actors_top_movies[\"Age_at_top_film\"] = actors_top_movies.apply(lambda x: [x[\"Actor_age_at_movie_release\"][i] for i in x[\"index_of_top_film\"]], axis=1)"
   ]
  },
  {
   "cell_type": "code",
   "execution_count": 48,
   "metadata": {},
   "outputs": [],
   "source": [
    "age_top = actors_top_movies[[\"Actor_gender\", \"Age_at_top_film\"]].explode(\"Age_at_top_film\")"
   ]
  },
  {
   "cell_type": "code",
   "execution_count": 49,
   "metadata": {},
   "outputs": [
    {
     "name": "stdout",
     "output_type": "stream",
     "text": [
      "34.35287735635821\n",
      "40.48450587230901\n"
     ]
    },
    {
     "data": {
      "image/png": "[encoded data removed]",
      "text/plain": [
       "<Figure size 1000x800 with 2 Axes>"
      ]
     },
     "metadata": {},
     "output_type": "display_data"
    }
   ],
   "source": [
    "#gender analysis for top actors \n",
    "import seaborn as sns\n",
    "import statistics as stats\n",
    "ages_w = age_top[(age_top['Actor_gender'] == 'F') & (age_top['Age_at_top_film'].notna())]['Age_at_top_film']\n",
    "ages_m = age_top[(age_top['Actor_gender'] == 'M') & (age_top['Age_at_top_film'].notna())]['Age_at_top_film']\n",
    "\n",
    "print(ages_w.mean())\n",
    "print(ages_m.mean())\n",
    "fig, axes = plt.subplots(2, 1, figsize=(10, 8), sharex=False, gridspec_kw={'hspace': 0.3})\n",
    "\n",
    "\n",
    "sns.kdeplot(ages_w, ax=axes[0], color='pink', linewidth=2, label=\"Density Curve\")\n",
    "\n",
    "axes[0].axvline(stats.mode(ages_w), color='pink', linestyle='--', label=f\"Mode Age : {stats.mode(ages_w)}\")\n",
    "axes[0].scatter(\n",
    "    ages_w, \n",
    "    np.random.uniform(0, 0.01, len(ages_w)), \n",
    "    color='pink', \n",
    "    alpha=1, \n",
    "    s=5, \n",
    "    label=\"Actresses' Ages\"\n",
    ")\n",
    "axes[0].set_xlim(0, 100)\n",
    "axes[0].set_title(\"Actresses\")\n",
    "axes[0].set_xlabel(\"Age\")\n",
    "axes[0].set_xticks(np.arange(0, 100, 10))\n",
    "\n",
    "axes[0].legend()\n",
    "axes[0].grid(alpha=0.3)\n",
    "\n",
    "\n",
    "sns.kdeplot(ages_m, ax=axes[1], color='lightsteelblue', linewidth=2, label=\"Density Curve\")\n",
    "axes[1].axvline(stats.mode(ages_m), color='lightsteelblue', linestyle='--', label=f\"Mode Age: {stats.mode(ages_m)}\")\n",
    "axes[1].scatter(\n",
    "    ages_m, \n",
    "    np.random.uniform(0, 0.01, len(ages_m)), \n",
    "    color='lightsteelblue', \n",
    "    alpha=1, \n",
    "    s=5, \n",
    "    label=\"Actors' Ages\"\n",
    ")\n",
    "\n",
    "axes[1].set_title(\"Actors\")\n",
    "axes[1].set_xlabel(\"Age\")\n",
    "axes[1].set_xlim(0, 100)\n",
    "axes[1].set_xticks(np.arange(0, 100, 10))\n",
    "\n",
    "axes[1].legend()\n",
    "axes[1].grid(alpha=0.3)\n",
    "\n",
    "plt.suptitle(\"Age Distribution: Actresses vs Actors for top movies\", fontsize=16)\n",
    "plt.show()\n",
    "\n",
    "\n",
    "#fig.savefig(data_folder + \"age_distribution.png\")\n"
   ]
  },
  {
   "cell_type": "markdown",
   "metadata": {},
   "source": [
    "### Looking at first role distribution (age)"
   ]
  },
  {
   "cell_type": "code",
   "execution_count": 50,
   "metadata": {},
   "outputs": [],
   "source": [
    "df_age_1st = df_chara_small[[\"Movie_release_date_1st_role\", \"Actor_name\", \"Actor_date_of_birth\", 'Actor_gender', 'Wikipedia_movie_ID']].dropna()\n",
    "df_age_1st[\"Actor_date_of_birth\"] = df_age_1st[\"Actor_date_of_birth\"].apply(lambda x: x[:4] if type(x)!= int else x)\n",
    "df_age_1st = df_age_1st.explode(\"Movie_release_date_1st_role\")\n",
    "df_age_1st[\"Age_first_role\"] = df_age_1st.apply(lambda x: int(x[\"Movie_release_date_1st_role\"]) - int(x[\"Actor_date_of_birth\"]), axis=1)\n",
    "\n"
   ]
  },
  {
   "cell_type": "code",
   "execution_count": 51,
   "metadata": {},
   "outputs": [
    {
     "data": {
      "text/plain": [
       "22560"
      ]
     },
     "execution_count": 51,
     "metadata": {},
     "output_type": "execute_result"
    }
   ],
   "source": [
    "len(df_age_1st)"
   ]
  },
  {
   "cell_type": "code",
   "execution_count": 52,
   "metadata": {},
   "outputs": [
    {
     "name": "stdout",
     "output_type": "stream",
     "text": [
      "mean age women: 33.31373725254949\n",
      "mean age men: 40.8437400140602\n"
     ]
    },
    {
     "data": {
      "image/png": "[encoded data removed]",
      "text/plain": [
       "<Figure size 700x700 with 2 Axes>"
      ]
     },
     "metadata": {},
     "output_type": "display_data"
    }
   ],
   "source": [
    "import seaborn as sns\n",
    "import statistics as stats\n",
    "ages_w = df_age_1st[(df_age_1st['Actor_gender'] == 'F') & (df_age_1st[\"Movie_release_date_1st_role\"] > 1900)]['Age_first_role']\n",
    "ages_m = df_age_1st[(df_age_1st['Actor_gender'] == 'M') & (df_age_1st[\"Movie_release_date_1st_role\"] > 1900)]['Age_first_role']\n",
    "\n",
    "print(\"mean age women:\", ages_w.mean())\n",
    "print(\"mean age men:\", ages_m.mean())\n",
    "multm = stats.multimode(ages_m)\n",
    "multw = stats.multimode(ages_w)\n",
    "fig, axes = plt.subplots(2, 1, figsize=(7, 7), sharex=False, gridspec_kw={'hspace': 0.3})\n",
    "\n",
    "\n",
    "sns.kdeplot(ages_w, ax=axes[0], color='lightcoral', linewidth=2, label=\"Density Curve\")\n",
    "\n",
    "axes[0].axvline(multw, color='lightcoral', linestyle='--', label=f\"Mode Age : {multw}\")\n",
    "axes[0].scatter(\n",
    "    ages_w, \n",
    "    np.random.uniform(0, 0.01, len(ages_w)), \n",
    "    color='lightcoral', \n",
    "    alpha=0.1, \n",
    "    s=5, \n",
    "    label=\"Actresses' Ages\"\n",
    ")\n",
    "\n",
    "axes[0].set_title(\"Actresses\")\n",
    "axes[0].set_xlabel(\"Age\")\n",
    "axes[0].set_xlim(0, 100)\n",
    "axes[0].set_xticks(np.arange(0, 100, 10))\n",
    "axes[0].legend()\n",
    "axes[0].grid(alpha=0.3)\n",
    "\n",
    "\n",
    "sns.kdeplot(ages_m, ax=axes[1], color='lightsteelblue', linewidth=2, label=\"Density Curve\")\n",
    "axes[1].axvline(multm, color='lightsteelblue', linestyle='--', label=f\"Mode Age: {multm}\")\n",
    "axes[1].scatter(\n",
    "    ages_m, \n",
    "    np.random.uniform(0, 0.01, len(ages_m)), \n",
    "    color='lightsteelblue', \n",
    "    alpha=0.1, \n",
    "    s=5, \n",
    "    label=\"Actors' Ages\"\n",
    ")\n",
    "\n",
    "axes[1].set_title(\"Actors\")\n",
    "axes[1].set_xlabel(\"Age\")\n",
    "axes[1].set_xlim(0, 100)\n",
    "axes[1].set_xticks(np.arange(0, 100, 10))\n",
    "axes[1].legend()\n",
    "axes[1].grid(alpha=0.3)\n",
    "\n",
    "\n",
    "plt.suptitle(\"Age Distribution: Actresses vs Actors for first role\", fontsize=16)\n",
    "plt.show()\n",
    "\n",
    "#fig.savefig(data_folder + \"age_distribution_first_role.png\")"
   ]
  },
  {
   "cell_type": "markdown",
   "metadata": {},
   "source": []
  },
  {
   "cell_type": "code",
   "execution_count": null,
   "metadata": {},
   "outputs": [],
   "source": []
  }
 ],
 "metadata": {
  "kernelspec": {
   "display_name": "ada",
   "language": "python",
   "name": "python3"
  },
  "language_info": {
   "codemirror_mode": {
    "name": "ipython",
    "version": 3
   },
   "file_extension": ".py",
   "mimetype": "text/x-python",
   "name": "python",
   "nbconvert_exporter": "python",
   "pygments_lexer": "ipython3",
   "version": "3.11.9"
  }
 },
 "nbformat": 4,
 "nbformat_minor": 2
}
